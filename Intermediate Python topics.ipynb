{
 "cells": [
  {
   "cell_type": "markdown",
   "id": "0219e253",
   "metadata": {},
   "source": [
    "# List and dictionary comprehensions"
   ]
  },
  {
   "cell_type": "markdown",
   "id": "a67c85f3",
   "metadata": {},
   "source": [
    "## List comprehension"
   ]
  },
  {
   "cell_type": "markdown",
   "id": "770776c2",
   "metadata": {},
   "source": [
    "List comprehension is the functionality in Python which offers the shorter syntax for creation of new list based on elements of some other list."
   ]
  },
  {
   "cell_type": "code",
   "execution_count": 15,
   "id": "5597cc0e",
   "metadata": {},
   "outputs": [
    {
     "name": "stdout",
     "output_type": "stream",
     "text": [
      "['apple', 'banana', 'mango', 'pear', 'pineapple']\n",
      "['apple', 'banana', 'mango', 'pear', 'pineapple']\n",
      "\n",
      "We can see the same result\n"
     ]
    }
   ],
   "source": [
    "# For example we can create some list with the names of fruits\n",
    "\n",
    "fruits = ['apple', 'banana', 'cherry', 'kiwi', 'mango', 'pear','pineapple']\n",
    "newlist = []\n",
    "\n",
    "for i in fruits:\n",
    "    if 'a' in i:\n",
    "        newlist.append(i)\n",
    "print(newlist)\n",
    "\n",
    "# It's equivalent of following list comprehension\n",
    "\n",
    "newlist_comp = [fruit for fruit in fruits if 'a' in fruit]\n",
    "print(newlist_comp)\n",
    "print()\n",
    "print(\"We can see the same result\")"
   ]
  },
  {
   "cell_type": "code",
   "execution_count": 17,
   "id": "9236e0aa",
   "metadata": {},
   "outputs": [
    {
     "name": "stdout",
     "output_type": "stream",
     "text": [
      "['o', 'o']\n",
      "['H', 'e', 'l', 'l', 'o', ' ', 'w', 'o', 'r', 'l', 'd', '!']\n"
     ]
    }
   ],
   "source": [
    "# Then you can create the logical condition for string using list comprehension\n",
    "\n",
    "string = [letter for letter in \"Hello world!\" if 'o' == letter]\n",
    "print(string)\n",
    "\n",
    "# Or you can put all the string into a list\n",
    "\n",
    "string = [letter for letter in \"Hello world!\"]\n",
    "print(string)"
   ]
  },
  {
   "cell_type": "code",
   "execution_count": 21,
   "id": "a49e603b",
   "metadata": {},
   "outputs": [
    {
     "name": "stdout",
     "output_type": "stream",
     "text": [
      "[2, 4, 6, 10]\n",
      "\n",
      "['odd', 'even', 'odd', 'even', 'odd', 'even', 'odd', 'odd', 'odd', 'even']\n"
     ]
    }
   ],
   "source": [
    "# Logical conditions you can apply also to lists with numbers\n",
    "\n",
    "numbers = [1, 2, 3, 4, 5, 6, 7, 7, 9, 10]\n",
    "numbers_comp = [x for x in numbers if x % 2 == 0]\n",
    "print(numbers_comp)\n",
    "print()\n",
    "\n",
    "# And even use the nested IF conditions\n",
    "\n",
    "\n",
    "\n",
    "# Also you can create complicated logical conditions in list comprehension, for example, create a \"True-False\"\n",
    "# like mask of list of numbers\n",
    "\n",
    "numbers = [1, 2, 3, 4, 5, 6, 7, 7, 9, 10]\n",
    "numbers_mask = [('even' if x % 2== 0 else 'odd') for x in numbers]\n",
    "print(numbers_mask)"
   ]
  },
  {
   "cell_type": "code",
   "execution_count": 37,
   "id": "1c558d77",
   "metadata": {},
   "outputs": [
    {
     "name": "stdout",
     "output_type": "stream",
     "text": [
      "Initial list: [0, 1, 2, 3, 4, 5, 6, 7, 7, 9]\n",
      "Comprehansion from initial: [0, 1, 4, 9, 16, 25, 36, 49, 49, 81]\n",
      "Using range() function: [0, 1, 4, 9, 16, 25, 36, 49, 64, 81]\n",
      "\n",
      "Function condition: [0, 1, 4, 9, 16, 25, 36, 49, 64, 81]\n"
     ]
    }
   ],
   "source": [
    "# Then you can use list comprehansion for generation of new lists by some condition\n",
    "\n",
    "numbers = [0, 1, 2, 3, 4, 5, 6, 7, 7, 9]\n",
    "print(\"Initial list:\", numbers)\n",
    "new_numbers = [x*x for x in numbers]\n",
    "print(\"Comprehansion from initial:\", new_numbers)\n",
    "\n",
    "# Or you can recieve the same result by using range() function\n",
    "\n",
    "new_numbers = [x*x for x in range(10)]\n",
    "print(\"Using range() function:\", new_numbers)\n",
    "print()\n",
    "\n",
    "# You can use even some function as condition for create elements of new list\n",
    "def exponentiation_by_some_degree(x, y):\n",
    "    try:\n",
    "        return x ** y\n",
    "    except ZeroDivisionError as e:\n",
    "        return None\n",
    "\n",
    "degree = 2\n",
    "new_list = [exponentiation_by_some_degree(x, degree) for x in range(10)]\n",
    "print(\"Function condition:\", new_list)"
   ]
  },
  {
   "cell_type": "markdown",
   "id": "d6a0e003",
   "metadata": {},
   "source": [
    "## Dictionary comprehension"
   ]
  },
  {
   "cell_type": "markdown",
   "id": "25be4c13",
   "metadata": {},
   "source": [
    "This functionality the same as lists comprehension and uses for create the dictionaries by using elements of some iterable objects"
   ]
  },
  {
   "cell_type": "code",
   "execution_count": 54,
   "id": "f8394863",
   "metadata": {},
   "outputs": [
    {
     "name": "stdout",
     "output_type": "stream",
     "text": [
      "{}\n"
     ]
    }
   ],
   "source": [
    "# Values can be formated from keys by some conditional function\n",
    "\n",
    "def exponentiation_by_some_degree(x, y):\n",
    "    try:\n",
    "        return x ** y\n",
    "    except ZeroDivisionError as e:\n",
    "        return None\n",
    "\n",
    "degree = 2\n",
    "\n",
    "dictionary = {x : exponentiation_by_some_degree(x, degree) for x in numbers}\n",
    "print(dictionary)"
   ]
  },
  {
   "cell_type": "code",
   "execution_count": 57,
   "id": "f4e2d3d7",
   "metadata": {},
   "outputs": [
    {
     "name": "stdout",
     "output_type": "stream",
     "text": [
      "{'zero': 0, 'one': 1, 'two': 2, 'three': 3, 'four': 4, 'five': 5, 'six': 6, 'seven': 7, 'eight': 8, 'nine': 9, 'ten': 10}\n"
     ]
    }
   ],
   "source": [
    "# Or keys and values can be from two different iterable objects, for example, from two lists\n",
    "# It can be made by zip() function\n",
    "\n",
    "words = ['zero', 'one', 'two', 'three', 'four', 'five', 'six', 'seven', 'eight', 'nine', 'ten']\n",
    "numbers = [x for x in range(11)]\n",
    "\n",
    "dictionary = dict(zip(words, numbers))\n",
    "print(dictionary)"
   ]
  },
  {
   "cell_type": "markdown",
   "id": "8a1cd858",
   "metadata": {},
   "source": [
    "Functionality of list of dictionary comprehensions faser and shorter than standard functionality by loops."
   ]
  },
  {
   "cell_type": "markdown",
   "id": "fad3c16f",
   "metadata": {},
   "source": [
    "# Strings"
   ]
  },
  {
   "cell_type": "markdown",
   "id": "8da4d179",
   "metadata": {},
   "source": [
    "String it's ordered, and immutable data structure"
   ]
  },
  {
   "cell_type": "markdown",
   "id": "dbc01596",
   "metadata": {},
   "source": [
    "## Slising of strings"
   ]
  },
  {
   "cell_type": "code",
   "execution_count": 1,
   "id": "dfc7485f",
   "metadata": {},
   "outputs": [
    {
     "name": "stdout",
     "output_type": "stream",
     "text": [
      "string:  Hello, World!\n",
      "s1:  ello\n",
      "s2:  Hello\n",
      "s3:  Hello, World!\n",
      "s4:  Hlo ol!\n",
      "s4:  !lo olH\n",
      "s5:  !dlroW ,olleH\n"
     ]
    }
   ],
   "source": [
    "string = 'Hello, World!'\n",
    "print('string: ', string)\n",
    "\n",
    "s1 = string[1:5] # substring from index 1 to index 4 (the last index do not included)\n",
    "# on first and second positions in the brackets placed beginning index and (the last - 1) index \n",
    "print('s1: ', s1)\n",
    "\n",
    "s2 = string[:5] # substring from beginning to index 4 (the last index do not included)\n",
    "print('s2: ', s2)\n",
    "\n",
    "s3 = string[::1] # substring with symbols from string - every symbol\n",
    "print('s3: ', s3)\n",
    "\n",
    "s3 = string[::2] # substring with symbols from string - every second symbol (on the last position in brackets placed step)\n",
    "print('s4: ', s3)\n",
    "\n",
    "s4 = string[::-2] # reverse of the string and taking of every second symbol\n",
    "print('s4: ', s4)\n",
    "\n",
    "s5 = string[::-1] # nice little trick for reverse of the string\n",
    "print('s5: ', s5)"
   ]
  },
  {
   "cell_type": "markdown",
   "id": "5c78ba8f",
   "metadata": {},
   "source": [
    "## Interesting string methods - intermediate level"
   ]
  },
  {
   "cell_type": "code",
   "execution_count": 2,
   "id": "155d6b66",
   "metadata": {},
   "outputs": [
    {
     "name": "stdout",
     "output_type": "stream",
     "text": [
      "string:      Hello, World!    \n",
      "s1:  Hello, World!\n",
      "s2:      HELLO, WORLD!    \n",
      "s3:      hello, world!    \n",
      "\n",
      "True\n",
      "False\n",
      "\n",
      "symb =  3\n",
      "\n",
      "initial string:  How are you doing?\n",
      "splitted string:  ['How', 'are', 'you', 'doing?']\n",
      "joined string:  How are you doing?\n",
      "\n"
     ]
    }
   ],
   "source": [
    "string = \"    Hello, World!    \"\n",
    "print('string: ', string)\n",
    "\n",
    "s1 = string.strip() # this method removes extra spaces in the beginning and in the end of the string\n",
    "# this method doesn't change initial string, only write changed string into new variable\n",
    "print('s1: ', s1)\n",
    "\n",
    "s2 = string.upper() # converts string to upper case\n",
    "s3 = string.lower() # converts string to upper case\n",
    "print('s2: ', s2)\n",
    "print('s3: ', s3)\n",
    "\n",
    "print()\n",
    "print(string.startswith(\" \")) # startswith('s') returns bool which tells about does it start string with symbol 's' or not\n",
    "print(string.endswith(\"k\")) # startswith('s') returns bool which tells about does it ends string with symbol 's' or not\n",
    "\n",
    "symb = string.count(\"l\") # returns of amount of particular symbols (or substrings) in string\n",
    "print(\"\\nsymb = \", symb)\n",
    "print()\n",
    "\n",
    "string1 = 'How are you doing?'\n",
    "print('initial string: ', string1)\n",
    "s11 = string1.split(' ') # returns list of substrings which splitted by symbol (or by substring) in round brackets\n",
    "print('splitted string: ', s11)\n",
    "s12 = ' '.join(s11) # returns string which collected from list of substrings by symbol (or substring) before .join()\n",
    "print('joined string: ', s12)\n",
    "print()\n",
    "\n"
   ]
  },
  {
   "cell_type": "markdown",
   "id": "151f2f09",
   "metadata": {},
   "source": [
    "## .format() method, % in strings, f-strings (python 3.6 and later)"
   ]
  },
  {
   "cell_type": "markdown",
   "id": "793f7b9e",
   "metadata": {},
   "source": [
    "### % in strings"
   ]
  },
  {
   "cell_type": "markdown",
   "id": "eec7cde5",
   "metadata": {},
   "source": [
    "It is an old formatting style. % symbol put on place where in the string should stand some variable.\n",
    "- If we write %s it means that we want to put string on this place.\n",
    "- If we write %d it means that we want to put integer digit on this place\n",
    "- If we write %f it means that we want to put the float variable on this place\n",
    "\n",
    "In the last case %f as default write 6 digits after decimal. In order to customize output in this case we need to directly specify amount of digits after decimal: %.5f means that we want to output 5 digits after decimal. "
   ]
  },
  {
   "cell_type": "code",
   "execution_count": 3,
   "id": "15ddd767",
   "metadata": {},
   "outputs": [
    {
     "name": "stdout",
     "output_type": "stream",
     "text": [
      "string:  Our variable is string\n",
      "string:  Our variable is 5\n",
      "string:  Our variable is 5.123457\n",
      "\n",
      "float formatting string:  Our variable is 5.123\n"
     ]
    }
   ],
   "source": [
    "s_var = 'string'\n",
    "d_var = 5\n",
    "f_var = 5.123456789\n",
    "\n",
    "s1 = 'Our variable is %s' %s_var\n",
    "print('string: ', s1)\n",
    "s1 = 'Our variable is %d' %d_var\n",
    "print('string: ', s1)\n",
    "s1 = 'Our variable is %f' %f_var\n",
    "print('string: ', s1)\n",
    "print()\n",
    "\n",
    "s1 = 'Our variable is %.3f' %f_var\n",
    "print('float formatting string: ', s1)"
   ]
  },
  {
   "cell_type": "markdown",
   "id": "1ebe3aa8",
   "metadata": {},
   "source": [
    "### .format() method in string"
   ]
  },
  {
   "cell_type": "markdown",
   "id": "c377087a",
   "metadata": {},
   "source": [
    "It is a new formatting style. {} symbol put on place where in the string should stand some variable.\n",
    "\n",
    "In the case of float variable we can customize output. Amount of digits after decimal makes like this: {:.5f} means that we want to output 5 digits after decimal."
   ]
  },
  {
   "cell_type": "code",
   "execution_count": 4,
   "id": "a48a9cf6",
   "metadata": {},
   "outputs": [
    {
     "name": "stdout",
     "output_type": "stream",
     "text": [
      "string:  Our variable is string\n",
      "digit:  Our variable is 5\n",
      "float:  Our variable is 5.123456789\n",
      "\n",
      "float formatting string:  Our variable is 5.123\n"
     ]
    }
   ],
   "source": [
    "s_var = 'string'\n",
    "d_var = 5\n",
    "f_var = 5.123456789\n",
    "\n",
    "s1 = 'Our variable is {}'.format(s_var)\n",
    "print('string: ', s1)\n",
    "s1 = 'Our variable is {}'.format(d_var)\n",
    "print('digit: ', s1)\n",
    "s1 = 'Our variable is {}'.format(f_var)\n",
    "print('float: ', s1)\n",
    "print()\n",
    "\n",
    "s1 = 'Our variable is {:.3f}'.format(f_var)\n",
    "print('float formatting string: ', s1)"
   ]
  },
  {
   "cell_type": "markdown",
   "id": "59fea9a7",
   "metadata": {},
   "source": [
    "If it needed to put many variables into the string, .format() method can provide this - you just should put all the require variables into ()."
   ]
  },
  {
   "cell_type": "code",
   "execution_count": 5,
   "id": "bf055c50",
   "metadata": {},
   "outputs": [
    {
     "name": "stdout",
     "output_type": "stream",
     "text": [
      "Our variable is string, 5 and 5.123456789\n"
     ]
    }
   ],
   "source": [
    "s_var = 'string'\n",
    "d_var = 5\n",
    "f_var = 5.123456789\n",
    "\n",
    "s1 = 'Our variable is {}, {} and {}'.format(s_var, d_var, f_var)\n",
    "print(s1)"
   ]
  },
  {
   "cell_type": "markdown",
   "id": "5a43aa77",
   "metadata": {},
   "source": [
    "### f-strings"
   ]
  },
  {
   "cell_type": "markdown",
   "id": "b0a112b0",
   "metadata": {},
   "source": [
    "If you put f before your string, then you can formatting this string directly by putting require variables into {} inside your string."
   ]
  },
  {
   "cell_type": "code",
   "execution_count": 6,
   "id": "477939aa",
   "metadata": {},
   "outputs": [
    {
     "name": "stdout",
     "output_type": "stream",
     "text": [
      "Our variable is string, 5 and 5.123456789\n"
     ]
    }
   ],
   "source": [
    "s_var = 'string'\n",
    "d_var = 5\n",
    "f_var = 5.123456789\n",
    "\n",
    "s1 = f'Our variable is {s_var}, {d_var} and {f_var}'\n",
    "print(s1)"
   ]
  },
  {
   "cell_type": "markdown",
   "id": "039b48b5",
   "metadata": {},
   "source": [
    "# Work with files in Python"
   ]
  },
  {
   "cell_type": "markdown",
   "id": "1d56eece",
   "metadata": {},
   "source": [
    "## Modes of file opening and fields of file object\n",
    "\n",
    "Functionality of Python provides reading files and writings in it.\n",
    "For work with files after opening used the following directives:\n",
    "\n",
    "* 'r': For reading – The file pointer is placed at the beginning of the file. This is the default mode. If we don't specified directive, then 'r' mode will be taken.\n",
    "* 'r+': Opens a file for both reading and writing. The file pointer will be at the beginning of the file.\n",
    "* 'w': Opens a file for writing only. Overwrites the file if the file exists. If the file does not exist, creates a new file for writing.\n",
    "* 'w+': Opens a file for both writing and reading. Overwrites the existing file if the file exists. If the file does not exist, it creates a new file for reading and writing.\n",
    "* 'rb': Opens a file for reading only in binary format. The file pointer is placed at the beginning of the file. It needs for reading and deserialization of file with binary content (see it in correspondent topic). Also at can be useful for reading of binary files (like .jpg, for example).\n",
    "* 'rb+': Opens a file for both reading and writing in binary format.\n",
    "* 'wb': Opens a file for writing only in binary format. It needs for writing and serialization objects to file (see it in correspondent topic). Also at can be useful for writing to binary files (like .jpg, for example).\n",
    "* 'wb+': Opens a file for both writing and reading in binary format. Overwrites the existing file if the file exists. If the file does not exist, it creates a new file for reading and writing.\n",
    "* 'a': Opens a file for appending. The file pointer is at the end of the file if the file exists. That is, the file is in the append mode. If the file does not exist, it creates a new file for writing.\n",
    "* 'ab': Opens a file for appending in binary format. The file pointer is at the end of the file if the file exists. That is, the file is in the append mode. If the file does not exist, it creates a new file for writing.\n",
    "* 'a+': Opens a file for both appending and reading. The file pointer is at the end of the file if the file exists. The file opens in the append mode. If the file does not exist, it creates a new file for reading and writing.\n",
    "* 'ab+': Opens a file for both appending and reading in binary format. The file pointer is at the end of the file if the file exists. The file opens in the append mode. If the file does not exist, it creates a new file for reading and writing.\n",
    "* 'x': Open for exclusive creation, failing if the file already exists (Python 3)"
   ]
  },
  {
   "cell_type": "markdown",
   "id": "1fa331e4",
   "metadata": {},
   "source": [
    "Python operates with file objects which created by open() method.\n",
    "Deleting of file object doing through close() method."
   ]
  },
  {
   "cell_type": "code",
   "execution_count": 1,
   "id": "bd2d864b",
   "metadata": {},
   "outputs": [
    {
     "name": "stdout",
     "output_type": "stream",
     "text": [
      "name of file:  text.txt\n",
      "mode of opening of the file:  r\n",
      "encoding of the file:  cp1252\n",
      "is file closed (before closing):  False\n",
      "is file closed (after closing):  True\n"
     ]
    }
   ],
   "source": [
    "filename = r'text.txt' # if file not lay in one folder with this notebook filename is the whole path to file\n",
    "\n",
    "f = open(filename, 'r')\n",
    "\n",
    "print(\"name of file: \", f.name) # Field which consists name of file. May be useful when you work with big amount of files\n",
    "print(\"mode of opening of the file: \", f.mode) # Field with mode of file opening. May be useful when you work with big amount of files\n",
    "print(\"encoding of the file: \", f.encoding) # Field with encoding of file\n",
    "print(\"is file closed (before closing): \", f.closed) # Returns True if a file is closed\n",
    "\n",
    "f.close()\n",
    "\n",
    "print(\"is file closed (after closing): \", f.closed)"
   ]
  },
  {
   "cell_type": "markdown",
   "id": "1517c4c9",
   "metadata": {},
   "source": [
    "Some fields of file object can be given directly to object constructor in open() method. For example:"
   ]
  },
  {
   "cell_type": "code",
   "execution_count": 2,
   "id": "e16fd17b",
   "metadata": {},
   "outputs": [
    {
     "name": "stdout",
     "output_type": "stream",
     "text": [
      "name of file:  text.txt\n",
      "mode of opening of the file:  r\n",
      "encoding of the file:  utf-8\n",
      "is file closed (before closing):  False\n",
      "is file closed (after closing):  True\n"
     ]
    }
   ],
   "source": [
    "filename = r'text.txt' # if file not lay in one folder with this notebook filename is the whole path to file\n",
    "\n",
    "f = open(filename, mode='r', encoding='utf-8')\n",
    "\n",
    "print(\"name of file: \", f.name) # Field which consists name of file. May be useful when you work with big amount of files\n",
    "print(\"mode of opening of the file: \", f.mode) # Field with mode of file opening. May be useful when you work with big amount of files\n",
    "print(\"encoding of the file: \", f.encoding) # Field with encoding of file\n",
    "print(\"is file closed (before closing): \", f.closed) # Returns True if a file is closed\n",
    "\n",
    "f.close()\n",
    "\n",
    "print(\"is file closed (after closing): \", f.closed)"
   ]
  },
  {
   "cell_type": "markdown",
   "id": "4bf85357",
   "metadata": {},
   "source": [
    "## Methods of file objects - reading"
   ]
  },
  {
   "cell_type": "markdown",
   "id": "4ef706c8",
   "metadata": {},
   "source": [
    "### read()\n",
    "\n",
    "Returns all the file content."
   ]
  },
  {
   "cell_type": "code",
   "execution_count": 3,
   "id": "b3a6eba2",
   "metadata": {},
   "outputs": [
    {
     "name": "stdout",
     "output_type": "stream",
     "text": [
      "All of the symbols in file: \n",
      "agshagdhsdhgsadhga\n",
      "sadfasgdafg\n",
      "asgsadgsadg123124\n",
      "sa gaadfgdfdsfha\n",
      "gSGDFGDAHSFHAD\n",
      "sdf\n",
      "dfg\n",
      "dffhfgh \n",
      "\n"
     ]
    }
   ],
   "source": [
    "filename = r'text.txt' # if file not lay in one folder with this notebook filename is the whole path to file\n",
    "\n",
    "f = open(filename, mode='r', encoding='utf-8')\n",
    "\n",
    "print(\"All of the symbols in file: \")\n",
    "print(f.read(), \"\\n\")\n",
    "\n",
    "f.close()"
   ]
  },
  {
   "cell_type": "markdown",
   "id": "0b3be255",
   "metadata": {},
   "source": [
    "You also can directly points to read() method what symbols you want to see in output through number_of_symbols:"
   ]
  },
  {
   "cell_type": "code",
   "execution_count": 4,
   "id": "facb737b",
   "metadata": {},
   "outputs": [
    {
     "name": "stdout",
     "output_type": "stream",
     "text": [
      "The first 3 symbols in file: \n",
      "ags \n",
      "\n"
     ]
    }
   ],
   "source": [
    "filename = r'text.txt'\n",
    "\n",
    "f = open(filename, mode='r', encoding='utf-8')\n",
    "number_of_symbols = 3\n",
    "print(f\"The first {number_of_symbols} symbols in file: \")\n",
    "print(f.read(number_of_symbols), \"\\n\")\n",
    "\n",
    "f.close()"
   ]
  },
  {
   "cell_type": "markdown",
   "id": "cdae641d",
   "metadata": {},
   "source": [
    "If you use read() first and then use read(number_of_symbols) then read(number_of_symbols) returns nothing because of read() already reads all of the avaliable symbols in file:"
   ]
  },
  {
   "cell_type": "code",
   "execution_count": 5,
   "id": "6737c70b",
   "metadata": {},
   "outputs": [
    {
     "name": "stdout",
     "output_type": "stream",
     "text": [
      "read() and then read(number_of_symbols): \n",
      "agshagdhsdhgsadhga\n",
      "sadfasgdafg\n",
      "asgsadgsadg123124\n",
      "sa gaadfgdfdsfha\n",
      "gSGDFGDAHSFHAD\n",
      "sdf\n",
      "dfg\n",
      "dffhfgh\n",
      "\n"
     ]
    }
   ],
   "source": [
    "filename = r'text.txt'\n",
    "\n",
    "f = open(filename, mode='r', encoding='utf-8')\n",
    "\n",
    "print(\"read() and then read(number_of_symbols): \")\n",
    "number_of_symbols = 3\n",
    "print(f.read())\n",
    "\n",
    "print(f.read(number_of_symbols))\n",
    "\n",
    "f.close()"
   ]
  },
  {
   "cell_type": "markdown",
   "id": "a63941ed",
   "metadata": {},
   "source": [
    "In other way, if you use read(number_of_symbols) first and use read() then, you firstly get the number_of_symbols symbols and then all of the rest synbols:"
   ]
  },
  {
   "cell_type": "code",
   "execution_count": 6,
   "id": "d2f1a35a",
   "metadata": {},
   "outputs": [
    {
     "name": "stdout",
     "output_type": "stream",
     "text": [
      "read(number_of_symbols) and then read(): \n",
      "ags\n",
      "hagdhsdhgsadhga\n",
      "sadfasgdafg\n",
      "asgsadgsadg123124\n",
      "sa gaadfgdfdsfha\n",
      "gSGDFGDAHSFHAD\n",
      "sdf\n",
      "dfg\n",
      "dffhfgh\n"
     ]
    }
   ],
   "source": [
    "filename = r'text.txt'\n",
    "\n",
    "f = open(filename, mode='r', encoding='utf-8')\n",
    "\n",
    "print(\"read(number_of_symbols) and then read(): \")\n",
    "number_of_symbols = 3\n",
    "print(f.read(number_of_symbols))\n",
    "\n",
    "print(f.read())\n",
    "\n",
    "f.close()"
   ]
  },
  {
   "cell_type": "markdown",
   "id": "b684cb6c",
   "metadata": {},
   "source": [
    "And finally if you give to the read() method number_of_symbols1=/=number_of_symbols2 parameters sequentially, then you receive the number_of_symbols1 and number_of_symbols2 symbols sequentially:"
   ]
  },
  {
   "cell_type": "code",
   "execution_count": 7,
   "id": "4a9db024",
   "metadata": {},
   "outputs": [
    {
     "name": "stdout",
     "output_type": "stream",
     "text": [
      "read(number_of_symbols) and then read(): \n",
      "The first 3 symbols from file:  ags\n",
      "Then 5 symbols after:  hagdh\n"
     ]
    }
   ],
   "source": [
    "filename = r'text.txt'\n",
    "\n",
    "f = open(filename, mode='r', encoding='utf-8')\n",
    "\n",
    "print(\"read(number_of_symbols) and then read(): \")\n",
    "number_of_symbols1 = 3\n",
    "number_of_symbols2 = 5\n",
    "print(f'The first {number_of_symbols1} symbols from file: ',f.read(number_of_symbols1))\n",
    "print(f'Then {number_of_symbols2} symbols after: ', f.read(number_of_symbols2))\n",
    "f.close()"
   ]
  },
  {
   "cell_type": "markdown",
   "id": "a41aed3e",
   "metadata": {},
   "source": [
    "### readable()\n",
    "\n",
    "Returns whether the file stream can be read or not."
   ]
  },
  {
   "cell_type": "code",
   "execution_count": 8,
   "id": "fd60bc75",
   "metadata": {},
   "outputs": [
    {
     "name": "stdout",
     "output_type": "stream",
     "text": [
      "read mode of opening:  True\n",
      "write node of opening:  False\n"
     ]
    }
   ],
   "source": [
    "filename = r'text.txt' # if file not lay in one folder with this notebook filename is the whole path to file\n",
    "\n",
    "f1 = open(filename, mode='r', encoding='utf-8')\n",
    "f2 = open(filename, mode='a', encoding='utf-8')\n",
    "\n",
    "print(\"read mode of opening: \", f1.readable())\n",
    "print(\"write node of opening: \", f2.readable())\n",
    "\n",
    "f1.close()\n",
    "f2.close()"
   ]
  },
  {
   "cell_type": "markdown",
   "id": "4ad6f940",
   "metadata": {},
   "source": [
    "### readlines()\n",
    "\n",
    "Read file into a list of lines"
   ]
  },
  {
   "cell_type": "code",
   "execution_count": 9,
   "id": "4f32889c",
   "metadata": {},
   "outputs": [
    {
     "name": "stdout",
     "output_type": "stream",
     "text": [
      "['agshagdhsdhgsadhga\\n', 'sadfasgdafg\\n', 'asgsadgsadg123124\\n', 'sa gaadfgdfdsfha\\n', 'gSGDFGDAHSFHAD\\n', 'sdf\\n', 'dfg\\n', 'dffhfgh']\n"
     ]
    }
   ],
   "source": [
    "filename = r'text.txt' # if file not lay in one folder with this notebook filename is the whole path to file\n",
    "\n",
    "f = open(filename, mode='r', encoding='utf-8')\n",
    "\n",
    "print(f.readlines())\n",
    "\n",
    "f.close()"
   ]
  },
  {
   "cell_type": "markdown",
   "id": "1a40d3af",
   "metadata": {},
   "source": [
    "### readline()\n",
    "\n",
    "Read single line. If there is no more lines then method nothing to return."
   ]
  },
  {
   "cell_type": "code",
   "execution_count": 10,
   "id": "9c8dc0e1",
   "metadata": {},
   "outputs": [
    {
     "name": "stdout",
     "output_type": "stream",
     "text": [
      "agshagdhsdhgsadhga\n",
      "sadfasgdafg\n",
      "\n",
      "asgsadgsadg123124\n",
      "\n",
      "sa gaadfgdfdsfha\n",
      "\n",
      "gSGDFGDAHSFHAD\n",
      "\n",
      "sdf\n",
      "\n",
      "dfg\n",
      "\n",
      "dffhfgh\n",
      "\n",
      "\n",
      "\n"
     ]
    }
   ],
   "source": [
    "filename = r'text.txt' # if file not lay in one folder with this notebook filename is the whole path to file\n",
    "\n",
    "f = open(filename, mode='r', encoding='utf-8')\n",
    "\n",
    "# in order to exclude the \\n symbol from output you can use the\n",
    "# end='' derictive in method\n",
    "# This derictive provides directly points to end of line which we want to see in output\n",
    "\n",
    "print(f.readline(), end='')\n",
    "print(f.readline())\n",
    "print(f.readline())\n",
    "print(f.readline())\n",
    "print(f.readline())\n",
    "print(f.readline())\n",
    "print(f.readline())\n",
    "print(f.readline())\n",
    "print(f.readline())\n",
    "print(f.readline())\n",
    "print(f.readline())\n",
    "\n",
    "f.close()"
   ]
  },
  {
   "cell_type": "markdown",
   "id": "5397471e",
   "metadata": {},
   "source": [
    "Note that you can use iterators for reading files also:"
   ]
  },
  {
   "cell_type": "code",
   "execution_count": 11,
   "id": "eef6a810",
   "metadata": {},
   "outputs": [
    {
     "name": "stdout",
     "output_type": "stream",
     "text": [
      "agshagdhsdhgsadhga\n",
      "sadfasgdafg\n",
      "asgsadgsadg123124\n",
      "sa gaadfgdfdsfha\n",
      "gSGDFGDAHSFHAD\n",
      "sdf\n",
      "dfg\n",
      "dffhfgh"
     ]
    }
   ],
   "source": [
    "filename = r'text.txt' # if file not lay in one folder with this notebook filename is the whole path to file\n",
    "\n",
    "f = open(filename, mode='r', encoding='utf-8')\n",
    "\n",
    "for line in f:\n",
    "    print(line, end='')\n",
    "    \n",
    "f.close()"
   ]
  },
  {
   "cell_type": "markdown",
   "id": "ab82c5ef",
   "metadata": {},
   "source": [
    "### seek()\n",
    "\n",
    "Set file pointer position in a file. If you take seek(x) then reading will be started from x position in file:"
   ]
  },
  {
   "cell_type": "code",
   "execution_count": 12,
   "id": "aeb1888d",
   "metadata": {},
   "outputs": [
    {
     "name": "stdout",
     "output_type": "stream",
     "text": [
      "Reading of all the file content: \n",
      "agshagdhsdhgsadhga\n",
      "sadfasgdafg\n",
      "asgsadgsadg123124\n",
      "sa gaadfgdfdsfha\n",
      "gSGDFGDAHSFHAD\n",
      "sdf\n",
      "dfg\n",
      "dffhfgh\n",
      "\n",
      "Reading from the 2 position in file: \n",
      "shagdhsdhgsadhga\n",
      "sadfasgdafg\n",
      "asgsadgsadg123124\n",
      "sa gaadfgdfdsfha\n",
      "gSGDFGDAHSFHAD\n",
      "sdf\n",
      "dfg\n",
      "dffhfgh\n"
     ]
    }
   ],
   "source": [
    "filename = r'text.txt'\n",
    "\n",
    "f = open(filename, mode='r', encoding='utf-8')\n",
    "\n",
    "print(\"Reading of all the file content: \")\n",
    "print(f.read())\n",
    "print()\n",
    "\n",
    "f.close()\n",
    "\n",
    "f = open(filename, mode='r', encoding='utf-8')\n",
    "new_position = 2\n",
    "f.seek(new_position)\n",
    "print(f\"Reading from the {new_position} position in file: \")\n",
    "print(f.read())\n",
    "\n",
    "f.close()"
   ]
  },
  {
   "cell_type": "markdown",
   "id": "1f840a62",
   "metadata": {},
   "source": [
    "### seekable()\n",
    "\n",
    "Returns whether the file allows us to change the file position."
   ]
  },
  {
   "cell_type": "code",
   "execution_count": 13,
   "id": "512f06a3",
   "metadata": {},
   "outputs": [
    {
     "name": "stdout",
     "output_type": "stream",
     "text": [
      "True\n"
     ]
    }
   ],
   "source": [
    "f = open(filename, mode='r', encoding='utf-8')\n",
    "new_position1 = 2\n",
    "f.seek(new_position1)\n",
    "print(f.seekable())\n",
    "\n",
    "f.close()"
   ]
  },
  {
   "cell_type": "markdown",
   "id": "7f78e98e",
   "metadata": {},
   "source": [
    "### tell()\n",
    "\n",
    "Returns the current file location."
   ]
  },
  {
   "cell_type": "code",
   "execution_count": 14,
   "id": "4aca8be9",
   "metadata": {},
   "outputs": [
    {
     "name": "stdout",
     "output_type": "stream",
     "text": [
      "2\n"
     ]
    }
   ],
   "source": [
    "f = open(filename, mode='r', encoding='utf-8')\n",
    "new_position = 2\n",
    "f.seek(new_position)\n",
    "print(f.tell())\n",
    "\n",
    "f.close()"
   ]
  },
  {
   "cell_type": "markdown",
   "id": "53d3b719",
   "metadata": {},
   "source": [
    "## Methods of file objects - writing"
   ]
  },
  {
   "cell_type": "markdown",
   "id": "b6266c0a",
   "metadata": {},
   "source": [
    "### write()\n",
    "\n",
    "Writes the specified string to the file."
   ]
  },
  {
   "cell_type": "code",
   "execution_count": 15,
   "id": "ba06f4a8",
   "metadata": {},
   "outputs": [
    {
     "name": "stdout",
     "output_type": "stream",
     "text": [
      "Before writing:  \n",
      "After writing:  We are here!\n"
     ]
    }
   ],
   "source": [
    "filename = 'text_w.txt'\n",
    "\n",
    "# Clear the file before\n",
    "f = open(filename, mode='w', encoding='utf-8')\n",
    "f.close()\n",
    "\n",
    "f = open(filename, mode='r', encoding='utf-8')\n",
    "print(\"Before writing: \", f.read())\n",
    "f.close()\n",
    "\n",
    "f = open(filename, mode='w', encoding='utf-8')\n",
    "f.write('We are here!')\n",
    "f.close()\n",
    "\n",
    "f = open(filename, mode='r', encoding='utf-8')\n",
    "print(\"After writing: \", f.read())\n",
    "f.close()"
   ]
  },
  {
   "cell_type": "markdown",
   "id": "f01ee047",
   "metadata": {},
   "source": [
    "### writable()\n",
    "\n",
    "Returns whether the file can be written to or not."
   ]
  },
  {
   "cell_type": "code",
   "execution_count": 16,
   "id": "a13eaa8c",
   "metadata": {},
   "outputs": [
    {
     "name": "stdout",
     "output_type": "stream",
     "text": [
      "False\n",
      "True\n"
     ]
    }
   ],
   "source": [
    "filename = r'text_w.txt' # if file not lay in one folder with this notebook filename is the whole path to file\n",
    "\n",
    "f1 = open(filename, mode='r', encoding='utf-8')\n",
    "f2 = open(filename, mode='a', encoding='utf-8')\n",
    "\n",
    "print(f1.writable())\n",
    "print(f2.writable())\n",
    "\n",
    "f.close()"
   ]
  },
  {
   "cell_type": "markdown",
   "id": "8c9c6f47",
   "metadata": {},
   "source": [
    "### writelines()\n",
    "\n",
    "Writes a list of strings to the file."
   ]
  },
  {
   "cell_type": "code",
   "execution_count": 17,
   "id": "c925d135",
   "metadata": {},
   "outputs": [
    {
     "name": "stdout",
     "output_type": "stream",
     "text": [
      "Before writing:  \n",
      "After writing:  We are here!\n",
      "and here\n",
      "and here\n",
      "and here\n"
     ]
    }
   ],
   "source": [
    "filename = r'text_w.txt'\n",
    "\n",
    "#Clear the file\n",
    "f = open(filename, mode='w', encoding='utf-8')\n",
    "f.close()\n",
    "\n",
    "f = open(filename, mode='r', encoding='utf-8')\n",
    "print(\"Before writing: \", f.read())\n",
    "f.close()\n",
    "\n",
    "f = open(filename, mode='w', encoding='utf-8')\n",
    "f.writelines([\"We are here!\\n\", 'and here\\n', 'and here\\n', 'and here'])\n",
    "f.close()\n",
    "\n",
    "f = open(filename, mode='r', encoding='utf-8')\n",
    "print(\"After writing: \", f.read())\n",
    "f.close()"
   ]
  },
  {
   "cell_type": "markdown",
   "id": "a3298c0b",
   "metadata": {},
   "source": [
    "## Using of context manager 'with open as'\n",
    "\n",
    "This context manager (to details see correspondent topic) allows to avoid of using open() and close() constructor and destructor of the file object.\n",
    "\n",
    "You can use the unify construction 'with open as' instead because of after ending of work in this environment destructor of file object executed automatically."
   ]
  },
  {
   "cell_type": "markdown",
   "id": "1866581f",
   "metadata": {},
   "source": [
    "### Reading with context manager"
   ]
  },
  {
   "cell_type": "code",
   "execution_count": 18,
   "id": "ae68e9b7",
   "metadata": {},
   "outputs": [
    {
     "name": "stdout",
     "output_type": "stream",
     "text": [
      "agshagdhsdhgsadhga\n",
      "sadfasgdafg\n",
      "asgsadgsadg123124\n",
      "sa gaadfgdfdsfha\n",
      "gSGDFGDAHSFHAD\n",
      "sdf\n",
      "dfg\n",
      "dffhfgh\n"
     ]
    }
   ],
   "source": [
    "filename = r'text.txt'\n",
    "\n",
    "with open(filename, mode='r', encoding='utf-8') as f:\n",
    "    print(f.read())"
   ]
  },
  {
   "cell_type": "markdown",
   "id": "8c66ce58",
   "metadata": {},
   "source": [
    "### Writing with context manager"
   ]
  },
  {
   "cell_type": "code",
   "execution_count": 19,
   "id": "020b5f02",
   "metadata": {},
   "outputs": [
    {
     "name": "stdout",
     "output_type": "stream",
     "text": [
      "Before writing:  \n",
      "Before writing:  And we here again!\n"
     ]
    }
   ],
   "source": [
    "filename = r'text_w.txt'\n",
    "\n",
    "with open(filename, mode='w', encoding='utf-8') as f:\n",
    "    pass\n",
    "\n",
    "with open(filename, mode='r', encoding='utf-8') as f:\n",
    "    print('Before writing: ', f.read())\n",
    "\n",
    "with open(filename, mode='w', encoding='utf-8') as f:\n",
    "    f.write('And we here again!')\n",
    "    \n",
    "with open(filename, mode='r', encoding='utf-8') as f:\n",
    "    print('Before writing: ', f.read())"
   ]
  },
  {
   "cell_type": "markdown",
   "id": "ba1efbeb",
   "metadata": {},
   "source": [
    "# Regular expressions"
   ]
  },
  {
   "cell_type": "markdown",
   "id": "5eb6fc80",
   "metadata": {},
   "source": [
    "A regular expression (shortened as regex or regexp; sometimes referred to as rational expression) is a sequence of characters that specifies a search pattern in text. Usually such patterns are used by string-searching algorithms for \"find\" or \"find and replace\" operations on strings, or for input validation. Regular expression techniques are developed in theoretical computer science and formal language theory."
   ]
  },
  {
   "cell_type": "markdown",
   "id": "3e57560d",
   "metadata": {},
   "source": [
    "In Python work with regular expressions provides by re library.\n",
    "re module operates by metacharacters. There are some kinds of such symbols: \n",
    "\n",
    "[ ] ^ $ . * + ? { } ( ) \\ | \n",
    "\n",
    "Before looking at these symbols one by one let's talk about functions which you can use in re module:"
   ]
  },
  {
   "cell_type": "code",
   "execution_count": 1,
   "id": "1ede853d",
   "metadata": {},
   "outputs": [],
   "source": [
    "import re"
   ]
  },
  {
   "cell_type": "markdown",
   "id": "edf7c71c",
   "metadata": {},
   "source": [
    "## Functions of module re"
   ]
  },
  {
   "cell_type": "markdown",
   "id": "ae5082b5",
   "metadata": {},
   "source": [
    "There are next the most popular functions in re module:  \n",
    "\n",
    "* re.match()\n",
    "* re.search()\n",
    "* re.findall()\n",
    "* re.split()\n",
    "* re.sub()\n",
    "* re.compile()\n",
    "\n",
    "Let's look at these one by one."
   ]
  },
  {
   "cell_type": "markdown",
   "id": "97b76001",
   "metadata": {},
   "source": [
    "### re.match()\n",
    "\n",
    "Method re.match(pattern, string) finds pattern at the start of the string. If pattern does not exist in the string, None returns. Matching carried out by words (between spaces)."
   ]
  },
  {
   "cell_type": "code",
   "execution_count": 2,
   "id": "d26c67f4",
   "metadata": {},
   "outputs": [
    {
     "name": "stdout",
     "output_type": "stream",
     "text": [
      "Pattern there is in the string:  <re.Match object; span=(0, 2), match='AV'>\n",
      "Pattern is not in the string:  None\n"
     ]
    }
   ],
   "source": [
    "result = re.match(r'AV', 'AV Analytics Vidhya AV')\n",
    "print(\"Pattern there is in the string: \", result)\n",
    "\n",
    "result = re.match(r'Analytics', 'AV Analytics Vidhya AV')\n",
    "print(\"Pattern is not in the string: \", result)"
   ]
  },
  {
   "cell_type": "markdown",
   "id": "76623fbe",
   "metadata": {},
   "source": [
    "If pattern there is in the string in order to get it whole we can use re.Match.group(0) method."
   ]
  },
  {
   "cell_type": "code",
   "execution_count": 4,
   "id": "7c0efc67",
   "metadata": {},
   "outputs": [
    {
     "name": "stdout",
     "output_type": "stream",
     "text": [
      "AV\n"
     ]
    }
   ],
   "source": [
    "result = re.match(r'AV', 'AV Analytics Vidhya AV')\n",
    "print(result.group(0))"
   ]
  },
  {
   "cell_type": "markdown",
   "id": "63e296dd",
   "metadata": {},
   "source": [
    "In the re.Match objects span=(begin, end) contains indices of begin and end of pattern in the string. You can get the span tuple through re.Match.span() method. Begin and end itself you can get through re.Match.begin() and re.Match.end() methods."
   ]
  },
  {
   "cell_type": "code",
   "execution_count": 7,
   "id": "056a9851",
   "metadata": {},
   "outputs": [
    {
     "name": "stdout",
     "output_type": "stream",
     "text": [
      "Span:  (0, 2)\n",
      "Start:  0\n",
      "End:  2\n"
     ]
    }
   ],
   "source": [
    "result = re.match(r'AV', 'AV Analytics Vidhya AV')\n",
    "print(\"Span: \", result.span())\n",
    "print(\"Start: \", result.start())\n",
    "print(\"End: \", result.end())"
   ]
  },
  {
   "cell_type": "markdown",
   "id": "78974ecc",
   "metadata": {},
   "source": [
    "### re.search()\n",
    "\n",
    "Method re.search(pattern, string) is familiar to re.match(pattern, string) but it finds pattern not only at the start of the string - method finds in all the string but returns only the first match. If pattern does not exist in the string, None returns. Matching here also carried out by words (between spaces). It also as re.match(pattern, string) returns re.Match object.\n",
    "\n",
    "Thus here also there are methods re.Match.group(), re.Match.span(), re.Match.start() and re.Match.end()."
   ]
  },
  {
   "cell_type": "code",
   "execution_count": 10,
   "id": "bd63488c",
   "metadata": {},
   "outputs": [
    {
     "name": "stdout",
     "output_type": "stream",
     "text": [
      "The whole matching:  Analytics\n",
      "Span:  (3, 12)\n",
      "Start:  3\n",
      "End:  12\n"
     ]
    }
   ],
   "source": [
    "result = re.search(r'Analytics', 'AV Analytics Vidhya AV')\n",
    "print(\"The whole matching: \", result.group(0))\n",
    "print(\"Span: \", result.span())\n",
    "print(\"Start: \", result.start())\n",
    "print(\"End: \", result.end())"
   ]
  },
  {
   "cell_type": "markdown",
   "id": "e6ae9a7c",
   "metadata": {},
   "source": [
    "### re.findall()\n",
    "\n",
    "This method returns the list of all the founded matches. Method re.findall(pattern, string) there is no limits on finding at begin or at the end of the string.\n",
    "\n",
    "It is recommended to use re.findall() for searching, as it can work both as re.search() and as re.match()."
   ]
  },
  {
   "cell_type": "code",
   "execution_count": 11,
   "id": "5d8e8290",
   "metadata": {},
   "outputs": [
    {
     "name": "stdout",
     "output_type": "stream",
     "text": [
      "['AV', 'AV']\n"
     ]
    }
   ],
   "source": [
    "result = re.findall(r'AV', 'AV Analytics Vidhya AV')\n",
    "print(result)"
   ]
  },
  {
   "cell_type": "markdown",
   "id": "dc321467",
   "metadata": {},
   "source": [
    "### re.split()"
   ]
  },
  {
   "cell_type": "markdown",
   "id": "1f5e90be",
   "metadata": {},
   "source": [
    "re.split(pattern, string) method divides the string by pattern and returns the list after dividing."
   ]
  },
  {
   "cell_type": "code",
   "execution_count": 12,
   "id": "2e7f308e",
   "metadata": {},
   "outputs": [
    {
     "name": "stdout",
     "output_type": "stream",
     "text": [
      "['Anal', 'tics']\n"
     ]
    }
   ],
   "source": [
    "result = re.split(r'y', 'Analytics')\n",
    "print(result)"
   ]
  },
  {
   "cell_type": "markdown",
   "id": "8d7811a5",
   "metadata": {},
   "source": [
    "### re.sub()"
   ]
  },
  {
   "cell_type": "markdown",
   "id": "fd3077b2",
   "metadata": {},
   "source": [
    "Method re.sub(pattern, repl, string) finds the pattern in the string and replaced it at repl."
   ]
  },
  {
   "cell_type": "code",
   "execution_count": 13,
   "id": "89045302",
   "metadata": {},
   "outputs": [
    {
     "name": "stdout",
     "output_type": "stream",
     "text": [
      "AV is largest Analytics community of the World\n"
     ]
    }
   ],
   "source": [
    "result = re.sub(r'India', 'the World', 'AV is largest Analytics community of India')\n",
    "print(result)"
   ]
  },
  {
   "cell_type": "markdown",
   "id": "d595f1d8",
   "metadata": {},
   "source": [
    "### re.compile()"
   ]
  },
  {
   "cell_type": "markdown",
   "id": "34a1bfd3",
   "metadata": {},
   "source": [
    "Method re.compile(pattern, repl, string) provides opportunity of construction of regular expression to particular object which can be used for search. It also can help to avoid of rewriting of the same expression. "
   ]
  },
  {
   "cell_type": "code",
   "execution_count": 15,
   "id": "4337e64c",
   "metadata": {},
   "outputs": [
    {
     "name": "stdout",
     "output_type": "stream",
     "text": [
      "['AV', 'AV']\n",
      "['AV']\n"
     ]
    }
   ],
   "source": [
    "pattern = re.compile('AV')\n",
    "result = pattern.findall('AV Analytics Vidhya AV')\n",
    "print(result)\n",
    "result2 = pattern.findall('AV is largest analytics community of India')\n",
    "print (result2)"
   ]
  },
  {
   "cell_type": "markdown",
   "id": "ff5df5c5",
   "metadata": {},
   "source": [
    "## Metacharacters\n",
    "\n",
    "Now let's look at the metacharacters mentioned above:"
   ]
  },
  {
   "cell_type": "markdown",
   "id": "09239a4a",
   "metadata": {},
   "source": [
    "### Square brackets ( [ ] )\n",
    "\n",
    "Into the square brackets specifies some symbols which you match in text, i.e. some directly defined symbols which you want to match in text. If at least one of the symbols in square brackets there is in text, matches successful."
   ]
  },
  {
   "cell_type": "code",
   "execution_count": 77,
   "id": "9b1a831a",
   "metadata": {},
   "outputs": [
    {
     "name": "stdout",
     "output_type": "stream",
     "text": [
      "None\n",
      "\n",
      "<re.Match object; span=(0, 1), match='a'>\n",
      "a\n",
      "\n",
      "<re.Match object; span=(0, 1), match='b'>\n",
      "b\n"
     ]
    }
   ],
   "source": [
    "input_str = \"The film Titanic was released in 1998\"\n",
    "\n",
    "# Before using template string which uses in regular expressions uses 'r' symbol, then string become 'raw' string\n",
    "pattern = r'[abc]'\n",
    "\n",
    "result = re.match(pattern, input_str)\n",
    "print(result)\n",
    "print()\n",
    "# None result because of re.match finds patterns only in begin of text\n",
    "\n",
    "# Then we can put a symbol in begin of the string\n",
    "\n",
    "input_str = \"all the film Titanic was released in 1998\"\n",
    "result = re.match(pattern, input_str)\n",
    "print(result)\n",
    "# Here we resieve the Match object. If you want to see what group of sumbol from square bracket was found (a, b or c)\n",
    "# you should use the group method\n",
    "print(result.group())\n",
    "print()\n",
    "\n",
    "# If we put in begin b symbol we recieve the following:\n",
    "\n",
    "input_str = \"ball the film Titanic was released in 1998\"\n",
    "result = re.match(pattern, input_str)\n",
    "print(result)\n",
    "print(result.group())"
   ]
  },
  {
   "cell_type": "code",
   "execution_count": 90,
   "id": "b92428fe",
   "metadata": {},
   "outputs": [
    {
     "name": "stdout",
     "output_type": "stream",
     "text": [
      "<re.Match object; span=(12, 13), match='a'>\n",
      "(12, 13)\n"
     ]
    }
   ],
   "source": [
    "# Also you can use the re.search() method which searches all the matches with pattern in text, not only in begin.\n",
    "\n",
    "input_str = \"The film Titanic was released in 1998\"\n",
    "pattern = r'[abc]'\n",
    "\n",
    "result = re.search(pattern, input_str)\n",
    "print(result)\n",
    "# re.MatchObject.span() method returns a tuple containing starting and ending index of the matched string. \n",
    "# If group did not contribute to the match it returns(-1,-1).\n",
    "print(result.span())"
   ]
  },
  {
   "cell_type": "code",
   "execution_count": 91,
   "id": "51a85191",
   "metadata": {},
   "outputs": [
    {
     "name": "stdout",
     "output_type": "stream",
     "text": [
      "['a', 'c', 'a', 'a']\n"
     ]
    }
   ],
   "source": [
    "# For finding and returning of pattern in text use the findall() method\n",
    "# It returns result of searching of pattern\n",
    "\n",
    "input_str = \"The film Titanic was released in 1998\"\n",
    "pattern = r'[abc]'\n",
    "\n",
    "result = re.findall(pattern, input_str)\n",
    "print(result)"
   ]
  },
  {
   "cell_type": "code",
   "execution_count": 11,
   "id": "055cecfc",
   "metadata": {},
   "outputs": [
    {
     "name": "stdout",
     "output_type": "stream",
     "text": [
      "['h', 'e', 'f', 'i', 'l', 'm', 'i', 't', 'a', 'n', 'i', 'c', 'w', 'a', 's', 'r', 'e', 'l', 'e', 'a', 's', 'e', 'd', 'i', 'n']\n",
      "\n",
      "['T', 'T']\n",
      "\n",
      "['1', '9', '9', '8']\n"
     ]
    }
   ],
   "source": [
    "# This pattern returns all of the letters in the text in low register\n",
    "input_str = \"The film Titanic was released in 1998\"\n",
    "pattern = r'[a-z]'\n",
    "\n",
    "result = re.findall(pattern, input_str)\n",
    "print(result)\n",
    "print()\n",
    "\n",
    "# And this pattern returns all of the letters in the text in high register\n",
    "input_str = \"The film Titanic was released in 1998\"\n",
    "pattern = r'[A-Z]'\n",
    "\n",
    "result = re.findall(pattern, input_str)\n",
    "print(result)\n",
    "print()\n",
    "\n",
    "# And finally this pattern returns all of the numbers in the text\n",
    "input_str = \"The film Titanic was released in 1998\"\n",
    "pattern = r'[0-9]'\n",
    "\n",
    "result = re.findall(pattern, input_str)\n",
    "print(result)"
   ]
  },
  {
   "cell_type": "markdown",
   "id": "d302d356",
   "metadata": {},
   "source": [
    "### Period ( . )\n",
    "\n",
    "This metacharacter matches any single symbol except space."
   ]
  },
  {
   "cell_type": "code",
   "execution_count": 104,
   "id": "9972d2c6",
   "metadata": {},
   "outputs": [
    {
     "name": "stdout",
     "output_type": "stream",
     "text": [
      "Using of match():\n",
      "<re.Match object; span=(0, 1), match='T'>\n",
      "<re.Match object; span=(0, 2), match='Th'>\n",
      "<re.Match object; span=(0, 3), match='The'>\n",
      "\n",
      "Using of search():\n",
      "<re.Match object; span=(0, 1), match='T'>\n",
      "<re.Match object; span=(0, 2), match='Th'>\n",
      "<re.Match object; span=(0, 3), match='The'>\n",
      "\n",
      "Using of findall():\n",
      "One period pattern:\n",
      "['T', 'h', 'e', ' ', 'f', 'i', 'l', 'm', ' ', 'T', 'i', 't', 'a', 'n', 'i', 'c', ' ', 'w', 'a', 's', ' ', 'r', 'e', 'l', 'e', 'a', 's', 'e', 'd', ' ', 'i', 'n', ' ', '1', '9', '9', '8']\n",
      "\n",
      "Two period pattern:\n",
      "['Th', 'e ', 'fi', 'lm', ' T', 'it', 'an', 'ic', ' w', 'as', ' r', 'el', 'ea', 'se', 'd ', 'in', ' 1', '99']\n",
      "\n",
      "Three period pattern:\n",
      "['The', ' fi', 'lm ', 'Tit', 'ani', 'c w', 'as ', 'rel', 'eas', 'ed ', 'in ', '199']\n"
     ]
    }
   ],
   "source": [
    "input_str = \"The film Titanic was released in 1998\"\n",
    "\n",
    "print('Using of match():')\n",
    "\n",
    "pattern = r'.'\n",
    "result = re.match(pattern, input_str)\n",
    "print(result)\n",
    "\n",
    "pattern = r'..'\n",
    "result = re.match(pattern, input_str)\n",
    "print(result)\n",
    "\n",
    "pattern = r'...'\n",
    "\n",
    "result = re.match(pattern, input_str)\n",
    "print(result)\n",
    "print()\n",
    "\n",
    "print('Using of search():')\n",
    "\n",
    "pattern = r'.'\n",
    "result = re.search(pattern, input_str)\n",
    "print(result)\n",
    "\n",
    "pattern = r'..'\n",
    "result = re.search(pattern, input_str)\n",
    "print(result)\n",
    "\n",
    "pattern = r'...'\n",
    "\n",
    "result = re.search(pattern, input_str)\n",
    "print(result)\n",
    "print()\n",
    "\n",
    "print('Using of findall():')\n",
    "print(\"One period pattern:\")\n",
    "pattern = r'.'\n",
    "result = re.findall(pattern, input_str)\n",
    "print(result)\n",
    "print()\n",
    "\n",
    "print(\"Two period pattern:\")\n",
    "pattern = r'..'\n",
    "result = re.findall(pattern, input_str)\n",
    "print(result)\n",
    "print()\n",
    "\n",
    "print(\"Three period pattern:\")\n",
    "pattern = r'...'\n",
    "result = re.findall(pattern, input_str)\n",
    "print(result)\n",
    "\n",
    "# As you can see, period pattern is any symbol including spaces"
   ]
  },
  {
   "cell_type": "markdown",
   "id": "10f81661",
   "metadata": {},
   "source": [
    "### Caret ( ^ )\n",
    "\n",
    "This symbol used for checking if string starts with pattern."
   ]
  },
  {
   "cell_type": "code",
   "execution_count": 107,
   "id": "6ce1aa9e",
   "metadata": {},
   "outputs": [
    {
     "name": "stdout",
     "output_type": "stream",
     "text": [
      "<re.Match object; span=(0, 1), match='a'>\n",
      "<re.Match object; span=(0, 1), match='a'>\n",
      "None\n",
      "None\n",
      "<re.Match object; span=(0, 1), match='a'>\n"
     ]
    }
   ],
   "source": [
    "print(re.search(r'^a', \"a\"))\n",
    "print(re.search(r'^a', \"abc\"))\n",
    "print(re.search(r'^a', \"bac\"))\n",
    "print(re.search(r'^a', \"bca\"))\n",
    "print(re.search(r'^a', \"acb\"))"
   ]
  },
  {
   "cell_type": "markdown",
   "id": "111330bd",
   "metadata": {},
   "source": [
    "If Caret use with [ ] then it matches not expression in the square brackets. For example:"
   ]
  },
  {
   "cell_type": "code",
   "execution_count": 37,
   "id": "92143d6f",
   "metadata": {},
   "outputs": [
    {
     "name": "stdout",
     "output_type": "stream",
     "text": [
      "<re.Match object; span=(1, 2), match='c'>\n",
      "<re.Match object; span=(2, 3), match='b'>\n",
      "None\n"
     ]
    }
   ],
   "source": [
    "print(re.search(r'[^a]', \"acb\"))\n",
    "print(re.search(r'[^ac]', \"acb\"))\n",
    "print(re.search(r'[^acb]', \"acb\"))"
   ]
  },
  {
   "cell_type": "markdown",
   "id": "65ea621f",
   "metadata": {},
   "source": [
    "### Dollar ( $ )\n",
    "\n",
    "This symbol used for checking if string ends with pattern."
   ]
  },
  {
   "cell_type": "code",
   "execution_count": 109,
   "id": "eaa6016f",
   "metadata": {},
   "outputs": [
    {
     "name": "stdout",
     "output_type": "stream",
     "text": [
      "<re.Match object; span=(0, 1), match='a'>\n",
      "None\n",
      "None\n",
      "<re.Match object; span=(2, 3), match='a'>\n",
      "None\n"
     ]
    }
   ],
   "source": [
    "print(re.search(r'a$', \"a\"))\n",
    "print(re.search(r'a$', \"abc\"))\n",
    "print(re.search(r'a$', \"bac\"))\n",
    "print(re.search(r'a$', \"bca\"))\n",
    "print(re.search(r'a$', \"acb\"))"
   ]
  },
  {
   "cell_type": "markdown",
   "id": "5242cc2b",
   "metadata": {},
   "source": [
    "### Asterisk ( * )\n",
    "\n",
    "This symbol matches zero or more occurrences of symbol (or pattern) in left to it in text."
   ]
  },
  {
   "cell_type": "code",
   "execution_count": 121,
   "id": "27b089cb",
   "metadata": {},
   "outputs": [
    {
     "name": "stdout",
     "output_type": "stream",
     "text": [
      "<re.Match object; span=(3, 5), match='an'>\n",
      "['an']\n",
      "['', '', '', 'a', '', '']\n"
     ]
    }
   ],
   "source": [
    "print(re.search(r'a*n', \"woman\"))\n",
    "# Zero or more occurrence of symbol a before symbol n in word woman\n",
    "print(re.findall(r'a*n', \"woman\"))\n",
    "# Zero or more occurrence of symbol a in word woman\n",
    "print(re.findall(r'a*', \"woman\"))"
   ]
  },
  {
   "cell_type": "markdown",
   "id": "4ef031dc",
   "metadata": {},
   "source": [
    "Then you can see how this symbol works on other strings:"
   ]
  },
  {
   "cell_type": "code",
   "execution_count": 128,
   "id": "1f951e32",
   "metadata": {},
   "outputs": [
    {
     "name": "stdout",
     "output_type": "stream",
     "text": [
      "<re.Match object; span=(1, 2), match='n'>\n",
      "['n']\n",
      "\n",
      "<re.Match object; span=(1, 7), match='aaaaan'>\n",
      "['aaaaan']\n",
      "\n",
      "<re.Match object; span=(3, 4), match='n'>\n",
      "['n']\n",
      "\n",
      "None\n",
      "[]\n",
      "\n"
     ]
    }
   ],
   "source": [
    "print(re.search(r'a*n', \"mn\"))\n",
    "print(re.findall(r'a*n', \"mn\"))\n",
    "print()\n",
    "\n",
    "print(re.search(r'a*n', \"maaaaan\"))\n",
    "print(re.findall(r'a*n', \"maaaaan\"))\n",
    "print()\n",
    "\n",
    "# Here before symbol n stands symbol i and it counts as zero occurrence of symbol a before symbol n\n",
    "print(re.search(r'a*n', \"main\"))\n",
    "print(re.findall(r'a*n', \"main\"))\n",
    "print()\n",
    "\n",
    "# But if we ask that template includes firstly symbol m then zero or more symbols a and finally symbol n\n",
    "# then we will recieve no one matching in \"main\" string\n",
    "print(re.search(r'ma*n', \"main\"))\n",
    "print(re.findall(r'ma*n', \"main\"))\n",
    "print()"
   ]
  },
  {
   "cell_type": "markdown",
   "id": "0929c195",
   "metadata": {},
   "source": [
    "### Plus ( + )\n",
    "\n",
    "This symbol matches one or more occurrences of symbol (or pattern) in left to it in text."
   ]
  },
  {
   "cell_type": "code",
   "execution_count": 129,
   "id": "f8efd3a6",
   "metadata": {},
   "outputs": [
    {
     "name": "stdout",
     "output_type": "stream",
     "text": [
      "<re.Match object; span=(3, 5), match='an'>\n",
      "['an']\n",
      "['a']\n"
     ]
    }
   ],
   "source": [
    "print(re.search(r'a+n', \"woman\"))\n",
    "# One or more occurrence of symbol a before symbol n in word woman\n",
    "print(re.findall(r'a+n', \"woman\"))\n",
    "# One or more occurrence of symbol a in word woman\n",
    "print(re.findall(r'a+', \"woman\"))"
   ]
  },
  {
   "cell_type": "code",
   "execution_count": 130,
   "id": "8d8bc3ba",
   "metadata": {},
   "outputs": [
    {
     "name": "stdout",
     "output_type": "stream",
     "text": [
      "None\n",
      "[]\n",
      "\n",
      "<re.Match object; span=(1, 7), match='aaaaan'>\n",
      "['aaaaan']\n",
      "\n",
      "None\n",
      "[]\n",
      "\n",
      "None\n",
      "[]\n",
      "\n"
     ]
    }
   ],
   "source": [
    "# Here no one symbol a before symbol n, thus no one matches in string\n",
    "print(re.search(r'a+n', \"mn\"))\n",
    "print(re.findall(r'a+n', \"mn\"))\n",
    "print()\n",
    "\n",
    "print(re.search(r'a+n', \"maaaaan\"))\n",
    "print(re.findall(r'a+n', \"maaaaan\"))\n",
    "print()\n",
    "\n",
    "# Here before symbol n stands symbol i and it counts as zero occurrence of symbol a before symbol n\n",
    "# thus no one matches in string, because of required one or more\n",
    "print(re.search(r'a+n', \"main\"))\n",
    "print(re.findall(r'a+n', \"main\"))\n",
    "print()\n",
    "\n",
    "# And if we ask that template includes firstly symbol m then zero or more symbols a and finally symbol n\n",
    "# then we will recieve no one matching in \"main\" string\n",
    "print(re.search(r'ma+n', \"main\"))\n",
    "print(re.findall(r'ma+n', \"main\"))\n",
    "print()"
   ]
  },
  {
   "cell_type": "markdown",
   "id": "49e79121",
   "metadata": {},
   "source": [
    "### Question mark ( ? )\n",
    "\n",
    "This symbol matches zero or one occurrences of symbol (or pattern) in left to it in text."
   ]
  },
  {
   "cell_type": "code",
   "execution_count": 132,
   "id": "d733d9c9",
   "metadata": {},
   "outputs": [
    {
     "name": "stdout",
     "output_type": "stream",
     "text": [
      "<re.Match object; span=(3, 5), match='an'>\n",
      "['an']\n",
      "['', '', '', 'a', '', '']\n"
     ]
    }
   ],
   "source": [
    "print(re.search(r'a?n', \"woman\"))\n",
    "# One or zero occurrence of symbol a before symbol n in word woman\n",
    "print(re.findall(r'a?n', \"woman\"))\n",
    "# One or zero occurrence of symbol a in word woman\n",
    "print(re.findall(r'a?', \"woman\"))"
   ]
  },
  {
   "cell_type": "code",
   "execution_count": 136,
   "id": "8f4f16a5",
   "metadata": {},
   "outputs": [
    {
     "name": "stdout",
     "output_type": "stream",
     "text": [
      "<re.Match object; span=(1, 2), match='n'>\n",
      "['n']\n",
      "\n",
      "<re.Match object; span=(5, 7), match='an'>\n",
      "['an']\n",
      "\n",
      "<re.Match object; span=(3, 4), match='n'>\n",
      "['n']\n",
      "\n",
      "None\n",
      "[]\n",
      "\n"
     ]
    }
   ],
   "source": [
    "# Here no one symbol a before symbol n, but zero symbols a there is\n",
    "print(re.search(r'a?n', \"mn\"))\n",
    "print(re.findall(r'a?n', \"mn\"))\n",
    "print()\n",
    "\n",
    "# Matches the first \"an\" combination - in the end of string\n",
    "print(re.search(r'a?n', \"maaaaan\"))\n",
    "print(re.findall(r'a?n', \"maaaaan\"))\n",
    "print()\n",
    "\n",
    "# Here before symbol n stands symbol i and it counts as zero occurrence of symbol a before symbol n\n",
    "print(re.search(r'a?n', \"main\"))\n",
    "print(re.findall(r'a?n', \"main\"))\n",
    "print()\n",
    "\n",
    "# And if we ask that template includes firstly symbol m then zero or more symbols a and finally symbol n\n",
    "# then we will recieve no one matching in \"main\" string\n",
    "print(re.search(r'ma+n', \"main\"))\n",
    "print(re.findall(r'ma+n', \"main\"))\n",
    "print()"
   ]
  },
  {
   "cell_type": "markdown",
   "id": "2ada0000",
   "metadata": {},
   "source": [
    "### Braces ( { } )\n",
    "\n",
    "Consider this code: {n,m}. This means at least n and at most m repetitions of the pattern left to it in the text."
   ]
  },
  {
   "cell_type": "code",
   "execution_count": 6,
   "id": "2fc068cb",
   "metadata": {},
   "outputs": [
    {
     "name": "stdout",
     "output_type": "stream",
     "text": [
      "None\n",
      "[]\n",
      "\n",
      "<re.Match object; span=(1, 4), match='aaa'>\n",
      "['aaa', 'aa']\n",
      "\n",
      "<re.Match object; span=(1, 2), match='a'>\n",
      "['n']\n",
      "\n",
      "<re.Match object; span=(0, 2), match='ma'>\n",
      "['ma']\n",
      "\n",
      "<re.Match object; span=(0, 2), match='aa'>\n",
      "['aa', 'a', 'a']\n"
     ]
    }
   ],
   "source": [
    "# Here 2 or 3 symbols a following one by one searched as pattern in text\n",
    "\n",
    "print(re.search(r'a{2,3}', \"mn\"))\n",
    "print(re.findall(r'a{2,3}', \"mn\"))\n",
    "print()\n",
    "\n",
    "\n",
    "print(re.search(r'a{2,3}', \"maaaaan\"))\n",
    "print(re.findall(r'a{2,3}', \"maaaaan\"))\n",
    "print()\n",
    "\n",
    "# Here 1 or 2 symbols a following one by one searched as pattern in text              \n",
    "print(re.search(r'a{1,2}', \"main\"))\n",
    "print(re.findall(r'a?n', \"main\"))\n",
    "print()\n",
    "\n",
    "# And if we ask that template includes firstly symbol m then 1 or 2 symbols a following one by one\n",
    "# then we will recieve no one matching in \"main\" string\n",
    "print(re.search(r'ma{1,2}', \"main\"))\n",
    "print(re.findall(r'ma{1,2}', \"main\"))\n",
    "print()\n",
    "\n",
    "# And more complicated expression\n",
    "print(re.search(r'a{1,2}', \"aabc for an all\"))\n",
    "print(re.findall(r'a{1,2}', \"aabc for an all\"))"
   ]
  },
  {
   "cell_type": "markdown",
   "id": "ede99b99",
   "metadata": {},
   "source": [
    "Consider the more complicated patterns. For example, we can consider pattern [0-9]{2,3} which means 2 or 3 symbols each of which is number from 0 to 9."
   ]
  },
  {
   "cell_type": "code",
   "execution_count": 8,
   "id": "392809ce",
   "metadata": {},
   "outputs": [
    {
     "name": "stdout",
     "output_type": "stream",
     "text": [
      "<re.Match object; span=(19, 21), match='90'>\n",
      "['90', '500', '79']\n",
      "\n",
      "<re.Match object; span=(0, 2), match='12'>\n",
      "['12', '123', '456']\n"
     ]
    }
   ],
   "source": [
    "print(re.search(r'[0-9]{2,3}', \"One of my men have 90 knives, 500 guns and 79 grenades\"))\n",
    "print(re.findall(r'[0-9]{2,3}', \"One of my men have 90 knives, 500 guns and 79 grenades\"))\n",
    "print()\n",
    "\n",
    "\n",
    "# findall() finds all of the occurrences of the pattern in the text\n",
    "print(re.search(r'[0-9]{2,3}', \"12 and 1234567\"))\n",
    "print(re.findall(r'[0-9]{2,3}', \"12 and 1234567\"))"
   ]
  },
  {
   "cell_type": "markdown",
   "id": "37dda98b",
   "metadata": {},
   "source": [
    "{n} matches exactly n repetitions of letter or other pattern in text."
   ]
  },
  {
   "cell_type": "code",
   "execution_count": 12,
   "id": "b281c04d",
   "metadata": {},
   "outputs": [
    {
     "name": "stdout",
     "output_type": "stream",
     "text": [
      "<re.Match object; span=(7, 10), match='123'>\n",
      "['123', '456']\n"
     ]
    }
   ],
   "source": [
    "print(re.search(r'[0-9]{3}', \"12 and 1234567\"))\n",
    "print(re.findall(r'[0-9]{3}', \"12 and 1234567\"))"
   ]
  },
  {
   "cell_type": "markdown",
   "id": "1cdcda16",
   "metadata": {},
   "source": [
    "### Vertical bar ( | )\n",
    "\n",
    "Vertical bar | uses as alternation (logical operator 'or'). For example, regexp of form \"pattern1|pattern2\" matches occurrences pattern1 or pattern2 in the text."
   ]
  },
  {
   "cell_type": "code",
   "execution_count": 13,
   "id": "95c25691",
   "metadata": {},
   "outputs": [
    {
     "name": "stdout",
     "output_type": "stream",
     "text": [
      "['h', 'e', 'f', 'i', 'l', 'm', 'i', 't', 'a', 'n', 'i', 'c', 'w', 'a', 's', 'r', 'e', 'l', 'e', 'a', 's', 'e', 'd', 'i', 'n', '1', '9', '9', '8']\n"
     ]
    }
   ],
   "source": [
    "# And finally this pattern matches numbers or letters of low register in the text  \n",
    "input_str = \"The film Titanic was released in 1998\"\n",
    "pattern = r'[0-9]|[a-z]'\n",
    "\n",
    "result = re.findall(pattern, input_str)\n",
    "print(result)"
   ]
  },
  {
   "cell_type": "markdown",
   "id": "7c2bb645",
   "metadata": {},
   "source": [
    "### Rround brackets ( )\n",
    "\n",
    "This symbol uses for group of some sub-patterns. For example, expression (a|b|c)xz match any string that matches either a or b or c followed by xz."
   ]
  },
  {
   "cell_type": "code",
   "execution_count": 21,
   "id": "91b71135",
   "metadata": {},
   "outputs": [
    {
     "name": "stdout",
     "output_type": "stream",
     "text": [
      "None\n",
      "[]\n",
      "\n",
      "<re.Match object; span=(1, 4), match='bxz'>\n",
      "['b']\n",
      "\n",
      "<re.Match object; span=(0, 3), match='axz'>\n",
      "['a', 'b']\n"
     ]
    }
   ],
   "source": [
    "# Here we are looking for which letter comes before xz - a, b or c\n",
    "# Pattern (a|b|c) describes only one of these letters - only one of these letters stands before xz\n",
    "# Round brackets groups patterns (letters a, b and c) by | symbol\n",
    "\n",
    "print(re.search(r'(a|b|c)xz', \"ab xz\"))\n",
    "print(re.findall(r'(a|b|c)xz', \"ab xz\"))\n",
    "print()\n",
    "\n",
    "print(re.search(r'(a|b|c)xz', \"abxz\"))\n",
    "print(re.findall(r'(a|b|c)xz', \"abxz\"))\n",
    "print()\n",
    "\n",
    "print(re.search(r'(a|b|c)xz', \"axz cabxz\"))\n",
    "print(re.findall(r'(a|b|c)xz', \"axz cabxz\"))"
   ]
  },
  {
   "cell_type": "markdown",
   "id": "cdac774e",
   "metadata": {},
   "source": [
    "Let's talk about difference between ordinary patterns and grouped patterns:"
   ]
  },
  {
   "cell_type": "code",
   "execution_count": 28,
   "id": "1be437d1",
   "metadata": {},
   "outputs": [
    {
     "data": {
      "text/html": [
       "<div>\n",
       "<style scoped>\n",
       "    .dataframe tbody tr th:only-of-type {\n",
       "        vertical-align: middle;\n",
       "    }\n",
       "\n",
       "    .dataframe tbody tr th {\n",
       "        vertical-align: top;\n",
       "    }\n",
       "\n",
       "    .dataframe thead th {\n",
       "        text-align: right;\n",
       "    }\n",
       "</style>\n",
       "<table border=\"1\" class=\"dataframe\">\n",
       "  <thead>\n",
       "    <tr style=\"text-align: right;\">\n",
       "      <th></th>\n",
       "      <th>Regex</th>\n",
       "      <th>Interpretation</th>\n",
       "      <th>Matches</th>\n",
       "    </tr>\n",
       "  </thead>\n",
       "  <tbody>\n",
       "    <tr>\n",
       "      <th>0</th>\n",
       "      <td>bar+</td>\n",
       "      <td>The + metacharacter applies only to the charac...</td>\n",
       "      <td>\"ba\" followed by one or more occurences of \"r\"</td>\n",
       "    </tr>\n",
       "    <tr>\n",
       "      <th>1</th>\n",
       "      <td>(bar)+</td>\n",
       "      <td>The + metacharacter applies to the entire stri...</td>\n",
       "      <td>One or more occurences of \"bar\" in the text</td>\n",
       "    </tr>\n",
       "  </tbody>\n",
       "</table>\n",
       "</div>"
      ],
      "text/plain": [
       "    Regex                                     Interpretation  \\\n",
       "0    bar+  The + metacharacter applies only to the charac...   \n",
       "1  (bar)+  The + metacharacter applies to the entire stri...   \n",
       "\n",
       "                                          Matches  \n",
       "0  \"ba\" followed by one or more occurences of \"r\"  \n",
       "1     One or more occurences of \"bar\" in the text  "
      ]
     },
     "execution_count": 28,
     "metadata": {},
     "output_type": "execute_result"
    }
   ],
   "source": [
    "import pandas as pd\n",
    "\n",
    "tabledata = [\n",
    "         [\"bar+\", 'The + metacharacter applies only to the character \"r\"', '\"ba\" followed by one or more occurences of \"r\"'],\n",
    "             \n",
    "         [\"(bar)+\",'The + metacharacter applies to the entire string \"bar\"' , 'One or more occurences of \"bar\" in the text'],\n",
    "            ]\n",
    "\n",
    "pd.DataFrame(tabledata, columns=[\"Regex\", \"Interpretation\", \"Matches\"])"
   ]
  },
  {
   "cell_type": "markdown",
   "id": "fe99a312",
   "metadata": {},
   "source": [
    "More complicated pattern:\n",
    "\n",
    "The regex (ba[rz]){2,4}(qux)? matches 2 or 4 occurrences of either 'bar' or 'baz', optionally followed by qux (zero or one zero or one occurrences of qux)."
   ]
  },
  {
   "cell_type": "code",
   "execution_count": 45,
   "id": "a7d0cf90",
   "metadata": {},
   "outputs": [
    {
     "name": "stdout",
     "output_type": "stream",
     "text": [
      "<re.Match object; span=(0, 12), match='bazbarbazqux'>\n",
      "[('baz', 'qux')]\n",
      "\n",
      "<re.Match object; span=(0, 6), match='barbar'>\n",
      "[('bar', '')]\n",
      "\n"
     ]
    }
   ],
   "source": [
    "print(re.search(r'(ba[rz]){2,4}(qux)?', \"bazbarbazqux\"))\n",
    "print(re.findall(r'(ba[rz]){2,4}(qux)?', \"bazbarbazqux\"))\n",
    "print()\n",
    "\n",
    "print(re.search(r'(ba[rz]){2,4}(qux)?', \"barbar\"))\n",
    "print(re.findall(r'(ba[rz]){2,4}(qux)?', \"barbar\"))\n",
    "print()"
   ]
  },
  {
   "cell_type": "markdown",
   "id": "e4480c12",
   "metadata": {},
   "source": [
    "Take some notes about how we can return matched string. For this you can use the re.search.group(0) method. It returns either matched text in string format:"
   ]
  },
  {
   "cell_type": "code",
   "execution_count": 48,
   "id": "cc237311",
   "metadata": {},
   "outputs": [
    {
     "name": "stdout",
     "output_type": "stream",
     "text": [
      "<re.Match object; span=(0, 12), match='bazbarbazqux'>\n",
      "bazbarbazqux\n"
     ]
    }
   ],
   "source": [
    "print(re.search(r'(ba[rz]){2,4}(qux)?', \"bazbarbazqux\"))\n",
    "print(re.search(r'(ba[rz]){2,4}(qux)?', \"bazbarbazqux\").group(0))"
   ]
  },
  {
   "cell_type": "markdown",
   "id": "4f40743e",
   "metadata": {},
   "source": [
    "Other groups is empty since you do not have any capturing groups - http://docs.python.org/library/re.html#re.MatchObject.groups. \n",
    "group(0) will always returns the whole text that was matched regardless of if it was captured in a group or not."
   ]
  },
  {
   "cell_type": "markdown",
   "id": "901ad06d",
   "metadata": {},
   "source": [
    "### Backslash ( \\ )\n",
    "\n",
    "This is used to escape various characters including all metacharacters. For example expression '\\ \\\\$a' matches symbol \\\\$ followed by a. Thus here symbol $ is not interrupted by a RegEx engine in a special way."
   ]
  },
  {
   "cell_type": "code",
   "execution_count": 49,
   "id": "4cea4442",
   "metadata": {},
   "outputs": [
    {
     "name": "stdout",
     "output_type": "stream",
     "text": [
      "<re.Match object; span=(1, 3), match='$a'>\n",
      "$a\n"
     ]
    }
   ],
   "source": [
    "print(re.search(r'\\$a', \"b$azbarb$azqux\"))\n",
    "print(re.search(r'\\$a', \"b$azbarb$azqux\").group(0))"
   ]
  },
  {
   "cell_type": "markdown",
   "id": "9774b55c",
   "metadata": {},
   "source": [
    "## Special sequences\n",
    "\n",
    "Special sequences make commonly used patterns easier to write. Let's look at the most popular of these:"
   ]
  },
  {
   "cell_type": "markdown",
   "id": "6adb431e",
   "metadata": {},
   "source": [
    "### \\A\n",
    "\n",
    "Matches if the specified characters are at the start of a string"
   ]
  },
  {
   "cell_type": "code",
   "execution_count": 21,
   "id": "cd89ebdd",
   "metadata": {},
   "outputs": [
    {
     "name": "stdout",
     "output_type": "stream",
     "text": [
      "['the']\n",
      "[]\n"
     ]
    }
   ],
   "source": [
    "print(re.findall(r'\\Athe', 'the telegraph'))\n",
    "print(re.findall(r'\\Athe', 'On the Sun'))"
   ]
  },
  {
   "cell_type": "markdown",
   "id": "3f6f3d08",
   "metadata": {},
   "source": [
    "### \\Z\n",
    "\n",
    "Matches if the specified characters are at the end of the string."
   ]
  },
  {
   "cell_type": "code",
   "execution_count": 44,
   "id": "4fd372ee",
   "metadata": {},
   "outputs": [
    {
     "name": "stdout",
     "output_type": "stream",
     "text": [
      "[]\n",
      "['the']\n"
     ]
    }
   ],
   "source": [
    "print(re.findall(r'the\\Z', 'the telegraph'))\n",
    "print(re.findall(r'the\\Z', 'On the Sun the'))"
   ]
  },
  {
   "cell_type": "markdown",
   "id": "a707be81",
   "metadata": {},
   "source": [
    "### \\b\n",
    "\n",
    "Matches if the specified characters are at the begining or end of a word. Matching carried out by words (between spaces).\n",
    "\n",
    "* \\b(word) - matches at the begin of the word\n",
    "* (word)\\b - matches at the end of the word"
   ]
  },
  {
   "cell_type": "code",
   "execution_count": 17,
   "id": "e09f6812",
   "metadata": {},
   "outputs": [
    {
     "name": "stdout",
     "output_type": "stream",
     "text": [
      "['foo']\n",
      "['foo']\n",
      "[]\n",
      "['foo']\n",
      "['foo']\n",
      "[]\n"
     ]
    }
   ],
   "source": [
    "print(re.findall(r'\\bfoo', 'football'))\n",
    "print(re.findall(r'\\bfoo', 'a football'))\n",
    "print(re.findall(r'\\bfoo', 'afootball'))\n",
    "\n",
    "print(re.findall(r'foo\\b', 'the foo'))\n",
    "print(re.findall(r'foo\\b', 'the afoo test'))\n",
    "print(re.findall(r'foo\\b', 'theafootest'))"
   ]
  },
  {
   "cell_type": "markdown",
   "id": "e446a433",
   "metadata": {},
   "source": [
    "### \\B\n",
    "\n",
    "Matches if the specified characters are not at the begining or end of a word. This operator opposite by \\b."
   ]
  },
  {
   "cell_type": "code",
   "execution_count": 18,
   "id": "5782d9f3",
   "metadata": {
    "scrolled": true
   },
   "outputs": [
    {
     "name": "stdout",
     "output_type": "stream",
     "text": [
      "[]\n",
      "[]\n",
      "['foo']\n",
      "[]\n",
      "[]\n",
      "['foo']\n"
     ]
    }
   ],
   "source": [
    "print(re.findall(r'\\Bfoo', 'football'))\n",
    "print(re.findall(r'\\Bfoo', 'a football'))\n",
    "print(re.findall(r'\\Bfoo', 'afootball'))\n",
    "\n",
    "print(re.findall(r'foo\\B', 'the foo'))\n",
    "print(re.findall(r'foo\\B', 'the afoo test'))\n",
    "print(re.findall(r'foo\\B', 'theafootest'))"
   ]
  },
  {
   "cell_type": "markdown",
   "id": "fb9d9445",
   "metadata": {},
   "source": [
    "### \\d\n",
    "\n",
    "Matches any decimal digit. This special sequence is equivalent of [0-9]."
   ]
  },
  {
   "cell_type": "code",
   "execution_count": 23,
   "id": "3b73d305",
   "metadata": {},
   "outputs": [
    {
     "name": "stdout",
     "output_type": "stream",
     "text": [
      "['7', '8', '1', '2']\n",
      "[]\n"
     ]
    }
   ],
   "source": [
    "print(re.findall(r'\\d', '78cbd12'))\n",
    "print(re.findall(r'\\d', 'cbd'))"
   ]
  },
  {
   "cell_type": "markdown",
   "id": "c6189816",
   "metadata": {},
   "source": [
    "It also may be useful to combine this special sequence with such metacharacters as { } or ( ), or +, or ?"
   ]
  },
  {
   "cell_type": "code",
   "execution_count": 29,
   "id": "8679a011",
   "metadata": {},
   "outputs": [
    {
     "name": "stdout",
     "output_type": "stream",
     "text": [
      "foofoobar\n",
      "foofoobar123\n",
      "foofoo123\n"
     ]
    }
   ],
   "source": [
    "print(re.search(r'(foo(bar)?)+(\\d\\d\\d)?', 'foofoobar').group(0))\n",
    "print(re.search(r'(foo(bar)?)+(\\d\\d\\d)?', 'foofoobar123').group(0))\n",
    "print(re.search(r'(foo(bar)?)+(\\d\\d\\d)?', 'foofoo123').group(0))"
   ]
  },
  {
   "cell_type": "markdown",
   "id": "dc52208d",
   "metadata": {},
   "source": [
    "### \\D\n",
    "\n",
    "Matches any non-digit. This special sequence is opposite to \\d and also is equivalent of [^0-9]."
   ]
  },
  {
   "cell_type": "code",
   "execution_count": 32,
   "id": "97c63b17",
   "metadata": {},
   "outputs": [
    {
     "name": "stdout",
     "output_type": "stream",
     "text": [
      "['c', 'b', 'd']\n",
      "[]\n"
     ]
    }
   ],
   "source": [
    "print(re.findall(r'\\D', '78cbd12'))\n",
    "print(re.findall(r'\\D', '7812'))"
   ]
  },
  {
   "cell_type": "markdown",
   "id": "9b14b6a3",
   "metadata": {},
   "source": [
    "### \\s\n",
    "Matches any whitespace character. Equivalent of [\\t\\n\\r\\f\\v]."
   ]
  },
  {
   "cell_type": "code",
   "execution_count": 38,
   "id": "3ab02c6f",
   "metadata": {},
   "outputs": [
    {
     "name": "stdout",
     "output_type": "stream",
     "text": [
      "[' ', ' ', ' ', ' ', ' ', ' ', ' ', ' ', ' ', ' ', ' ']\n",
      "[]\n"
     ]
    }
   ],
   "source": [
    "print(re.findall(r'\\s', \"Python is   the   best language for text parsing\"))\n",
    "print(re.findall(r'\\s', \"Pythonisthebestlanguagefortextparsing\"))"
   ]
  },
  {
   "cell_type": "markdown",
   "id": "9452289d",
   "metadata": {},
   "source": [
    "### \\S\n",
    "\n",
    "Matches any non-whitespace character. This special sequence is opposite to \\s. Equivalent of [^\\t\\n\\r\\f\\v]."
   ]
  },
  {
   "cell_type": "code",
   "execution_count": 41,
   "id": "00922ec1",
   "metadata": {},
   "outputs": [
    {
     "name": "stdout",
     "output_type": "stream",
     "text": [
      "['a', 'b', 'c']\n",
      "['a', 'b', 'c']\n",
      "[]\n"
     ]
    }
   ],
   "source": [
    "print(re.findall(r'\\S', \"a     b   c\"))\n",
    "print(re.findall(r'\\S', \"abc\"))\n",
    "print(re.findall(r'\\S', \"    \"))"
   ]
  },
  {
   "cell_type": "markdown",
   "id": "a85f52e8",
   "metadata": {},
   "source": [
    "### \\w\n",
    "\n",
    "Matches any alphanumeric character (digits and alphabets). Equivalent of [a-zA-Z0-9]"
   ]
  },
  {
   "cell_type": "code",
   "execution_count": 42,
   "id": "3f637692",
   "metadata": {},
   "outputs": [
    {
     "name": "stdout",
     "output_type": "stream",
     "text": [
      "['1', '2', 'c']\n",
      "[]\n"
     ]
    }
   ],
   "source": [
    "print(re.findall(r'\\w', \"12&:;c\"))\n",
    "print(re.findall(r'\\w', \"#&:;%^&\"))"
   ]
  },
  {
   "cell_type": "markdown",
   "id": "dd5859ee",
   "metadata": {},
   "source": [
    "### \\W\n",
    "\n",
    "Matches any non-alphanumeric character (not digits and not alphabets). Equivalent of [^a-zA-Z0-9]"
   ]
  },
  {
   "cell_type": "code",
   "execution_count": 43,
   "id": "6dae0f52",
   "metadata": {},
   "outputs": [
    {
     "name": "stdout",
     "output_type": "stream",
     "text": [
      "['&', ':', ';']\n",
      "['#', '&', ':', ';', '%', '^', '&']\n"
     ]
    }
   ],
   "source": [
    "print(re.findall(r'\\W', \"12&:;c\"))\n",
    "print(re.findall(r'\\W', \"#&:;%^&\"))"
   ]
  },
  {
   "cell_type": "code",
   "execution_count": null,
   "id": "afcdfd5b",
   "metadata": {},
   "outputs": [],
   "source": []
  },
  {
   "cell_type": "code",
   "execution_count": null,
   "id": "d96ec182",
   "metadata": {},
   "outputs": [],
   "source": []
  },
  {
   "cell_type": "code",
   "execution_count": null,
   "id": "4635c479",
   "metadata": {},
   "outputs": [],
   "source": []
  },
  {
   "cell_type": "markdown",
   "id": "b82a7070",
   "metadata": {},
   "source": [
    "# Collections"
   ]
  },
  {
   "cell_type": "markdown",
   "id": "048e08e8",
   "metadata": {},
   "source": [
    "## Counter"
   ]
  },
  {
   "cell_type": "code",
   "execution_count": 7,
   "id": "6fbc06e2",
   "metadata": {},
   "outputs": [],
   "source": [
    "from collections import Counter"
   ]
  },
  {
   "cell_type": "code",
   "execution_count": 8,
   "id": "929fce4c",
   "metadata": {},
   "outputs": [
    {
     "name": "stdout",
     "output_type": "stream",
     "text": [
      "Counter({' ': 7, 'e': 6, 'n': 3, 'a': 2, 't': 2, 'o': 2, 'r': 2, 'h': 2, 's': 2, 'i': 2, 'c': 2, 'u': 2, 'C': 1, 'I': 1, 'k': 1, 'm': 1, 'd': 1, 'l': 1, 'F': 1, 'b': 1, '?': 1})\n",
      "\n",
      "[(' ', 7), ('e', 6)]\n",
      "\n",
      "['C', 'a', 'a', 'n', 'n', 'n', ' ', ' ', ' ', ' ', ' ', ' ', ' ', 'I', 't', 't', 'k', 'e', 'e', 'e', 'e', 'e', 'e', 'm', 'o', 'o', 'r', 'r', 'h', 'h', 's', 's', 'd', 'l', 'i', 'i', 'c', 'c', 'u', 'u', 'F', 'b', '?']\n"
     ]
    }
   ],
   "source": [
    "# Here you can create some iterable data structure\n",
    "# For example, string\n",
    "\n",
    "string = \"Can I take more these delicious French bun?\"\n",
    "\n",
    "# This counter returns dictionary with keys of items of data structure\n",
    "# and with values of frequency of occurrence these items in data structure\n",
    "my_counter = Counter(string)\n",
    "print(my_counter)\n",
    "print()\n",
    "\n",
    "# You can find N of the most commons elements in datastructure\n",
    "N = 2\n",
    "print(my_counter.most_common(N))\n",
    "print()\n",
    "\n",
    "# You can create list of seperate elements of your data structure\n",
    "print(list(my_counter.elements()))"
   ]
  },
  {
   "cell_type": "markdown",
   "id": "84ea3e08",
   "metadata": {},
   "source": [
    "## Namedtuples"
   ]
  },
  {
   "cell_type": "code",
   "execution_count": 9,
   "id": "6aee3586",
   "metadata": {},
   "outputs": [],
   "source": [
    "from collections import namedtuple"
   ]
  },
  {
   "cell_type": "code",
   "execution_count": 10,
   "id": "eeb28442",
   "metadata": {},
   "outputs": [
    {
     "name": "stdout",
     "output_type": "stream",
     "text": [
      "Point(x=3, y=4)\n",
      "\n",
      "fields:  3 4\n"
     ]
    }
   ],
   "source": [
    "# namedtuple('name_of_class', 'names, of, fields')\n",
    "Point = namedtuple('Point', \"x, y\")\n",
    "# Here we created class Point with fields x and y\n",
    "\n",
    "# And we can use it\n",
    "pt = Point(3, 4)\n",
    "print(pt)\n",
    "print()\n",
    "\n",
    "# Or directly call the fields\n",
    "print('fields: ',  pt.x, pt.y)"
   ]
  },
  {
   "cell_type": "markdown",
   "id": "ddfd5aca",
   "metadata": {},
   "source": [
    "## deque"
   ]
  },
  {
   "cell_type": "code",
   "execution_count": 11,
   "id": "f5b69aca",
   "metadata": {},
   "outputs": [],
   "source": [
    "from collections import deque"
   ]
  },
  {
   "cell_type": "code",
   "execution_count": 12,
   "id": "5be8ae64",
   "metadata": {},
   "outputs": [
    {
     "name": "stdout",
     "output_type": "stream",
     "text": [
      "deque([1, 2, 3, 4]) \n",
      "\n",
      "deque([5, 1, 2, 3, 4]) \n",
      "\n",
      "deque([1, 2, 3]) \n",
      "\n",
      "deque([9, 8, 7, 1, 2, 3, 7, 8, 9]) \n",
      "\n",
      "original deque:  deque([9, 8, 7, 1, 2, 3, 7, 8, 9])\n",
      "deque rotated on 2 positions:  deque([8, 9, 9, 8, 7, 1, 2, 3, 7])\n",
      "deque rotated on 2 positions reverse:  deque([9, 8, 7, 1, 2, 3, 7, 8, 9])\n"
     ]
    }
   ],
   "source": [
    "# deque is data structure which provides remove and add elements at the both sides\n",
    "\n",
    "d = deque()\n",
    "\n",
    "# append from the right side\n",
    "d.append(1)\n",
    "d.append(2)\n",
    "d.append(3)\n",
    "d.append(4)\n",
    "print(d,\"\\n\")\n",
    "\n",
    "# append from the left side\n",
    "d.appendleft(5)\n",
    "print(d, '\\n')\n",
    "\n",
    "# remove elements from the left and from the right\n",
    "d.pop()\n",
    "d.popleft()\n",
    "print(d,\"\\n\")\n",
    "# d.clear() method clean all the deque collection\n",
    "\n",
    "# extension of deque by other iterable collection\n",
    "# from ther right side\n",
    "d.extend([7,8,9])\n",
    "# and from the left side\n",
    "d.extendleft([7,8,9])\n",
    "print(d, \"\\n\")\n",
    "\n",
    "# extend() method works also in the lists\n",
    "\n",
    "# you can rotate all the elements of deque on N positions\n",
    "N = 2\n",
    "print('original deque: ', d)\n",
    "d.rotate(N)\n",
    "print('deque rotated on', N, 'positions: ', d)\n",
    "# N < 0 means revert rotation\n",
    "d.rotate(-N)\n",
    "print('deque rotated on', N, 'positions reverse: ', d)"
   ]
  },
  {
   "cell_type": "markdown",
   "id": "1738fac1",
   "metadata": {},
   "source": [
    "# Iterators and Generators"
   ]
  },
  {
   "cell_type": "markdown",
   "id": "0f569fd9",
   "metadata": {},
   "source": [
    "## Iterators"
   ]
  },
  {
   "cell_type": "markdown",
   "id": "e4ded3e5",
   "metadata": {},
   "source": [
    "Iterator is an object with methods iter() - constructor of class and with method next() - method which provides one step of iteration through iterable collection (strings, lists, dictionaries, e.t.c.).\n",
    "\n",
    "During the declaration iterators gets from iterable collection:"
   ]
  },
  {
   "cell_type": "code",
   "execution_count": 13,
   "id": "a374eb6b",
   "metadata": {},
   "outputs": [
    {
     "name": "stdout",
     "output_type": "stream",
     "text": [
      "our iterator:  <list_iterator object at 0x0000023809408580> \n",
      "\n",
      "1\n",
      "2 \n",
      "\n"
     ]
    }
   ],
   "source": [
    "some_list = [1, 2, 3, 4, 5]\n",
    "\n",
    "# iterator which point on begin of this list\n",
    "some_iter = iter(some_list)\n",
    "print(\"our iterator: \", some_iter, \"\\n\")\n",
    "\n",
    "# step of iteration\n",
    "print(next(some_iter))\n",
    "# and the next one\n",
    "print(next(some_iter), \"\\n\")"
   ]
  },
  {
   "cell_type": "markdown",
   "id": "819280fb",
   "metadata": {},
   "source": [
    "if you will iterate to end of the collection and try to call next() method then you raise StopIteration exception"
   ]
  },
  {
   "cell_type": "markdown",
   "id": "5d13b0a8",
   "metadata": {},
   "source": [
    "## Generators"
   ]
  },
  {
   "cell_type": "markdown",
   "id": "ad3c3e20",
   "metadata": {},
   "source": [
    "Generators provides to create your own iterator function.\n",
    "This function (generator uses as function) uses yield instead of return. But after yield generator function doesn't ends. It runs until body of generator function is finished.\n",
    "\n",
    "Generator is a iterable object but they can only be read once. This is because they do not store values in memory after generation.\n",
    "\n",
    "In another words, generators are used to create an disposable iterable collection."
   ]
  },
  {
   "cell_type": "code",
   "execution_count": 14,
   "id": "41e48928",
   "metadata": {},
   "outputs": [
    {
     "name": "stdout",
     "output_type": "stream",
     "text": [
      "First item\n",
      "10\n",
      "Second item\n",
      "20\n",
      "Last item\n",
      "30\n"
     ]
    }
   ],
   "source": [
    "# yield returns value from generator iterable collection,\n",
    "# push values until they run out\n",
    "\n",
    "# Let's say we have three values followed by a code. \n",
    "# For example, by displaying a message.\n",
    "\n",
    "def myGenerator():\n",
    "    print('First item')\n",
    "    yield 10\n",
    "    \n",
    "    print('Second item')\n",
    "    yield 20\n",
    "    \n",
    "    print('Last item')\n",
    "    yield 30\n",
    "\n",
    "\n",
    "# create iterator on begin of the generator\n",
    "gen = myGenerator()\n",
    "\n",
    "print(next(gen))\n",
    "print(next(gen))\n",
    "print(next(gen))"
   ]
  },
  {
   "cell_type": "markdown",
   "id": "93e1030c",
   "metadata": {},
   "source": [
    "Print function is just example. Before yield we can create any code. For example, we can crate the rules according to which define value which returned by yield. Thus we can create any iterable collections by generators."
   ]
  },
  {
   "cell_type": "code",
   "execution_count": 15,
   "id": "6df10ff0",
   "metadata": {},
   "outputs": [
    {
     "name": "stdout",
     "output_type": "stream",
     "text": [
      "0\n",
      "1\n",
      "2\n",
      "3\n",
      "4 \n",
      "\n"
     ]
    }
   ],
   "source": [
    "def getSequenceUpTo(x):\n",
    "    for i in range(x):\n",
    "        if (i <= x):\n",
    "            yield i\n",
    "        else: break\n",
    "        \n",
    "\n",
    "x = 5\n",
    "\n",
    "# create iterator on begin of iterable collection\n",
    "gen = getSequenceUpTo(x)\n",
    "\n",
    "print(next(gen))\n",
    "print(next(gen))\n",
    "print(next(gen))\n",
    "print(next(gen))\n",
    "print(next(gen), \"\\n\")\n",
    "\n",
    "# or we can use familiar iterator \n",
    "# but code below doesn't work\n",
    "for i in gen:\n",
    "    print(i)\n",
    "\n",
    "# because of generators can only be read once \n",
    "# This is because they do not store values in memory after generation"
   ]
  },
  {
   "cell_type": "code",
   "execution_count": 16,
   "id": "18745d7e",
   "metadata": {},
   "outputs": [
    {
     "name": "stdout",
     "output_type": "stream",
     "text": [
      "0\n",
      "1\n",
      "2\n",
      "3\n",
      "4\n"
     ]
    }
   ],
   "source": [
    "# create a new generator with the same form\n",
    "\n",
    "gen = getSequenceUpTo(x)\n",
    "\n",
    "# and use iterators which automatically creates in cycle\n",
    "\n",
    "for i in gen:\n",
    "    print(i)\n",
    "    \n",
    "# it works!"
   ]
  },
  {
   "cell_type": "markdown",
   "id": "4e3f143f",
   "metadata": {},
   "source": [
    "Another one example of generator - Fibonacci number series before number maximum"
   ]
  },
  {
   "cell_type": "code",
   "execution_count": 17,
   "id": "312d8ae0",
   "metadata": {},
   "outputs": [],
   "source": [
    "def fibonacci(maximum):\n",
    "    a, b = 0, 1\n",
    "    \n",
    "    while a < maximum:\n",
    "        yield a\n",
    "        a, b = b, a + b"
   ]
  },
  {
   "cell_type": "code",
   "execution_count": 18,
   "id": "a72ef736",
   "metadata": {},
   "outputs": [
    {
     "name": "stdout",
     "output_type": "stream",
     "text": [
      "0\n",
      "1\n",
      "1\n",
      "2\n",
      "3\n",
      "5\n",
      "8\n",
      "13\n",
      "21\n",
      "34\n",
      "55\n",
      "89\n",
      "144\n"
     ]
    }
   ],
   "source": [
    "maximum = 150\n",
    "\n",
    "fib = fibonacci(maximum)\n",
    "\n",
    "for i in fib:\n",
    "    print(i)"
   ]
  },
  {
   "cell_type": "markdown",
   "id": "f920633b",
   "metadata": {},
   "source": [
    "# Itertools"
   ]
  },
  {
   "cell_type": "markdown",
   "id": "80e2d1cb",
   "metadata": {},
   "source": [
    "The itertools module has special functions for working with iterables. Would you like to duplicate the generator? Connect two generators in one sequence? Group nested list values in an one row? Apply a map or zip code without creating another list of one?\n",
    "\n",
    "Just add the itertools import."
   ]
  },
  {
   "cell_type": "markdown",
   "id": "d300c35c",
   "metadata": {},
   "source": [
    "## product"
   ]
  },
  {
   "cell_type": "code",
   "execution_count": 19,
   "id": "d529ba71",
   "metadata": {},
   "outputs": [],
   "source": [
    "from itertools import product"
   ]
  },
  {
   "cell_type": "markdown",
   "id": "4010eb52",
   "metadata": {},
   "source": [
    "product returns the generator, which gives \"decart multiplication\" for elements of iterable objects"
   ]
  },
  {
   "cell_type": "code",
   "execution_count": 20,
   "id": "725e2c38",
   "metadata": {},
   "outputs": [
    {
     "name": "stdout",
     "output_type": "stream",
     "text": [
      "For lists: \n",
      "product(a, b) = [(1, 3), (1, 4), (2, 3), (2, 4)]\n",
      "product(a, b, c) = [(1, 3, 5), (1, 3, 6), (1, 4, 5), (1, 4, 6), (2, 3, 5), (2, 3, 6), (2, 4, 5), (2, 4, 6)] \n",
      "\n",
      "For strings: \n",
      "product(a, b) = [('a', 'c'), ('a', 'd'), ('b', 'c'), ('b', 'd')]\n",
      "product(a, b, c) = [('a', 'c', 'e'), ('a', 'c', 'f'), ('a', 'd', 'e'), ('a', 'd', 'f'), ('b', 'c', 'e'), ('b', 'c', 'f'), ('b', 'd', 'e'), ('b', 'd', 'f')] \n",
      "\n",
      "For mix of iterable objects: \n",
      "product(a, b) = [('a', 1), ('a', 2), ('b', 1), ('b', 2)]\n",
      "product(a, b, c) = [('a', 1, 'c'), ('a', 1, 3), ('a', 2, 'c'), ('a', 2, 3), ('b', 1, 'c'), ('b', 1, 3), ('b', 2, 'c'), ('b', 2, 3)] \n",
      "\n",
      "For 2 repeats : \n",
      "product(a, b) = [(1, 3, 1, 3), (1, 3, 1, 4), (1, 3, 2, 3), (1, 3, 2, 4), (1, 4, 1, 3), (1, 4, 1, 4), (1, 4, 2, 3), (1, 4, 2, 4), (2, 3, 1, 3), (2, 3, 1, 4), (2, 3, 2, 3), (2, 3, 2, 4), (2, 4, 1, 3), (2, 4, 1, 4), (2, 4, 2, 3), (2, 4, 2, 4)]\n",
      "product(a, b, c) = [(1, 3, 5, 1, 3, 5), (1, 3, 5, 1, 3, 6), (1, 3, 5, 1, 4, 5), (1, 3, 5, 1, 4, 6), (1, 3, 5, 2, 3, 5), (1, 3, 5, 2, 3, 6), (1, 3, 5, 2, 4, 5), (1, 3, 5, 2, 4, 6), (1, 3, 6, 1, 3, 5), (1, 3, 6, 1, 3, 6), (1, 3, 6, 1, 4, 5), (1, 3, 6, 1, 4, 6), (1, 3, 6, 2, 3, 5), (1, 3, 6, 2, 3, 6), (1, 3, 6, 2, 4, 5), (1, 3, 6, 2, 4, 6), (1, 4, 5, 1, 3, 5), (1, 4, 5, 1, 3, 6), (1, 4, 5, 1, 4, 5), (1, 4, 5, 1, 4, 6), (1, 4, 5, 2, 3, 5), (1, 4, 5, 2, 3, 6), (1, 4, 5, 2, 4, 5), (1, 4, 5, 2, 4, 6), (1, 4, 6, 1, 3, 5), (1, 4, 6, 1, 3, 6), (1, 4, 6, 1, 4, 5), (1, 4, 6, 1, 4, 6), (1, 4, 6, 2, 3, 5), (1, 4, 6, 2, 3, 6), (1, 4, 6, 2, 4, 5), (1, 4, 6, 2, 4, 6), (2, 3, 5, 1, 3, 5), (2, 3, 5, 1, 3, 6), (2, 3, 5, 1, 4, 5), (2, 3, 5, 1, 4, 6), (2, 3, 5, 2, 3, 5), (2, 3, 5, 2, 3, 6), (2, 3, 5, 2, 4, 5), (2, 3, 5, 2, 4, 6), (2, 3, 6, 1, 3, 5), (2, 3, 6, 1, 3, 6), (2, 3, 6, 1, 4, 5), (2, 3, 6, 1, 4, 6), (2, 3, 6, 2, 3, 5), (2, 3, 6, 2, 3, 6), (2, 3, 6, 2, 4, 5), (2, 3, 6, 2, 4, 6), (2, 4, 5, 1, 3, 5), (2, 4, 5, 1, 3, 6), (2, 4, 5, 1, 4, 5), (2, 4, 5, 1, 4, 6), (2, 4, 5, 2, 3, 5), (2, 4, 5, 2, 3, 6), (2, 4, 5, 2, 4, 5), (2, 4, 5, 2, 4, 6), (2, 4, 6, 1, 3, 5), (2, 4, 6, 1, 3, 6), (2, 4, 6, 1, 4, 5), (2, 4, 6, 1, 4, 6), (2, 4, 6, 2, 3, 5), (2, 4, 6, 2, 3, 6), (2, 4, 6, 2, 4, 5), (2, 4, 6, 2, 4, 6)] \n",
      "\n"
     ]
    }
   ],
   "source": [
    "print(\"For lists: \")\n",
    "a = [1, 2]\n",
    "b = [3, 4]\n",
    "c = [5, 6]\n",
    "print(\"product(a, b) =\", list(product(a, b)))\n",
    "print(\"product(a, b, c) =\", list(product(a, b, c)), \"\\n\")\n",
    "\n",
    "print(\"For strings: \")\n",
    "a = \"ab\"\n",
    "b = \"cd\"\n",
    "c = \"ef\"\n",
    "print(\"product(a, b) =\", list(product(a, b)))\n",
    "print(\"product(a, b, c) =\", list(product(a, b, c)), \"\\n\")\n",
    "\n",
    "print(\"For mix of iterable objects: \")\n",
    "a = \"ab\"\n",
    "b = [1, 2]\n",
    "c = (\"c\", 3)\n",
    "print(\"product(a, b) =\", list(product(a, b)))\n",
    "print(\"product(a, b, c) =\", list(product(a, b, c)), \"\\n\")\n",
    "\n",
    "#repeat is amount of repeats. This optional argument uses when it needs to \n",
    "# take multiplication of iterable object on himself\n",
    "\n",
    "N = 2\n",
    "print(\"For\",N ,\"repeats : \")\n",
    "a = [1, 2]\n",
    "b = [3, 4]\n",
    "c = [5, 6]\n",
    "print(\"product(a, b) =\", list(product(a, b, repeat=N)))\n",
    "print(\"product(a, b, c) =\", list(product(a, b, c, repeat=N)), \"\\n\")"
   ]
  },
  {
   "cell_type": "markdown",
   "id": "61a76c1f",
   "metadata": {},
   "source": [
    "## permutations"
   ]
  },
  {
   "cell_type": "code",
   "execution_count": 21,
   "id": "6dc64722",
   "metadata": {},
   "outputs": [],
   "source": [
    "from itertools import permutations"
   ]
  },
  {
   "cell_type": "markdown",
   "id": "df070463",
   "metadata": {},
   "source": [
    "permunations(Iter, N) returns the generator, which gives the all possible permutations of elemetns of Iter of lengh N; Iter - is iterable object\n",
    "\n",
    "Formula of amount of elements: A_{len(Iter)}^{N}"
   ]
  },
  {
   "cell_type": "code",
   "execution_count": 22,
   "id": "5801860b",
   "metadata": {},
   "outputs": [
    {
     "name": "stdout",
     "output_type": "stream",
     "text": [
      "permutations(a, 2) =  [(1, 2), (1, 3), (1, 4), (2, 1), (2, 3), (2, 4), (3, 1), (3, 2), (3, 4), (4, 1), (4, 2), (4, 3)]\n"
     ]
    }
   ],
   "source": [
    "a = [1, 2, 3, 4]\n",
    "N = 2\n",
    "print(f\"permutations(a, {N}) = \", list(permutations(a, N)))"
   ]
  },
  {
   "cell_type": "markdown",
   "id": "42862f31",
   "metadata": {},
   "source": [
    "## combinations "
   ]
  },
  {
   "cell_type": "code",
   "execution_count": 23,
   "id": "53f8dae8",
   "metadata": {},
   "outputs": [],
   "source": [
    "from itertools import combinations"
   ]
  },
  {
   "cell_type": "markdown",
   "id": "5da64f6e",
   "metadata": {},
   "source": [
    "combinations(Iter, N) returns the generator, which gives the all possible combinations (withot repetitions) of elemetns of Iter of lengh N; Iter - is iterable object \n",
    "\n",
    "Formula of amount of elements: C_{len(Iter)}^{N}"
   ]
  },
  {
   "cell_type": "code",
   "execution_count": 24,
   "id": "91085947",
   "metadata": {},
   "outputs": [
    {
     "name": "stdout",
     "output_type": "stream",
     "text": [
      "combinations(a, 2) =  [(1, 2), (1, 3), (1, 4), (2, 3), (2, 4), (3, 4)]\n"
     ]
    }
   ],
   "source": [
    "a = [1, 2, 3, 4]\n",
    "N = 2\n",
    "print(f\"combinations(a, {N}) = \", list(combinations(a, N)))"
   ]
  },
  {
   "cell_type": "code",
   "execution_count": 25,
   "id": "fc91f4fd",
   "metadata": {},
   "outputs": [],
   "source": [
    "from itertools import combinations_with_replacement"
   ]
  },
  {
   "cell_type": "markdown",
   "id": "f9e3aa1b",
   "metadata": {},
   "source": [
    "combinations_with_replacement(Iter, N) returns the generator, which gives the all possible combinations with replacement (combinations with repetitions) of elemetns of Iter of lengh N; Iter - is iterable object \n",
    "\n",
    "Formula of amount of elements: C_{len(Iter) + N - 1}^{N}"
   ]
  },
  {
   "cell_type": "code",
   "execution_count": 26,
   "id": "df514fe2",
   "metadata": {},
   "outputs": [
    {
     "name": "stdout",
     "output_type": "stream",
     "text": [
      "combinations_with_rep(a, 2) =  [(1, 1), (1, 2), (1, 3), (1, 4), (2, 2), (2, 3), (2, 4), (3, 3), (3, 4), (4, 4)]\n"
     ]
    }
   ],
   "source": [
    "a = [1, 2, 3, 4]\n",
    "N = 2\n",
    "print(f\"combinations_with_rep(a, {N}) = \", list(combinations_with_replacement(a, N)))"
   ]
  },
  {
   "cell_type": "markdown",
   "id": "c3e0a823",
   "metadata": {},
   "source": [
    "## accumulate"
   ]
  },
  {
   "cell_type": "code",
   "execution_count": 27,
   "id": "b5047792",
   "metadata": {},
   "outputs": [],
   "source": [
    "from itertools import accumulate"
   ]
  },
  {
   "cell_type": "markdown",
   "id": "5e0b6377",
   "metadata": {},
   "source": [
    "accumulate(Iter) returns the generator, which gives accumulate sum (every follwing object of generator is the sum of all the previous and current elements of initial iterable object) of Iter where Iter - is iterable object"
   ]
  },
  {
   "cell_type": "code",
   "execution_count": 28,
   "id": "644f8186",
   "metadata": {},
   "outputs": [
    {
     "name": "stdout",
     "output_type": "stream",
     "text": [
      "a =  [1, 2, 3, 4]\n",
      "acc =  [1, 3, 6, 10]\n"
     ]
    }
   ],
   "source": [
    "a = [1, 2, 3, 4]\n",
    "acc = accumulate(a)\n",
    "print(\"a = \", a)\n",
    "print(\"acc = \", list(acc))"
   ]
  },
  {
   "cell_type": "markdown",
   "id": "9dd1cf76",
   "metadata": {},
   "source": [
    "But it is possible to define rule of accumulations. In order to do it, the \"operator\" module should be imported.\n",
    "\n",
    "In this module, for example, placed \"mul\" rule which transform accumulate from accumulate sum to accumulate multiplication"
   ]
  },
  {
   "cell_type": "code",
   "execution_count": 29,
   "id": "25b5b51f",
   "metadata": {},
   "outputs": [],
   "source": [
    "from itertools import accumulate\n",
    "import operator"
   ]
  },
  {
   "cell_type": "code",
   "execution_count": 30,
   "id": "60b9f784",
   "metadata": {},
   "outputs": [
    {
     "name": "stdout",
     "output_type": "stream",
     "text": [
      "a =  [1, 2, 3, 4]\n",
      "acc =  [1, 2, 6, 24]\n"
     ]
    }
   ],
   "source": [
    "a = [1, 2, 3, 4]\n",
    "acc = accumulate(a, func=operator.mul)\n",
    "print(\"a = \", a)\n",
    "print(\"acc = \", list(acc))"
   ]
  },
  {
   "cell_type": "markdown",
   "id": "851419cb",
   "metadata": {},
   "source": [
    "## groupby"
   ]
  },
  {
   "cell_type": "markdown",
   "id": "a3609ddb",
   "metadata": {},
   "source": [
    "groupby(Iter, key) returns the generator, which groups elements of Iter in correspond with rule \"key\" function determined"
   ]
  },
  {
   "cell_type": "code",
   "execution_count": 31,
   "id": "57ecff5b",
   "metadata": {},
   "outputs": [],
   "source": [
    "from itertools import groupby"
   ]
  },
  {
   "cell_type": "code",
   "execution_count": 32,
   "id": "2d1a1068",
   "metadata": {},
   "outputs": [
    {
     "name": "stdout",
     "output_type": "stream",
     "text": [
      "True [1, 2]\n",
      "False [3, 4, 5, 6, 7]\n"
     ]
    }
   ],
   "source": [
    "# key function\n",
    "def smaller_than_3(x):\n",
    "    return x < 3\n",
    "\n",
    "a = [1, 2, 3, 4, 5, 6, 7]\n",
    "gb = groupby(a, key=smaller_than_3)\n",
    "\n",
    "# True key have elements which satisfy the \"key\" function rule\n",
    "# False key have elements which not satisfy the \"key\" function rule\n",
    "for key, value in gb:\n",
    "    print(key, list(value))"
   ]
  },
  {
   "cell_type": "markdown",
   "id": "57f57581",
   "metadata": {},
   "source": [
    "# Object serialization\n",
    "\n",
    "Object serialization is the process of converting state of an object into byte stream. This byte stream can further be stored in any file-like object such as a disk file or memory stream. It can also be transmitted via sockets etc.\n",
    "\n",
    "Correspodingly, deserialization is the process of reconstructing the object from the byte stream."
   ]
  },
  {
   "cell_type": "markdown",
   "id": "487a66c0",
   "metadata": {},
   "source": [
    "Python refers to serialization and deserialization by terms pickling and unpickling because of module for these operations in Python named 'pickle'.\n",
    "\n",
    "The pickle module bundled with Python's standard library defines functions for:\n",
    "\n",
    "* Serialization: dump() and dumbs() methods \n",
    "* Deserialization: load() and loads() methods"
   ]
  },
  {
   "cell_type": "markdown",
   "id": "4d918f06",
   "metadata": {},
   "source": [
    "It's important: it can't be considered to be secure to unpickle data from unauthenticated sources!"
   ]
  },
  {
   "cell_type": "code",
   "execution_count": 2,
   "id": "157b2db8",
   "metadata": {},
   "outputs": [],
   "source": [
    "import pickle"
   ]
  },
  {
   "cell_type": "markdown",
   "id": "9ee74ae0",
   "metadata": {},
   "source": [
    "## Serialization (pickling): dump()"
   ]
  },
  {
   "cell_type": "code",
   "execution_count": 4,
   "id": "fa1dfa47",
   "metadata": {},
   "outputs": [],
   "source": [
    "f=open('pickled.txt', 'wb')\n",
    "\n",
    "dct = {'name': \"Alex\", 'age':24, 'gender':'male', 'marks':100}\n",
    "\n",
    "pickle.dump(dct, f)\n",
    "\n",
    "f.close()"
   ]
  },
  {
   "cell_type": "markdown",
   "id": "46252602",
   "metadata": {},
   "source": [
    "When above code is executed, the dictionary object's byte representation will be stored in 'pickled.txt' file. For execution of this operation file must have 'write and binary'('wb') mode enabled."
   ]
  },
  {
   "cell_type": "markdown",
   "id": "a01e3958",
   "metadata": {},
   "source": [
    "## Serialization (pickling): dumps()\n",
    "\n",
    "dumps() method pickles Python data to a bytes string representation without creation file or writing in it."
   ]
  },
  {
   "cell_type": "code",
   "execution_count": 7,
   "id": "94f357d9",
   "metadata": {},
   "outputs": [
    {
     "data": {
      "text/plain": [
       "b'\\x80\\x04\\x955\\x00\\x00\\x00\\x00\\x00\\x00\\x00}\\x94(\\x8c\\x04name\\x94\\x8c\\x04Alex\\x94\\x8c\\x03age\\x94K\\x18\\x8c\\x06gender\\x94\\x8c\\x04male\\x94\\x8c\\x05marks\\x94Kdu.'"
      ]
     },
     "execution_count": 7,
     "metadata": {},
     "output_type": "execute_result"
    }
   ],
   "source": [
    "dct = {'name': \"Alex\", 'age':24, 'gender':'male', 'marks':100}\n",
    "\n",
    "dict_byte_str = pickle.dumps(dct)\n",
    "\n",
    "dict_byte_str"
   ]
  },
  {
   "cell_type": "markdown",
   "id": "4cf48536",
   "metadata": {},
   "source": [
    "## Deserialization (unpickling): loads()\n",
    "\n",
    "loads() method unpickles Python data from string bytes representation to original object."
   ]
  },
  {
   "cell_type": "code",
   "execution_count": 8,
   "id": "63238121",
   "metadata": {},
   "outputs": [
    {
     "data": {
      "text/plain": [
       "{'name': 'Alex', 'age': 24, 'gender': 'male', 'marks': 100}"
      ]
     },
     "execution_count": 8,
     "metadata": {},
     "output_type": "execute_result"
    }
   ],
   "source": [
    "dct = pickle.loads(dict_byte_str)\n",
    "\n",
    "dct"
   ]
  },
  {
   "cell_type": "markdown",
   "id": "7ad0a0e5",
   "metadata": {},
   "source": [
    "## Deserialization (unpickling): load()"
   ]
  },
  {
   "cell_type": "code",
   "execution_count": 6,
   "id": "331d263a",
   "metadata": {},
   "outputs": [
    {
     "name": "stdout",
     "output_type": "stream",
     "text": [
      "{'name': 'Alex', 'age': 24, 'gender': 'male', 'marks': 100}\n"
     ]
    }
   ],
   "source": [
    "f=open('pickled.txt', 'rb')\n",
    "\n",
    "d=pickle.load(f)\n",
    "\n",
    "print(d)\n",
    "\n",
    "f.close()"
   ]
  },
  {
   "cell_type": "markdown",
   "id": "45b40dba",
   "metadata": {},
   "source": [
    "Note that to execution of this operation file must have 'read and binary'('rb') mode enabled.\n",
    "\n",
    "Also note that the dictionsry object doesn't retain order of insertion of keys. Hence the key-value pairs in retrieved dictionary may not be in original order!"
   ]
  },
  {
   "cell_type": "markdown",
   "id": "a2209e36",
   "metadata": {},
   "source": [
    "# Lambda functions"
   ]
  },
  {
   "cell_type": "markdown",
   "id": "e1decbd2",
   "metadata": {},
   "source": [
    "Functions of the form \"lambda arguments: expression\" named as lambda functions or also called anonymous functions. Is the short entry (in one string) of the standard functions. They are only useful when a one-time function is needed - in this case creation of standard function take the extra place in your code."
   ]
  },
  {
   "cell_type": "code",
   "execution_count": 33,
   "id": "c084b573",
   "metadata": {},
   "outputs": [
    {
     "name": "stdout",
     "output_type": "stream",
     "text": [
      "f1 =  25 \n",
      "\n",
      "f2 =  11 \n",
      "\n",
      "f3 =  True \n",
      "\n"
     ]
    }
   ],
   "source": [
    "# lambda with one argument\n",
    "f1 = lambda x: x*x\n",
    "print(\"f1 = \", f1(5), \"\\n\")\n",
    "\n",
    "# lambda with two arguments\n",
    "f2 = lambda x, y: x+y\n",
    "print(\"f2 = \", f2(5, 6), \"\\n\")\n",
    "\n",
    "# lambda without any argument\n",
    "f3 = lambda: True\n",
    "print(\"f3 = \", f3(), \"\\n\")"
   ]
  },
  {
   "cell_type": "markdown",
   "id": "b6786ca0",
   "metadata": {},
   "source": [
    "Lambdas often uses as \"key\" function in filter(), map(), sort() and sorted()"
   ]
  },
  {
   "cell_type": "markdown",
   "id": "a86fa5a2",
   "metadata": {},
   "source": [
    "## lambda in sorted()"
   ]
  },
  {
   "cell_type": "markdown",
   "id": "ec87b9fa",
   "metadata": {},
   "source": [
    "Method sorted() in Python sorts, for example, list of the tuples by the first item in every typle of the list (by x-axis). Lamba may be create rule according to which sorted() will be sort such collection by second item in every typle of the list (by y-axis). Or it may creates some other custom rules for sorted()."
   ]
  },
  {
   "cell_type": "code",
   "execution_count": 34,
   "id": "a2b8caef",
   "metadata": {},
   "outputs": [
    {
     "name": "stdout",
     "output_type": "stream",
     "text": [
      "Initial collection:  [(1, 4), (-2, 5), (6, -3), (4, 12), (11, 2)]\n",
      "Sorted by y-axis:  [(6, -3), (11, 2), (1, 4), (-2, 5), (4, 12)]\n",
      "Sorted according to sums the typles elements:  [(-2, 5), (6, -3), (1, 4), (11, 2), (4, 12)]\n"
     ]
    }
   ],
   "source": [
    "points_2D = [(1, 4), (-2, 5), (6, -3), (4, 12), (11, 2)]\n",
    "points_2D_sorted = sorted(points_2D, key=lambda x: x[1])\n",
    "points_2D_sorted_sum = sorted(points_2D, key=lambda x: x[1] + x[0])\n",
    "\n",
    "print(\"Initial collection: \",points_2D)\n",
    "print(\"Sorted by y-axis: \", points_2D_sorted)\n",
    "print(\"Sorted according to sums the typles elements: \", points_2D_sorted_sum)"
   ]
  },
  {
   "cell_type": "markdown",
   "id": "ac4044e4",
   "metadata": {},
   "source": [
    "## lambda in map()"
   ]
  },
  {
   "cell_type": "code",
   "execution_count": 35,
   "id": "2bcc1ea8",
   "metadata": {},
   "outputs": [
    {
     "name": "stdout",
     "output_type": "stream",
     "text": [
      "Initial list:  [1, 2, 5, 3, 5, 7]\n",
      "Maped list:  [3, 6, 15, 9, 15, 21]\n",
      "List generator:  [3, 6, 15, 9, 15, 21]\n"
     ]
    }
   ],
   "source": [
    "a = [1, 2, 5, 3, 5, 7]\n",
    "b = map(lambda x: x*3, a)\n",
    "print(\"Initial list: \", a)\n",
    "print(\"Maped list: \", list(b))\n",
    "\n",
    "# You actually also use lambda in trivial List comprehension or list generator (implisit use - without lambda key word):\n",
    "\n",
    "print(\"List generator: \", [x*3 for x in a])"
   ]
  },
  {
   "cell_type": "markdown",
   "id": "e815e772",
   "metadata": {},
   "source": [
    "## lambda in filter()"
   ]
  },
  {
   "cell_type": "code",
   "execution_count": 36,
   "id": "a8c54334",
   "metadata": {},
   "outputs": [
    {
     "name": "stdout",
     "output_type": "stream",
     "text": [
      "Initial list:  [1, 2, 5, 3, 6, 22, 5, 7]\n",
      "Filtered list:  [2, 6, 22]\n",
      "Implisit filter in list:  [2, 6, 22]\n"
     ]
    }
   ],
   "source": [
    "a = [1, 2, 5, 3, 6, 22, 5, 7]\n",
    "b = filter(lambda x: x%2 == 0, a)\n",
    "\n",
    "print(\"Initial list: \", a)\n",
    "print(\"Filtered list: \", list(b))\n",
    "\n",
    "# Filtered list it is the same thing what a following code:\n",
    "\n",
    "print(\"Implisit filter in list: \", [x for x in a if x%2 == 0])"
   ]
  },
  {
   "cell_type": "markdown",
   "id": "daba55d6",
   "metadata": {},
   "source": [
    "# Function arguments"
   ]
  },
  {
   "cell_type": "markdown",
   "id": "504e111c",
   "metadata": {},
   "source": [
    "Let's talk about arguments of function in details."
   ]
  },
  {
   "cell_type": "markdown",
   "id": "1145b5bd",
   "metadata": {},
   "source": [
    "## The difference between arguments and parameters"
   ]
  },
  {
   "cell_type": "code",
   "execution_count": 51,
   "id": "ede04246",
   "metadata": {},
   "outputs": [
    {
     "name": "stdout",
     "output_type": "stream",
     "text": [
      "Hello, Alex\n"
     ]
    }
   ],
   "source": [
    "def say_hello(name):\n",
    "    print(f'Hello, {name}')\n",
    "\n",
    "say_hello('Alex')\n",
    "\n",
    "# name - is the parameter, 'Alex' is the argument"
   ]
  },
  {
   "cell_type": "markdown",
   "id": "e8ec22ff",
   "metadata": {},
   "source": [
    "## Positional and keyword arguments"
   ]
  },
  {
   "cell_type": "code",
   "execution_count": 55,
   "id": "6b3c92a2",
   "metadata": {},
   "outputs": [
    {
     "name": "stdout",
     "output_type": "stream",
     "text": [
      "1 2 3\n",
      "1 2 3\n",
      "1 2 3\n"
     ]
    }
   ],
   "source": [
    "def things(a, b, c):\n",
    "    print(a, b, c)\n",
    "# We can use the positional (standing in his certain positions) arguments 1, 2, 3\n",
    "things(1, 2, 3)\n",
    "\n",
    "# or we can use keyword (with direct equalization arguments to parameters, order is not important) arguments 1, 2, 3\n",
    "things(b=2, a=1, c=3)\n",
    "\n",
    "# Or we can use the mix of both types of arguments. But positional arguments always stands first\n",
    "things(1, c=3, b=2)\n",
    "\n",
    "# And we receive the same result of all of this declarations:"
   ]
  },
  {
   "cell_type": "markdown",
   "id": "2344f928",
   "metadata": {},
   "source": [
    "## Default arguments"
   ]
  },
  {
   "cell_type": "code",
   "execution_count": 57,
   "id": "ce407b6e",
   "metadata": {},
   "outputs": [
    {
     "name": "stdout",
     "output_type": "stream",
     "text": [
      "1 2 3 4\n"
     ]
    }
   ],
   "source": [
    "# Default arguments is the arguments, which passed to the function by default (in declaration of function)\n",
    "# Default arguments stands last\n",
    "\n",
    "\n",
    "def things(a, b, c, d=4):\n",
    "    print(a, b, c, d)\n",
    "\n",
    "things(1, 2, 3)"
   ]
  },
  {
   "cell_type": "markdown",
   "id": "5918cc55",
   "metadata": {},
   "source": [
    "## Variable-length arhuments (*args and **kwargs)"
   ]
  },
  {
   "cell_type": "code",
   "execution_count": 59,
   "id": "5a470f34",
   "metadata": {},
   "outputs": [
    {
     "name": "stdout",
     "output_type": "stream",
     "text": [
      "2 3\n",
      "4\n",
      "5\n",
      "6\n",
      "seven 7\n",
      "eight 8\n",
      "nine 9\n",
      "ten 10\n"
     ]
    }
   ],
   "source": [
    "# *args means any number of positional parameters of function\n",
    "# args is the tuple\n",
    "\n",
    "# **kwargs means any number of keyword of functional parameters of function\n",
    "# kwargs is the dictionary\n",
    "\n",
    "def things(a, b, *args, **kwargs):\n",
    "    print(a, b)\n",
    "    for arg in args:\n",
    "        print(arg)\n",
    "    for key in kwargs:\n",
    "        print(key, kwargs[key])\n",
    "        \n",
    "things(2, 3, 4, 5, 6, seven=7, eight=8, nine=9, ten=10)"
   ]
  },
  {
   "cell_type": "markdown",
   "id": "42674a68",
   "metadata": {},
   "source": [
    "Keywords arguments always stands after positional arguments. End of list of positional arguments may be daclared by * sign in parameters list."
   ]
  },
  {
   "cell_type": "code",
   "execution_count": 60,
   "id": "897477a3",
   "metadata": {},
   "outputs": [
    {
     "name": "stdout",
     "output_type": "stream",
     "text": [
      "2 3 4 5\n"
     ]
    }
   ],
   "source": [
    "def things(a, b, *, c, d):\n",
    "    print(a, b, c, d)\n",
    "\n",
    "# All the parameters after * must be keywords parameters    \n",
    "things(2, 3, c=4, d=5)"
   ]
  },
  {
   "cell_type": "markdown",
   "id": "adcdfbec",
   "metadata": {},
   "source": [
    "Or list of the all the positional arguments may be stands first, and after that particular keywords arguments stands."
   ]
  },
  {
   "cell_type": "code",
   "execution_count": 64,
   "id": "7b8d0e79",
   "metadata": {},
   "outputs": [
    {
     "name": "stdout",
     "output_type": "stream",
     "text": [
      "2\n",
      "3\n",
      "4\n",
      "5\n",
      "6\n",
      "7 8\n"
     ]
    }
   ],
   "source": [
    "def things(*args, b, c):\n",
    "    for arg in args:\n",
    "        print(arg)\n",
    "    print(b, c)\n",
    "        \n",
    "things(2, 3, 4, 5, 6, b=7, c=8)"
   ]
  },
  {
   "cell_type": "markdown",
   "id": "948b53a8",
   "metadata": {},
   "source": [
    "## Container unpacking into function arguments"
   ]
  },
  {
   "cell_type": "markdown",
   "id": "d5b598f1",
   "metadata": {},
   "source": [
    "You can pass arguments to a function from some container."
   ]
  },
  {
   "cell_type": "code",
   "execution_count": 86,
   "id": "e1f42625",
   "metadata": {},
   "outputs": [
    {
     "name": "stdout",
     "output_type": "stream",
     "text": [
      "foo_args(*lst):\n",
      "0\n",
      "1\n",
      "2\n",
      "3\n",
      "\n",
      "foo_args(*tpl):\n",
      "0\n",
      "1\n",
      "2\n",
      "3\n",
      "\n",
      "foo_kwargs(**dct):\n",
      "a 4\n",
      "b 5\n",
      "d 6\n",
      "\n",
      "foo(*tpl, **dct):\n",
      "0\n",
      "1\n",
      "2\n",
      "3\n",
      "a 4\n",
      "b 5\n",
      "d 6\n"
     ]
    }
   ],
   "source": [
    "# If you consider positional arguments, then you must use list or tuple\n",
    "\n",
    "def foo_args(*args):\n",
    "    for arg in args:\n",
    "        print(arg)\n",
    "\n",
    "print(\"foo_args(*lst):\")\n",
    "lst = [0, 1, 2, 3]\n",
    "foo_args(*lst)\n",
    "print()\n",
    "print(\"foo_args(*tpl):\")\n",
    "tpl = (0, 1, 2, 3)\n",
    "foo_args(*tpl)\n",
    "print()\n",
    "\n",
    "# If you consider keyword arguments, then you must use dictionary\n",
    "\n",
    "def foo_kwargs(**kwargs):\n",
    "    for key in kwargs:\n",
    "        print(key, kwargs[key])\n",
    "\n",
    "dct = {'a':4, 'b':5, 'd':6}\n",
    "print(\"foo_kwargs(**dct):\")\n",
    "foo_kwargs(**dct)\n",
    "print()\n",
    "\n",
    "# If you consider mix of arguments type, you should use list/tuple and dictionsry together\n",
    "\n",
    "def foo(*args, **kwargs):\n",
    "    for arg in args:\n",
    "        print(arg)\n",
    "    for key in kwargs:\n",
    "        print(key, kwargs[key])\n",
    "\n",
    "print('foo(*tpl, **dct):')\n",
    "foo(*tpl, **dct)"
   ]
  },
  {
   "cell_type": "markdown",
   "id": "47c312f7",
   "metadata": {},
   "source": [
    "Also your arguments may be directly define in function declaration"
   ]
  },
  {
   "cell_type": "code",
   "execution_count": 89,
   "id": "345d07a3",
   "metadata": {},
   "outputs": [
    {
     "name": "stdout",
     "output_type": "stream",
     "text": [
      "foo_args(*lst):\n",
      "0 1 2 3\n",
      "\n",
      "foo_args(*tpl):\n",
      "0 1 2 3\n",
      "\n",
      "foo_kwargs(**dct):\n",
      "4 5 6\n",
      "\n",
      "foo_args(*tpl):\n",
      "0 1 2 3\n",
      "4 5 6\n"
     ]
    }
   ],
   "source": [
    "# If you consider positional arguments, then you must use list or tuple\n",
    "\n",
    "def foo_args(a, b, c, d):\n",
    "    print(a, b, c, d)\n",
    "\n",
    "lst = [0, 1, 2, 3]\n",
    "print(\"foo_args(*lst):\")\n",
    "foo_args(*lst)\n",
    "print()\n",
    "tpl = (0, 1, 2, 3)\n",
    "print(\"foo_args(*tpl):\")\n",
    "foo_args(*tpl)\n",
    "print()\n",
    "\n",
    "# If you consider keyword arguments, then you must use dictionary\n",
    "\n",
    "def foo_kwargs(a, b, c):\n",
    "    print(a, b, c)\n",
    "\n",
    "dct = {'a':4, 'b':5, 'c':6}\n",
    "\n",
    "print(\"foo_kwargs(**dct):\")\n",
    "foo_kwargs(**dct)\n",
    "print()\n",
    "\n",
    "# If you consider mix of arguments type, you should use list/tuple and dictionsry together\n",
    "\n",
    "def foo(a, b, c, d,*, e, f, g):\n",
    "    print(a, b, c, d)\n",
    "    print(e, f, g)\n",
    "    \n",
    "dct_1 = {'e':4, 'f':5, 'g':6}\n",
    "print(\"foo_args(*tpl):\")\n",
    "foo(*tpl, **dct_1)"
   ]
  },
  {
   "cell_type": "markdown",
   "id": "c14172f3",
   "metadata": {},
   "source": [
    "# Closures in Python\n",
    "\n",
    "Like nested loops, we can also nest functions. That said, Python gives us the power to define functions within functions.\n",
    "\n",
    "Python Closures are these inner functions that are enclosed within the outer function. Closures can access variables present in the outer function scope. It can access these variables even after the outer function has completed its execution.\n",
    "\n",
    "In difference to using simple nested functions, where inner function can be used in utility purposes, closures is construction where outer function directly returns the inner function and inner function not executed in outer function:"
   ]
  },
  {
   "cell_type": "code",
   "execution_count": 11,
   "id": "bd7b4713",
   "metadata": {},
   "outputs": [
    {
     "name": "stdout",
     "output_type": "stream",
     "text": [
      "Hello!\n"
     ]
    }
   ],
   "source": [
    "# Simple nesded function using:\n",
    "\n",
    "def text_output(text):\n",
    "    text=text\n",
    "    \n",
    "    # Nested function has access to local variables in outer \n",
    "    # function scope even without direct using such variable as \n",
    "    # function parameter of inner function\n",
    "    def printing():\n",
    "        print(text)\n",
    "        \n",
    "    printing()\n",
    "\n",
    "text_output('Hello!')"
   ]
  },
  {
   "cell_type": "code",
   "execution_count": 12,
   "id": "f5c60699",
   "metadata": {},
   "outputs": [
    {
     "name": "stdout",
     "output_type": "stream",
     "text": [
      "Hello!\n"
     ]
    }
   ],
   "source": [
    "# Closures\n",
    "\n",
    "# Simple nesded function using:\n",
    "\n",
    "def text_output(text):\n",
    "    text=text\n",
    "    \n",
    "    # Nested function in closures also has access to local \n",
    "    # variables in outer function scope even without direct using \n",
    "    # such variable as function parameter of inner function\n",
    "    def printing():\n",
    "        print(text)\n",
    "        \n",
    "    return printing\n",
    "\n",
    "text_print = text_output('Hello!')\n",
    "text_print()"
   ]
  },
  {
   "cell_type": "markdown",
   "id": "5058a113",
   "metadata": {},
   "source": [
    "Let's consider more complicated example:"
   ]
  },
  {
   "cell_type": "code",
   "execution_count": 14,
   "id": "92caa5bf",
   "metadata": {},
   "outputs": [
    {
     "name": "stdout",
     "output_type": "stream",
     "text": [
      "7\n",
      "-1\n"
     ]
    }
   ],
   "source": [
    "# Function for calculation which takes as parameter function\n",
    "# with directive about actions \n",
    "\n",
    "def calc(func):\n",
    "    \n",
    "    def math_op(*args):\n",
    "        print(func(*args))\n",
    "    return math_op\n",
    "\n",
    "def add(x, y):\n",
    "    return x + y\n",
    "def sub(x, y):\n",
    "    return x - y\n",
    "\n",
    "add_func = calc(add)\n",
    "sub_func = calc(sub)\n",
    "\n",
    "add_func(3, 4)\n",
    "sub_func(3, 4)"
   ]
  },
  {
   "cell_type": "markdown",
   "id": "69baacd8",
   "metadata": {},
   "source": [
    "# Decorators"
   ]
  },
  {
   "cell_type": "markdown",
   "id": "28cca3a8",
   "metadata": {},
   "source": [
    "Decorator itself is a design pattern which is that creates some construction, which extend functionality of some function. Decorator takes function, extend its functionality and returns result. In most cases decorator is the outer function where decorated function is nested function in relation to decorator. But it also may be the outer class where decorated class is nested.\n",
    "\n",
    "Decorator may be as function or class, it also may takes some arguments or takes no one arguments."
   ]
  },
  {
   "cell_type": "markdown",
   "id": "78190d28",
   "metadata": {},
   "source": [
    "## Decorator as a design pattern "
   ]
  },
  {
   "cell_type": "markdown",
   "id": "60bef2c4",
   "metadata": {},
   "source": [
    "For example creates some decorator without Python methods - as design pattern itself"
   ]
  },
  {
   "cell_type": "markdown",
   "id": "b662edb9",
   "metadata": {},
   "source": [
    "### Decorator without arguments"
   ]
  },
  {
   "cell_type": "code",
   "execution_count": 37,
   "id": "2d4a069a",
   "metadata": {},
   "outputs": [
    {
     "name": "stdout",
     "output_type": "stream",
     "text": [
      "Before execution\n",
      "Alex\n",
      "After execution\n"
     ]
    }
   ],
   "source": [
    "# decorator function - function which will extend functionality of func() function \n",
    "def start_end_decorator(func):\n",
    "    \n",
    "    # wrapper is the function which extend the func() functionality\n",
    "    def wrapper():\n",
    "        print('Before execution')\n",
    "        func()\n",
    "        print('After execution')\n",
    "    return wrapper\n",
    "    \n",
    "    \n",
    "# Function which we want to extend\n",
    "def print_name():\n",
    "    print('Alex')\n",
    "\n",
    "# In order to use decorator:\n",
    "print_name = start_end_decorator(print_name)\n",
    "print_name()"
   ]
  },
  {
   "cell_type": "markdown",
   "id": "ab5bec96",
   "metadata": {},
   "source": [
    "In Python methods you can do the same by using @ sign:"
   ]
  },
  {
   "cell_type": "code",
   "execution_count": 38,
   "id": "3f2244bf",
   "metadata": {},
   "outputs": [
    {
     "name": "stdout",
     "output_type": "stream",
     "text": [
      "Before execution\n",
      "Alex\n",
      "After execution\n"
     ]
    }
   ],
   "source": [
    "# decorator function - function which will extend functionality of func() function \n",
    "def start_end_decorator(func):\n",
    "    \n",
    "    # wrapper is the function which extend the func() functionality\n",
    "    def wrapper():\n",
    "        print('Before execution')\n",
    "        func()\n",
    "        print('After execution')\n",
    "    return wrapper\n",
    "    \n",
    "    \n",
    "# Function which we want to extend\n",
    "# In order to use decorator:\n",
    "@start_end_decorator\n",
    "def print_name():\n",
    "    print('Alex')\n",
    "\n",
    "print_name()"
   ]
  },
  {
   "cell_type": "markdown",
   "id": "e8b88798",
   "metadata": {},
   "source": [
    "### Decorator with arguments"
   ]
  },
  {
   "cell_type": "code",
   "execution_count": 39,
   "id": "b85ecc53",
   "metadata": {},
   "outputs": [
    {
     "name": "stdout",
     "output_type": "stream",
     "text": [
      "Before execution\n",
      "After execution\n",
      "8\n"
     ]
    }
   ],
   "source": [
    "# decorator function - function which will extend functionality of func() function \n",
    "def start_end_decorator(func):\n",
    "    \n",
    "    # wrapper is the function which extend the func() functionality\n",
    "    def wrapper(*args, **kwargs):\n",
    "        print('Before execution')\n",
    "        result = func(*args, **kwargs)\n",
    "        print('After execution')\n",
    "        return result\n",
    "    return wrapper\n",
    "    \n",
    "    \n",
    "# Function which we want to extend\n",
    "# In order to use decorator:\n",
    "@start_end_decorator\n",
    "def plus_5(x):\n",
    "    return x + 5\n",
    "\n",
    "print(plus_5(3))"
   ]
  },
  {
   "cell_type": "markdown",
   "id": "75fb7622",
   "metadata": {},
   "source": [
    "But arguments in decorator can be more complicated"
   ]
  },
  {
   "cell_type": "code",
   "execution_count": 40,
   "id": "42e1364f",
   "metadata": {},
   "outputs": [
    {
     "name": "stdout",
     "output_type": "stream",
     "text": [
      "Hello, Alex\n",
      "Hello, Alex\n",
      "Hello, Alex\n"
     ]
    }
   ],
   "source": [
    "import functools\n",
    "\n",
    "def repeat(num_times):\n",
    "    def decorator_repeat(func):\n",
    "        \n",
    "        @functools.wraps(func)\n",
    "        def wrapper(*args, **kwargs):\n",
    "            for _ in range(num_times):\n",
    "                result = func(*args, **kwargs)\n",
    "            return result\n",
    "        return wrapper\n",
    "    return decorator_repeat\n",
    "\n",
    "N = 3\n",
    "@repeat(num_times = N)\n",
    "def greet(name):\n",
    "    print(f'Hello, {name}')\n",
    "\n",
    "greet('Alex')"
   ]
  },
  {
   "cell_type": "markdown",
   "id": "11567aa4",
   "metadata": {},
   "source": [
    "## Preserving of data of initial function"
   ]
  },
  {
   "cell_type": "markdown",
   "id": "66d180e9",
   "metadata": {},
   "source": [
    "If you take the decorator from previous point and execute 'help method' to initial function, you will see that instead of information about initial function shows information about decorator function."
   ]
  },
  {
   "cell_type": "code",
   "execution_count": 41,
   "id": "98e0ee88",
   "metadata": {},
   "outputs": [
    {
     "name": "stdout",
     "output_type": "stream",
     "text": [
      "Help on function wrapper in module __main__:\n",
      "\n",
      "wrapper(*args, **kwargs)\n",
      "    # wrapper is the function which extend the func() functionality\n",
      "\n",
      "None\n",
      "wrapper\n"
     ]
    }
   ],
   "source": [
    "# decorator function - function which will extend functionality of func() function \n",
    "def start_end_decorator(func):\n",
    "    \n",
    "    # wrapper is the function which extend the func() functionality\n",
    "    def wrapper(*args, **kwargs):\n",
    "        print('Before execution')\n",
    "        result = func(*args, **kwargs)\n",
    "        print('After execution')\n",
    "        return result\n",
    "    return wrapper\n",
    "    \n",
    "    \n",
    "# Function which we want to extend\n",
    "# In order to use decorator:\n",
    "@start_end_decorator\n",
    "def plus_5(x):\n",
    "    return x + 5\n",
    "\n",
    "print(help(plus_5))\n",
    "print(plus_5.__name__)"
   ]
  },
  {
   "cell_type": "markdown",
   "id": "bc7f5802",
   "metadata": {},
   "source": [
    "To fix this and preserve information about initial function you should import 'functools' module and use @functools.wrapps:"
   ]
  },
  {
   "cell_type": "code",
   "execution_count": 42,
   "id": "d671dfd9",
   "metadata": {},
   "outputs": [],
   "source": [
    "import functools"
   ]
  },
  {
   "cell_type": "code",
   "execution_count": 43,
   "id": "4c191a17",
   "metadata": {},
   "outputs": [
    {
     "name": "stdout",
     "output_type": "stream",
     "text": [
      "Help on function plus_5 in module __main__:\n",
      "\n",
      "plus_5(x)\n",
      "    # wrapper is the function which extend the func() functionality\n",
      "\n",
      "None\n",
      "plus_5\n"
     ]
    }
   ],
   "source": [
    "# decorator function - function which will extend functionality of func() function \n",
    "def start_end_decorator(func):\n",
    "    \n",
    "    # wrapper is the function which extend the func() functionality\n",
    "    @functools.wraps(func)\n",
    "    def wrapper(*args, **kwargs):\n",
    "        print('Before execution')\n",
    "        result = func(*args, **kwargs)\n",
    "        print('After execution')\n",
    "        return result\n",
    "    return wrapper\n",
    "    \n",
    "    \n",
    "# Function which we want to extend\n",
    "# In order to use decorator:\n",
    "@start_end_decorator\n",
    "def plus_5(x):\n",
    "    return x + 5\n",
    "\n",
    "print(help(plus_5))\n",
    "print(plus_5.__name__)"
   ]
  },
  {
   "cell_type": "markdown",
   "id": "134576de",
   "metadata": {},
   "source": [
    "## Template for decorator"
   ]
  },
  {
   "cell_type": "markdown",
   "id": "323150b2",
   "metadata": {},
   "source": [
    "Based on previous point, template for a nice decorators can be created."
   ]
  },
  {
   "cell_type": "code",
   "execution_count": 44,
   "id": "e31e6743",
   "metadata": {},
   "outputs": [],
   "source": [
    "# Decoratir with arguments\n",
    "def my_decorator_args(func):\n",
    "    \n",
    "    # wrapper is the function which extend the func() functionality\n",
    "    @functools.wraps(func)\n",
    "    def wrapper(*args, **kwargs):\n",
    "        # Do something before execution\n",
    "        result = func(*args, **kwargs)\n",
    "        # Do something after execution\n",
    "        return result\n",
    "    return wrapper\n",
    "\n",
    "\n",
    "# Decorator without arguments\n",
    "def my_decorator_no_args(func):\n",
    "    \n",
    "    # wrapper is the function which extend the func() functionality\n",
    "    @functools.wraps(func)\n",
    "    def wrapper():\n",
    "        # Do something before execution\n",
    "        func()\n",
    "        # Do something after execution\n",
    "        return result\n",
    "    return wrapper"
   ]
  },
  {
   "cell_type": "markdown",
   "id": "c5507ff0",
   "metadata": {},
   "source": [
    "## Nested decorators"
   ]
  },
  {
   "cell_type": "markdown",
   "id": "45313b15",
   "metadata": {},
   "source": [
    "You also can stack your decorators. They will executed in declaration order."
   ]
  },
  {
   "cell_type": "code",
   "execution_count": 45,
   "id": "22f12a55",
   "metadata": {},
   "outputs": [
    {
     "name": "stdout",
     "output_type": "stream",
     "text": [
      "Calling say_hello('Alex')\n",
      "Before execution\n",
      "Hello, Alex!\n",
      "After execution\n",
      "'say_hello' returned 'Hello, Alex!'\n"
     ]
    },
    {
     "data": {
      "text/plain": [
       "'Hello, Alex!'"
      ]
     },
     "execution_count": 45,
     "metadata": {},
     "output_type": "execute_result"
    }
   ],
   "source": [
    "def debug(func):\n",
    "    @functools.wraps(func)\n",
    "    def wrapper(*args, **kwargs):\n",
    "        args_repr = [repr(a) for a in args]\n",
    "        kwargs_repr = [f'{k} = {v!r}' for k, v in kwargs.items()]\n",
    "        signature = ', '.join(args_repr + kwargs_repr)\n",
    "        print(f\"Calling {func.__name__}({signature})\")\n",
    "        result= func(*args, **kwargs)\n",
    "        print(f'{func.__name__!r} returned {result!r}')\n",
    "        return result\n",
    "    return wrapper\n",
    "\n",
    "\n",
    "\n",
    "def start_end_decorator(func):\n",
    "    \n",
    "    # wrapper is the function which extend the func() functionality\n",
    "    @functools.wraps(func)\n",
    "    def wrapper(*args, **kwargs):\n",
    "        print('Before execution')\n",
    "        result = func(*args, **kwargs)\n",
    "        print('After execution')\n",
    "        return result\n",
    "    return wrapper\n",
    "\n",
    "\n",
    "@debug\n",
    "@start_end_decorator\n",
    "def say_hello(name):\n",
    "    greeting = f'Hello, {name}!'\n",
    "    print(greeting)\n",
    "    return greeting\n",
    "\n",
    "say_hello('Alex')\n",
    "# As you can see, decorators executed in declaration order."
   ]
  },
  {
   "cell_type": "markdown",
   "id": "a4160015",
   "metadata": {},
   "source": [
    "## Class decorator"
   ]
  },
  {
   "cell_type": "markdown",
   "id": "094b11aa",
   "metadata": {},
   "source": [
    "Finally, decorator may be a class with its own features"
   ]
  },
  {
   "cell_type": "code",
   "execution_count": 50,
   "id": "519508b1",
   "metadata": {},
   "outputs": [
    {
     "name": "stdout",
     "output_type": "stream",
     "text": [
      "This is executed 1 times\n",
      "Hello\n",
      "This is executed 2 times\n",
      "Hello\n",
      "This is executed 3 times\n",
      "Hello\n"
     ]
    }
   ],
   "source": [
    "class CountClass:\n",
    "    def __init__(self, func):\n",
    "        self.func = func\n",
    "        self.num_calls = 0\n",
    "    # __call__() method executed when object of class calls just as function - object()\n",
    "    # Or in more formalistic way:\n",
    "    # \"The __call__ method rises when the instance is found as a function. \n",
    "    # This is a non-repeating definition - if a __call__ method is encountered, the interpreter calls \n",
    "    # it when raised as a function, passing it any positional and named arguments\"\n",
    "    def __call__(self, *args, **kwargs):\n",
    "        self.num_calls += 1\n",
    "        print(f\"This is executed {self.num_calls} times\")\n",
    "        return self.func(*args, **kwargs)\n",
    "        \n",
    "\n",
    "@CountClass\n",
    "def say_hello():\n",
    "    print('Hello')\n",
    "\n",
    "say_hello()\n",
    "say_hello()\n",
    "say_hello()"
   ]
  },
  {
   "cell_type": "markdown",
   "id": "3a014883",
   "metadata": {},
   "source": [
    "# Exceptions"
   ]
  },
  {
   "cell_type": "markdown",
   "id": "45deddf6",
   "metadata": {},
   "source": [
    "## Basic information"
   ]
  },
  {
   "cell_type": "markdown",
   "id": "54cb73f5",
   "metadata": {},
   "source": [
    "The main difference of Errors from Exceptions that when Errors occurs code stops. Exceptions is the \"planned Errors\" i.e. raising of Exceptions don't breaks the code, through Exceptions you can point that programm should do when one or the other Error ocures.\n",
    "\n",
    "Exceptions raised by command 'raise TypeOfHandledError('error message')'"
   ]
  },
  {
   "cell_type": "code",
   "execution_count": 46,
   "id": "5aeef3ad",
   "metadata": {},
   "outputs": [
    {
     "ename": "Exception",
     "evalue": "Exception raised",
     "output_type": "error",
     "traceback": [
      "\u001b[1;31m---------------------------------------------------------------------------\u001b[0m",
      "\u001b[1;31mException\u001b[0m                                 Traceback (most recent call last)",
      "\u001b[1;32m<ipython-input-46-049b8c9268a8>\u001b[0m in \u001b[0;36m<module>\u001b[1;34m\u001b[0m\n\u001b[0;32m      4\u001b[0m \u001b[1;33m\u001b[0m\u001b[0m\n\u001b[0;32m      5\u001b[0m \u001b[1;32mif\u001b[0m \u001b[0mx\u001b[0m \u001b[1;33m>\u001b[0m \u001b[1;36m2\u001b[0m\u001b[1;33m:\u001b[0m\u001b[1;33m\u001b[0m\u001b[1;33m\u001b[0m\u001b[0m\n\u001b[1;32m----> 6\u001b[1;33m     \u001b[1;32mraise\u001b[0m \u001b[0mException\u001b[0m\u001b[1;33m(\u001b[0m\u001b[1;34m'Exception raised'\u001b[0m\u001b[1;33m)\u001b[0m\u001b[1;33m\u001b[0m\u001b[1;33m\u001b[0m\u001b[0m\n\u001b[0m",
      "\u001b[1;31mException\u001b[0m: Exception raised"
     ]
    }
   ],
   "source": [
    "# For example:\n",
    "\n",
    "x = 5\n",
    "\n",
    "if x > 2:\n",
    "    raise Exception('Exception raised')"
   ]
  },
  {
   "cell_type": "markdown",
   "id": "34086311",
   "metadata": {},
   "source": [
    "Also you can handle errors by 'assert' command"
   ]
  },
  {
   "cell_type": "code",
   "execution_count": 35,
   "id": "3fadea69",
   "metadata": {},
   "outputs": [
    {
     "ename": "AssertionError",
     "evalue": "Error asserted",
     "output_type": "error",
     "traceback": [
      "\u001b[1;31m---------------------------------------------------------------------------\u001b[0m",
      "\u001b[1;31mAssertionError\u001b[0m                            Traceback (most recent call last)",
      "\u001b[1;32m<ipython-input-35-c3e831890411>\u001b[0m in \u001b[0;36m<module>\u001b[1;34m\u001b[0m\n\u001b[0;32m      2\u001b[0m \u001b[1;33m\u001b[0m\u001b[0m\n\u001b[0;32m      3\u001b[0m \u001b[1;31m# statement in round brackets should be 'False' to assertion - if x >= 5 then assertion\u001b[0m\u001b[1;33m\u001b[0m\u001b[1;33m\u001b[0m\u001b[1;33m\u001b[0m\u001b[0m\n\u001b[1;32m----> 4\u001b[1;33m \u001b[1;32massert\u001b[0m\u001b[1;33m(\u001b[0m\u001b[0mx\u001b[0m \u001b[1;33m<\u001b[0m \u001b[1;36m5\u001b[0m\u001b[1;33m)\u001b[0m\u001b[1;33m,\u001b[0m \u001b[1;34m'Error asserted'\u001b[0m\u001b[1;33m\u001b[0m\u001b[1;33m\u001b[0m\u001b[0m\n\u001b[0m",
      "\u001b[1;31mAssertionError\u001b[0m: Error asserted"
     ]
    }
   ],
   "source": [
    "x = 5\n",
    "\n",
    "# statement in round brackets should be 'False' to assertion - if x >= 5 then assertion\n",
    "assert(x < 5), 'Error asserted'"
   ]
  },
  {
   "cell_type": "markdown",
   "id": "891168fc",
   "metadata": {},
   "source": [
    "'Exception' is the general type of exceptions. You can put at 'Exceptions' name of any existed in Python error or your custom Error class (about this below).\n",
    "\n",
    "Also handling of Exceptions provide you tell to program what it should doing when Error occurs instead of just shut down code. In order to do it you should use 'try-except' construction."
   ]
  },
  {
   "cell_type": "code",
   "execution_count": null,
   "id": "0b9da4fb",
   "metadata": {},
   "outputs": [],
   "source": [
    "try:\n",
    "    x = 5\n",
    "    x / 0\n",
    "except ZeroDivisionError as e:\n",
    "    # e contains the description of standard Python Error\n",
    "    print(e)\n",
    "    #below it the body of 'except' you point to your program what it should doing when ZeroDivisionError occurs\n",
    "    x = x / 2\n",
    "    print(x)"
   ]
  },
  {
   "cell_type": "markdown",
   "id": "241e94b2",
   "metadata": {},
   "source": [
    "If you think that in your code can raised few Errors (more than 1) you can include all of them in 'try-except' construction. It works the same as 'elif' in Python - raises the first exception in the list of except."
   ]
  },
  {
   "cell_type": "code",
   "execution_count": null,
   "id": "b6149d1b",
   "metadata": {},
   "outputs": [],
   "source": [
    "try:\n",
    "    #x = 5\n",
    "    #x / 0\n",
    "    \n",
    "    a = 5 + \"10\"\n",
    "except ZeroDivisionError as e:\n",
    "    # e contains the description of standard python Error\n",
    "    print(e)\n",
    "    #below it the body of 'except' you point to your program what it should doing when ZeroDivisionError occurs\n",
    "    x = x / 2\n",
    "    print(x)\n",
    "except TypeError as e:\n",
    "    print(e)"
   ]
  },
  {
   "cell_type": "markdown",
   "id": "01de297e",
   "metadata": {},
   "source": [
    "Also in 'try-except' construction there are 'else', which execute when no one exception raised, and 'finally' which execute without dependence of raising of exceptions. Below two examples can be found."
   ]
  },
  {
   "cell_type": "code",
   "execution_count": null,
   "id": "4f999d85",
   "metadata": {},
   "outputs": [],
   "source": [
    "try:\n",
    "    x = 5\n",
    "    x / 1\n",
    "    a = 5 + 10\n",
    "except ZeroDivisionError as e:\n",
    "    # e contains the description of standard python Error\n",
    "    print(e)\n",
    "    #below it the body of 'except' you point to your program what it should doing when ZeroDivisionError occurs\n",
    "    x = x / 2\n",
    "    print(x)\n",
    "except TypeError as e:\n",
    "    print(e)\n",
    "else:\n",
    "    print('No one exception raised')\n",
    "finally:\n",
    "    print('I don\\'t care about exceptions')"
   ]
  },
  {
   "cell_type": "code",
   "execution_count": null,
   "id": "1ca830d4",
   "metadata": {},
   "outputs": [],
   "source": [
    "try:\n",
    "    x = 5\n",
    "    x / 1\n",
    "    a = 5 + '10'\n",
    "except ZeroDivisionError as e:\n",
    "    # e contains the description of standard python Error\n",
    "    print(e)\n",
    "    #below it the body of 'except' you point to your program what it should doing when ZeroDivisionError occurs\n",
    "    x = x / 2\n",
    "    print(x)\n",
    "except TypeError as e:\n",
    "    print(e)\n",
    "else:\n",
    "    print('No one exception raised')\n",
    "finally:\n",
    "    print('I don\\'t care about exceptions')"
   ]
  },
  {
   "cell_type": "markdown",
   "id": "076e7e7e",
   "metadata": {},
   "source": [
    "## Custom exception class"
   ]
  },
  {
   "cell_type": "markdown",
   "id": "59c2d668",
   "metadata": {},
   "source": [
    "When you create custom exception class it should inherited from base Exception class."
   ]
  },
  {
   "cell_type": "code",
   "execution_count": null,
   "id": "c3d5220e",
   "metadata": {},
   "outputs": [],
   "source": [
    "class ValueBelowZeroError(Exception):\n",
    "    pass\n",
    "# If you simply print 'pass' in body of class, it will enough to create of custom type of error\n",
    "# You already can use this type in code\n",
    "\n",
    "def value_check(x):\n",
    "    if x < 0:\n",
    "        raise ValueBelowZeroError('Value should be greater than zero!')\n",
    "\n",
    "try:\n",
    "    x = -3\n",
    "    value_check(x)\n",
    "except ValueBelowZeroError as e:\n",
    "    print(e)\n",
    "    x = abs(x)\n",
    "    print(x)"
   ]
  },
  {
   "cell_type": "code",
   "execution_count": null,
   "id": "5e8626c8",
   "metadata": {},
   "outputs": [],
   "source": [
    "class ValueBelowZeroError(Exception):\n",
    "    pass\n",
    "\n",
    "# But maybe you want to create improvement functionality. Then you should honestly create your custom error type\n",
    "\n",
    "class ValueGreaterThanThousandError(Exception):\n",
    "    def __init__(self, value, message):\n",
    "        self.message = message\n",
    "        self.value = value\n",
    "        \n",
    "def value_check(x):\n",
    "    if x > 1000:\n",
    "        raise ValueGreaterThanThousandError(x, 'Value should be smaller than 1000!')\n",
    "    elif x < 0:\n",
    "        raise ValueBelowZeroError('Value should be greater than zero!')\n",
    "        \n",
    "try:\n",
    "    x = 1001\n",
    "    value_check(x)\n",
    "except ValueGreaterThanThousandError as e:\n",
    "    print(e.message, e.value)\n",
    "    x =  e.value - 1000\n",
    "    print(x)"
   ]
  },
  {
   "cell_type": "markdown",
   "id": "2dcc66db",
   "metadata": {},
   "source": [
    "# Logging"
   ]
  },
  {
   "cell_type": "markdown",
   "id": "180a366a",
   "metadata": {},
   "source": [
    "## General information and basic operations\n",
    "\n",
    "For logging in Python there is 'logging' module"
   ]
  },
  {
   "cell_type": "code",
   "execution_count": 4,
   "id": "57c4e5fc",
   "metadata": {},
   "outputs": [],
   "source": [
    "import logging"
   ]
  },
  {
   "cell_type": "markdown",
   "id": "fde9dadc",
   "metadata": {},
   "source": [
    "First of all, there are few levels of logging (in order of deepening):\n",
    "\n",
    "* DEBUG - etailed information, typycally of interest only with diagnosis problems.\n",
    "* INFO - Confirmation that things are working as expected.\n",
    "* WARNING - An indication that something unexpected happened, or indicative of some problem in the near future (e.g. 'disk space low'). The software is still working as expected.\n",
    "* ERROR - Due to a more serious problem, the software has not been able to perform some functions.\n",
    "* CRITICAL - A serious error, indicating that the program itself may be unable to continue running."
   ]
  },
  {
   "cell_type": "code",
   "execution_count": 2,
   "id": "0f3cbc58",
   "metadata": {},
   "outputs": [
    {
     "name": "stderr",
     "output_type": "stream",
     "text": [
      "WARNING:root:This is a WARNING message\n",
      "ERROR:root:This is a ERROR message\n",
      "CRITICAL:root:This is a CRITICAL message\n"
     ]
    }
   ],
   "source": [
    "# in logging module there is equivlent of print() method\n",
    "\n",
    "logging.debug('This is a DEBUG message')\n",
    "logging.info('This is an INFO message')\n",
    "logging.warning('This is a WARNING message')\n",
    "logging.error('This is an ERROR message')\n",
    "logging.critical('This is a CRITICAL message')\n",
    "\n",
    "# root is name of default logger\n",
    "# is good practice to make your own logger as object"
   ]
  },
  {
   "cell_type": "markdown",
   "id": "024f61ed",
   "metadata": {},
   "source": [
    "Default level of logging is WARNING. It means that logging module by default reproduces messages from WARNING level and depeer levels (ERROR and CRITICAL) and not reproduces messages from higher levels (INFO and DEBUG).\n",
    "\n",
    "In order to change level of logging you can use logging.basicConfig().\n",
    "This method accepts as parameters not only level of logging but also filename (logfile for writing of log messages), format (format of log message), datefmt (format of data and time in log message), e.t.c (for whole list see documentation of logging module)."
   ]
  },
  {
   "cell_type": "code",
   "execution_count": 2,
   "id": "14bb5ac9",
   "metadata": {},
   "outputs": [
    {
     "name": "stderr",
     "output_type": "stream",
     "text": [
      "07/11/2022 21:21:02 - root - DEBUG - This is a DEBUG message\n",
      "07/11/2022 21:21:02 - root - INFO - This is an INFO message\n",
      "07/11/2022 21:21:02 - root - WARNING - This is a WARNING message\n",
      "07/11/2022 21:21:02 - root - ERROR - This is an ERROR message\n",
      "07/11/2022 21:21:02 - root - CRITICAL - This is a CRITICAL message\n"
     ]
    }
   ],
   "source": [
    "# If you can see the same messages as block above, just restart jupyter kernel\n",
    "\n",
    "logging.basicConfig(level=logging.DEBUG, \n",
    "                    format='%(asctime)s - %(name)s - %(levelname)s - %(message)s',\n",
    "                   datefmt='%m/%d/%Y %H:%M:%S')\n",
    "\n",
    "logging.debug('This is a DEBUG message')\n",
    "logging.info('This is an INFO message')\n",
    "logging.warning('This is a WARNING message')\n",
    "logging.error('This is an ERROR message')\n",
    "logging.critical('This is a CRITICAL message')"
   ]
  },
  {
   "cell_type": "markdown",
   "id": "c6a3a36c",
   "metadata": {},
   "source": [
    "If you give to logging.basicConfig() filename then messages will printed in this file, not in the console."
   ]
  },
  {
   "cell_type": "code",
   "execution_count": 8,
   "id": "f8046a14",
   "metadata": {},
   "outputs": [
    {
     "name": "stdout",
     "output_type": "stream",
     "text": [
      "logging.log file opened: \n",
      "07/11/2022 21:29:28 - root - DEBUG - This is a DEBUG message\n",
      "07/11/2022 21:29:28 - root - INFO - This is an INFO message\n",
      "07/11/2022 21:29:28 - root - WARNING - This is a WARNING message\n",
      "07/11/2022 21:29:28 - root - ERROR - This is an ERROR message\n",
      "07/11/2022 21:29:28 - root - CRITICAL - This is a CRITICAL message\n",
      "\n"
     ]
    }
   ],
   "source": [
    "# If you can see the same messages as block above, just restart jupyter kernel\n",
    "\n",
    "logging.basicConfig(filename='logging.log', level=logging.DEBUG, \n",
    "                    format='%(asctime)s - %(name)s - %(levelname)s - %(message)s',\n",
    "                   datefmt='%m/%d/%Y %H:%M:%S')\n",
    "\n",
    "# Cleaning of the file before logging\n",
    "with open('logging.log', 'w') as lf:\n",
    "    pass\n",
    "\n",
    "logging.debug('This is a DEBUG message')\n",
    "logging.info('This is an INFO message')\n",
    "logging.warning('This is a WARNING message')\n",
    "logging.error('This is an ERROR message')\n",
    "logging.critical('This is a CRITICAL message')\n",
    "\n",
    "print(\"logging.log file opened: \")\n",
    "with open('logging.log', 'r') as lf:\n",
    "    print(lf.read())"
   ]
  },
  {
   "cell_type": "markdown",
   "id": "907b7977",
   "metadata": {},
   "source": [
    "You also can create your own logger and name it as you want."
   ]
  },
  {
   "cell_type": "code",
   "execution_count": 18,
   "id": "e3a5b2da",
   "metadata": {},
   "outputs": [
    {
     "name": "stdout",
     "output_type": "stream",
     "text": [
      "As you can see you have two loggers objects with different names now\n",
      "logging.log file opened: \n",
      "\n",
      "07/11/2022 21:49:03 - logger1 - DEBUG - This is a DEBUG message\n",
      "07/11/2022 21:49:03 - logger1 - INFO - This is an INFO message\n",
      "07/11/2022 21:49:03 - logger1 - WARNING - This is a WARNING message\n",
      "07/11/2022 21:49:03 - logger1 - ERROR - This is an ERROR message\n",
      "07/11/2022 21:49:03 - logger1 - CRITICAL - This is a CRITICAL message\n",
      "\n",
      "07/11/2022 21:49:03 - logger2 - DEBUG - This is a DEBUG message\n",
      "07/11/2022 21:49:03 - logger2 - INFO - This is an INFO message\n",
      "07/11/2022 21:49:03 - logger2 - WARNING - This is a WARNING message\n",
      "07/11/2022 21:49:03 - logger2 - ERROR - This is an ERROR message\n",
      "07/11/2022 21:49:03 - logger2 - CRITICAL - This is a CRITICAL message\n",
      "\n",
      "\n"
     ]
    }
   ],
   "source": [
    "# If you can see the same messages as block above, just restart jupyter kernel\n",
    "\n",
    "logging.basicConfig(filename='logging.log', level=logging.DEBUG, \n",
    "                    format='%(asctime)s - %(name)s - %(levelname)s - %(message)s',\n",
    "                   datefmt='%m/%d/%Y %H:%M:%S')\n",
    "logger1 = logging.getLogger('logger1')\n",
    "logger2 = logging.getLogger('logger2')\n",
    "\n",
    "# Cleaning of the file before logging\n",
    "with open('logging.log', 'w') as lf:\n",
    "    pass\n",
    "\n",
    "logger1.debug('This is a DEBUG message')\n",
    "logger1.info('This is an INFO message')\n",
    "logger1.warning('This is a WARNING message')\n",
    "logger1.error('This is an ERROR message')\n",
    "logger1.critical('This is a CRITICAL message\\n')\n",
    "\n",
    "logger2.debug('This is a DEBUG message')\n",
    "logger2.info('This is an INFO message')\n",
    "logger2.warning('This is a WARNING message')\n",
    "logger2.error('This is an ERROR message')\n",
    "logger2.critical('This is a CRITICAL message\\n')\n",
    "\n",
    "print(\"As you can see you have two loggers objects with different names now\")\n",
    "print(\"logging.log file opened: \\n\")\n",
    "with open('logging.log', 'r') as lf:\n",
    "    print(lf.read())"
   ]
  },
  {
   "cell_type": "markdown",
   "id": "51dd35c8",
   "metadata": {},
   "source": [
    "Let's implement the simple example of logging usage - logging in class Point"
   ]
  },
  {
   "cell_type": "code",
   "execution_count": 14,
   "id": "39152e2b",
   "metadata": {},
   "outputs": [
    {
     "name": "stdout",
     "output_type": "stream",
     "text": [
      "logging.log file opened: \n",
      "07/11/2022 21:40:59 - root - INFO - Point with cartesian coordinates x=5 and y=5 created\n",
      "07/11/2022 21:40:59 - root - INFO - Point with cartesian coordinates x=15 and y=4 created\n",
      "07/11/2022 21:40:59 - root - INFO - Point with cartesian coordinates x=-7 and y=13 created\n",
      "\n"
     ]
    }
   ],
   "source": [
    "# If you can see the same messages as block above, just restart jupyter kernel\n",
    "\n",
    "class Point:\n",
    "    def __init__(self, x, y):\n",
    "        logging.basicConfig(filename='class_Point.log', level=logging.DEBUG, \n",
    "                    format='%(asctime)s - %(name)s - %(levelname)s - %(message)s',\n",
    "                   datefmt='%m/%d/%Y %H:%M:%S')\n",
    "        self.x = x\n",
    "        self.y = y\n",
    "        logging.info(f'Point with cartesian coordinates x={self.x} and y={self.y} created')\n",
    "\n",
    "# Cleaning of the file before logging\n",
    "with open('logging.log', 'w') as lf:\n",
    "    pass        \n",
    "\n",
    "P1 = Point(5, 5)\n",
    "P2 = Point(15, 4)\n",
    "P3 = Point(-7, 13)\n",
    "        \n",
    "print(\"logging.log file opened: \")\n",
    "with open('logging.log', 'r') as lf:\n",
    "    print(lf.read())"
   ]
  },
  {
   "cell_type": "markdown",
   "id": "07d2fb91",
   "metadata": {},
   "source": [
    "This concludes the narration about basic operations."
   ]
  },
  {
   "cell_type": "markdown",
   "id": "a79b764c",
   "metadata": {},
   "source": [
    "## Handler objects\n",
    "\n",
    "These objects allow us to divide threads between, for example log file and console. In general handlers allows separate threads for your purposes and create custom loggers using handlers as blocks of loggers."
   ]
  },
  {
   "cell_type": "code",
   "execution_count": 1,
   "id": "96fbc0c6",
   "metadata": {},
   "outputs": [
    {
     "name": "stderr",
     "output_type": "stream",
     "text": [
      "custom_logger - WARNING - This message will be only in console\n",
      "custom_logger - WARNING - This message will be only in console too\n",
      "custom_logger - ERROR - This message will be in console and in file\n",
      "custom_logger - ERROR - This message will be in console and in file too\n"
     ]
    },
    {
     "name": "stdout",
     "output_type": "stream",
     "text": [
      "logging.log file opened: \n",
      "2022-07-11 22:40:30,884 - custom_logger - ERROR - This message will be in console and in file\n",
      "2022-07-11 22:40:30,885 - custom_logger - ERROR - This message will be in console and in file too\n",
      "\n"
     ]
    }
   ],
   "source": [
    "import logging\n",
    "\n",
    "logger = logging.getLogger('custom_logger')\n",
    "\n",
    "# create handler\n",
    "stream_h = logging.StreamHandler() # deadlock to the console (stream handler)\n",
    "file_h = logging.FileHandler('logging.log') #deadlock to the file (file handler)\n",
    "\n",
    "# level\n",
    "stream_h.setLevel(logging.WARNING) # only warnings, errors and criticals goes to console\n",
    "file_h.setLevel(logging.ERROR) # only errors and criticals goes to log file\n",
    "\n",
    "# format\n",
    "formatter_stream = logging.Formatter(\"%(name)s - %(levelname)s - %(message)s\") # format of logging in console\n",
    "formatter_file = logging.Formatter('%(asctime)s - %(name)s - %(levelname)s - %(message)s') # format of logging in log file\n",
    "stream_h.setFormatter(formatter_stream)\n",
    "file_h.setFormatter(formatter_file)\n",
    "\n",
    "# consructed logger from the handlers\n",
    "logger.addHandler(stream_h)\n",
    "logger.addHandler(file_h)\n",
    "\n",
    "# Cleaning of the file before logging\n",
    "with open('logging.log', 'w') as lf:\n",
    "    pass        \n",
    "\n",
    "logger.warning('This message will be only in console')\n",
    "logger.warning('This message will be only in console too')\n",
    "logger.error('This message will be in console and in file')\n",
    "logger.error('This message will be in console and in file too')\n",
    "\n",
    "print(\"logging.log file opened: \")\n",
    "with open('logging.log', 'r') as lf:\n",
    "    print(lf.read())"
   ]
  },
  {
   "cell_type": "markdown",
   "id": "f2eaba85",
   "metadata": {},
   "source": [
    "And then you can use this custom logger in your programs as you want."
   ]
  },
  {
   "cell_type": "code",
   "execution_count": 2,
   "id": "c9ee66e0",
   "metadata": {},
   "outputs": [
    {
     "name": "stderr",
     "output_type": "stream",
     "text": [
      "custom_logger - ERROR - x coordinate must be <= 1000 but x=5000\n",
      "custom_logger - ERROR - y coordinate must be <= 1000 but y=4000\n",
      "custom_logger - WARNING - Point has x<0 (x=-7)\n"
     ]
    },
    {
     "name": "stdout",
     "output_type": "stream",
     "text": [
      "logging.log file opened: \n",
      "2022-07-11 22:45:52,955 - custom_logger - ERROR - x coordinate must be <= 1000 but x=5000\n",
      "2022-07-11 22:45:52,957 - custom_logger - ERROR - y coordinate must be <= 1000 but y=4000\n",
      "\n"
     ]
    }
   ],
   "source": [
    "class Point:\n",
    "    def __init__(self, x, y):\n",
    "        logging.basicConfig(filename='class_Point.log', level=logging.DEBUG, \n",
    "                    format='%(asctime)s - %(name)s - %(levelname)s - %(message)s',\n",
    "                   datefmt='%m/%d/%Y %H:%M:%S')\n",
    "        self.x = x\n",
    "        self.y = y\n",
    "        if self.x < 0:\n",
    "            logger.warning(f'Point has x<0 (x={self.x})')\n",
    "        if self.y < 0:\n",
    "            logger.warning(f'Point has y<0 (y={self.y})')\n",
    "            \n",
    "        if self.x > 1000:\n",
    "            logger.error(f'x coordinate must be <= 1000 but x={self.x}')\n",
    "        if self.y > 1000:\n",
    "            logger.error(f'y coordinate must be <= 1000 but y={self.y}')\n",
    "\n",
    "# Cleaning of the file before logging\n",
    "with open('logging.log', 'w') as lf:\n",
    "    pass        \n",
    "\n",
    "P1 = Point(5000, 5)\n",
    "P2 = Point(15, 4000)\n",
    "P3 = Point(-7, 13)\n",
    "P4 = Point(12, 22)\n",
    "        \n",
    "print(\"logging.log file opened: \")\n",
    "with open('logging.log', 'r') as lf:\n",
    "    print(lf.read())"
   ]
  },
  {
   "cell_type": "markdown",
   "id": "6c7fa126",
   "metadata": {},
   "source": [
    "And it's good practice to create your own logger as module in other file and then imported it in new project."
   ]
  },
  {
   "cell_type": "markdown",
   "id": "fefc9cef",
   "metadata": {},
   "source": [
    "## Configuration files for custom loggers\n",
    "\n",
    "Above we used logging.basicConfig() to setting our logger directly in program code. But we can use the files configs or dictionary configs. Because the dictionary configs use not often we considering here file configs.\n",
    "\n",
    "Such file has .conf or .ini extension."
   ]
  },
  {
   "cell_type": "code",
   "execution_count": 3,
   "id": "2be28a96",
   "metadata": {},
   "outputs": [
    {
     "name": "stdout",
     "output_type": "stream",
     "text": [
      "[loggers]\n",
      "keys=root,simpleExample\n",
      "\n",
      "[handlers]\n",
      "keys=consoleHandler, fileHandler\n",
      "\n",
      "[formatters]\n",
      "keys=simpleFormatter\n",
      "\n",
      "[logger_root]\n",
      "level=DEBUG\n",
      "handlers=\n",
      "\n",
      "[logger_simpleExample]\n",
      "level=DEBUG\n",
      "handlers=consoleHandler, fileHandler\n",
      "qualname=simpleExample\n",
      "propogate=0\n",
      "\n",
      "[handler_consoleHandler]\n",
      "class=StreamHandler\n",
      "level=DEBUG\n",
      "formatter=simpleFormatter\n",
      "args=(sys.stdout,)\n",
      "\n",
      "[handler_fileHandler]\n",
      "class=FileHandler\n",
      "level=DEBUG\n",
      "formatter=simpleFormatter\n",
      "args=('logging.log', 'w')\n",
      "\n",
      "[formatter_simpleFormatter]\n",
      "format=%(asctime)s - %(name)s - %(levelname)s - %(message)s\n",
      "datefmt=%Y-%m-%d %H:%M:%S\n",
      "\n"
     ]
    }
   ],
   "source": [
    "with open('logger_config.ini', 'r') as lf:\n",
    "    print(lf.read())"
   ]
  },
  {
   "cell_type": "markdown",
   "id": "b0a9d1ac",
   "metadata": {},
   "source": [
    "In [loggers] stored names of loggers,which you can use. If you use logging.config.fileConfig() but name which you give to constructor does not exist in [loggers] then will use the root logger.\n",
    "\n",
    "All the handlers from [handlers] and all the formatters form [formatters] must be described below in correspondingly sections."
   ]
  },
  {
   "cell_type": "markdown",
   "id": "e6a12e78",
   "metadata": {},
   "source": [
    "Example of usage:"
   ]
  },
  {
   "cell_type": "code",
   "execution_count": 2,
   "id": "a78d4d19",
   "metadata": {},
   "outputs": [
    {
     "name": "stdout",
     "output_type": "stream",
     "text": [
      "Logs from console: \n",
      "2022-07-11 23:44:29 - simpleExample - ERROR - x coordinate must be <= 1000 but x=5000\n",
      "2022-07-11 23:44:29 - simpleExample - ERROR - y coordinate must be <= 1000 but y=4000\n",
      "2022-07-11 23:44:29 - simpleExample - WARNING - Point has x<0 (x=-7)\n",
      "\n",
      "logging.log file opened: \n",
      "2022-07-11 23:44:29 - simpleExample - ERROR - x coordinate must be <= 1000 but x=5000\n",
      "2022-07-11 23:44:29 - simpleExample - ERROR - y coordinate must be <= 1000 but y=4000\n",
      "2022-07-11 23:44:29 - simpleExample - WARNING - Point has x<0 (x=-7)\n",
      "\n"
     ]
    }
   ],
   "source": [
    "import logging\n",
    "import logging.config\n",
    "\n",
    "logging.config.fileConfig('logger_config.ini') # Load configs for logger from file\n",
    "\n",
    "logger = logging.getLogger('simpleExample')\n",
    "\n",
    "# and then you can use the logger as you want\n",
    "class Point:\n",
    "    def __init__(self, x, y):\n",
    "        logging.basicConfig(filename='class_Point.log', level=logging.DEBUG, \n",
    "                    format='%(asctime)s - %(name)s - %(levelname)s - %(message)s',\n",
    "                   datefmt='%m/%d/%Y %H:%M:%S')\n",
    "        self.x = x\n",
    "        self.y = y\n",
    "        if self.x < 0:\n",
    "            logger.warning(f'Point has x<0 (x={self.x})')\n",
    "        if self.y < 0:\n",
    "            logger.warning(f'Point has y<0 (y={self.y})')\n",
    "            \n",
    "        if self.x > 1000:\n",
    "            logger.error(f'x coordinate must be <= 1000 but x={self.x}')\n",
    "        if self.y > 1000:\n",
    "            logger.error(f'y coordinate must be <= 1000 but y={self.y}')\n",
    "\n",
    "print('Logs from console: ')\n",
    "P1 = Point(5000, 5)\n",
    "P2 = Point(15, 4000)\n",
    "P3 = Point(-7, 13)\n",
    "P4 = Point(12, 22)\n",
    "print()\n",
    "        \n",
    "print(\"logging.log file opened: \")\n",
    "with open('logging.log', 'r') as lf:\n",
    "    print(lf.read())"
   ]
  },
  {
   "cell_type": "markdown",
   "id": "edea4c8b",
   "metadata": {},
   "source": [
    "## Logging with exceptions\n",
    "\n",
    "We also can logged exceptions with help of logging module"
   ]
  },
  {
   "cell_type": "markdown",
   "id": "f79b472b",
   "metadata": {},
   "source": [
    "If we know what kind of exception we are looking for and want to see it in logs:"
   ]
  },
  {
   "cell_type": "code",
   "execution_count": 1,
   "id": "e623083e",
   "metadata": {},
   "outputs": [
    {
     "name": "stderr",
     "output_type": "stream",
     "text": [
      "ERROR:root:list index out of range\n"
     ]
    }
   ],
   "source": [
    "import logging\n",
    "\n",
    "# For simplification we use the standard logger here\n",
    "try:\n",
    "    a = [1,2,3]\n",
    "    val = a[4]\n",
    "except IndexError as e:\n",
    "    logging.error(e)"
   ]
  },
  {
   "cell_type": "code",
   "execution_count": 2,
   "id": "9324b2c2",
   "metadata": {},
   "outputs": [
    {
     "name": "stderr",
     "output_type": "stream",
     "text": [
      "ERROR:root:list index out of range\n",
      "Traceback (most recent call last):\n",
      "  File \"<ipython-input-2-b4d9a7fe1be0>\", line 6, in <module>\n",
      "    val = a[4]\n",
      "IndexError: list index out of range\n"
     ]
    }
   ],
   "source": [
    "# Also if we want to see the details about exceptions in logs we should use exc_info=True as additional parameter \n",
    "\n",
    "# For simplification we use the standard logger here\n",
    "try:\n",
    "    a = [1,2,3]\n",
    "    val = a[4]\n",
    "except IndexError as e:\n",
    "    logging.error(e, exc_info=True)"
   ]
  },
  {
   "cell_type": "markdown",
   "id": "918fe24c",
   "metadata": {},
   "source": [
    "If we don't know what exception we are looking for but we want to see it in our logs then we additionally need traceback module:"
   ]
  },
  {
   "cell_type": "code",
   "execution_count": 3,
   "id": "bc5d7470",
   "metadata": {},
   "outputs": [
    {
     "name": "stderr",
     "output_type": "stream",
     "text": [
      "ERROR:root:The error is Traceback (most recent call last):\n",
      "  File \"<ipython-input-3-81ca53e072b2>\", line 7, in <module>\n",
      "    val = a[4]\n",
      "IndexError: list index out of range\n",
      "\n"
     ]
    }
   ],
   "source": [
    "import logging\n",
    "import traceback\n",
    "\n",
    "# For simplification we use the standard logger here\n",
    "try:\n",
    "    a = [1,2,3]\n",
    "    val = a[4]\n",
    "except:\n",
    "    logging.error('The error is %s', traceback.format_exc())"
   ]
  },
  {
   "cell_type": "markdown",
   "id": "2097e404",
   "metadata": {},
   "source": [
    "## RotatingFileHandler\n",
    "\n",
    "This file handler allows to limit of created log file by size. It can be seful if your program generate many log information.\n",
    "If file size exceed the value which you give to constructor then log file closed and created new log file and over and over again while program getegate log information."
   ]
  },
  {
   "cell_type": "code",
   "execution_count": 1,
   "id": "758c623b",
   "metadata": {},
   "outputs": [],
   "source": [
    "import logging\n",
    "from logging.handlers import RotatingFileHandler\n",
    "\n",
    "logger = logging.getLogger('Rot_logger')\n",
    "logger.setLevel(logging.INFO)\n",
    "\n",
    "# roll over 2KB, and keep backup logs RotatingFileHandler.log.1, RotatingFileHandler.log.2 etc.\n",
    "handler = RotatingFileHandler('RotatingFileHandler.log', maxBytes=2000, backupCount=5)\n",
    "# backupCount is parameter which tells how many files will be created in process of logging\n",
    "\n",
    "logger.addHandler(handler)\n",
    "\n",
    "for i in range(10000):\n",
    "    logger.info('Hello, world!')"
   ]
  },
  {
   "cell_type": "code",
   "execution_count": 4,
   "id": "bf47cc01",
   "metadata": {},
   "outputs": [
    {
     "data": {
      "text/plain": [
       "['RotatingFileHandler.log',\n",
       " 'RotatingFileHandler.log.1',\n",
       " 'RotatingFileHandler.log.2',\n",
       " 'RotatingFileHandler.log.3',\n",
       " 'RotatingFileHandler.log.4',\n",
       " 'RotatingFileHandler.log.5']"
      ]
     },
     "execution_count": 4,
     "metadata": {},
     "output_type": "execute_result"
    }
   ],
   "source": [
    "import os\n",
    "\n",
    "log_lts = [x for x in os.listdir() if 'RotatingFileHandler' in x]\n",
    "log_lts"
   ]
  },
  {
   "cell_type": "markdown",
   "id": "ebe42f80",
   "metadata": {},
   "source": [
    "## TimedRotatingFileHandler\n",
    "\n",
    "This file handler also allows to limit of created log file by time of work of program. It can be useful if your program works during the long period of time and you want to divide logs by timing. If time of program work exceed the value which you give to constructor then log file closed and created new log file and over and over again while program works."
   ]
  },
  {
   "cell_type": "code",
   "execution_count": 1,
   "id": "8b25ac04",
   "metadata": {},
   "outputs": [],
   "source": [
    "import logging\n",
    "import time\n",
    "from logging.handlers import TimedRotatingFileHandler\n",
    "\n",
    "logger = logging.getLogger('Rot_logger')\n",
    "logger.setLevel(logging.INFO)\n",
    "\n",
    "# Avaliable timings:\n",
    "# s - seconds\n",
    "# m - minutes\n",
    "# h - hours\n",
    "# d - days\n",
    "# midnight\n",
    "# w0\n",
    "\n",
    "handler = TimedRotatingFileHandler('TimedRotatingFileHandler.log', when='s', interval=5, backupCount=5)\n",
    "# backupCount is parameter which tells how many files will be created in process of logging\n",
    "\n",
    "logger.addHandler(handler)\n",
    "\n",
    "for _ in range(6):\n",
    "    logger.info('Hello, world!')\n",
    "    time.sleep(5) # programm stops for 5 second"
   ]
  },
  {
   "cell_type": "code",
   "execution_count": 2,
   "id": "50439aad",
   "metadata": {},
   "outputs": [
    {
     "data": {
      "text/plain": [
       "['TimedRotatingFileHandler.log',\n",
       " 'TimedRotatingFileHandler.log.2022-07-12_00-37-09',\n",
       " 'TimedRotatingFileHandler.log.2022-07-12_00-37-14',\n",
       " 'TimedRotatingFileHandler.log.2022-07-12_00-37-19',\n",
       " 'TimedRotatingFileHandler.log.2022-07-12_00-37-24',\n",
       " 'TimedRotatingFileHandler.log.2022-07-12_00-37-29']"
      ]
     },
     "execution_count": 2,
     "metadata": {},
     "output_type": "execute_result"
    }
   ],
   "source": [
    "import os\n",
    "\n",
    "log_lts = [x for x in os.listdir() if 'TimedRotatingFileHandler' in x]\n",
    "log_lts"
   ]
  },
  {
   "cell_type": "markdown",
   "id": "f279858c",
   "metadata": {},
   "source": [
    "# JSON\n",
    "\n",
    "JSON (JavaScript Object Notation) is an open standard file format and data interchange format that uses human-readable text to store and transmit data objects consisting of attribute–value pairs and arrays (or other serializable values). It is a common data format with diverse uses in electronic data interchange, including that of web applications with servers.\n",
    "\n",
    "JSON is a language-independent data format. It was derived from JavaScript, but many modern programming languages include code to generate and parse JSON-format data. JSON filenames use the extension .json."
   ]
  },
  {
   "cell_type": "markdown",
   "id": "41c48788",
   "metadata": {},
   "source": [
    "You can transformate dictionary to JSON object and write in down to file.\n",
    "\n",
    "It is important that transforming of dictionary to JSON is particular type of serialization (aka Encoding). Reverse transform is deserialization (aka Decoding). Thus it in essence is standatd picking and unpicking. Thus, here the same methods as in standard serialization works."
   ]
  },
  {
   "cell_type": "code",
   "execution_count": 11,
   "id": "6c8aeb35",
   "metadata": {},
   "outputs": [],
   "source": [
    "import json"
   ]
  },
  {
   "cell_type": "markdown",
   "id": "93cd6859",
   "metadata": {},
   "source": [
    "## Creation of dict with data"
   ]
  },
  {
   "cell_type": "code",
   "execution_count": 10,
   "id": "ea84d463",
   "metadata": {},
   "outputs": [],
   "source": [
    "datadict = {\n",
    "    'firstname': 'Jane',\n",
    "    'lastname': 'Doe',\n",
    "    'hobbies': ['running', 'swiming', 'singing'],\n",
    "    'age': 28,\n",
    "    'hasChildren': True,\n",
    "    'children':\n",
    "        [\n",
    "            {\n",
    "                'firstname': 'Alex',\n",
    "                'age': 5\n",
    "            },\n",
    "            \n",
    "            {\n",
    "                'firstname': 'Bob',\n",
    "                'age': 7\n",
    "            }\n",
    "        ]\n",
    "    \n",
    "}"
   ]
  },
  {
   "cell_type": "markdown",
   "id": "efc8733b",
   "metadata": {},
   "source": [
    "## json.dump()\n",
    "\n",
    "It returns the stream of JSON format which writes down with method fp.write(). dump() method takes the following parameters:\n",
    "\n",
    "* obj - Python object\n",
    "* fp - stream of JSON format\n",
    "* skipkeys=False - ignoring of unknown types of keys in dicts\n",
    "* ensure_ascii=True - shielding (экранирование) not-ASCII symbols\n",
    "* allow_nan=True - representation of values of nan, inf, -inf in JSON\n",
    "* cls=None - method for serialization of additional types\n",
    "* indent=None - amount of indents while serialization\n",
    "* separators=None - separators using in JSON (it should be a tuple when use)\n",
    "* default=None - custom function for objects which can't be serialized\n",
    "* sort_keys=False - soft of keys in output"
   ]
  },
  {
   "cell_type": "code",
   "execution_count": 9,
   "id": "42e811fe",
   "metadata": {},
   "outputs": [
    {
     "name": "stdout",
     "output_type": "stream",
     "text": [
      "{\n",
      "    \"firstname\": \"Jane\",\n",
      "    \"lastname\": \"Doe\",\n",
      "    \"hobbies\": [\n",
      "        \"running\",\n",
      "        \"swiming\",\n",
      "        \"singing\"\n",
      "    ],\n",
      "    \"age\": 28,\n",
      "    \"hasChildren\": true,\n",
      "    \"children\": [\n",
      "        {\n",
      "            \"firstname\": \"Alex\",\n",
      "            \"age\": 5\n",
      "        },\n",
      "        {\n",
      "            \"firstname\": \"Bob\",\n",
      "            \"age\": 7\n",
      "        }\n",
      "    ]\n",
      "}\n"
     ]
    }
   ],
   "source": [
    "with open(\"example.json\", \"w\") as ej:\n",
    "    json.dump(datadict, ej, indent=4)\n",
    "    \n",
    "with open(\"example.json\", \"r\") as ej:\n",
    "    print(ej.read())"
   ]
  },
  {
   "cell_type": "markdown",
   "id": "97aabf25",
   "metadata": {},
   "source": [
    "## json.dumps()\n",
    "\n",
    "\n",
    "The dumps() function of the json module serializes the Python object obj into a JSON str file. dumps() method takes the following parameters:\n",
    "\n",
    "* obj - Python object\n",
    "* skipkeys=False - ignoring of unknown types of keys in dicts\n",
    "* ensure_ascii=True - shielding (экранирование) not-ASCII symbols\n",
    "* allow_nan=True - representation of values of nan, inf, -inf in JSON\n",
    "* cls=None - method for serialization of additional types\n",
    "* indent=None - amount of indents while serialization\n",
    "* separators=None - separators using in JSON (it should be a tuple when use)\n",
    "* default=None - custom function for objects which can't be serialized\n",
    "* sort_keys=False - soft of keys in output"
   ]
  },
  {
   "cell_type": "code",
   "execution_count": 17,
   "id": "b7657836",
   "metadata": {},
   "outputs": [
    {
     "name": "stdout",
     "output_type": "stream",
     "text": [
      "{\n",
      "    \"firstname\": \"Jane\",\n",
      "    \"lastname\": \"Doe\",\n",
      "    \"hobbies\": [\n",
      "        \"running\",\n",
      "        \"swiming\",\n",
      "        \"singing\"\n",
      "    ],\n",
      "    \"age\": 28,\n",
      "    \"hasChildren\": true,\n",
      "    \"children\": [\n",
      "        {\n",
      "            \"firstname\": \"Alex\",\n",
      "            \"age\": 5\n",
      "        },\n",
      "        {\n",
      "            \"firstname\": \"Bob\",\n",
      "            \"age\": 7\n",
      "        }\n",
      "    ]\n",
      "}\n",
      "\n",
      "Type of dumps() object:  <class 'str'>\n"
     ]
    }
   ],
   "source": [
    "personJSON = json.dumps(datadict, indent=4)\n",
    "print(personJSON)\n",
    "print()\n",
    "print(\"Type of dumps() object: \", type(personJSON))"
   ]
  },
  {
   "cell_type": "markdown",
   "id": "dde6e7d2",
   "metadata": {},
   "source": [
    "## json.load()\n",
    "\n",
    "This method returns the Python object from JSON. For example, you can decode your .json file to dictionary. load() method takes the following parameters:\n",
    "\n",
    "* fp - stream of JSON format\n",
    "* cls=None - custom subclass JSONDecoder\n",
    "\n",
    "* object_hook=None - custom function for transforming every literal of dictionary\n",
    "* parse_float=None - custom function for transforming of literals similar to float\n",
    "* parse_int=None - custom function for transforming of literals similar to int\n",
    "* parse_constant=None - custom function for transforming of literals - Infinity, Infinit и NaN,\n",
    "* object_pairs_hook=None - custom function for transforming of literals which decoded literals decode by list of ordered pairs"
   ]
  },
  {
   "cell_type": "code",
   "execution_count": 19,
   "id": "566a5436",
   "metadata": {},
   "outputs": [
    {
     "name": "stdout",
     "output_type": "stream",
     "text": [
      "{'firstname': 'Jane', 'lastname': 'Doe', 'hobbies': ['running', 'swiming', 'singing'], 'age': 28, 'hasChildren': True, 'children': [{'firstname': 'Alex', 'age': 5}, {'firstname': 'Bob', 'age': 7}]}\n"
     ]
    }
   ],
   "source": [
    "with open(\"example.json\", \"r\") as ej:\n",
    "    dict_of_json = json.load(ej)\n",
    "    \n",
    "print(dict_of_json)"
   ]
  },
  {
   "cell_type": "markdown",
   "id": "bd237309",
   "metadata": {},
   "source": [
    "## json.loads()\n",
    "\n",
    "The loads() function of the json module converts a JSON string into a Python object. loads() method takes the following parameters:\n",
    "\n",
    "* s - string of JSON format (it creates after dumps() method)\n",
    "* cls=None - custom subclass JSONDecoder\n",
    "* object_hook=None - custom function for transforming every literal of dictionary\n",
    "* parse_float=None - custom function for transforming of literals similar to float\n",
    "* parse_int=None - custom function for transforming of literals similar to int\n",
    "* parse_constant=None - custom function for transforming of literals - Infinity, Infinit и NaN,\n",
    "* object_pairs_hook=None - custom function for transforming of literals which decoded literals decode by list of ordered pairs"
   ]
  },
  {
   "cell_type": "code",
   "execution_count": 22,
   "id": "4bd25902",
   "metadata": {},
   "outputs": [
    {
     "name": "stdout",
     "output_type": "stream",
     "text": [
      "{'firstname': 'Jane', 'lastname': 'Doe', 'hobbies': ['running', 'swiming', 'singing'], 'age': 28, 'hasChildren': True, 'children': [{'firstname': 'Alex', 'age': 5}, {'firstname': 'Bob', 'age': 7}]}\n"
     ]
    }
   ],
   "source": [
    "personJSON = json.dumps(datadict, indent=4)\n",
    "\n",
    "str_of_json = json.loads(personJSON)\n",
    "print(str_of_json)"
   ]
  },
  {
   "cell_type": "markdown",
   "id": "1099d662",
   "metadata": {},
   "source": [
    "There are the following rules of transformation of datatypes from Python to JSON:"
   ]
  },
  {
   "cell_type": "code",
   "execution_count": 3,
   "id": "ab5f3b2d",
   "metadata": {},
   "outputs": [
    {
     "data": {
      "text/html": [
       "<div>\n",
       "<style scoped>\n",
       "    .dataframe tbody tr th:only-of-type {\n",
       "        vertical-align: middle;\n",
       "    }\n",
       "\n",
       "    .dataframe tbody tr th {\n",
       "        vertical-align: top;\n",
       "    }\n",
       "\n",
       "    .dataframe thead th {\n",
       "        text-align: right;\n",
       "    }\n",
       "</style>\n",
       "<table border=\"1\" class=\"dataframe\">\n",
       "  <thead>\n",
       "    <tr style=\"text-align: right;\">\n",
       "      <th></th>\n",
       "      <th>Python</th>\n",
       "      <th>JSON</th>\n",
       "    </tr>\n",
       "  </thead>\n",
       "  <tbody>\n",
       "    <tr>\n",
       "      <th>0</th>\n",
       "      <td>dict</td>\n",
       "      <td>object</td>\n",
       "    </tr>\n",
       "    <tr>\n",
       "      <th>1</th>\n",
       "      <td>list, tuple</td>\n",
       "      <td>array</td>\n",
       "    </tr>\n",
       "    <tr>\n",
       "      <th>2</th>\n",
       "      <td>str</td>\n",
       "      <td>string</td>\n",
       "    </tr>\n",
       "    <tr>\n",
       "      <th>3</th>\n",
       "      <td>int, long, float</td>\n",
       "      <td>number</td>\n",
       "    </tr>\n",
       "    <tr>\n",
       "      <th>4</th>\n",
       "      <td>True</td>\n",
       "      <td>true</td>\n",
       "    </tr>\n",
       "    <tr>\n",
       "      <th>5</th>\n",
       "      <td>False</td>\n",
       "      <td>false</td>\n",
       "    </tr>\n",
       "    <tr>\n",
       "      <th>6</th>\n",
       "      <td>None</td>\n",
       "      <td>null</td>\n",
       "    </tr>\n",
       "  </tbody>\n",
       "</table>\n",
       "</div>"
      ],
      "text/plain": [
       "             Python    JSON\n",
       "0              dict  object\n",
       "1       list, tuple   array\n",
       "2               str  string\n",
       "3  int, long, float  number\n",
       "4              True    true\n",
       "5             False   false\n",
       "6              None    null"
      ]
     },
     "execution_count": 3,
     "metadata": {},
     "output_type": "execute_result"
    }
   ],
   "source": [
    "import pandas as pd\n",
    "\n",
    "tabledata = [\n",
    "         [\"dict\", 'object'],\n",
    "         [\"list, tuple\",'array'],\n",
    "         [\"str\",'string'],\n",
    "         [\"int, long, float\",'number'],\n",
    "         [\"True\",'true'],\n",
    "         [\"False\",'false'],\n",
    "         [\"None\",'null']\n",
    "            ]\n",
    "\n",
    "pd.DataFrame(tabledata, columns=[\"Python\", \"JSON\"])"
   ]
  },
  {
   "cell_type": "markdown",
   "id": "06fa8b14",
   "metadata": {},
   "source": [
    "Let's consider the more complicated examples."
   ]
  },
  {
   "cell_type": "markdown",
   "id": "0071318a",
   "metadata": {},
   "source": [
    "## Class of JSON serialization"
   ]
  },
  {
   "cell_type": "code",
   "execution_count": 1,
   "id": "7c83d099",
   "metadata": {},
   "outputs": [
    {
     "ename": "TypeError",
     "evalue": "Object of type User is not JSON serializable",
     "output_type": "error",
     "traceback": [
      "\u001b[1;31m---------------------------------------------------------------------------\u001b[0m",
      "\u001b[1;31mTypeError\u001b[0m                                 Traceback (most recent call last)",
      "\u001b[1;32m<ipython-input-1-bdf744c384ea>\u001b[0m in \u001b[0;36m<module>\u001b[1;34m\u001b[0m\n\u001b[0;32m      7\u001b[0m \u001b[1;33m\u001b[0m\u001b[0m\n\u001b[0;32m      8\u001b[0m \u001b[0muser\u001b[0m \u001b[1;33m=\u001b[0m \u001b[0mUser\u001b[0m\u001b[1;33m(\u001b[0m\u001b[1;34m'Mike'\u001b[0m\u001b[1;33m,\u001b[0m \u001b[1;36m22\u001b[0m\u001b[1;33m)\u001b[0m\u001b[1;33m\u001b[0m\u001b[1;33m\u001b[0m\u001b[0m\n\u001b[1;32m----> 9\u001b[1;33m \u001b[0mjsonObject\u001b[0m \u001b[1;33m=\u001b[0m \u001b[0mjson\u001b[0m\u001b[1;33m.\u001b[0m\u001b[0mdumps\u001b[0m\u001b[1;33m(\u001b[0m\u001b[0muser\u001b[0m\u001b[1;33m)\u001b[0m\u001b[1;33m\u001b[0m\u001b[1;33m\u001b[0m\u001b[0m\n\u001b[0m",
      "\u001b[1;32mc:\\users\\akalyuzhin\\appdata\\local\\programs\\python\\python38\\lib\\json\\__init__.py\u001b[0m in \u001b[0;36mdumps\u001b[1;34m(obj, skipkeys, ensure_ascii, check_circular, allow_nan, cls, indent, separators, default, sort_keys, **kw)\u001b[0m\n\u001b[0;32m    229\u001b[0m         \u001b[0mcls\u001b[0m \u001b[1;32mis\u001b[0m \u001b[1;32mNone\u001b[0m \u001b[1;32mand\u001b[0m \u001b[0mindent\u001b[0m \u001b[1;32mis\u001b[0m \u001b[1;32mNone\u001b[0m \u001b[1;32mand\u001b[0m \u001b[0mseparators\u001b[0m \u001b[1;32mis\u001b[0m \u001b[1;32mNone\u001b[0m \u001b[1;32mand\u001b[0m\u001b[1;33m\u001b[0m\u001b[1;33m\u001b[0m\u001b[0m\n\u001b[0;32m    230\u001b[0m         default is None and not sort_keys and not kw):\n\u001b[1;32m--> 231\u001b[1;33m         \u001b[1;32mreturn\u001b[0m \u001b[0m_default_encoder\u001b[0m\u001b[1;33m.\u001b[0m\u001b[0mencode\u001b[0m\u001b[1;33m(\u001b[0m\u001b[0mobj\u001b[0m\u001b[1;33m)\u001b[0m\u001b[1;33m\u001b[0m\u001b[1;33m\u001b[0m\u001b[0m\n\u001b[0m\u001b[0;32m    232\u001b[0m     \u001b[1;32mif\u001b[0m \u001b[0mcls\u001b[0m \u001b[1;32mis\u001b[0m \u001b[1;32mNone\u001b[0m\u001b[1;33m:\u001b[0m\u001b[1;33m\u001b[0m\u001b[1;33m\u001b[0m\u001b[0m\n\u001b[0;32m    233\u001b[0m         \u001b[0mcls\u001b[0m \u001b[1;33m=\u001b[0m \u001b[0mJSONEncoder\u001b[0m\u001b[1;33m\u001b[0m\u001b[1;33m\u001b[0m\u001b[0m\n",
      "\u001b[1;32mc:\\users\\akalyuzhin\\appdata\\local\\programs\\python\\python38\\lib\\json\\encoder.py\u001b[0m in \u001b[0;36mencode\u001b[1;34m(self, o)\u001b[0m\n\u001b[0;32m    197\u001b[0m         \u001b[1;31m# exceptions aren't as detailed.  The list call should be roughly\u001b[0m\u001b[1;33m\u001b[0m\u001b[1;33m\u001b[0m\u001b[1;33m\u001b[0m\u001b[0m\n\u001b[0;32m    198\u001b[0m         \u001b[1;31m# equivalent to the PySequence_Fast that ''.join() would do.\u001b[0m\u001b[1;33m\u001b[0m\u001b[1;33m\u001b[0m\u001b[1;33m\u001b[0m\u001b[0m\n\u001b[1;32m--> 199\u001b[1;33m         \u001b[0mchunks\u001b[0m \u001b[1;33m=\u001b[0m \u001b[0mself\u001b[0m\u001b[1;33m.\u001b[0m\u001b[0miterencode\u001b[0m\u001b[1;33m(\u001b[0m\u001b[0mo\u001b[0m\u001b[1;33m,\u001b[0m \u001b[0m_one_shot\u001b[0m\u001b[1;33m=\u001b[0m\u001b[1;32mTrue\u001b[0m\u001b[1;33m)\u001b[0m\u001b[1;33m\u001b[0m\u001b[1;33m\u001b[0m\u001b[0m\n\u001b[0m\u001b[0;32m    200\u001b[0m         \u001b[1;32mif\u001b[0m \u001b[1;32mnot\u001b[0m \u001b[0misinstance\u001b[0m\u001b[1;33m(\u001b[0m\u001b[0mchunks\u001b[0m\u001b[1;33m,\u001b[0m \u001b[1;33m(\u001b[0m\u001b[0mlist\u001b[0m\u001b[1;33m,\u001b[0m \u001b[0mtuple\u001b[0m\u001b[1;33m)\u001b[0m\u001b[1;33m)\u001b[0m\u001b[1;33m:\u001b[0m\u001b[1;33m\u001b[0m\u001b[1;33m\u001b[0m\u001b[0m\n\u001b[0;32m    201\u001b[0m             \u001b[0mchunks\u001b[0m \u001b[1;33m=\u001b[0m \u001b[0mlist\u001b[0m\u001b[1;33m(\u001b[0m\u001b[0mchunks\u001b[0m\u001b[1;33m)\u001b[0m\u001b[1;33m\u001b[0m\u001b[1;33m\u001b[0m\u001b[0m\n",
      "\u001b[1;32mc:\\users\\akalyuzhin\\appdata\\local\\programs\\python\\python38\\lib\\json\\encoder.py\u001b[0m in \u001b[0;36miterencode\u001b[1;34m(self, o, _one_shot)\u001b[0m\n\u001b[0;32m    255\u001b[0m                 \u001b[0mself\u001b[0m\u001b[1;33m.\u001b[0m\u001b[0mkey_separator\u001b[0m\u001b[1;33m,\u001b[0m \u001b[0mself\u001b[0m\u001b[1;33m.\u001b[0m\u001b[0mitem_separator\u001b[0m\u001b[1;33m,\u001b[0m \u001b[0mself\u001b[0m\u001b[1;33m.\u001b[0m\u001b[0msort_keys\u001b[0m\u001b[1;33m,\u001b[0m\u001b[1;33m\u001b[0m\u001b[1;33m\u001b[0m\u001b[0m\n\u001b[0;32m    256\u001b[0m                 self.skipkeys, _one_shot)\n\u001b[1;32m--> 257\u001b[1;33m         \u001b[1;32mreturn\u001b[0m \u001b[0m_iterencode\u001b[0m\u001b[1;33m(\u001b[0m\u001b[0mo\u001b[0m\u001b[1;33m,\u001b[0m \u001b[1;36m0\u001b[0m\u001b[1;33m)\u001b[0m\u001b[1;33m\u001b[0m\u001b[1;33m\u001b[0m\u001b[0m\n\u001b[0m\u001b[0;32m    258\u001b[0m \u001b[1;33m\u001b[0m\u001b[0m\n\u001b[0;32m    259\u001b[0m def _make_iterencode(markers, _default, _encoder, _indent, _floatstr,\n",
      "\u001b[1;32mc:\\users\\akalyuzhin\\appdata\\local\\programs\\python\\python38\\lib\\json\\encoder.py\u001b[0m in \u001b[0;36mdefault\u001b[1;34m(self, o)\u001b[0m\n\u001b[0;32m    177\u001b[0m \u001b[1;33m\u001b[0m\u001b[0m\n\u001b[0;32m    178\u001b[0m         \"\"\"\n\u001b[1;32m--> 179\u001b[1;33m         raise TypeError(f'Object of type {o.__class__.__name__} '\n\u001b[0m\u001b[0;32m    180\u001b[0m                         f'is not JSON serializable')\n\u001b[0;32m    181\u001b[0m \u001b[1;33m\u001b[0m\u001b[0m\n",
      "\u001b[1;31mTypeError\u001b[0m: Object of type User is not JSON serializable"
     ]
    }
   ],
   "source": [
    "import json\n",
    "\n",
    "class User:\n",
    "    def __init__(self, name, age):\n",
    "        self.name = name\n",
    "        self.age = age\n",
    "\n",
    "user = User('Mike', 22)\n",
    "jsonObject = json.dumps(user)"
   ]
  },
  {
   "cell_type": "markdown",
   "id": "d89294e0",
   "metadata": {},
   "source": [
    "If you execute the code above, you can see that object of User class is not be able to be serialize. For serializing of custom objects you should create the custom encoding function for serialization."
   ]
  },
  {
   "cell_type": "code",
   "execution_count": 4,
   "id": "a6f895e8",
   "metadata": {},
   "outputs": [
    {
     "data": {
      "text/plain": [
       "'{\"name\": \"Mike\", \"age\": 22, \"User\": true}'"
      ]
     },
     "execution_count": 4,
     "metadata": {},
     "output_type": "execute_result"
    }
   ],
   "source": [
    "import json\n",
    "\n",
    "class User:\n",
    "    def __init__(self, name, age):\n",
    "        self.name = name\n",
    "        self.age = age\n",
    "        \n",
    "def custom_encoding_function(obj):\n",
    "    if isinstance(obj, User):\n",
    "        # obj.__class__.__name__: True is manual check for using of right class User (it is not necessarily)\n",
    "        return {'name': obj.name, 'age': obj.age, obj.__class__.__name__: True}\n",
    "    else:\n",
    "        raise TypeError(f'Object of type {o} is not JSON serializable')\n",
    "\n",
    "user = User('Mike', 22)\n",
    "jsonObject = json.dumps(user, default=custom_encoding_function)\n",
    "\n",
    "jsonObject"
   ]
  },
  {
   "cell_type": "markdown",
   "id": "6be5f4f1",
   "metadata": {},
   "source": [
    "You also can use JSONEncoder module for json-encoding of custom objects. Then your custom class will be enheritance of JSONEncoder class. And your encoding functions will be overriding of \"default\" function within class itself."
   ]
  },
  {
   "cell_type": "code",
   "execution_count": 10,
   "id": "066c180c",
   "metadata": {},
   "outputs": [
    {
     "name": "stdout",
     "output_type": "stream",
     "text": [
      "json.dumps():  {\"name\": \"Mike\", \"age\": 22, \"User\": true}\n",
      "\n",
      "UserEncoder().encode:  {\"name\": \"Mike\", \"age\": 22, \"User\": true}\n"
     ]
    }
   ],
   "source": [
    "import json\n",
    "\n",
    "class User:\n",
    "    def __init__(self, name, age):\n",
    "        self.name = name\n",
    "        self.age = age\n",
    "        \n",
    "def custom_encoding_function(obj):\n",
    "    if isinstance(obj, User):\n",
    "        # obj.__class__.__name__: True is manual check for using of right class User (it is not necessarily)\n",
    "        return {'name': obj.name, 'age': obj.age, obj.__class__.__name__: True}\n",
    "    else:\n",
    "        raise TypeError(f'Object of type {o} is not JSON serializable')\n",
    "\n",
    "from json import JSONEncoder\n",
    "        \n",
    "class UserEncoder(JSONEncoder):\n",
    "    def default(self, obj):\n",
    "        if isinstance(obj, User):\n",
    "            # obj.__class__.__name__: True is manual check for using of right class User (it is not necessarily)\n",
    "            return {'name': obj.name, 'age': obj.age, obj.__class__.__name__: True}\n",
    "        else:\n",
    "            JSONEncoder.default(self, o)\n",
    "            \n",
    "# Then you should give to your 'dump' function the class UserEncoder (cls) instead of custom function as in example above\n",
    "\n",
    "user = User('Mike', 22)\n",
    "jsonObject = json.dumps(user, cls=UserEncoder)\n",
    "\n",
    "print(\"json.dumps(): \", jsonObject)\n",
    "\n",
    "# Or you can use instead:\n",
    "\n",
    "userJSON = UserEncoder().encode(user)\n",
    "print()\n",
    "print(\"UserEncoder().encode: \", jsonObject)"
   ]
  },
  {
   "cell_type": "markdown",
   "id": "ac6e6deb",
   "metadata": {},
   "source": [
    "If you want to load the JSON object which was received from custom object you still can use the standard 'load' or 'loads' methods."
   ]
  },
  {
   "cell_type": "code",
   "execution_count": 14,
   "id": "cc939bc5",
   "metadata": {},
   "outputs": [
    {
     "name": "stdout",
     "output_type": "stream",
     "text": [
      "{\"name\": \"Mike\", \"age\": 22, \"User\": true} <class 'str'>\n",
      "{'name': 'Mike', 'age': 22, 'User': True} <class 'dict'>\n"
     ]
    }
   ],
   "source": [
    "import json\n",
    "\n",
    "class User:\n",
    "    def __init__(self, name, age):\n",
    "        self.name = name\n",
    "        self.age = age\n",
    "        \n",
    "def custom_encoding_function(obj):\n",
    "    if isinstance(obj, User):\n",
    "        # obj.__class__.__name__: True is manual check for using of right class User (it is not necessarily)\n",
    "        return {'name': obj.name, 'age': obj.age, obj.__class__.__name__: True}\n",
    "    else:\n",
    "        raise TypeError(f'Object of type {o} is not JSON serializable')\n",
    "\n",
    "user = User('Mike', 22)\n",
    "jsonObject = json.dumps(user, default=custom_encoding_function)\n",
    "print(jsonObject, type(jsonObject))\n",
    "\n",
    "# Now we have the custom json string\n",
    "\n",
    "user_dict = json.loads(jsonObject)\n",
    "print(user_dict, type(user_dict))\n",
    "\n",
    "# As you can see, decoding were into a dictionary"
   ]
  },
  {
   "cell_type": "markdown",
   "id": "3b213a26",
   "metadata": {},
   "source": [
    "But for json-decoding in your custom objects also use custom decoding function or ready module in json library as in encoding approach."
   ]
  },
  {
   "cell_type": "code",
   "execution_count": 19,
   "id": "065bc2e7",
   "metadata": {},
   "outputs": [
    {
     "name": "stdout",
     "output_type": "stream",
     "text": [
      "Decoded json string:  {\"name\": \"Mike\", \"age\": 22, \"User\": true}\n",
      "\n",
      "Decoding to object of class User\n",
      "User.name:  Mike\n",
      "User.age:  22\n"
     ]
    }
   ],
   "source": [
    "import json\n",
    "\n",
    "class User:\n",
    "    def __init__(self, name, age):\n",
    "        self.name = name\n",
    "        self.age = age\n",
    "\n",
    "def custom_encoding_function(obj):\n",
    "    if isinstance(obj, User):\n",
    "        # obj.__class__.__name__: True is manual check for using of right class User (it is not necessarily)\n",
    "        return {'name': obj.name, 'age': obj.age, obj.__class__.__name__: True}\n",
    "    else:\n",
    "        raise TypeError(f'Object of type {o} is not JSON serializable')\n",
    "\n",
    "user = User('Mike', 22)\n",
    "jsonObject = json.dumps(user, default=custom_encoding_function)\n",
    "print(\"Decoded json string: \", jsonObject)\n",
    "print()\n",
    "\n",
    "# This custom function only for User class and for decoding into object of this class\n",
    "def decode_user(dct):\n",
    "    if User.__name__ in dct:\n",
    "        return User(name=dct['name'], age=dct['age'])\n",
    "    else: dct\n",
    "        \n",
    "user_obj = json.loads(jsonObject, object_hook=decode_user)\n",
    "print('Decoding to object of class User')\n",
    "print(\"User.name: \", user_obj.name)\n",
    "print(\"User.age: \", user_obj.age)"
   ]
  },
  {
   "cell_type": "markdown",
   "id": "fc4c14a8",
   "metadata": {},
   "source": [
    "# Random numbers"
   ]
  },
  {
   "cell_type": "code",
   "execution_count": null,
   "id": "967eeaf2",
   "metadata": {},
   "outputs": [],
   "source": [
    "import random\n",
    "import secrets\n",
    "import numpy as np"
   ]
  },
  {
   "cell_type": "markdown",
   "id": "6bc71150",
   "metadata": {},
   "source": [
    "## Pseudo random numbers"
   ]
  },
  {
   "cell_type": "markdown",
   "id": "7b86edf7",
   "metadata": {},
   "source": [
    "Such numbers contains in 'random' module"
   ]
  },
  {
   "cell_type": "code",
   "execution_count": null,
   "id": "2f432462",
   "metadata": {},
   "outputs": [],
   "source": [
    "# The random float number from range [0, 1] uniformly distributed\n",
    "r = random.random()\n",
    "r"
   ]
  },
  {
   "cell_type": "code",
   "execution_count": null,
   "id": "02e2fa86",
   "metadata": {},
   "outputs": [],
   "source": [
    "a = 1\n",
    "b = 10\n",
    "\n",
    "# The random float number from range [a, b] uniformly distributed\n",
    "r = random.uniform(a, b)\n",
    "r"
   ]
  },
  {
   "cell_type": "code",
   "execution_count": null,
   "id": "26033403",
   "metadata": {},
   "outputs": [],
   "source": [
    "a = 1\n",
    "b = 10\n",
    "\n",
    "# The random integer number from range [a, b) uniformly distributed\n",
    "r1 = random.randint(a, b)\n",
    "\n",
    "# The random integer number from range [a, b] uniformly distributed\n",
    "r2 = random.randrange(a, b)\n",
    "\n",
    "print(\"r1 = \", r1)\n",
    "print(\"r2 = \", r2)"
   ]
  },
  {
   "cell_type": "code",
   "execution_count": null,
   "id": "ed731bd5",
   "metadata": {},
   "outputs": [],
   "source": [
    "mu = 0\n",
    "sigma = 1\n",
    "\n",
    "# The random float number, Gausian distribution with mu and sigma\n",
    "r = random.normalvariate(mu, sigma)\n",
    "r"
   ]
  },
  {
   "cell_type": "code",
   "execution_count": null,
   "id": "92d7d35f",
   "metadata": {},
   "outputs": [],
   "source": [
    "lst = list(\"ABCDEFGHIJK\")\n",
    "\n",
    "# Random element of iterable collection lst\n",
    "r = random.choice(lst)\n",
    "r"
   ]
  },
  {
   "cell_type": "markdown",
   "id": "fa2394d4",
   "metadata": {},
   "source": [
    "## Truly random numbers"
   ]
  },
  {
   "cell_type": "markdown",
   "id": "26a68815",
   "metadata": {},
   "source": [
    "Such numbers contains in 'secrets' module"
   ]
  },
  {
   "cell_type": "code",
   "execution_count": null,
   "id": "a737220c",
   "metadata": {},
   "outputs": [],
   "source": [
    "N = 10\n",
    "\n",
    "# Truly random non-negative integer number which smaller than N\n",
    "r = secrets.randbelow(N)\n",
    "r"
   ]
  },
  {
   "cell_type": "code",
   "execution_count": null,
   "id": "769cef9a",
   "metadata": {},
   "outputs": [],
   "source": [
    "N = 5\n",
    "\n",
    "# Truly random number whih consists of binary bits \n",
    "# N is the number of random bits, for example if N = 4 we have 1010 or 0111 or something similar, but from 4 bits\n",
    "# if N = 5, then, for example 11001\n",
    "\n",
    "# And then this number transform to decimal\n",
    "\n",
    "r = secrets.randbits(N)\n",
    "r"
   ]
  },
  {
   "cell_type": "code",
   "execution_count": null,
   "id": "84ff2939",
   "metadata": {},
   "outputs": [],
   "source": [
    "lst = list(\"ABCDEFGHIJK\")\n",
    "\n",
    "# Truly random element of iterable collection lst (not reprodusible)\n",
    "r = secrets.choice(lst)\n",
    "r"
   ]
  },
  {
   "cell_type": "markdown",
   "id": "8d157064",
   "metadata": {},
   "source": [
    "## Sequences"
   ]
  },
  {
   "cell_type": "code",
   "execution_count": null,
   "id": "c46f376c",
   "metadata": {},
   "outputs": [],
   "source": [
    "lst = list(\"ABCDEFGHIJK\")\n",
    "\n",
    "N = 3\n",
    "# N random elements of iterable collection lst\n",
    "# This is unique set of elements (without repetitions of elements of initial collection)\n",
    "r = random.sample(lst, N)\n",
    "r"
   ]
  },
  {
   "cell_type": "code",
   "execution_count": null,
   "id": "867981b2",
   "metadata": {},
   "outputs": [],
   "source": [
    "lst = list(\"ABCDEFGHIJK\")\n",
    "\n",
    "k = 3\n",
    "# k random elements of iterable collection lst\n",
    "# This is not unique set of elements (with repetitions of elements of initial collection)\n",
    "r = random.choices(lst, k=k)\n",
    "r"
   ]
  },
  {
   "cell_type": "code",
   "execution_count": null,
   "id": "40c1140d",
   "metadata": {},
   "outputs": [],
   "source": [
    "lst = list(\"ABCDEFGHIJK\")\n",
    "\n",
    "# Shuffles elements of the initial collection\n",
    "random.shuffle(lst)\n",
    "lst"
   ]
  },
  {
   "cell_type": "markdown",
   "id": "b26a927f",
   "metadata": {},
   "source": [
    "## Seed"
   ]
  },
  {
   "cell_type": "markdown",
   "id": "c20227e6",
   "metadata": {},
   "source": [
    "Seed is the method which uses in order to make random numbers reproducible.\n",
    "\n",
    "For example, you want to reuse the same random numbers without creation of new variables, i.e. you need to your random numbers just created the same. And it's exactly what seed() does. Random numbers, which initialized by 'random' module with the same seed will the same numbers. Moreover, seed() uses to store a random method for generating the same random numbers when using the code multiple times on the same or different machines."
   ]
  },
  {
   "cell_type": "markdown",
   "id": "049ce972",
   "metadata": {},
   "source": [
    "Seed is important for computer security because it pseudo-randomly generates a secure private encryption key. Thus, by using a custom initial value, you can initialize the secure pseudo-random number generator in the place you want. It is nit recomended to use in order to provide security."
   ]
  },
  {
   "cell_type": "code",
   "execution_count": null,
   "id": "8b37179f",
   "metadata": {},
   "outputs": [],
   "source": [
    "random.seed(1)\n",
    "print(\"seed = 1\")\n",
    "print(random.random())\n",
    "print(random.randint(1, 10),\"\\n\")\n",
    "\n",
    "random.seed(2)\n",
    "print(\"seed = 2\")\n",
    "print(random.random())\n",
    "print(random.randint(1, 10),\"\\n\")\n",
    "\n",
    "random.seed(1)\n",
    "print(\"seed = 1\")\n",
    "print(random.random())\n",
    "print(random.randint(1, 10),\"\\n\")\n",
    "\n",
    "random.seed(2)\n",
    "print(\"seed = 2\")\n",
    "print(random.random())\n",
    "print(random.randint(1, 10))"
   ]
  },
  {
   "cell_type": "markdown",
   "id": "3c20c576",
   "metadata": {},
   "source": [
    "## Arrays"
   ]
  },
  {
   "cell_type": "markdown",
   "id": "79bdee0b",
   "metadata": {},
   "source": [
    "Work with random arrays provide wih help of 'numpy.random' module "
   ]
  },
  {
   "cell_type": "code",
   "execution_count": null,
   "id": "0e018d0c",
   "metadata": {},
   "outputs": [],
   "source": [
    "N = 3\n",
    "\n",
    "# Create numpy array with N random float numbers\n",
    "r = np.random.rand(N)\n",
    "r"
   ]
  },
  {
   "cell_type": "code",
   "execution_count": null,
   "id": "55d2c6df",
   "metadata": {},
   "outputs": [],
   "source": [
    "N = 2\n",
    "M = 3\n",
    "\n",
    "# Create numpy array with NxM random float numbers\n",
    "r = np.random.rand(N, M)\n",
    "r"
   ]
  },
  {
   "cell_type": "code",
   "execution_count": null,
   "id": "f086cd79",
   "metadata": {},
   "outputs": [],
   "source": [
    "N = 2\n",
    "M = 3\n",
    "\n",
    "a = 1\n",
    "b = 10\n",
    "\n",
    "# Create numpy array with NxM random integer numbers from range [a, b]\n",
    "r = np.random.randint(a, b, (N, M))\n",
    "r"
   ]
  },
  {
   "cell_type": "code",
   "execution_count": null,
   "id": "7f1c0660",
   "metadata": {},
   "outputs": [],
   "source": [
    "arr = np.array([[1, 2, 3], [4, 5, 6], [7, 8, 9]])\n",
    "\n",
    "np.random.shuffle(arr)\n",
    "\n",
    "# elements of raws never switch between each other, but raws switch\n",
    "\n",
    "arr"
   ]
  },
  {
   "cell_type": "markdown",
   "id": "3c5ddc79",
   "metadata": {},
   "source": [
    "In numpy.random also uses the seed"
   ]
  },
  {
   "cell_type": "code",
   "execution_count": null,
   "id": "eeb4cde7",
   "metadata": {},
   "outputs": [],
   "source": [
    "np.random.seed(1)\n",
    "\n",
    "r = np.random.rand(N, M)\n",
    "print(r, \"\\n\")\n",
    "\n",
    "np.random.seed(1)\n",
    "\n",
    "r = np.random.rand(N, M)\n",
    "print(r)"
   ]
  },
  {
   "cell_type": "markdown",
   "id": "ec47aff2",
   "metadata": {},
   "source": [
    "# Shallow vs Deep copying"
   ]
  },
  {
   "cell_type": "markdown",
   "id": "4445457d",
   "metadata": {},
   "source": [
    "First of all, copying can do with help of assignment operator. For non-mutable types it is no problem:"
   ]
  },
  {
   "cell_type": "code",
   "execution_count": 17,
   "id": "a43620a9",
   "metadata": {},
   "outputs": [
    {
     "name": "stdout",
     "output_type": "stream",
     "text": [
      "original = 5\n",
      "copy = 6\n"
     ]
    }
   ],
   "source": [
    "original = 5\n",
    "copy = original\n",
    "# then we change the copy\n",
    "copy = 6\n",
    "print(\"original =\",original)\n",
    "print('copy =', copy)\n",
    "\n",
    "# here no problem because of re-assignment"
   ]
  },
  {
   "cell_type": "markdown",
   "id": "805d2cc1",
   "metadata": {},
   "source": [
    "But you must be careful with mutable datatypes (for example, with lists):"
   ]
  },
  {
   "cell_type": "code",
   "execution_count": 18,
   "id": "6ca24ef5",
   "metadata": {},
   "outputs": [
    {
     "name": "stdout",
     "output_type": "stream",
     "text": [
      "original = [1, 2, 3, 4, 5, 6, 7]\n",
      "copy = [1, 2, 3, 4, 5, 6, 7]\n"
     ]
    }
   ],
   "source": [
    "original = [1,2,3,4,5,6]\n",
    "copy = original\n",
    "# then we change the copy\n",
    "copy.append(7)\n",
    "print(\"original =\", original)\n",
    "print('copy =', copy)\n",
    "\n",
    "# As you can see, changing of copy provides changing of original\n",
    "# This is because in this case copy is not actual copy - original and copy point on the same memory area"
   ]
  },
  {
   "cell_type": "markdown",
   "id": "cfb21d65",
   "metadata": {},
   "source": [
    "For copying of mutable custom objects or standard datatypes you need use the copy module:"
   ]
  },
  {
   "cell_type": "code",
   "execution_count": 20,
   "id": "e3f36bf5",
   "metadata": {},
   "outputs": [],
   "source": [
    "import copy"
   ]
  },
  {
   "cell_type": "markdown",
   "id": "87b44e43",
   "metadata": {},
   "source": [
    "## Shallow copy\n",
    "\n",
    "One level deep, it only copies references of nested child objects"
   ]
  },
  {
   "cell_type": "code",
   "execution_count": 21,
   "id": "dc3e0427",
   "metadata": {},
   "outputs": [
    {
     "name": "stdout",
     "output_type": "stream",
     "text": [
      "original = [1, 2, 3, 4, 5, 6]\n",
      "copy = [1, 2, 3, 4, 5, 6, 7]\n"
     ]
    }
   ],
   "source": [
    "import copy\n",
    "\n",
    "original = [1,2,3,4,5,6]\n",
    "copy = copy.copy(original)\n",
    "# then we change the copy\n",
    "copy.append(7)\n",
    "print(\"original =\", original)\n",
    "print('copy =', copy)"
   ]
  },
  {
   "cell_type": "markdown",
   "id": "67670d3e",
   "metadata": {},
   "source": [
    "As you can see above original is not affected by changing of copy."
   ]
  },
  {
   "cell_type": "code",
   "execution_count": 24,
   "id": "3fe7bb10",
   "metadata": {},
   "outputs": [
    {
     "name": "stdout",
     "output_type": "stream",
     "text": [
      "original = [1, 2, 3, 4, 5, 6]\n",
      "copy1 = [1, 2, 3, 4, 5, 6, 7]\n",
      "copy2 = [1, 2, 3, 4, 5, 6, 8]\n",
      "copy3 = [1, 2, 3, 4, 5, 6, 9]\n",
      "copy4 = [1, 2, 3, 4, 5, 6, 10]\n"
     ]
    }
   ],
   "source": [
    "import copy\n",
    "\n",
    "# There is few ways to create shallow copy:\n",
    "\n",
    "original = [1,2,3,4,5,6]\n",
    "copy1 = copy.copy(original)\n",
    "copy2 = original.copy()\n",
    "copy3 = list(original)\n",
    "copy4 = original[:]\n",
    "# then we change the copy\n",
    "copy1.append(7)\n",
    "copy2.append(8)\n",
    "copy3.append(9)\n",
    "copy4.append(10)\n",
    "print(\"original =\", original)\n",
    "print('copy1 =', copy1)\n",
    "print('copy2 =', copy2)\n",
    "print('copy3 =', copy3)\n",
    "print('copy4 =', copy4)"
   ]
  },
  {
   "cell_type": "markdown",
   "id": "082cbb82",
   "metadata": {},
   "source": [
    "Shallow copy works good if our object has only one level deep - if it have no nested levels (for example, nested list has the first level as list and have other nested levels as lists too)."
   ]
  },
  {
   "cell_type": "code",
   "execution_count": 26,
   "id": "589e9cf1",
   "metadata": {},
   "outputs": [
    {
     "name": "stdout",
     "output_type": "stream",
     "text": [
      "original = [[1, 1], [2], [3], [4], [5], [6]]\n",
      "copy = [[1, 1], [2], [3], [4], [5], [6]]\n"
     ]
    }
   ],
   "source": [
    "import copy\n",
    "\n",
    "original = [[1],[2],[3],[4],[5],[6]]\n",
    "# shallow copy of nested list\n",
    "copy = copy.copy(original)\n",
    "copy[0].append(1)\n",
    "\n",
    "print(\"original =\", original)\n",
    "print('copy =', copy)"
   ]
  },
  {
   "cell_type": "markdown",
   "id": "233544bb",
   "metadata": {},
   "source": [
    "Above you can see that original affected by changing of copy again! For object with nested structure you must use the deep copies."
   ]
  },
  {
   "cell_type": "markdown",
   "id": "ce508570",
   "metadata": {},
   "source": [
    "## Deep copy\n",
    "\n",
    "Full independent copy"
   ]
  },
  {
   "cell_type": "code",
   "execution_count": 27,
   "id": "f0f99518",
   "metadata": {},
   "outputs": [
    {
     "name": "stdout",
     "output_type": "stream",
     "text": [
      "original = [[1], [2], [3], [4], [5], [6]]\n",
      "copy = [[1, 1], [2], [3], [4], [5], [6]]\n"
     ]
    }
   ],
   "source": [
    "import copy\n",
    "\n",
    "original = [[1],[2],[3],[4],[5],[6]]\n",
    "# shallow copy of nested list\n",
    "copy = copy.deepcopy(original)\n",
    "copy[0].append(1)\n",
    "\n",
    "print(\"original =\", original)\n",
    "print('copy =', copy)"
   ]
  },
  {
   "cell_type": "code",
   "execution_count": 29,
   "id": "c56d2668",
   "metadata": {},
   "outputs": [
    {
     "name": "stdout",
     "output_type": "stream",
     "text": [
      "original = [[[[1]]], [2], [3], [4], [5], [6]]\n",
      "copy = [[[[1, 1]]], [2], [3], [4], [5], [6]]\n"
     ]
    }
   ],
   "source": [
    "import copy\n",
    "\n",
    "original = [[[[1]]],[2],[3],[4],[5],[6]]\n",
    "# shallow copy of nested list\n",
    "copy = copy.deepcopy(original)\n",
    "copy[0][0][0].append(1)\n",
    "\n",
    "print(\"original =\", original)\n",
    "print('copy =', copy)"
   ]
  },
  {
   "cell_type": "markdown",
   "id": "311d374f",
   "metadata": {},
   "source": [
    "You can see above that doesn't matter how many nested layers object has. Deep copy create full independent copy in another area of memory.\n",
    "\n",
    "This works for objects of standard Python classes and for custom objects.\n",
    "\n",
    "You must remember the following rules of copying usage in Python:\n",
    "* Use shallow copy if your object has only one layer in his structure (it has no nested layers - including object layers access to which you can receive by dot)\n",
    "* Use deep copy if your object has at least one nested layer in his structure (including object layers access to which you can receive by dot)"
   ]
  },
  {
   "cell_type": "markdown",
   "id": "7ef634d5",
   "metadata": {},
   "source": [
    "# Context managers\n",
    "\n",
    "Context managers allow you to allocate and release resources precisely when you want to. The most widely used example of context managers is the with statement ('with open' for files and 'with lock' for Lock() object for multiprocessing/multithreading). Suppose you have two related operations which you’d like to execute as a pair, with a block of code in between. Context managers allow you to do specifically that."
   ]
  },
  {
   "cell_type": "code",
   "execution_count": 1,
   "id": "312b0153",
   "metadata": {},
   "outputs": [],
   "source": [
    "# reading files without context managers\n",
    "\n",
    "file = open(\"text.txt\", \"r\")\n",
    "try:\n",
    "    file.read()\n",
    "finally:\n",
    "    file.close()"
   ]
  },
  {
   "cell_type": "code",
   "execution_count": null,
   "id": "614552bc",
   "metadata": {},
   "outputs": [],
   "source": [
    "# reading files with context managers\n",
    "\n",
    "with open(\"text.txt\", \"r\")\n",
    "    file.read()"
   ]
  },
  {
   "cell_type": "markdown",
   "id": "c5ee6715",
   "metadata": {},
   "source": [
    "After comparison of two examples above of reading of file you can make a conclusion about how context managers makes your code shorter and more clear.\n",
    "\n",
    "But in Python you can implement your own custom context manager. For example, let it be context manager for files too:"
   ]
  },
  {
   "cell_type": "code",
   "execution_count": 4,
   "id": "73684729",
   "metadata": {},
   "outputs": [
    {
     "name": "stdout",
     "output_type": "stream",
     "text": [
      "Init\n",
      "Enter\n",
      "agshagdhsdhgsadhga\n",
      "sadfasgdafg\n",
      "asgsadgsadg123124\n",
      "sa gaadfgdfdsfha\n",
      "gSGDFGDAHSFHAD\n",
      "sdf\n",
      "dfg\n",
      "dffhfgh\n",
      "Exit\n",
      "\n",
      "Init\n",
      "Enter\n",
      "Some exception has been handled\n",
      "Exit\n"
     ]
    }
   ],
   "source": [
    "class ManagedFile():\n",
    "    def __init__(self, filename):\n",
    "        print(\"Init\")\n",
    "        self.filename = filename\n",
    "    \n",
    "    # this method will be executed as soon as you enter 'with' statement\n",
    "    # then here you must allocate your resourses\n",
    "    def __enter__(self):\n",
    "        print(\"Enter\")\n",
    "        self.file = open(self.filename, \"r\")\n",
    "        return self.file\n",
    "    \n",
    "    # here you make sure that you correctly close file\n",
    "    def __exit__(self, exc_type, exc_value, exc_traceback):\n",
    "        if self.file:\n",
    "            self.file.close()\n",
    "        #exeption handling:\n",
    "        if exc_type is not None:\n",
    "            print(\"Some exception has been handled\")\n",
    "        print(\"Exit\")\n",
    "        return True\n",
    "        \n",
    "\n",
    "# now use our context manager:\n",
    "\n",
    "with ManagedFile(\"text.txt\") as file:\n",
    "    print(file.read())\n",
    "\n",
    "# As you can see it works absolutely correct\n",
    "\n",
    "print()\n",
    "# Work with exception\n",
    "with ManagedFile(\"text.txt\") as file:\n",
    "    # there is no such method in class - exception raised \n",
    "    print(file.somemethod())\n"
   ]
  },
  {
   "cell_type": "markdown",
   "id": "d3ff6102",
   "metadata": {},
   "source": [
    "Also you can use the 'contextlib' library for creation of context managers. Usage of this library based on using of decorators of functions."
   ]
  },
  {
   "cell_type": "code",
   "execution_count": 6,
   "id": "efca0b0f",
   "metadata": {},
   "outputs": [
    {
     "name": "stdout",
     "output_type": "stream",
     "text": [
      "agshagdhsdhgsadhga\n",
      "sadfasgdafg\n",
      "asgsadgsadg123124\n",
      "sa gaadfgdfdsfha\n",
      "gSGDFGDAHSFHAD\n",
      "sdf\n",
      "dfg\n",
      "dffhfgh\n"
     ]
    }
   ],
   "source": [
    "from contextlib import contextmanager\n",
    "\n",
    "# use decorator of contextmanager\n",
    "@contextmanager\n",
    "def some_file_manager(filename):\n",
    "    f = open(filename, \"r\")\n",
    "    try:\n",
    "        # this is generator\n",
    "        # it will first make sure that allocation of resources correct \n",
    "        yield f\n",
    "        # by yielding it will temporary suspend its own execution\n",
    "        # so we can continue use this file (do some operations) \n",
    "    finally:\n",
    "        # and at the end we close the file\n",
    "        f.close()\n",
    "        \n",
    "# and now we can use the context manager with name some_file_manager\n",
    "with some_file_manager(\"text.txt\") as file:\n",
    "    print(file.read())\n",
    "    \n",
    "# As you can see it works absolutely correct"
   ]
  },
  {
   "cell_type": "markdown",
   "id": "0470d887",
   "metadata": {},
   "source": [
    "# Multithreading and multiprocessing"
   ]
  },
  {
   "cell_type": "markdown",
   "id": "74ac8033",
   "metadata": {},
   "source": [
    "## Processes and Threads"
   ]
  },
  {
   "cell_type": "markdown",
   "id": "1d32f826",
   "metadata": {},
   "source": [
    "First of all, it is important to understand difference between processes and threads. And then it is important to understand advantages and disadvantages both of them. Processes and threads are related to each other, but they have significant differences.\n",
    "\n",
    "A process is an instance of a program at runtime, an independent entity that is allocated system resources (such as CPU time and memory). Each process runs in a separate address space: one process cannot access the variables and data structures of another. If a process wants to access other people's resources, it must use inter-process communication. These can be pipelines, files, communication channels between computers, and much more.\n",
    "\n",
    "A thread uses the same stack space as a process, and multiple threads share their state data. As a rule, each thread can work (read and write) with the same area of memory, unlike processes, which cannot simply access the memory of another process. Each thread has its own registers and its own stack, but other threads can use them.\n",
    "\n",
    "A thread is a specific way of executing a process. When one thread changes a resource in a process, the change is immediately visible to other threads in that process."
   ]
  },
  {
   "cell_type": "markdown",
   "id": "6424c1ce",
   "metadata": {},
   "source": [
    "In other words, process is some program at runtime condition, and thred is some handler within process."
   ]
  },
  {
   "cell_type": "markdown",
   "id": "729df965",
   "metadata": {},
   "source": [
    "As a summary it can be noticed the following advantages and disadvantages of using of processes and threads:"
   ]
  },
  {
   "cell_type": "markdown",
   "id": "222dd7b2",
   "metadata": {},
   "source": [
    "### Processes\n",
    "\n",
    "Process: An instance of a program (e.g. a Python interpreter at runtime condition)\n",
    "\n",
    "Advantages of multiprocessing:\n",
    "* Takes advantage of multiple CPUs and cores (you can execute your code on multiple CPUs parallel)\n",
    "* Processes uses different memory spaces thus memory is not shared between processes (corollary: new processes started independently from other processes)\n",
    "* Multiprocessing provides using of multiple CPUs for execution of multiple programs that speeds up your code - it great for CPU-bound processing\n",
    "* Processes are interruptable\\killable\n",
    "* One GIL (Global Interpreter Lock - mutex in other words) for each process thus it avoids GIL limitation (In other words, Deadlock is not possible with processes).\n",
    "\n",
    "\n",
    "Disadvantages of multiprocessing:\n",
    "* Process consumes more memory than thread - Heavyweight\n",
    "* Starting a process is slower than starting a thread - memory sharing between processes is not so easy\n",
    "* IPC (inter-process communication) is more complicated"
   ]
  },
  {
   "cell_type": "markdown",
   "id": "8711206d",
   "metadata": {},
   "source": [
    "### Threads\n",
    "\n",
    "Threads: An entity within a process that can be scheduled (aka \"leightweight process\"). A process can spawn multiple threads.\n",
    "\n",
    "Advantages of multithreading:\n",
    "* All threads within process share the same memory\n",
    "* Thread consumes more memory than process - Leightweight\n",
    "* Starting a thread is faster than starting a process\n",
    "* Threads great for I/O(input-output)-bound task\n",
    "\n",
    "Disadvantages of multithreading:\n",
    "* Threading is limited by GIL (Global Interpreter Lock - mutex in other words): Only one thread at a time when it catched by GIL (nessesarity of using mutexes).\n",
    "* Multithreading has no effect for CPU-bound tasks\n",
    "* Threads not interruptable/killable\n",
    "* You must be careful with situations when few threads may modify the same object or variable or some other area of memory (race conditions) - here you must synchronize threads and use mutexes. Otherwise, you risk causing a bug or crush of your program.\n",
    "* For two threads Deadlock is possible when order of mutexes catching is wrong."
   ]
  },
  {
   "cell_type": "markdown",
   "id": "d81ade2b",
   "metadata": {},
   "source": [
    "### GIL (Global Interpreter Lock)\n",
    "\n",
    "It is a lock that allows only one thread at a time to execute in Python (in C++ it corresponds to lock() method in mutexes)\n",
    "\n",
    "GIL is needed in CPython because memory management is not thread-safe there (this is inheritance of mutexes from C++).\n",
    "\n",
    "You should avoid of using GIL when:\n",
    "* Using multiporcessing\n",
    "* Using a different, free-threads Python implementation (Jyton, IronPython)\n",
    "* Using Python as wrapper for third-party libraries (C/C++) such as numpy or scipy."
   ]
  },
  {
   "cell_type": "markdown",
   "id": "58f6441c",
   "metadata": {},
   "source": [
    "## Multithreading vs Multiprocessing\n",
    "\n",
    "Here we consider simple examples of using of Multithreading and Multiprocessing."
   ]
  },
  {
   "cell_type": "code",
   "execution_count": 3,
   "id": "35fd6f00",
   "metadata": {},
   "outputs": [
    {
     "name": "stdout",
     "output_type": "stream",
     "text": [
      "End main thread\n"
     ]
    }
   ],
   "source": [
    "# Multiprocessing\n",
    "\n",
    "from multiprocessing import Process\n",
    "import os\n",
    "\n",
    "def square_numbers(N):\n",
    "    for i in range(N):\n",
    "        i*i\n",
    "\n",
    "processes = []\n",
    "# number of processes preferable take equals to cpu cores number\n",
    "num_of_processes = os.cpu_count()\n",
    "N = 100\n",
    "for i in range(num_of_processes):\n",
    "    # target is a callable object or a function which must be executed within this process\n",
    "    #args is always a tuple - this is parameters of function\n",
    "    p = Process(target=square_numbers, args=(N,))\n",
    "    processes.append(p)\n",
    "    \n",
    "#start\n",
    "for p in processes:\n",
    "    #you need to start the particular process manual\n",
    "    p.start()\n",
    "\n",
    "#join - it is equivalent of join() method in C++\n",
    "#it tells to main thread of program that it must wait to execution of all the processes\n",
    "for p in processes:\n",
    "    p.join()\n",
    "\n",
    "print('End main thread')"
   ]
  },
  {
   "cell_type": "code",
   "execution_count": 4,
   "id": "0c07a04a",
   "metadata": {},
   "outputs": [
    {
     "name": "stdout",
     "output_type": "stream",
     "text": [
      "End main thread\n"
     ]
    }
   ],
   "source": [
    "# Multithreading\n",
    "\n",
    "from threading import Thread\n",
    "import os\n",
    "\n",
    "def square_numbers(N):\n",
    "    for i in range(N):\n",
    "        i*i\n",
    "\n",
    "threads = []\n",
    "\n",
    "num_of_threads = 10\n",
    "N = 100\n",
    "for i in range(num_of_threads):\n",
    "    # target is a callable object or a function which must be executed within this process\n",
    "    #args is always a tuple - this is parameters of function\n",
    "    th = Thread(target=square_numbers, args=(N,))\n",
    "    threads.append(th)\n",
    "    \n",
    "#start\n",
    "for th in threads:\n",
    "    #you need to start the particular process manual\n",
    "    th.start()\n",
    "\n",
    "#join - it is equivalent of join() method in C++\n",
    "#it tells to main thread of program that it must wait to execution of all the processes\n",
    "for th in threads:\n",
    "    th.join()\n",
    "\n",
    "print('End main thread')"
   ]
  },
  {
   "cell_type": "markdown",
   "id": "68dec2f4",
   "metadata": {},
   "source": [
    "## Multithreading\n",
    "\n",
    "Here we consider more details about multithreading in Python."
   ]
  },
  {
   "cell_type": "markdown",
   "id": "e6ce8374",
   "metadata": {},
   "source": [
    "### Dividing of work between threads"
   ]
  },
  {
   "cell_type": "code",
   "execution_count": 12,
   "id": "460d2178",
   "metadata": {},
   "outputs": [
    {
     "name": "stdout",
     "output_type": "stream",
     "text": [
      "Calling of functions in main thread:\n",
      "This is the MainThread, a+b=5\n",
      "This is the MainThread\n",
      "Execution time=0:00:02.521849\n",
      "\n",
      "Calling of functions in different threads:\n",
      "This is the Thread-14, a+b=5\n",
      "This is the Thread-15\n",
      "Execution time=0:00:01.322589\n"
     ]
    }
   ],
   "source": [
    "from threading import Thread, current_thread\n",
    "import time\n",
    "from datetime import datetime\n",
    "\n",
    "def Worker1(a, b):\n",
    "    time.sleep(1.2)\n",
    "    print(f\"This is the {current_thread().name}, a+b={a+b}\")\n",
    "    \n",
    "def Worker2():\n",
    "    time.sleep(1.3)\n",
    "    print(f\"This is the {current_thread().name}\")\n",
    "\n",
    "print(\"Calling of functions in main thread:\")\n",
    "nt = datetime.now()\n",
    "Worker1(1, 4)\n",
    "Worker2()\n",
    "print(f\"Execution time={datetime.now()-nt}\")\n",
    "print()\n",
    "\n",
    "\n",
    "print(\"Calling of functions in different threads:\")\n",
    "nt = datetime.now()\n",
    "th1 = Thread(target=Worker1, args=(1, 4))\n",
    "th2 = Thread(target=Worker2)\n",
    "\n",
    "th1.start()\n",
    "th2.start()\n",
    "\n",
    "th1.join()\n",
    "th2.join()\n",
    "print(f\"Execution time={datetime.now()-nt}\")"
   ]
  },
  {
   "cell_type": "markdown",
   "id": "fdff354f",
   "metadata": {},
   "source": [
    "As you can see above, there is significant advance in execution time."
   ]
  },
  {
   "cell_type": "markdown",
   "id": "0a42362d",
   "metadata": {},
   "source": [
    "### Using of GIL when race condition (Locks of threads in Python)"
   ]
  },
  {
   "cell_type": "code",
   "execution_count": 11,
   "id": "186bfa08",
   "metadata": {},
   "outputs": [
    {
     "name": "stdout",
     "output_type": "stream",
     "text": [
      "Start database value 0\n",
      "End database value 1\n"
     ]
    }
   ],
   "source": [
    "from threading import Thread, Lock\n",
    "import time\n",
    "\n",
    "database_value = 0\n",
    "\n",
    "def increase(lock):\n",
    "    global database_value\n",
    "    local_copy = database_value\n",
    "    local_copy += 1\n",
    "    time.sleep(0.1)\n",
    "    \n",
    "    database_value = local_copy\n",
    "\n",
    "print(\"Start database value\", database_value)\n",
    "\n",
    "lock = Lock()\n",
    "\n",
    "#here database value increases\n",
    "th1 = Thread(target=increase, args=(lock,))\n",
    "th2 = Thread(target=increase, args=(lock,))\n",
    "\n",
    "th1.start()\n",
    "th2.start()\n",
    "\n",
    "th1.join()\n",
    "th2.join()\n",
    "\n",
    "print(\"End database value\", database_value)"
   ]
  },
  {
   "cell_type": "markdown",
   "id": "bf07e175",
   "metadata": {},
   "source": [
    "Result above is not expected result because of race condition occurs"
   ]
  },
  {
   "cell_type": "code",
   "execution_count": 7,
   "id": "6a575eb5",
   "metadata": {},
   "outputs": [
    {
     "name": "stdout",
     "output_type": "stream",
     "text": [
      "Start database value 0\n",
      "End database value 2\n"
     ]
    }
   ],
   "source": [
    "from threading import Thread, Lock\n",
    "import time\n",
    "\n",
    "database_value = 0\n",
    "\n",
    "def increase(lock):\n",
    "    global database_value\n",
    "    #because of this function modifies the value\n",
    "    #we must use the locks of threads (mutexes)\n",
    "    lock.acquire()\n",
    "    local_copy = database_value\n",
    "    local_copy += 1\n",
    "    time.sleep(0.1)\n",
    "    lock.release()\n",
    "    \n",
    "    database_value = local_copy\n",
    "\n",
    "print(\"Start database value\", database_value)\n",
    "\n",
    "lock = Lock()\n",
    "\n",
    "#here database value increases\n",
    "th1 = Thread(target=increase, args=(lock,))\n",
    "th2 = Thread(target=increase, args=(lock,))\n",
    "\n",
    "th1.start()\n",
    "th2.start()\n",
    "\n",
    "th1.join()\n",
    "th2.join()\n",
    "\n",
    "print(\"End database value\", database_value)"
   ]
  },
  {
   "cell_type": "code",
   "execution_count": 9,
   "id": "e1ebf28c",
   "metadata": {},
   "outputs": [
    {
     "name": "stdout",
     "output_type": "stream",
     "text": [
      "Start database value 0\n",
      "End database value 2\n"
     ]
    }
   ],
   "source": [
    "from threading import Thread, Lock\n",
    "import time\n",
    "\n",
    "database_value = 0\n",
    "\n",
    "def increase(lock):\n",
    "    global database_value\n",
    "    #because of this function modifies the value\n",
    "    #we must use the locks of threads (mutexes)\n",
    "    #but we also can use the context manager and recieve the same result\n",
    "    with lock:\n",
    "        local_copy = database_value\n",
    "        local_copy += 1\n",
    "        time.sleep(0.1)\n",
    "    \n",
    "    database_value = local_copy\n",
    "\n",
    "print(\"Start database value\", database_value)\n",
    "\n",
    "lock = Lock()\n",
    "\n",
    "#here database value increases\n",
    "th1 = Thread(target=increase, args=(lock,))\n",
    "th2 = Thread(target=increase, args=(lock,))\n",
    "\n",
    "th1.start()\n",
    "th2.start()\n",
    "\n",
    "th1.join()\n",
    "th2.join()\n",
    "\n",
    "print(\"End database value\", database_value)"
   ]
  },
  {
   "cell_type": "markdown",
   "id": "707944d4",
   "metadata": {},
   "source": [
    "### Queues in Python and multithreading\n",
    "\n",
    "Queues are exellent for thread-safe and process-safe data exchnges and data processing in miltithread or multiprocessing environments."
   ]
  },
  {
   "cell_type": "code",
   "execution_count": 1,
   "id": "bd6e4e18",
   "metadata": {},
   "outputs": [
    {
     "name": "stdout",
     "output_type": "stream",
     "text": [
      "q is empty:  False\n",
      "1 2 3\n",
      "q is empty:  True\n"
     ]
    }
   ],
   "source": [
    "# Consider the simple example of using\n",
    "from threading import Thread, Lock\n",
    "import time\n",
    "from queue import Queue\n",
    "\n",
    "q = Queue()\n",
    "\n",
    "#putting of elements in queue\n",
    "q.put(1)\n",
    "q.put(2)\n",
    "q.put(3)\n",
    "\n",
    "#get() - pops the first current element of queue\n",
    "print(\"q is empty: \", q.empty())\n",
    "first = q.get()\n",
    "second = q.get()\n",
    "third = q.get()\n",
    "print(first, second, third)\n",
    "print(\"q is empty: \", q.empty())\n",
    "\n",
    "#this method always need to use when you end process of your task\n",
    "#it tells to program that we finish processing and now continue\n",
    "q.task_done()\n",
    "\n",
    "#this blocks until all the items in the queue\n",
    "#have been gotten and processed\n",
    "#this is similar to Thread().join() method, here we block the main thread \n",
    "q.join()"
   ]
  },
  {
   "cell_type": "code",
   "execution_count": 5,
   "id": "c9d3a9d6",
   "metadata": {},
   "outputs": [
    {
     "name": "stdout",
     "output_type": "stream",
     "text": [
      "Thread Thread-21, value 1\n",
      "Thread Thread-20, value 2\n",
      "Thread Thread-22, value 3\n",
      "Thread Thread-23, value 4\n",
      "Thread Thread-24, value 5\n",
      "Thread Thread-24, value 15\n",
      "Thread Thread-24, value 16\n",
      "Thread Thread-24, value 17\n",
      "Thread Thread-24, value 18\n",
      "Thread Thread-24, value 19\n",
      "Thread Thread-24, value 20\n",
      "Thread Thread-20, value 12\n",
      "Thread Thread-22, value 13\n",
      "Thread Thread-23, value 14\n",
      "Thread Thread-25, value 6\n",
      "Thread Thread-26, value 7\n",
      "Thread Thread-18, value 8\n",
      "Thread Thread-19, value 9\n",
      "Thread Thread-17, value 10\n",
      "Thread Thread-21, value 11\n"
     ]
    }
   ],
   "source": [
    "# Consider the more complicated example\n",
    "from threading import Thread, Lock, current_thread\n",
    "import time\n",
    "from queue import Queue\n",
    "\n",
    "def worker(q, lock):\n",
    "    while True:\n",
    "        value = q.get()\n",
    "        with lock:\n",
    "            print(f'Thread {current_thread().name}, value {value}')\n",
    "        #also we can use the standard break by condition mechanism of exiting from infinite loop\n",
    "        q.task_done()\n",
    "\n",
    "lock = Lock()\n",
    "q = Queue()\n",
    "\n",
    "num_threads = 10\n",
    "\n",
    "for i in range(num_threads):\n",
    "    thread = Thread(target=worker, args=(q, lock))\n",
    "    #daemon thread is needed because we use the infinite loop in target function\n",
    "    #the daemon thread does not block the main thread from exiting and continues to run in the background\n",
    "    #daemon thread will die when the main thread dies then we exit from infinite loop\n",
    "    thread.daemon=True\n",
    "    #by default thread.daemon=False\n",
    "    thread.start()\n",
    "\n",
    "for i in range(1, 21):\n",
    "    q.put(i)\n",
    "\n",
    "q.join()"
   ]
  },
  {
   "cell_type": "markdown",
   "id": "69f3c374",
   "metadata": {},
   "source": [
    "## Multiprocessing\n",
    "\n",
    "(In Jupyter multiprocessing module doesn't work (because here there is no processors for work), then here lay only examples of code without execution)"
   ]
  },
  {
   "cell_type": "markdown",
   "id": "794835ad",
   "metadata": {},
   "source": [
    "### Dividing of work between processes"
   ]
  },
  {
   "cell_type": "code",
   "execution_count": null,
   "id": "5a067c3c",
   "metadata": {},
   "outputs": [],
   "source": [
    "from multiprocessing import Process, current_process\n",
    "import time\n",
    "from datetime import datetime\n",
    "\n",
    "def Worker1(a, b):\n",
    "    time.sleep(1.2)\n",
    "    print(f\"This is the {current_process().name}, a+b={a+b}\")\n",
    "    \n",
    "def Worker2():\n",
    "    time.sleep(1.3)\n",
    "    print(f\"This is the {current_process().name}\")\n",
    "\n",
    "print(\"Calling of functions in main process:\")\n",
    "nt = datetime.now()\n",
    "Worker1(1, 4)\n",
    "Worker2()\n",
    "print(f\"Execution time={datetime.now()-nt}\")\n",
    "print()\n",
    "\n",
    "\n",
    "print(\"Calling of functions in different processes:\")\n",
    "nt = datetime.now()\n",
    "p1 = Process(target=Worker1, args=(1, 4))\n",
    "p2 = Process(target=Worker2)\n",
    "\n",
    "p1.start()\n",
    "p2.start()\n",
    "\n",
    "p1.join()\n",
    "p2.join()\n",
    "print(f\"Execution time={datetime.now()-nt}\")"
   ]
  },
  {
   "cell_type": "markdown",
   "id": "047429de",
   "metadata": {},
   "source": [
    "### Using of GIL when race condition (Locks of processes in Python)\n",
    "\n",
    "In order to see how race conditions occures in multiprocessing you can use the shared datastructures from multiprocessing module:"
   ]
  },
  {
   "cell_type": "code",
   "execution_count": null,
   "id": "7a96437b",
   "metadata": {},
   "outputs": [],
   "source": [
    "# shared value\n",
    "\n",
    "from multiprocessing import Process, Value, Lock\n",
    "import time\n",
    "\n",
    "def increase_100(number, lock):\n",
    "    for i in range(100):\n",
    "        time.sleep(0.01)\n",
    "        lock.acquire()\n",
    "        number.value += 1\n",
    "        lock.release()\n",
    "\n",
    "# i means int datatype\n",
    "shared_number = Value('i', 0)\n",
    "lock = Lock()\n",
    "print(f\"Shared value at the begining: {shared_number.value}\")\n",
    "\n",
    "p1 = Process(target=increase_100, args=(shared_number,lock))\n",
    "p2 = Process(target=increase_100, args=(shared_number,lock))\n",
    "\n",
    "p1.start()\n",
    "p2.start()\n",
    "\n",
    "p1.join()\n",
    "p2.join()\n",
    "\n",
    "print(f\"Shared value at the finish: {shared_number.value}\")"
   ]
  },
  {
   "cell_type": "code",
   "execution_count": null,
   "id": "53858c59",
   "metadata": {},
   "outputs": [],
   "source": [
    "# shared array\n",
    "\n",
    "from multiprocessing import Process, Array, Lock\n",
    "import time\n",
    "\n",
    "def increase_100(numbers, lock):\n",
    "    for i in range(100):\n",
    "        time.sleep(0.01)\n",
    "        for i in range(len(numbers)):\n",
    "            lock.acquire()\n",
    "            numbers[i] += 1\n",
    "            lock.release()\n",
    "\n",
    "# d means double datatype\n",
    "shared_array = Array('d', [0.0, 100.0, 200.0])\n",
    "lock = Lock()\n",
    "print(f\"Shared array at the begining: {shared_array[:]}\")\n",
    "\n",
    "p1 = Process(target=increase_100, args=(shared_array,lock))\n",
    "p2 = Process(target=increase_100, args=(shared_array,lock))\n",
    "\n",
    "p1.start()\n",
    "p2.start()\n",
    "\n",
    "p1.join()\n",
    "p2.join()\n",
    "\n",
    "print(f\"Shared array at the finish: {shared_array[:]}\")"
   ]
  },
  {
   "cell_type": "markdown",
   "id": "228e4495",
   "metadata": {},
   "source": [
    "Also you can use the context manager:"
   ]
  },
  {
   "cell_type": "code",
   "execution_count": null,
   "id": "d11e1737",
   "metadata": {},
   "outputs": [],
   "source": [
    "# shared array\n",
    "\n",
    "from multiprocessing import Process, Array, Lock\n",
    "import time\n",
    "\n",
    "def increase_100(numbers, lock):\n",
    "    for i in range(100):\n",
    "        time.sleep(0.01)\n",
    "        for i in range(len(numbers)):\n",
    "            with lock:\n",
    "                numbers[i] += 1\n",
    "\n",
    "# d means double datatype\n",
    "shared_array = Array('d', [0.0, 100.0, 200.0])\n",
    "lock = Lock()\n",
    "print(f\"Shared array at the begining: {shared_array[:]}\")\n",
    "\n",
    "p1 = Process(target=increase_100, args=(shared_array,lock))\n",
    "p2 = Process(target=increase_100, args=(shared_array,lock))\n",
    "\n",
    "p1.start()\n",
    "p2.start()\n",
    "\n",
    "p1.join()\n",
    "p2.join()\n",
    "\n",
    "print(f\"Shared array at the finish: {shared_array[:]}\")"
   ]
  },
  {
   "cell_type": "markdown",
   "id": "b8f85103",
   "metadata": {},
   "source": [
    "### Queues in Python and multiprocessing\n",
    "\n",
    "In difference to multithreading here we import queue from multiprocessing module"
   ]
  },
  {
   "cell_type": "code",
   "execution_count": 18,
   "id": "37c2c3d1",
   "metadata": {},
   "outputs": [],
   "source": [
    "from multiprocessing import Process, Array, Lock\n",
    "from multiprocessing import Queue\n",
    "import time\n",
    "\n",
    "def square(numbers, queue):\n",
    "    for i in numbers:\n",
    "        queue.put(i*i)\n",
    "\n",
    "def make_negative(numbers, queue):\n",
    "    for i in numbers:\n",
    "        queue.put(-1*i)\n",
    "numbers = range(1, 6)\n",
    "q = Queue()\n",
    "\n",
    "p1 = Process(target=square, args=(numbers, q))\n",
    "p2 = Process(target=make_negative, args=(numbers, q))\n",
    "\n",
    "p1.start()\n",
    "p2.start()\n",
    "\n",
    "p1.join()\n",
    "p2.join()\n",
    "\n",
    "while not q.empty():\n",
    "    print(q.get())"
   ]
  },
  {
   "cell_type": "markdown",
   "id": "e45bf37b",
   "metadata": {},
   "source": [
    "### Pools of workers in multiprocessing in Python"
   ]
  },
  {
   "cell_type": "markdown",
   "id": "4dfcd218",
   "metadata": {},
   "source": [
    "The multiprocessing module also introduces APIs which do not have analogs in the threading module. A prime example of this is the Pool object which offers a convenient means of parallelizing the execution of a function across multiple input values, distributing the input data across processes (data parallelism). The following example demonstrates the common practice of defining such functions in a module so that child processes can successfully import that module. This basic example of data parallelism using Pool."
   ]
  },
  {
   "cell_type": "code",
   "execution_count": null,
   "id": "1d98c13b",
   "metadata": {},
   "outputs": [],
   "source": [
    "# if your function takes the iterable object as a parameter\n",
    "\n",
    "from multiprocessing import Pool\n",
    "\n",
    "def cube(number):\n",
    "    return number * number * number\n",
    "\n",
    "pool = Pool()\n",
    "\n",
    "# most important methods of Pool class is the map, apply, join and close\n",
    "numbers = range(10)\n",
    "\n",
    "# this automaticly allocate the maximum of avaliable processors for execution\n",
    "result = pool.map(cube, numbers)\n",
    "\n",
    "pool.close()\n",
    "pool.join()\n",
    "\n",
    "print(result)"
   ]
  },
  {
   "cell_type": "code",
   "execution_count": null,
   "id": "7f9cb4e3",
   "metadata": {},
   "outputs": [],
   "source": [
    "# if your function takes the one not object as a parameter\n",
    "\n",
    "from multiprocessing import Pool\n",
    "\n",
    "def cube(number):\n",
    "    return number * number * number\n",
    "\n",
    "pool = Pool()\n",
    "\n",
    "# most important methods of Pool class is the map, apply, join and close\n",
    "numbers = range(10)\n",
    "\n",
    "# this automaticly allocate the maximum of avaliable processors for execution\n",
    "result = pool.apply(cube, numbers[0])\n",
    "\n",
    "pool.close()\n",
    "pool.join()\n",
    "\n",
    "print(result)"
   ]
  }
 ],
 "metadata": {
  "kernelspec": {
   "display_name": "Python 3",
   "language": "python",
   "name": "python3"
  },
  "language_info": {
   "codemirror_mode": {
    "name": "ipython",
    "version": 3
   },
   "file_extension": ".py",
   "mimetype": "text/x-python",
   "name": "python",
   "nbconvert_exporter": "python",
   "pygments_lexer": "ipython3",
   "version": "3.8.10"
  },
  "toc": {
   "base_numbering": 1,
   "nav_menu": {},
   "number_sections": true,
   "sideBar": true,
   "skip_h1_title": false,
   "title_cell": "Table of Contents",
   "title_sidebar": "Contents",
   "toc_cell": false,
   "toc_position": {
    "height": "497.037px",
    "left": "282px",
    "top": "111.018px",
    "width": "278.438px"
   },
   "toc_section_display": true,
   "toc_window_display": true
  }
 },
 "nbformat": 4,
 "nbformat_minor": 5
}
