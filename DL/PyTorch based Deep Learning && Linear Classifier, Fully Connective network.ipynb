{
 "cells": [
  {
   "cell_type": "code",
   "execution_count": 18,
   "id": "822b7741",
   "metadata": {},
   "outputs": [],
   "source": [
    "import numpy as np\n",
    "import pandas as pd\n",
    "import torch\n",
    "import torchvision\n",
    "import matplotlib.pyplot as plt\n",
    "import torch.nn as nn # neuron networks\n",
    "import torch.nn.functional as F\n",
    "\n",
    "from sklearn.datasets import load_boston\n",
    "from tqdm.notebook import tqdm # painting progress bars\n",
    "\n",
    "%matplotlib inline"
   ]
  },
  {
   "cell_type": "code",
   "execution_count": 19,
   "id": "c83961bb",
   "metadata": {},
   "outputs": [
    {
     "data": {
      "text/plain": [
       "array([[1.98658458, 1.43159872, 1.01291758],\n",
       "       [1.43159872, 1.7651911 , 1.45414038],\n",
       "       [1.01291758, 1.45414038, 1.39352411]])"
      ]
     },
     "execution_count": 19,
     "metadata": {},
     "output_type": "execute_result"
    }
   ],
   "source": [
    "a = np.random.rand(3,5)\n",
    "\n",
    "b = np.dot(a, a.T) # matrix multiplication, a.T - matrix transpose\n",
    "b"
   ]
  },
  {
   "cell_type": "code",
   "execution_count": 20,
   "id": "8e21a670",
   "metadata": {},
   "outputs": [
    {
     "data": {
      "text/plain": [
       "array([[ 0,  1,  2],\n",
       "       [ 3,  4,  5],\n",
       "       [ 6,  7,  8],\n",
       "       [ 9, 10, 11]])"
      ]
     },
     "execution_count": 20,
     "metadata": {},
     "output_type": "execute_result"
    }
   ],
   "source": [
    "np.arange(0, 12).reshape(4, 3) # reshape(X, Y) is function which translate linear numpy array (shape = (1, N)) \n",
    "                               #into numpy array of dimensional X x Y (shape = (X, Y)) (i. e. into the matrix X x Y)"
   ]
  },
  {
   "cell_type": "markdown",
   "id": "35197073",
   "metadata": {},
   "source": [
    "\n",
    "## PyTorch code\n",
    "\n",
    "Below we show some examples of using PyTorch\n"
   ]
  },
  {
   "cell_type": "code",
   "execution_count": 21,
   "id": "f0fcd458",
   "metadata": {},
   "outputs": [
    {
     "data": {
      "text/plain": [
       "tensor([[0.9086, 0.8514, 0.9158],\n",
       "        [0.4266, 0.4735, 0.0074]])"
      ]
     },
     "execution_count": 21,
     "metadata": {},
     "output_type": "execute_result"
    }
   ],
   "source": [
    "x = torch.rand(2, 3) # Random tensor of dimensionsal 5x3x3\n",
    "x"
   ]
  },
  {
   "cell_type": "code",
   "execution_count": 22,
   "id": "8e18b260",
   "metadata": {},
   "outputs": [
    {
     "data": {
      "text/plain": [
       "torch.Size([2, 3])"
      ]
     },
     "execution_count": 22,
     "metadata": {},
     "output_type": "execute_result"
    }
   ],
   "source": [
    "x.shape # Shape of torch tensors"
   ]
  },
  {
   "cell_type": "markdown",
   "id": "a15dbf6c",
   "metadata": {},
   "source": [
    "### Torch tensors has supports all of the ariphmetical operations, which supports numpy arrays"
   ]
  },
  {
   "cell_type": "code",
   "execution_count": 23,
   "id": "29458115",
   "metadata": {},
   "outputs": [
    {
     "name": "stdout",
     "output_type": "stream",
     "text": [
      "tensor([[2.9086, 2.8514, 2.9158],\n",
      "        [2.4266, 2.4735, 2.0074]]) \n",
      "\n",
      "tensor([[1.8172, 1.7028, 1.8315],\n",
      "        [0.8532, 0.9470, 0.0148]]) \n",
      "\n",
      "tensor([[0.4543, 0.4257, 0.4579],\n",
      "        [0.2133, 0.2368, 0.0037]]) \n",
      "\n",
      "tensor([[2.3891, 0.7975],\n",
      "        [0.7975, 0.4063]])\n",
      "\n",
      "\n",
      "tensor([[8.2558e-01, 3.6321e-01, 7.7968e-01],\n",
      "        [2.0200e-01, 4.3363e-01, 5.4501e-05]]) \n",
      "\n",
      "tensor([[8.2558e-01, 3.6321e-01, 7.7968e-01],\n",
      "        [2.0200e-01, 4.3363e-01, 5.4501e-05]])\n"
     ]
    }
   ],
   "source": [
    "print(x + 2, \"\\n\")\n",
    "print(x * 2, \"\\n\")\n",
    "print(x / 2, \"\\n\")\n",
    "y = x.transpose(1, 0) # Trnaspose tensor around 1 and 0 axis\n",
    "print(torch.matmul(x, y)) # matrix multiplication in torch\n",
    "print()\n",
    "print()\n",
    "print(y.reshape([2, 3]) * x, \"\\n\") # element-wise multiplication\n",
    "print(y.reshape([2, 3]) * x) # element-wise summing"
   ]
  },
  {
   "cell_type": "code",
   "execution_count": 24,
   "id": "f6293750",
   "metadata": {},
   "outputs": [
    {
     "name": "stdout",
     "output_type": "stream",
     "text": [
      "Mean by columns =  tensor([0.6676, 0.6625, 0.4616])\n",
      "Mean by raws =  tensor([0.8919, 0.3025])\n"
     ]
    }
   ],
   "source": [
    "print(\"Mean by columns = \" ,x.mean(dim=0)) # mean value by columns (in numpy use axis= instead)\n",
    "print(\"Mean by raws = \", x.mean(dim=1)) # mean value by raws"
   ]
  },
  {
   "cell_type": "code",
   "execution_count": 25,
   "id": "48392943",
   "metadata": {},
   "outputs": [
    {
     "data": {
      "text/plain": [
       "tensor([0, 1, 2, 3, 4, 5, 6, 7, 8, 9])"
      ]
     },
     "execution_count": 25,
     "metadata": {},
     "output_type": "execute_result"
    }
   ],
   "source": [
    "torch.arange(0, 10) # arange function in torch create linear tensor"
   ]
  },
  {
   "cell_type": "code",
   "execution_count": 26,
   "id": "8ccf6842",
   "metadata": {},
   "outputs": [
    {
     "data": {
      "text/plain": [
       "tensor([      4,       9,      16,      25,      36,      49,      64,      81,\n",
       "            100,     121,     144,     169,     196,     225,     256,     289,\n",
       "            324,     361,     400,     441,     484,     529,     576,     625,\n",
       "            676,     729,     784,     841,     900,     961,    1024,    1089,\n",
       "           1156,    1225,    1296,    1369,    1444,    1521,    1600,    1681,\n",
       "           1764,    1849,    1936,    2025,    2116,    2209,    2304,    2401,\n",
       "           2500,    2601,    2704,    2809,    2916,    3025,    3136,    3249,\n",
       "           3364,    3481,    3600,    3721,    3844,    3969,    4096,    4225,\n",
       "           4356,    4489,    4624,    4761,    4900,    5041,    5184,    5329,\n",
       "           5476,    5625,    5776,    5929,    6084,    6241,    6400,    6561,\n",
       "           6724,    6889,    7056,    7225,    7396,    7569,    7744,    7921,\n",
       "           8100,    8281,    8464,    8649,    8836,    9025,    9216,    9409,\n",
       "           9604,    9801,   10000,   10201,   10404,   10609,   10816,   11025,\n",
       "          11236,   11449,   11664,   11881,   12100,   12321,   12544,   12769,\n",
       "          12996,   13225,   13456,   13689,   13924,   14161,   14400,   14641,\n",
       "          14884,   15129,   15376,   15625,   15876,   16129,   16384,   16641,\n",
       "          16900,   17161,   17424,   17689,   17956,   18225,   18496,   18769,\n",
       "          19044,   19321,   19600,   19881,   20164,   20449,   20736,   21025,\n",
       "          21316,   21609,   21904,   22201,   22500,   22801,   23104,   23409,\n",
       "          23716,   24025,   24336,   24649,   24964,   25281,   25600,   25921,\n",
       "          26244,   26569,   26896,   27225,   27556,   27889,   28224,   28561,\n",
       "          28900,   29241,   29584,   29929,   30276,   30625,   30976,   31329,\n",
       "          31684,   32041,   32400,   32761,   33124,   33489,   33856,   34225,\n",
       "          34596,   34969,   35344,   35721,   36100,   36481,   36864,   37249,\n",
       "          37636,   38025,   38416,   38809,   39204,   39601,   40000,   40401,\n",
       "          40804,   41209,   41616,   42025,   42436,   42849,   43264,   43681,\n",
       "          44100,   44521,   44944,   45369,   45796,   46225,   46656,   47089,\n",
       "          47524,   47961,   48400,   48841,   49284,   49729,   50176,   50625,\n",
       "          51076,   51529,   51984,   52441,   52900,   53361,   53824,   54289,\n",
       "          54756,   55225,   55696,   56169,   56644,   57121,   57600,   58081,\n",
       "          58564,   59049,   59536,   60025,   60516,   61009,   61504,   62001,\n",
       "          62500,   63001,   63504,   64009,   64516,   65025,   65536,   66049,\n",
       "          66564,   67081,   67600,   68121,   68644,   69169,   69696,   70225,\n",
       "          70756,   71289,   71824,   72361,   72900,   73441,   73984,   74529,\n",
       "          75076,   75625,   76176,   76729,   77284,   77841,   78400,   78961,\n",
       "          79524,   80089,   80656,   81225,   81796,   82369,   82944,   83521,\n",
       "          84100,   84681,   85264,   85849,   86436,   87025,   87616,   88209,\n",
       "          88804,   89401,   90000,   90601,   91204,   91809,   92416,   93025,\n",
       "          93636,   94249,   94864,   95481,   96100,   96721,   97344,   97969,\n",
       "          98596,   99225,   99856,  100489,  101124,  101761,  102400,  103041,\n",
       "         103684,  104329,  104976,  105625,  106276,  106929,  107584,  108241,\n",
       "         108900,  109561,  110224,  110889,  111556,  112225,  112896,  113569,\n",
       "         114244,  114921,  115600,  116281,  116964,  117649,  118336,  119025,\n",
       "         119716,  120409,  121104,  121801,  122500,  123201,  123904,  124609,\n",
       "         125316,  126025,  126736,  127449,  128164,  128881,  129600,  130321,\n",
       "         131044,  131769,  132496,  133225,  133956,  134689,  135424,  136161,\n",
       "         136900,  137641,  138384,  139129,  139876,  140625,  141376,  142129,\n",
       "         142884,  143641,  144400,  145161,  145924,  146689,  147456,  148225,\n",
       "         148996,  149769,  150544,  151321,  152100,  152881,  153664,  154449,\n",
       "         155236,  156025,  156816,  157609,  158404,  159201,  160000,  160801,\n",
       "         161604,  162409,  163216,  164025,  164836,  165649,  166464,  167281,\n",
       "         168100,  168921,  169744,  170569,  171396,  172225,  173056,  173889,\n",
       "         174724,  175561,  176400,  177241,  178084,  178929,  179776,  180625,\n",
       "         181476,  182329,  183184,  184041,  184900,  185761,  186624,  187489,\n",
       "         188356,  189225,  190096,  190969,  191844,  192721,  193600,  194481,\n",
       "         195364,  196249,  197136,  198025,  198916,  199809,  200704,  201601,\n",
       "         202500,  203401,  204304,  205209,  206116,  207025,  207936,  208849,\n",
       "         209764,  210681,  211600,  212521,  213444,  214369,  215296,  216225,\n",
       "         217156,  218089,  219024,  219961,  220900,  221841,  222784,  223729,\n",
       "         224676,  225625,  226576,  227529,  228484,  229441,  230400,  231361,\n",
       "         232324,  233289,  234256,  235225,  236196,  237169,  238144,  239121,\n",
       "         240100,  241081,  242064,  243049,  244036,  245025,  246016,  247009,\n",
       "         248004,  249001,  250000,  251001,  252004,  253009,  254016,  255025,\n",
       "         256036,  257049,  258064,  259081,  260100,  261121,  262144,  263169,\n",
       "         264196,  265225,  266256,  267289,  268324,  269361,  270400,  271441,\n",
       "         272484,  273529,  274576,  275625,  276676,  277729,  278784,  279841,\n",
       "         280900,  281961,  283024,  284089,  285156,  286225,  287296,  288369,\n",
       "         289444,  290521,  291600,  292681,  293764,  294849,  295936,  297025,\n",
       "         298116,  299209,  300304,  301401,  302500,  303601,  304704,  305809,\n",
       "         306916,  308025,  309136,  310249,  311364,  312481,  313600,  314721,\n",
       "         315844,  316969,  318096,  319225,  320356,  321489,  322624,  323761,\n",
       "         324900,  326041,  327184,  328329,  329476,  330625,  331776,  332929,\n",
       "         334084,  335241,  336400,  337561,  338724,  339889,  341056,  342225,\n",
       "         343396,  344569,  345744,  346921,  348100,  349281,  350464,  351649,\n",
       "         352836,  354025,  355216,  356409,  357604,  358801,  360000,  361201,\n",
       "         362404,  363609,  364816,  366025,  367236,  368449,  369664,  370881,\n",
       "         372100,  373321,  374544,  375769,  376996,  378225,  379456,  380689,\n",
       "         381924,  383161,  384400,  385641,  386884,  388129,  389376,  390625,\n",
       "         391876,  393129,  394384,  395641,  396900,  398161,  399424,  400689,\n",
       "         401956,  403225,  404496,  405769,  407044,  408321,  409600,  410881,\n",
       "         412164,  413449,  414736,  416025,  417316,  418609,  419904,  421201,\n",
       "         422500,  423801,  425104,  426409,  427716,  429025,  430336,  431649,\n",
       "         432964,  434281,  435600,  436921,  438244,  439569,  440896,  442225,\n",
       "         443556,  444889,  446224,  447561,  448900,  450241,  451584,  452929,\n",
       "         454276,  455625,  456976,  458329,  459684,  461041,  462400,  463761,\n",
       "         465124,  466489,  467856,  469225,  470596,  471969,  473344,  474721,\n",
       "         476100,  477481,  478864,  480249,  481636,  483025,  484416,  485809,\n",
       "         487204,  488601,  490000,  491401,  492804,  494209,  495616,  497025,\n",
       "         498436,  499849,  501264,  502681,  504100,  505521,  506944,  508369,\n",
       "         509796,  511225,  512656,  514089,  515524,  516961,  518400,  519841,\n",
       "         521284,  522729,  524176,  525625,  527076,  528529,  529984,  531441,\n",
       "         532900,  534361,  535824,  537289,  538756,  540225,  541696,  543169,\n",
       "         544644,  546121,  547600,  549081,  550564,  552049,  553536,  555025,\n",
       "         556516,  558009,  559504,  561001,  562500,  564001,  565504,  567009,\n",
       "         568516,  570025,  571536,  573049,  574564,  576081,  577600,  579121,\n",
       "         580644,  582169,  583696,  585225,  586756,  588289,  589824,  591361,\n",
       "         592900,  594441,  595984,  597529,  599076,  600625,  602176,  603729,\n",
       "         605284,  606841,  608400,  609961,  611524,  613089,  614656,  616225,\n",
       "         617796,  619369,  620944,  622521,  624100,  625681,  627264,  628849,\n",
       "         630436,  632025,  633616,  635209,  636804,  638401,  640000,  641601,\n",
       "         643204,  644809,  646416,  648025,  649636,  651249,  652864,  654481,\n",
       "         656100,  657721,  659344,  660969,  662596,  664225,  665856,  667489,\n",
       "         669124,  670761,  672400,  674041,  675684,  677329,  678976,  680625,\n",
       "         682276,  683929,  685584,  687241,  688900,  690561,  692224,  693889,\n",
       "         695556,  697225,  698896,  700569,  702244,  703921,  705600,  707281,\n",
       "         708964,  710649,  712336,  714025,  715716,  717409,  719104,  720801,\n",
       "         722500,  724201,  725904,  727609,  729316,  731025,  732736,  734449,\n",
       "         736164,  737881,  739600,  741321,  743044,  744769,  746496,  748225,\n",
       "         749956,  751689,  753424,  755161,  756900,  758641,  760384,  762129,\n",
       "         763876,  765625,  767376,  769129,  770884,  772641,  774400,  776161,\n",
       "         777924,  779689,  781456,  783225,  784996,  786769,  788544,  790321,\n",
       "         792100,  793881,  795664,  797449,  799236,  801025,  802816,  804609,\n",
       "         806404,  808201,  810000,  811801,  813604,  815409,  817216,  819025,\n",
       "         820836,  822649,  824464,  826281,  828100,  829921,  831744,  833569,\n",
       "         835396,  837225,  839056,  840889,  842724,  844561,  846400,  848241,\n",
       "         850084,  851929,  853776,  855625,  857476,  859329,  861184,  863041,\n",
       "         864900,  866761,  868624,  870489,  872356,  874225,  876096,  877969,\n",
       "         879844,  881721,  883600,  885481,  887364,  889249,  891136,  893025,\n",
       "         894916,  896809,  898704,  900601,  902500,  904401,  906304,  908209,\n",
       "         910116,  912025,  913936,  915849,  917764,  919681,  921600,  923521,\n",
       "         925444,  927369,  929296,  931225,  933156,  935089,  937024,  938961,\n",
       "         940900,  942841,  944784,  946729,  948676,  950625,  952576,  954529,\n",
       "         956484,  958441,  960400,  962361,  964324,  966289,  968256,  970225,\n",
       "         972196,  974169,  976144,  978121,  980100,  982081,  984064,  986049,\n",
       "         988036,  990025,  992016,  994009,  996004,  998001, 1000000])"
      ]
     },
     "execution_count": 26,
     "metadata": {},
     "output_type": "execute_result"
    }
   ],
   "source": [
    "torch.square(torch.arange(2, 1001)) # squaring of all the elements of initial tensor"
   ]
  },
  {
   "cell_type": "code",
   "execution_count": 27,
   "id": "605188e0",
   "metadata": {},
   "outputs": [
    {
     "data": {
      "text/plain": [
       "tensor(333833499)"
      ]
     },
     "execution_count": 27,
     "metadata": {},
     "output_type": "execute_result"
    }
   ],
   "source": [
    "torch.square(torch.arange(2, 1001)).sum() # sum of all the elements tensor"
   ]
  },
  {
   "cell_type": "code",
   "execution_count": 28,
   "id": "666b0c16",
   "metadata": {},
   "outputs": [
    {
     "data": {
      "text/plain": [
       "tensor([[0.9086, 0.8514],\n",
       "        [0.9158, 0.4266],\n",
       "        [0.4735, 0.0074]])"
      ]
     },
     "execution_count": 28,
     "metadata": {},
     "output_type": "execute_result"
    }
   ],
   "source": [
    "x.view([3, 2]) # This function use instead of reshape() function in numpy"
   ]
  },
  {
   "cell_type": "markdown",
   "id": "7681219f",
   "metadata": {},
   "source": [
    "All of the methods with suffix _as create actions with initial tensor like tensor passed to function\n",
    "For example\n",
    "\n",
    "x.view_as(y) reshaped tensor x to shape like tensor y\n",
    "After using of x.view_as(y) x have the same shape like y"
   ]
  },
  {
   "cell_type": "code",
   "execution_count": 29,
   "id": "2a07308f",
   "metadata": {},
   "outputs": [
    {
     "data": {
      "text/plain": [
       "tensor([0, 1, 2, 3, 4, 5, 6, 7, 8, 9])"
      ]
     },
     "execution_count": 29,
     "metadata": {},
     "output_type": "execute_result"
    }
   ],
   "source": [
    "torch.arange(0, 10)"
   ]
  },
  {
   "cell_type": "markdown",
   "id": "53228de9",
   "metadata": {},
   "source": [
    "### Torch tensors has supports all of the creation operations, which supports numpy arrays"
   ]
  },
  {
   "cell_type": "code",
   "execution_count": 30,
   "id": "b5cbbb25",
   "metadata": {},
   "outputs": [
    {
     "name": "stdout",
     "output_type": "stream",
     "text": [
      "tensor([[0., 0., 0., 0., 0.],\n",
      "        [0., 0., 0., 0., 0.],\n",
      "        [0., 0., 0., 0., 0.]]) \n",
      "\n",
      "tensor([[1., 1., 1., 1., 1.],\n",
      "        [1., 1., 1., 1., 1.],\n",
      "        [1., 1., 1., 1., 1.]]) \n",
      "\n",
      "tensor([[0.7453, 0.4098, 0.4050, 0.4360, 0.9181],\n",
      "        [0.2856, 0.2311, 0.6821, 0.3324, 0.8234],\n",
      "        [0.9960, 0.3696, 0.7952, 0.7679, 0.3069]], dtype=torch.float64)\n"
     ]
    }
   ],
   "source": [
    "print(torch.zeros(3,5, dtype=torch.float), \"\\n\") # dtype in torch create with torch. instead of numpy. in numpy\n",
    "print(torch.ones(3, 5), \"\\n\")\n",
    "print(torch.rand(3, 5, dtype=torch.double))"
   ]
  },
  {
   "cell_type": "markdown",
   "id": "c789027a",
   "metadata": {},
   "source": [
    "### Another operations with torch tensors"
   ]
  },
  {
   "cell_type": "code",
   "execution_count": 31,
   "id": "1c1acc26",
   "metadata": {},
   "outputs": [
    {
     "name": "stdout",
     "output_type": "stream",
     "text": [
      "torch.Size([2, 3])\n",
      "torch.Size([1, 2, 3])\n"
     ]
    }
   ],
   "source": [
    "print(x.shape)\n",
    "y = x.unsqueeze(0).shape # Add one more dimention for tensor\n",
    "print(y)"
   ]
  },
  {
   "cell_type": "markdown",
   "id": "61cee69f",
   "metadata": {},
   "source": [
    "## Gradients"
   ]
  },
  {
   "cell_type": "code",
   "execution_count": 32,
   "id": "9326a9b7",
   "metadata": {},
   "outputs": [
    {
     "data": {
      "text/plain": [
       "<matplotlib.collections.PathCollection at 0x1d9697d8e50>"
      ]
     },
     "execution_count": 32,
     "metadata": {},
     "output_type": "execute_result"
    },
    {
     "data": {
      "image/png": "[encoded data removed]",
      "text/plain": [
       "<Figure size 432x288 with 1 Axes>"
      ]
     },
     "metadata": {
      "needs_background": "light"
     },
     "output_type": "display_data"
    }
   ],
   "source": [
    "boston = load_boston()\n",
    "plt.scatter(boston.data[:, -1], boston.target)"
   ]
  },
  {
   "cell_type": "markdown",
   "id": "7a8a12d7",
   "metadata": {},
   "source": [
    "В PyTorch есть возможность при создании тензора указывать, нужно ли считать по нему градиент или нет с помощью параметра *requires_grad*. Когда *requires_grad=True* мы сообщаем фреймворку о том, что хотим следить за всеми тензорами, которые получаются из созданного. Иными словами, у тензора, у которого этот параметр определен как *True*, будет доступ к цепочке операций и преобразований, совершенных с ним.\n",
    "Если эти функции дифференцируемые, то у тензора появляется параметр *.grad*, в котором хранится значение градиента.\n",
    "\n",
    "Если к результирующему тензору применить *.backward()*, то фреймворк посчитает по цепочке градиент для всех тензоров, у которых *requires_grad=True*"
   ]
  },
  {
   "cell_type": "code",
   "execution_count": 33,
   "id": "72d26a4b",
   "metadata": {},
   "outputs": [],
   "source": [
    "# Linear model (w, b - its numbers, not vectors or tensors)\n",
    "\n",
    "w = torch.rand(1, requires_grad=True) # weigth of model\n",
    "b = torch.rand(1, requires_grad=True) # shift (Baies) of model\n",
    "\n",
    "x = torch.tensor(boston.data[:, -1]/boston.data[:, -1].max(), dtype=torch.float32) # Train\n",
    "y = torch.tensor(boston.target, dtype=torch.float32) # Ground truth\n",
    "\n",
    "assert w.grad is None # Tensors was created right now and they has no gradients yet\n",
    "assert b.grad is None"
   ]
  },
  {
   "cell_type": "code",
   "execution_count": 34,
   "id": "42d49144",
   "metadata": {},
   "outputs": [
    {
     "name": "stdout",
     "output_type": "stream",
     "text": [
      "type(boston.data) =  <class 'numpy.ndarray'>\n",
      "type(boston.target) =  <class 'numpy.ndarray'>\n"
     ]
    }
   ],
   "source": [
    "print(\"type(boston.data) = \", type(boston.data))\n",
    "print(\"type(boston.target) = \", type(boston.target))"
   ]
  },
  {
   "cell_type": "code",
   "execution_count": 35,
   "id": "3cf37486",
   "metadata": {},
   "outputs": [
    {
     "name": "stdout",
     "output_type": "stream",
     "text": [
      "The last column of arr: \n",
      " [3 6 9] \n",
      "\n",
      "The all columns except the last: \n",
      " [[1 2]\n",
      " [4 5]\n",
      " [7 8]]\n"
     ]
    }
   ],
   "source": [
    "# When we know dtype of boston.data and boston.target, we can understand what x and y is\n",
    "# For example:\n",
    "\n",
    "arr = np.array([ \n",
    "    [1,2,3], \n",
    "    [4,5,6], \n",
    "    [7,8,9] \n",
    "])\n",
    "\n",
    "print(\"The last column of arr: \\n\", arr[: ,-1], \"\\n\")\n",
    "print(\"The all columns except the last: \\n\", arr[: ,: -1])"
   ]
  },
  {
   "cell_type": "code",
   "execution_count": 36,
   "id": "27f94000",
   "metadata": {},
   "outputs": [
    {
     "name": "stdout",
     "output_type": "stream",
     "text": [
      "[[6.3200e-03 1.8000e+01 2.3100e+00 ... 1.5300e+01 3.9690e+02 4.9800e+00]\n",
      " [2.7310e-02 0.0000e+00 7.0700e+00 ... 1.7800e+01 3.9690e+02 9.1400e+00]\n",
      " [2.7290e-02 0.0000e+00 7.0700e+00 ... 1.7800e+01 3.9283e+02 4.0300e+00]\n",
      " ...\n",
      " [6.0760e-02 0.0000e+00 1.1930e+01 ... 2.1000e+01 3.9690e+02 5.6400e+00]\n",
      " [1.0959e-01 0.0000e+00 1.1930e+01 ... 2.1000e+01 3.9345e+02 6.4800e+00]\n",
      " [4.7410e-02 0.0000e+00 1.1930e+01 ... 2.1000e+01 3.9690e+02 7.8800e+00]] \n",
      "\n",
      "[ 4.98  9.14  4.03  2.94  5.33  5.21 12.43 19.15 29.93 17.1  20.45 13.27\n",
      " 15.71  8.26 10.26  8.47  6.58 14.67 11.69 11.28 21.02 13.83 18.72 19.88\n",
      " 16.3  16.51 14.81 17.28 12.8  11.98 22.6  13.04 27.71 18.35 20.34  9.68\n",
      " 11.41  8.77 10.13  4.32  1.98  4.84  5.81  7.44  9.55 10.21 14.15 18.8\n",
      " 30.81 16.2  13.45  9.43  5.28  8.43 14.8   4.81  5.77  3.95  6.86  9.22\n",
      " 13.15 14.44  6.73  9.5   8.05  4.67 10.24  8.1  13.09  8.79  6.72  9.88\n",
      "  5.52  7.54  6.78  8.94 11.97 10.27 12.34  9.1   5.29  7.22  6.72  7.51\n",
      "  9.62  6.53 12.86  8.44  5.5   5.7   8.81  8.2   8.16  6.21 10.59  6.65\n",
      " 11.34  4.21  3.57  6.19  9.42  7.67 10.63 13.44 12.33 16.47 18.66 14.09\n",
      " 12.27 15.55 13.   10.16 16.21 17.09 10.45 15.76 12.04 10.3  15.37 13.61\n",
      " 14.37 14.27 17.93 25.41 17.58 14.81 27.26 17.19 15.39 18.34 12.6  12.26\n",
      " 11.12 15.03 17.31 16.96 16.9  14.59 21.32 18.46 24.16 34.41 26.82 26.42\n",
      " 29.29 27.8  16.65 29.53 28.32 21.45 14.1  13.28 12.12 15.79 15.12 15.02\n",
      " 16.14  4.59  6.43  7.39  5.5   1.73  1.92  3.32 11.64  9.81  3.7  12.14\n",
      " 11.1  11.32 14.43 12.03 14.69  9.04  9.64  5.33 10.11  6.29  6.92  5.04\n",
      "  7.56  9.45  4.82  5.68 13.98 13.15  4.45  6.68  4.56  5.39  5.1   4.69\n",
      "  2.87  5.03  4.38  2.97  4.08  8.61  6.62  4.56  4.45  7.43  3.11  3.81\n",
      "  2.88 10.87 10.97 18.06 14.66 23.09 17.27 23.98 16.03  9.38 29.55  9.47\n",
      " 13.51  9.69 17.92 10.5   9.71 21.46  9.93  7.6   4.14  4.63  3.13  6.36\n",
      "  3.92  3.76 11.65  5.25  2.47  3.95  8.05 10.88  9.54  4.73  6.36  7.37\n",
      " 11.38 12.4  11.22  5.19 12.5  18.46  9.16 10.15  9.52  6.56  5.9   3.59\n",
      "  3.53  3.54  6.57  9.25  3.11  5.12  7.79  6.9   9.59  7.26  5.91 11.25\n",
      "  8.1  10.45 14.79  7.44  3.16 13.65 13.    6.59  7.73  6.58  3.53  2.98\n",
      "  6.05  4.16  7.19  4.85  3.76  4.59  3.01  3.16  7.85  8.23 12.93  7.14\n",
      "  7.6   9.51  3.33  3.56  4.7   8.58 10.4   6.27  7.39 15.84  4.97  4.74\n",
      "  6.07  9.5   8.67  4.86  6.93  8.93  6.47  7.53  4.54  9.97 12.64  5.98\n",
      " 11.72  7.9   9.28 11.5  18.33 15.94 10.36 12.73  7.2   6.87  7.7  11.74\n",
      "  6.12  5.08  6.15 12.79  9.97  7.34  9.09 12.43  7.83  5.68  6.75  8.01\n",
      "  9.8  10.56  8.51  9.74  9.29  5.49  8.65  7.18  4.61 10.53 12.67  6.36\n",
      "  5.99  5.89  5.98  5.49  7.79  4.5   8.05  5.57 17.6  13.27 11.48 12.67\n",
      "  7.79 14.19 10.19 14.64  5.29  7.12 14.   13.33  3.26  3.73  2.96  9.53\n",
      "  8.88 34.77 37.97 13.44 23.24 21.24 23.69 21.78 17.21 21.08 23.6  24.56\n",
      " 30.63 30.81 28.28 31.99 30.62 20.85 17.11 18.76 25.68 15.17 16.35 17.12\n",
      " 19.37 19.92 30.59 29.97 26.77 20.32 20.31 19.77 27.38 22.98 23.34 12.13\n",
      " 26.4  19.78 10.11 21.22 34.37 20.08 36.98 29.05 25.79 26.64 20.62 22.74\n",
      " 15.02 15.7  14.1  23.29 17.16 24.39 15.69 14.52 21.52 24.08 17.64 19.69\n",
      " 12.03 16.22 15.17 23.27 18.05 26.45 34.02 22.88 22.11 19.52 16.59 18.85\n",
      " 23.79 23.98 17.79 16.44 18.13 19.31 17.44 17.73 17.27 16.74 18.71 18.13\n",
      " 19.01 16.94 16.23 14.7  16.42 14.65 13.99 10.29 13.22 14.13 17.15 21.32\n",
      " 18.13 14.76 16.29 12.87 14.36 11.66 18.14 24.1  18.68 24.91 18.03 13.11\n",
      " 10.74  7.74  7.01 10.42 13.34 10.58 14.98 11.45 18.06 23.97 29.68 18.07\n",
      " 13.35 12.01 13.59 17.6  21.14 14.1  12.92 15.1  14.33  9.67  9.08  5.64\n",
      "  6.48  7.88]\n"
     ]
    }
   ],
   "source": [
    "# Here we can see that x is the last column of boston.data normalized by max value of this column\n",
    "\n",
    "print(boston.data, \"\\n\")\n",
    "print(boston.data[:, -1])"
   ]
  },
  {
   "cell_type": "code",
   "execution_count": 126,
   "id": "256d78e8",
   "metadata": {},
   "outputs": [
    {
     "name": "stdout",
     "output_type": "stream",
     "text": [
      ".. _boston_dataset:\n",
      "\n",
      "Boston house prices dataset\n",
      "---------------------------\n",
      "\n",
      "**Data Set Characteristics:**  \n",
      "\n",
      "    :Number of Instances: 506 \n",
      "\n",
      "    :Number of Attributes: 13 numeric/categorical predictive. Median Value (attribute 14) is usually the target.\n",
      "\n",
      "    :Attribute Information (in order):\n",
      "        - CRIM     per capita crime rate by town\n",
      "        - ZN       proportion of residential land zoned for lots over 25,000 sq.ft.\n",
      "        - INDUS    proportion of non-retail business acres per town\n",
      "        - CHAS     Charles River dummy variable (= 1 if tract bounds river; 0 otherwise)\n",
      "        - NOX      nitric oxides concentration (parts per 10 million)\n",
      "        - RM       average number of rooms per dwelling\n",
      "        - AGE      proportion of owner-occupied units built prior to 1940\n",
      "        - DIS      weighted distances to five Boston employment centres\n",
      "        - RAD      index of accessibility to radial highways\n",
      "        - TAX      full-value property-tax rate per $10,000\n",
      "        - PTRATIO  pupil-teacher ratio by town\n",
      "        - B        1000(Bk - 0.63)^2 where Bk is the proportion of black people by town\n",
      "        - LSTAT    % lower status of the population\n",
      "        - MEDV     Median value of owner-occupied homes in $1000's\n",
      "\n",
      "    :Missing Attribute Values: None\n",
      "\n",
      "    :Creator: Harrison, D. and Rubinfeld, D.L.\n",
      "\n",
      "This is a copy of UCI ML housing dataset.\n",
      "https://archive.ics.uci.edu/ml/machine-learning-databases/housing/\n",
      "\n",
      "\n",
      "This dataset was taken from the StatLib library which is maintained at Carnegie Mellon University.\n",
      "\n",
      "The Boston house-price data of Harrison, D. and Rubinfeld, D.L. 'Hedonic\n",
      "prices and the demand for clean air', J. Environ. Economics & Management,\n",
      "vol.5, 81-102, 1978.   Used in Belsley, Kuh & Welsch, 'Regression diagnostics\n",
      "...', Wiley, 1980.   N.B. Various transformations are used in the table on\n",
      "pages 244-261 of the latter.\n",
      "\n",
      "The Boston house-price data has been used in many machine learning papers that address regression\n",
      "problems.   \n",
      "     \n",
      ".. topic:: References\n",
      "\n",
      "   - Belsley, Kuh & Welsch, 'Regression diagnostics: Identifying Influential Data and Sources of Collinearity', Wiley, 1980. 244-261.\n",
      "   - Quinlan,R. (1993). Combining Instance-Based and Model-Based Learning. In Proceedings on the Tenth International Conference of Machine Learning, 236-243, University of Massachusetts, Amherst. Morgan Kaufmann.\n",
      "\n"
     ]
    }
   ],
   "source": [
    "print(boston[\"DESCR\"]) # Decription of Boston Dataset\n",
    "\n",
    "# The aim of prediction is predict how expensive house may be in depend of city district\n",
    "# In fitting x is characteristic of city district in terms of how rich this district, how low criminal level there e.t.c.\n",
    "# y is house price\n",
    "# w and b is weigths and shifts used in fitting of network"
   ]
  },
  {
   "cell_type": "code",
   "execution_count": 37,
   "id": "0ea3d548",
   "metadata": {},
   "outputs": [],
   "source": [
    "y_pred = x*w + b\n",
    "loss = torch.mean((y_pred - y)**2) # MSE is loss function\n",
    "loss.backward() # calculation of gradient"
   ]
  },
  {
   "cell_type": "code",
   "execution_count": 38,
   "id": "61259cde",
   "metadata": {},
   "outputs": [
    {
     "name": "stdout",
     "output_type": "stream",
     "text": [
      "dL/dw =  tensor([-11.8242])\n",
      "dL/db =  tensor([-43.1585])\n"
     ]
    }
   ],
   "source": [
    "assert w.grad is not None # Tensors has gradients now\n",
    "assert b.grad is not None\n",
    "\n",
    "print(\"dL/dw = \", w.grad) # grad of loss function by w\n",
    "print(\"dL/db = \", b.grad) # grad of loss function by b"
   ]
  },
  {
   "cell_type": "code",
   "execution_count": 39,
   "id": "2fe76550",
   "metadata": {},
   "outputs": [
    {
     "data": {
      "text/plain": [
       "tensor([0.1554])"
      ]
     },
     "execution_count": 39,
     "metadata": {},
     "output_type": "execute_result"
    }
   ],
   "source": [
    "# In order to access to data use attribute .data in torch\n",
    "\n",
    "w.data"
   ]
  },
  {
   "cell_type": "markdown",
   "id": "2695e0fc",
   "metadata": {},
   "source": [
    "You need to reset gradients in calculations. If don't do that, gradient start to summing with itself.\n",
    "\n",
    "To reset gradient use .grad.zero_(). It makes value of gradient equals zero.\n",
    "\n",
    "And in general, any functions in torch with suffix \"\\_\" (e. g. \\_zero()) use to change tensor itself (rewrite existed cells of memory without creating a copy)"
   ]
  },
  {
   "cell_type": "markdown",
   "id": "74135a90",
   "metadata": {},
   "source": [
    "## Fitting of linear model"
   ]
  },
  {
   "cell_type": "code",
   "execution_count": 40,
   "id": "d894106d",
   "metadata": {},
   "outputs": [
    {
     "data": {
      "image/png": "[encoded data removed]",
      "text/plain": [
       "<Figure size 432x288 with 1 Axes>"
      ]
     },
     "metadata": {
      "needs_background": "light"
     },
     "output_type": "display_data"
    },
    {
     "name": "stdout",
     "output_type": "stream",
     "text": [
      "loss =  41.196262\n"
     ]
    }
   ],
   "source": [
    "from IPython.display import clear_output\n",
    "\n",
    "for i in range(500):\n",
    "    y_pred = w*x + b\n",
    "    \n",
    "    loss = torch.mean((y_pred - y)**2)\n",
    "    loss.backward()\n",
    "    \n",
    "    # do step of gradient descent with parameter lr = .05\n",
    "    w.data -= .05*w.grad\n",
    "    b.data -= .05*b.grad\n",
    "    \n",
    "    # reset gradients to avoid accumulate it\n",
    "    w.grad.data.zero_()\n",
    "    b.grad.data.zero_()\n",
    "    \n",
    "    # creating images\n",
    "    if (i+1) % 5 == 0:\n",
    "        clear_output(True)\n",
    "        plt.scatter(x.data.numpy(), y.data.numpy())\n",
    "        plt.scatter(x.data.numpy(), y_pred.data.numpy(), color='orange', linewidth=5)\n",
    "        # Note: x.data.numpy() is casting torch.tensor type to numpy.ndarray type\n",
    "        plt.show()\n",
    "        \n",
    "        print(\"loss = \", loss.data.numpy())\n",
    "        if loss.data.numpy() < 0.5:\n",
    "            print(\"Done!\")\n",
    "            break"
   ]
  },
  {
   "cell_type": "markdown",
   "id": "eb56bda6",
   "metadata": {},
   "source": [
    "## Neuron Network (Calculation graph)"
   ]
  },
  {
   "cell_type": "markdown",
   "id": "2b18b100",
   "metadata": {},
   "source": [
    "In PyTorch data placed in class *torch.utils.data.Dataset*. In order to take some dataset we should create, class-inheritant from this class.\n",
    "\n",
    "Neuron network itself (model) placed in class *torch.nn.model*\n",
    "\n",
    "Optimizer placed in class *torch.optim*"
   ]
  },
  {
   "cell_type": "code",
   "execution_count": 41,
   "id": "46ad2884",
   "metadata": {},
   "outputs": [],
   "source": [
    "# Suppose we have a dataset of random numbers\n",
    "\n",
    "class RandomDataSet(torch.utils.data.Dataset):\n",
    "    def __init__(self, x, y):\n",
    "        self.x = x\n",
    "        self.y = y\n",
    "        \n",
    "    def __len__(self):\n",
    "        return len(self.x)\n",
    "        #Note: this method is redefine of method len() for objects of its class\n",
    "    \n",
    "    def __getitem__(self, idx):\n",
    "        return {'sample' : torch.tensor(self.x[idx], dtype=torch.float), 'target' : self.y[idx]}\n",
    "        # Note: this method is redefine of operator []\n",
    "        \n",
    "# All of the __%name_of_method%__ methods it's standard methods of class available for overriding"
   ]
  },
  {
   "cell_type": "code",
   "execution_count": 42,
   "id": "1540f4e6",
   "metadata": {},
   "outputs": [],
   "source": [
    "x = np.random.rand(1000, 5)\n",
    "y = np.random.rand(1000)"
   ]
  },
  {
   "cell_type": "code",
   "execution_count": 43,
   "id": "13d693d7",
   "metadata": {},
   "outputs": [],
   "source": [
    "our_dataset = RandomDataSet(x, y)"
   ]
  },
  {
   "cell_type": "code",
   "execution_count": 44,
   "id": "682bd66d",
   "metadata": {},
   "outputs": [
    {
     "data": {
      "text/plain": [
       "{'sample': tensor([0.2055, 0.6686, 0.4989, 0.5198, 0.5776]),\n",
       " 'target': 0.7389273338819133}"
      ]
     },
     "execution_count": 44,
     "metadata": {},
     "output_type": "execute_result"
    }
   ],
   "source": [
    "our_dataset.__getitem__(1)"
   ]
  },
  {
   "cell_type": "markdown",
   "id": "fc48b91c",
   "metadata": {},
   "source": [
    "In order to use batches for stochastic gradient descent use **dataloader** which placed in class *torch.utils.data.DataLoader*. It take an input class that inherits from class *torch.utils.data.DataSet*."
   ]
  },
  {
   "cell_type": "code",
   "execution_count": 45,
   "id": "0f471b60",
   "metadata": {},
   "outputs": [],
   "source": [
    "dataloader = torch.utils.data.DataLoader(our_dataset, batch_size=4) # shuffle=True allows do shuffling of rows in batch"
   ]
  },
  {
   "cell_type": "markdown",
   "id": "83d5cf78",
   "metadata": {},
   "source": [
    "If number of rows in dataset don't completely divided by *butch_size*, use in declaration of dataloader additional parameter *drop_last=True*. This will throw out the remaining elements so that the sizes of all batches are divisible by *butch_size*."
   ]
  },
  {
   "cell_type": "code",
   "execution_count": 46,
   "id": "3e1d8a3f",
   "metadata": {},
   "outputs": [
    {
     "name": "stdout",
     "output_type": "stream",
     "text": [
      "Sample: \n",
      " tensor([[0.3787, 0.8784, 0.3637, 0.2838, 0.7214],\n",
      "        [0.2055, 0.6686, 0.4989, 0.5198, 0.5776],\n",
      "        [0.0414, 0.3916, 0.6284, 0.5648, 0.9552],\n",
      "        [0.2917, 0.0865, 0.5449, 0.7664, 0.8679]]) \n",
      "\n",
      "Target: \n",
      " tensor([0.7771, 0.7389, 0.6229, 0.7036], dtype=torch.float64)\n"
     ]
    }
   ],
   "source": [
    "# Batches look like this (dataloader is iterable):\n",
    "\n",
    "for batch in dataloader:\n",
    "    batch_x = batch['sample']\n",
    "    batch_y = batch['target']\n",
    "    break\n",
    "\n",
    "print(\"Sample: \\n\", batch_x, \"\\n\")\n",
    "print(\"Target: \\n\", batch_y)"
   ]
  },
  {
   "cell_type": "markdown",
   "id": "eeefabbb",
   "metadata": {},
   "source": [
    "### At last, let's create neuron network "
   ]
  },
  {
   "cell_type": "markdown",
   "id": "0e66e13f",
   "metadata": {},
   "source": [
    "In PyTorch in order to create neuron network we will use module *nn*. Class which create neuron network should inherits from class *nn.Module*\n",
    "\n",
    "Conceptually in programm point of view class of neuron network consists of following basic parts:\n",
    "1. \\_\\_init__ method\n",
    "2. *.forvard method*, that defines direct passage of neuron network. Module *nn.functional* includes activation functions\n",
    "\n",
    "### Conceptually it looks like:\n",
    "---\n",
    "\n",
    "    class Model(nn.Module):\n",
    "        def __init__(self):\n",
    "            super(Model, self).__init__()\n",
    "            self.conv1 = nn.Conv2d(1, 20, 50)\n",
    "            self.conv2 = nn.Conv2d(20, 20, 50)\n",
    "        \n",
    "        def forward(self, x):\n",
    "            x = nn.functional.relu(self.conv1(x))\n",
    "            return nn.functional.relu(self.conv2(x))\n",
    "\n",
    "---\n",
    "Creating your own class is the best way to create neuron network in PyTorch\n",
    "\n",
    "But we can create network in the different way, by using PyTorch already created methods directly."
   ]
  },
  {
   "cell_type": "code",
   "execution_count": 47,
   "id": "d8da2a4f",
   "metadata": {},
   "outputs": [],
   "source": [
    "model = nn.Sequential() # The empty model in which we will add layers\n",
    "model.add_module('11', nn.Linear(5, 3)) # Adding fully connected layer with 5 neurons on input and 3 on output\n",
    "model.add_module('12', nn.ReLU()) # Adding ReLU nonlinearity layer after the first layer\n",
    "model.add_module('13', nn.Linear(3, 1)) # Adding fully connected layer with 3 neurons on input and 1 on output\n",
    "\n",
    "# it's equevalent of\n",
    "#model = nn.Sequential( \n",
    "    #nn.Linear(5, 3), \n",
    "    #nn.ReLU(),\n",
    "    #nn.Linear(3, 1)\n",
    "#)"
   ]
  },
  {
   "cell_type": "code",
   "execution_count": 48,
   "id": "4f005cf6",
   "metadata": {},
   "outputs": [
    {
     "data": {
      "text/plain": [
       "tensor([[-1.6935e+00, -2.4783e-01, -1.0288e+00, -3.9748e-01],\n",
       "        [-2.4704e+00,  2.4294e-02, -3.0453e-01, -1.0194e+00],\n",
       "        [ 1.4369e+00,  5.8908e-01, -1.4134e+00,  2.1266e+00],\n",
       "        [ 1.6562e-01, -5.7275e-01, -1.3027e+00, -5.2991e-01],\n",
       "        [-7.7616e-01,  1.5373e-01, -2.4018e+00, -1.6540e-01],\n",
       "        [ 5.6103e-01, -1.4720e-01, -7.8097e-02, -1.1800e+00],\n",
       "        [-1.9954e+00, -6.5378e-01,  1.0890e+00,  5.0236e-01],\n",
       "        [ 3.7458e-01,  1.3159e+00,  4.5651e-01,  1.3042e+00],\n",
       "        [-9.8004e-02, -1.1339e+00,  6.2873e-02,  7.0396e-01],\n",
       "        [ 7.3259e-01, -1.0026e+00, -3.9175e-01, -1.0789e+00],\n",
       "        [-1.0184e+00,  1.9400e+00, -2.1004e-01, -7.4507e-01],\n",
       "        [-3.6327e-01,  3.0375e+00, -1.9777e-03, -8.1536e-01],\n",
       "        [-1.0294e+00, -2.5466e-01, -6.0485e-01, -4.2503e-01],\n",
       "        [ 7.4818e-01, -9.0062e-01,  1.1880e+00, -3.1461e-01],\n",
       "        [-5.0202e-01, -4.8585e-01,  3.6460e-01, -9.2442e-02]])"
      ]
     },
     "execution_count": 48,
     "metadata": {},
     "output_type": "execute_result"
    }
   ],
   "source": [
    "ttt = torch.randn(15, 4) # batch that consists from 15 rows with 4 elements in every\n",
    "ttt"
   ]
  },
  {
   "cell_type": "code",
   "execution_count": 49,
   "id": "2dc62eef",
   "metadata": {},
   "outputs": [
    {
     "data": {
      "text/plain": [
       "tensor([[-0.4942,  0.2078,  0.5835],\n",
       "        [-0.3238,  0.3664,  1.0699],\n",
       "        [-0.2736, -0.5838, -1.9415],\n",
       "        [-0.2705, -0.3332, -0.0929],\n",
       "        [-0.4665,  0.0718, -0.2950],\n",
       "        [ 0.2282, -0.5596, -0.1199],\n",
       "        [-0.5349,  0.1326,  1.0092],\n",
       "        [ 0.1812, -0.4290, -1.3227],\n",
       "        [-0.5250, -0.3511,  0.1890],\n",
       "        [-0.0475, -0.6077,  0.1496],\n",
       "        [ 0.4278, -0.0026, -0.5766],\n",
       "        [ 0.8955, -0.1815, -1.3580],\n",
       "        [-0.3117, -0.0255,  0.3634],\n",
       "        [ 0.0592, -0.7195,  0.1364],\n",
       "        [-0.2097, -0.2605,  0.3047]], grad_fn=<AddmmBackward0>)"
      ]
     },
     "execution_count": 49,
     "metadata": {},
     "output_type": "execute_result"
    }
   ],
   "source": [
    "fc = nn.Linear(4, 3)\n",
    "fc(ttt)"
   ]
  },
  {
   "cell_type": "code",
   "execution_count": 50,
   "id": "922366ff",
   "metadata": {},
   "outputs": [],
   "source": [
    "y_pred = model(batch_x) # Prediction of model"
   ]
  },
  {
   "cell_type": "markdown",
   "id": "e1ca39b4",
   "metadata": {},
   "source": [
    "### Writing of loop of fitting and tracking of metrics\n",
    "\n",
    "We will download data from MNIST dataset and fit our model on it"
   ]
  },
  {
   "cell_type": "code",
   "execution_count": 51,
   "id": "ad5625de",
   "metadata": {},
   "outputs": [],
   "source": [
    "mnist_train = torchvision.datasets.MNIST(\n",
    "    './mnist/', train=True, download=True,\n",
    "    transform=torchvision.transforms.ToTensor()\n",
    ") # We use already created PyTorch class for dowloading of data - we download data for training only\n",
    "\n",
    "mnist_val = torchvision.datasets.MNIST(\n",
    "    './mnist/', train=False, download=True,\n",
    "    transform=torchvision.transforms.ToTensor()\n",
    ") # We use already created PyTorch class for dowloading of data - we download data for validation only"
   ]
  },
  {
   "cell_type": "code",
   "execution_count": 52,
   "id": "8877cd97",
   "metadata": {},
   "outputs": [
    {
     "data": {
      "text/plain": [
       "Dataset MNIST\n",
       "    Number of datapoints: 60000\n",
       "    Root location: ./mnist/\n",
       "    Split: Train\n",
       "    StandardTransform\n",
       "Transform: ToTensor()"
      ]
     },
     "execution_count": 52,
     "metadata": {},
     "output_type": "execute_result"
    }
   ],
   "source": [
    "mnist_train # About our MNIST train set"
   ]
  },
  {
   "cell_type": "code",
   "execution_count": 53,
   "id": "d4ffad8f",
   "metadata": {},
   "outputs": [
    {
     "data": {
      "text/plain": [
       "torch.Size([1, 28, 28])"
      ]
     },
     "execution_count": 53,
     "metadata": {},
     "output_type": "execute_result"
    }
   ],
   "source": [
    "mnist_train[5][0].shape # As you can see, element of our train set is image 28x28 with one color channel"
   ]
  },
  {
   "cell_type": "code",
   "execution_count": 54,
   "id": "e267128b",
   "metadata": {},
   "outputs": [],
   "source": [
    "train_dataloader = torch.utils.data.DataLoader(\n",
    "    mnist_train, batch_size=4, shuffle=True, num_workers=1\n",
    ") # num_workers is number of CPUs, which bisy at calculations (num_workers=-1 is means take all the avaliable CPUs)\n",
    "\n",
    "val_dataloader = torch.utils.data.DataLoader(\n",
    "    mnist_val, batch_size=4, shuffle=True, num_workers=1\n",
    ") # num_workers is number of CPUs, which bisy at calculations (num_workers=-1 is means take all the avaliable CPUs)"
   ]
  },
  {
   "cell_type": "code",
   "execution_count": 55,
   "id": "5cbf2ff4",
   "metadata": {},
   "outputs": [
    {
     "data": {
      "image/png": "[encoded data removed]",
      "text/plain": [
       "<Figure size 432x288 with 7 Axes>"
      ]
     },
     "metadata": {
      "needs_background": "light"
     },
     "output_type": "display_data"
    }
   ],
   "source": [
    "for i in [0, 1, 2, 3, 4, 5, 6]:\n",
    "    plt.subplot(1, 7, i+1)\n",
    "    # we are deleting channel dimention in image before plotting\n",
    "    plt.imshow(mnist_train[i][0].squeeze(0).numpy().reshape([28, 28]))\n",
    "    plt.title(str(mnist_train[i][1]))\n",
    "plt.show()"
   ]
  },
  {
   "cell_type": "code",
   "execution_count": 56,
   "id": "c096eb97",
   "metadata": {},
   "outputs": [],
   "source": [
    "model = nn.Sequential(\n",
    "    nn.Flatten(),            # Transform image of dim = 1x28x28 into (1, 784) vector\n",
    "    nn.Linear(784, 128),     # Adding of fully connected layer with 784 neurons on input and 128 on output\n",
    "    nn.ReLU(),               # Adding of ReLU nonlinearity layer\n",
    "    nn.Linear(128, 10),      # Adding of fully connected layer with 128 neurons on input and 10 on output\n",
    "    nn.Softmax(dim=-1)       # Using softmax function in order to give probability distribution under classes labels\n",
    ")\n",
    "\n",
    "# Optimizer for fitting of network (here we used stochastic gradient descent)\n",
    "optimizer = torch.optim.SGD(model.parameters(), lr=0.05)"
   ]
  },
  {
   "cell_type": "code",
   "execution_count": 57,
   "id": "24254cee",
   "metadata": {},
   "outputs": [
    {
     "data": {
      "text/plain": [
       "[('1.weight',\n",
       "  Parameter containing:\n",
       "  tensor([[ 4.1491e-03,  1.6459e-02,  2.4941e-03,  ...,  2.8835e-02,\n",
       "           -6.4816e-03,  1.8533e-02],\n",
       "          [ 3.3097e-02, -1.1335e-02,  3.4553e-02,  ...,  4.4197e-05,\n",
       "           -1.6680e-02, -2.7293e-02],\n",
       "          [ 2.1312e-02, -2.1692e-02,  1.1552e-02,  ...,  1.3145e-03,\n",
       "           -1.7213e-02, -2.7359e-02],\n",
       "          ...,\n",
       "          [ 2.0850e-03, -9.5311e-03,  8.5124e-03,  ...,  1.7645e-02,\n",
       "            1.2745e-02, -2.1100e-02],\n",
       "          [ 2.9316e-02, -1.6808e-02,  3.2225e-02,  ...,  1.5839e-02,\n",
       "            7.3458e-03, -1.3151e-02],\n",
       "          [ 3.2316e-02,  1.1119e-02,  1.9880e-02,  ...,  3.2575e-02,\n",
       "           -1.2475e-02,  3.2306e-02]], requires_grad=True)),\n",
       " ('1.bias',\n",
       "  Parameter containing:\n",
       "  tensor([-0.0159,  0.0279,  0.0004,  0.0204,  0.0257,  0.0090, -0.0245, -0.0291,\n",
       "          -0.0115,  0.0292,  0.0221,  0.0090,  0.0028,  0.0293,  0.0216,  0.0285,\n",
       "          -0.0090, -0.0314,  0.0213,  0.0136,  0.0348,  0.0045, -0.0125, -0.0158,\n",
       "           0.0278,  0.0234,  0.0111, -0.0069, -0.0077, -0.0213, -0.0308, -0.0177,\n",
       "          -0.0127, -0.0198,  0.0213,  0.0340,  0.0242, -0.0091, -0.0045,  0.0063,\n",
       "           0.0210,  0.0319, -0.0267,  0.0008, -0.0283,  0.0121,  0.0007,  0.0101,\n",
       "           0.0101,  0.0115,  0.0278, -0.0232,  0.0115,  0.0190,  0.0180, -0.0183,\n",
       "           0.0045,  0.0190,  0.0111, -0.0057, -0.0345,  0.0320,  0.0202, -0.0325,\n",
       "           0.0334, -0.0007,  0.0273, -0.0318,  0.0209,  0.0148, -0.0336, -0.0175,\n",
       "           0.0325,  0.0179, -0.0113, -0.0215,  0.0304,  0.0069,  0.0042, -0.0178,\n",
       "          -0.0083, -0.0189,  0.0190, -0.0023,  0.0265,  0.0011, -0.0100,  0.0324,\n",
       "           0.0115, -0.0010, -0.0010, -0.0192, -0.0045,  0.0262,  0.0340,  0.0285,\n",
       "          -0.0247, -0.0075,  0.0083,  0.0120, -0.0206, -0.0140, -0.0078,  0.0236,\n",
       "          -0.0345,  0.0225,  0.0124,  0.0097, -0.0247, -0.0090,  0.0046,  0.0009,\n",
       "           0.0044,  0.0095, -0.0042, -0.0251,  0.0082,  0.0023, -0.0205,  0.0313,\n",
       "          -0.0186, -0.0136,  0.0185, -0.0040, -0.0037,  0.0204, -0.0064, -0.0342],\n",
       "         requires_grad=True)),\n",
       " ('3.weight',\n",
       "  Parameter containing:\n",
       "  tensor([[-0.0669, -0.0615, -0.0128,  ..., -0.0181, -0.0477,  0.0390],\n",
       "          [ 0.0269,  0.0412,  0.0023,  ..., -0.0075,  0.0390, -0.0060],\n",
       "          [ 0.0485, -0.0790, -0.0210,  ...,  0.0139,  0.0568, -0.0424],\n",
       "          ...,\n",
       "          [ 0.0599,  0.0682, -0.0319,  ...,  0.0434, -0.0107, -0.0040],\n",
       "          [ 0.0550,  0.0482,  0.0021,  ...,  0.0349, -0.0560, -0.0879],\n",
       "          [ 0.0429,  0.0045,  0.0804,  ...,  0.0133,  0.0223,  0.0882]],\n",
       "         requires_grad=True)),\n",
       " ('3.bias',\n",
       "  Parameter containing:\n",
       "  tensor([ 0.0653, -0.0855,  0.0857, -0.0499, -0.0618,  0.0804, -0.0170, -0.0080,\n",
       "           0.0765,  0.0107], requires_grad=True))]"
      ]
     },
     "execution_count": 57,
     "metadata": {},
     "output_type": "execute_result"
    }
   ],
   "source": [
    "[x for x in model.named_parameters()] # List of parameters of model (1 and 3 it's layers of network)"
   ]
  },
  {
   "cell_type": "markdown",
   "id": "f976446a",
   "metadata": {},
   "source": [
    "### Fitting of our model which defined above"
   ]
  },
  {
   "cell_type": "code",
   "execution_count": 58,
   "id": "dd0b2460",
   "metadata": {},
   "outputs": [
    {
     "data": {
      "application/vnd.jupyter.widget-view+json": {
       "model_id": "4cf66ac1e0dc47b9b08b58ce5adb9e0a",
       "version_major": 2,
       "version_minor": 0
      },
      "text/plain": [
       "  0%|          | 0/15000 [00:00<?, ?it/s]"
      ]
     },
     "metadata": {},
     "output_type": "display_data"
    },
    {
     "data": {
      "application/vnd.jupyter.widget-view+json": {
       "model_id": "76074b3676744bf999e5d9c1532b3c77",
       "version_major": 2,
       "version_minor": 0
      },
      "text/plain": [
       "  0%|          | 0/2500 [00:00<?, ?it/s]"
      ]
     },
     "metadata": {},
     "output_type": "display_data"
    },
    {
     "name": "stdout",
     "output_type": "stream",
     "text": [
      "Epoch: 0, Loss: 1.5360216788291932, Accuracy: 0.9319\n"
     ]
    },
    {
     "data": {
      "application/vnd.jupyter.widget-view+json": {
       "model_id": "214be9c96a5d4743832055e6bc812b2c",
       "version_major": 2,
       "version_minor": 0
      },
      "text/plain": [
       "  0%|          | 0/15000 [00:00<?, ?it/s]"
      ]
     },
     "metadata": {},
     "output_type": "display_data"
    },
    {
     "data": {
      "application/vnd.jupyter.widget-view+json": {
       "model_id": "783c8c235035463bb1d4a8012fe8f4c1",
       "version_major": 2,
       "version_minor": 0
      },
      "text/plain": [
       "  0%|          | 0/15000 [00:00<?, ?it/s]"
      ]
     },
     "metadata": {},
     "output_type": "display_data"
    },
    {
     "data": {
      "application/vnd.jupyter.widget-view+json": {
       "model_id": "afd5810ed2a74209bc1c6166b1fa45f4",
       "version_major": 2,
       "version_minor": 0
      },
      "text/plain": [
       "  0%|          | 0/2500 [00:00<?, ?it/s]"
      ]
     },
     "metadata": {},
     "output_type": "display_data"
    },
    {
     "name": "stdout",
     "output_type": "stream",
     "text": [
      "Epoch: 2, Loss: 1.5112715605258942, Accuracy: 0.9521\n"
     ]
    },
    {
     "data": {
      "application/vnd.jupyter.widget-view+json": {
       "model_id": "a0cb842c22dc49ac8f776bb2aec48dfd",
       "version_major": 2,
       "version_minor": 0
      },
      "text/plain": [
       "  0%|          | 0/15000 [00:00<?, ?it/s]"
      ]
     },
     "metadata": {},
     "output_type": "display_data"
    },
    {
     "data": {
      "application/vnd.jupyter.widget-view+json": {
       "model_id": "108f4f80b1474dc7adcb2fdb38c2d4da",
       "version_major": 2,
       "version_minor": 0
      },
      "text/plain": [
       "  0%|          | 0/15000 [00:00<?, ?it/s]"
      ]
     },
     "metadata": {},
     "output_type": "display_data"
    },
    {
     "data": {
      "application/vnd.jupyter.widget-view+json": {
       "model_id": "fd727d3a3f654d2695167cc902f4ccb6",
       "version_major": 2,
       "version_minor": 0
      },
      "text/plain": [
       "  0%|          | 0/2500 [00:00<?, ?it/s]"
      ]
     },
     "metadata": {},
     "output_type": "display_data"
    },
    {
     "name": "stdout",
     "output_type": "stream",
     "text": [
      "Epoch: 4, Loss: 1.4971261579990387, Accuracy: 0.9672\n"
     ]
    },
    {
     "data": {
      "application/vnd.jupyter.widget-view+json": {
       "model_id": "52a32f182e864c5f900a4be541e1a250",
       "version_major": 2,
       "version_minor": 0
      },
      "text/plain": [
       "  0%|          | 0/15000 [00:00<?, ?it/s]"
      ]
     },
     "metadata": {},
     "output_type": "display_data"
    },
    {
     "data": {
      "application/vnd.jupyter.widget-view+json": {
       "model_id": "e98f1cf6f686496c9f56e3b5e23100eb",
       "version_major": 2,
       "version_minor": 0
      },
      "text/plain": [
       "  0%|          | 0/15000 [00:00<?, ?it/s]"
      ]
     },
     "metadata": {},
     "output_type": "display_data"
    },
    {
     "data": {
      "application/vnd.jupyter.widget-view+json": {
       "model_id": "8d865f7a0b4d4e7f8e25e740385f2300",
       "version_major": 2,
       "version_minor": 0
      },
      "text/plain": [
       "  0%|          | 0/2500 [00:00<?, ?it/s]"
      ]
     },
     "metadata": {},
     "output_type": "display_data"
    },
    {
     "name": "stdout",
     "output_type": "stream",
     "text": [
      "Epoch: 6, Loss: 1.4936772417545319, Accuracy: 0.9697\n"
     ]
    },
    {
     "data": {
      "application/vnd.jupyter.widget-view+json": {
       "model_id": "46aea47e749a46c5a4207467f98616bd",
       "version_major": 2,
       "version_minor": 0
      },
      "text/plain": [
       "  0%|          | 0/15000 [00:00<?, ?it/s]"
      ]
     },
     "metadata": {},
     "output_type": "display_data"
    },
    {
     "data": {
      "application/vnd.jupyter.widget-view+json": {
       "model_id": "b1712f9a51fd4358833b5be9d8015dca",
       "version_major": 2,
       "version_minor": 0
      },
      "text/plain": [
       "  0%|          | 0/15000 [00:00<?, ?it/s]"
      ]
     },
     "metadata": {},
     "output_type": "display_data"
    },
    {
     "data": {
      "application/vnd.jupyter.widget-view+json": {
       "model_id": "4b05244fd78d4a7faba16c45256f5617",
       "version_major": 2,
       "version_minor": 0
      },
      "text/plain": [
       "  0%|          | 0/2500 [00:00<?, ?it/s]"
      ]
     },
     "metadata": {},
     "output_type": "display_data"
    },
    {
     "name": "stdout",
     "output_type": "stream",
     "text": [
      "Epoch: 8, Loss: 1.489091137933731, Accuracy: 0.9743\n"
     ]
    },
    {
     "data": {
      "application/vnd.jupyter.widget-view+json": {
       "model_id": "f4c83314fd1e40bd8b51863f7288e9f6",
       "version_major": 2,
       "version_minor": 0
      },
      "text/plain": [
       "  0%|          | 0/15000 [00:00<?, ?it/s]"
      ]
     },
     "metadata": {},
     "output_type": "display_data"
    },
    {
     "data": {
      "application/vnd.jupyter.widget-view+json": {
       "model_id": "f03cbe3b9f1d4bdbb1e59862dcd82146",
       "version_major": 2,
       "version_minor": 0
      },
      "text/plain": [
       "  0%|          | 0/15000 [00:00<?, ?it/s]"
      ]
     },
     "metadata": {},
     "output_type": "display_data"
    },
    {
     "data": {
      "application/vnd.jupyter.widget-view+json": {
       "model_id": "e225587f7fce4a908ffb4bc9e3c990c8",
       "version_major": 2,
       "version_minor": 0
      },
      "text/plain": [
       "  0%|          | 0/2500 [00:00<?, ?it/s]"
      ]
     },
     "metadata": {},
     "output_type": "display_data"
    },
    {
     "name": "stdout",
     "output_type": "stream",
     "text": [
      "Epoch: 10, Loss: 1.4908704790592193, Accuracy: 0.9717\n"
     ]
    }
   ],
   "source": [
    "for epoch in range(11): # We have 10 epochs\n",
    "    for x_train, y_train in tqdm(train_dataloader):\n",
    "        y_pred = model(x_train)\n",
    "        loss = F.cross_entropy(y_pred, y_train)\n",
    "        loss.backward()\n",
    "        optimizer.step()\n",
    "        optimizer.zero_grad()\n",
    "        \n",
    "    if epoch % 2 == 0:\n",
    "        val_loss = []\n",
    "        val_accuracy = []\n",
    "        \n",
    "        for x_val, y_val in tqdm(val_dataloader):\n",
    "            y_pred_val = model(x_val)\n",
    "            loss = F.cross_entropy(y_pred_val, y_val)\n",
    "            val_loss.append(loss.item())\n",
    "            val_accuracy.extend( (torch.argmax(y_pred_val, dim=-1) == y_val).detach().numpy().tolist() )\n",
    "        print('Epoch: {epoch}, Loss: {loss}, Accuracy: {accuracy}'.format(\n",
    "            epoch=epoch, loss=np.mean(val_loss), accuracy=np.mean(val_accuracy)\n",
    "        ))"
   ]
  },
  {
   "cell_type": "code",
   "execution_count": 59,
   "id": "9da2e2b4",
   "metadata": {},
   "outputs": [
    {
     "name": "stdout",
     "output_type": "stream",
     "text": [
      "tensor([3])\n",
      "tensor([8])\n",
      "tensor([1])\n",
      "tensor([7])\n"
     ]
    }
   ],
   "source": [
    "for k in y_pred:\n",
    "    print(torch.where(k == torch.max(k).item())[0])"
   ]
  },
  {
   "cell_type": "code",
   "execution_count": 60,
   "id": "78318484",
   "metadata": {},
   "outputs": [
    {
     "data": {
      "text/plain": [
       "tensor([3, 8, 1, 7])"
      ]
     },
     "execution_count": 60,
     "metadata": {},
     "output_type": "execute_result"
    }
   ],
   "source": [
    "y_train"
   ]
  },
  {
   "cell_type": "markdown",
   "id": "8fcdf585",
   "metadata": {},
   "source": [
    "## Validation \n",
    "\n",
    "The model is fitted now. Let's check quality of fitting on validation dataset. Implementation of validation already exists in loop above, but we moved it here for clarity."
   ]
  },
  {
   "cell_type": "code",
   "execution_count": 61,
   "id": "5ae130c3",
   "metadata": {},
   "outputs": [
    {
     "data": {
      "application/vnd.jupyter.widget-view+json": {
       "model_id": "536730fdf137448e8ef1dea793c9aa99",
       "version_major": 2,
       "version_minor": 0
      },
      "text/plain": [
       "  0%|          | 0/15000 [00:00<?, ?it/s]"
      ]
     },
     "metadata": {},
     "output_type": "display_data"
    }
   ],
   "source": [
    "for x_val, y_val in tqdm(train_dataloader):\n",
    "        y_pred_val = model(x_val)"
   ]
  },
  {
   "cell_type": "code",
   "execution_count": 62,
   "id": "c93f75f9",
   "metadata": {},
   "outputs": [
    {
     "name": "stdout",
     "output_type": "stream",
     "text": [
      "Prediction: \n",
      "\n",
      "tensor([6])\n",
      "tensor([7])\n",
      "tensor([9])\n",
      "tensor([6])\n"
     ]
    }
   ],
   "source": [
    "print(\"Prediction: \\n\")\n",
    "for k in y_pred_val:\n",
    "    print(torch.where(k == torch.max(k).item())[0])"
   ]
  },
  {
   "cell_type": "code",
   "execution_count": 63,
   "id": "71929bbe",
   "metadata": {},
   "outputs": [
    {
     "name": "stdout",
     "output_type": "stream",
     "text": [
      "Ground truth: \n",
      "\n"
     ]
    },
    {
     "data": {
      "text/plain": [
       "tensor([6, 7, 9, 6])"
      ]
     },
     "execution_count": 63,
     "metadata": {},
     "output_type": "execute_result"
    }
   ],
   "source": [
    "print(\"Ground truth: \\n\")\n",
    "\n",
    "y_val"
   ]
  },
  {
   "cell_type": "code",
   "execution_count": null,
   "id": "7ab74ed9",
   "metadata": {},
   "outputs": [],
   "source": []
  }
 ],
 "metadata": {
  "kernelspec": {
   "display_name": "Python 3 (ipykernel)",
   "language": "python",
   "name": "python3"
  },
  "language_info": {
   "codemirror_mode": {
    "name": "ipython",
    "version": 3
   },
   "file_extension": ".py",
   "mimetype": "text/x-python",
   "name": "python",
   "nbconvert_exporter": "python",
   "pygments_lexer": "ipython3",
   "version": "3.10.6"
  },
  "toc": {
   "base_numbering": 1,
   "nav_menu": {},
   "number_sections": true,
   "sideBar": true,
   "skip_h1_title": false,
   "title_cell": "Table of Contents",
   "title_sidebar": "Contents",
   "toc_cell": false,
   "toc_position": {},
   "toc_section_display": true,
   "toc_window_display": false
  }
 },
 "nbformat": 4,
 "nbformat_minor": 5
}
