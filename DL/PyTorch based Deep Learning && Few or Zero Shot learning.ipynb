{
 "cells": [
  {
   "cell_type": "markdown",
   "id": "91a523fd",
   "metadata": {},
   "source": [
    "# Introduction"
   ]
  },
  {
   "cell_type": "markdown",
   "id": "c6b0eaa0",
   "metadata": {},
   "source": [
    "We know that for ML problems we need big data. But what if:\n",
    "* There are some rare cases examples for which only a few at all. Then we formally have a classification of $C$ classes problem where $K < C$ classes have a little number of taining examples for the model and we need to be able to fell the difference between all the classes - both numerous and few in number.\n",
    "* For some problem in general it can be hard (or expensive) to collect big enough dataset (for example, oil wells data, computer tomography, MRI, etc.). Here we have $K$ classes for each of them we have a little number of data in train dataset.\n",
    "\n",
    "For such problems were created a number of <b>Few Shot Learning</b> algorithms. If we have $K$ rare classes each of them is represented by $N$ objects, then in English-language textbooks such a Few Shot problem calls $K$-way $N$-shot classification/regression/detection/...\n",
    "\n",
    "We'll try to do an overview of the methods which provide good enough quality of predictions despite of extremely small (or even missing! - <b>Zero Shot Learning</b>) number of data."
   ]
  },
  {
   "cell_type": "code",
   "execution_count": 1,
   "id": "1717c64e",
   "metadata": {},
   "outputs": [],
   "source": [
    "import warnings\n",
    "\n",
    "import matplotlib.pyplot as plt\n",
    "import numpy as np\n",
    "import pytorch_lightning as pl\n",
    "import torch\n",
    "import torchvision\n",
    "from torch import nn, optim\n",
    "from torch.nn import functional as F\n",
    "from torchmetrics.functional import accuracy\n",
    "from torchvision import transforms\n",
    "from tqdm.auto import tqdm\n",
    "\n",
    "warnings.filterwarnings(\"ignore\")\n",
    "%matplotlib inline"
   ]
  },
  {
   "cell_type": "markdown",
   "id": "7ab1e884",
   "metadata": {},
   "source": [
    "Let's collect a little dataset. Let it be a subset of CIFAR10 where are represented 10 classes of colorful pictures with 32x32 resolution.\n",
    "\n",
    "Let's make a class CifarSubset which will be represented by a dataset consisted from subset of $N$ objects of each of 10 classes."
   ]
  },
  {
   "cell_type": "code",
   "execution_count": 2,
   "id": "f36cf98b",
   "metadata": {},
   "outputs": [],
   "source": [
    "class CifarSubset(torchvision.datasets.vision.VisionDataset):\n",
    "    def __init__(self, root, k_n, train: bool, download: bool, transform):\n",
    "        super().__init__(root, transform=transform, target_transform=None)\n",
    "        \n",
    "        self.k_n = k_n\n",
    "        self.data = self.__sample_uniform_subset(root, train, download, transform)\n",
    "        \n",
    "    def __sample_uniform_subset(self, root, train, download, transform):\n",
    "        \"\"\"\n",
    "        Methods returns a k_n-subset of CIFAR10\n",
    "        \n",
    "        dataset - initial dataset\n",
    "        k_n - number of objects in each class\n",
    "        \"\"\"\n",
    "        \n",
    "        self.cifar_full = torchvision.datasets.CIFAR10(\n",
    "            root=root, train=train, download=download, transform=transform\n",
    "        )\n",
    "        \n",
    "        number_of_classes = len(self.cifar_full.classes)\n",
    "        class_count = [0 for _ in range(number_of_classes)]\n",
    "        subset = []\n",
    "        \n",
    "        for image, label in self.cifar_full:\n",
    "            if class_count[label] < self.k_n:\n",
    "                subset.append((image, label))\n",
    "                class_count[label] += 1\n",
    "            \n",
    "            if sum(class_count) == number_of_classes * self.k_n:\n",
    "                break\n",
    "        return subset\n",
    "    \n",
    "    def __getitem__(self, index):\n",
    "        return self.data[index][0], self.data[index][1]\n",
    "    \n",
    "    def __len__(self):\n",
    "        return len(self.data)"
   ]
  },
  {
   "cell_type": "code",
   "execution_count": 3,
   "id": "614bd60e",
   "metadata": {},
   "outputs": [
    {
     "name": "stdout",
     "output_type": "stream",
     "text": [
      "Files already downloaded and verified\n",
      "Files already downloaded and verified\n"
     ]
    }
   ],
   "source": [
    "N_SHOT = 5 # number of objects of each class in train dataset\n",
    "\n",
    "transform = transforms.Compose(\n",
    "    [\n",
    "        transforms.ToTensor(),\n",
    "        transforms.Normalize((0.4914, 0.4822, 0.4465), (0.247, 0.243, 0.261))\n",
    "    ]\n",
    ")\n",
    "\n",
    "cifar_train_subset = CifarSubset(\n",
    "    root=\"./cifar\", k_n=N_SHOT, train=True, download=True, transform=transform\n",
    ")\n",
    "\n",
    "cifar_val_subset = CifarSubset(\n",
    "    root=\"./cifar\", k_n=N_SHOT, train=False, download=True, transform=transform\n",
    ")"
   ]
  },
  {
   "cell_type": "markdown",
   "id": "41cec89a",
   "metadata": {},
   "source": [
    "# Few Shot Learning"
   ]
  },
  {
   "cell_type": "markdown",
   "id": "c8f2bdaf",
   "metadata": {},
   "source": [
    "For most of Few Shot (and especially Meta) Learning algorithms it's better to train the model by <b>episodes</b> where episode means situation as close as possible to the conditions of inference. For instance, if while inference we ask the model to classify $N$ objects of each of $K$ classes, then we have to train the model by batches of $N \\cdot K$ classes.\n",
    "\n",
    "In our case $N \\cdot K$ is all the data then one episode is equivalent of an epoch."
   ]
  },
  {
   "cell_type": "code",
   "execution_count": 4,
   "id": "39ccbc19",
   "metadata": {},
   "outputs": [],
   "source": [
    "train_dataloader = torch.utils.data.DataLoader(\n",
    "    cifar_train_subset,\n",
    "    batch_size=N_SHOT * 10, # because in our sample 10 classes\n",
    "    shuffle=True,\n",
    "    num_workers=0,#1, # 0 because jupyter can't deal with multiprocessing module\n",
    ")\n",
    "\n",
    "val_dataloader = torch.utils.data.DataLoader(\n",
    "    cifar_val_subset,\n",
    "    batch_size=N_SHOT * 10, # because in our sample 10 classes\n",
    "    shuffle=True,\n",
    "    num_workers=0,#1, # 0 because jupyter can't deal with multiprocessing module\n",
    ")"
   ]
  },
  {
   "cell_type": "markdown",
   "id": "9641b874",
   "metadata": {},
   "source": [
    "If we'll use an ordinary approach, our model won't find any patterns at all and probably will have overfitted strongly."
   ]
  },
  {
   "cell_type": "markdown",
   "id": "2be86056",
   "metadata": {},
   "source": [
    "The main goal of approaches of this kind - to understand how learned features (embedding) of the typical representer of each class look like.\n",
    "Having such \"prototypes\" of the classes we can compare the features of each of the objects to features of each prototype and choose there one which the most similar to our object.\n",
    "In order to make it works, we must make sure that while training we make it the way similar objects are near in features space to each other and not similar - far from each other (the same way as in clustering problem)."
   ]
  },
  {
   "cell_type": "markdown",
   "id": "f898f133",
   "metadata": {},
   "source": [
    "On high level it always looks like approximately the same:\n",
    "1. On our data we train some model for which an output is not <b>probabilities of classes</b> but <b>multidimensional vector of the features</b> (we can take any model of classification/regression and throw out the last layer - classificational layer).\n",
    "2. The loss function is selected the way model train to group similar data.\n",
    "3. Both while training and while inference in case of $K$-way $N$-shot classification (we have $K$ classes and $N$ objects of each class) some percent of $N$ objects of each class is chosen to form of this prototype of the class via take an average of its features. Such subset is called <b>support set</b> and the rest objects (we'll compare them to this prototype) is called <b>query set</b>."
   ]
  },
  {
   "cell_type": "markdown",
   "id": "c6d5adfa",
   "metadata": {},
   "source": [
    "Let's build a convolutional architecture, an output of which is multidimensional vector of learned features."
   ]
  },
  {
   "cell_type": "code",
   "execution_count": 5,
   "id": "5a3634bc",
   "metadata": {},
   "outputs": [],
   "source": [
    "class PrototypeNet(nn.Module):\n",
    "    def __init__(self, input_dim=3, hid_dim=64, output_dim=64):\n",
    "        super(PrototypeNet, self).__init__()\n",
    "        \n",
    "        self.encoder = nn.Sequential(\n",
    "            self.__conv_block(input_dim, hid_dim),\n",
    "            self.__conv_block(hid_dim, hid_dim),\n",
    "            self.__conv_block(hid_dim, hid_dim),\n",
    "            self.__conv_block(hid_dim, output_dim)\n",
    "        )\n",
    "        \n",
    "    def __conv_block(self, in_channels, out_channels):\n",
    "        return nn.Sequential(\n",
    "            nn.Conv2d(in_channels, out_channels, 3, padding=1),\n",
    "            nn.BatchNorm2d(out_channels),\n",
    "            nn.ReLU(),\n",
    "            nn.MaxPool2d(2),\n",
    "        )\n",
    "    \n",
    "    def forward(self, x):\n",
    "        x = self.encoder(x)\n",
    "        return x.view(x.size(0), -1)"
   ]
  },
  {
   "cell_type": "markdown",
   "id": "ca3201f7",
   "metadata": {},
   "source": [
    "Now we need to select a loss function which will give the model a fine for:\n",
    "* large distance between object and prototype of its class\n",
    "* small distance between objects and prototype of <b>not</b> its class."
   ]
  },
  {
   "cell_type": "markdown",
   "id": "ff993e2d",
   "metadata": {},
   "source": [
    "It looks like the following (in one approach):\n",
    "* For each class <b>c</b>:\n",
    "    * For each object <b>q</b> from our <b>query_set</b>(c)\n",
    "    $$Loss = \\frac{1}{N_c \\cdot N_q} \\left[ dist(emb(q), p_c) + \\log \\sum_{classes} e^{-dist(emb(q), p_c)}\\right]$$\n",
    "    \n",
    "where $emb(q)$ - embedding have obtained after object $q$ is went through our convolutional network, $dist(emb(q), p_c)$ - some function of distance between this embedding and prototype $p_c$ of class $c$."
   ]
  },
  {
   "cell_type": "code",
   "execution_count": 6,
   "id": "ce978d5f",
   "metadata": {},
   "outputs": [],
   "source": [
    "class PrototypeLoss(nn.Module):\n",
    "    def __init__(self, n_shot: int):\n",
    "        super(PrototypeLoss, self).__init__()\n",
    "        self.n_shot = n_shot\n",
    "        self.__prototypes: list = None\n",
    "    \n",
    "    def __distance(self, inp, other):\n",
    "        return torch.linalg.norm(inp - other)\n",
    "    \n",
    "    def __prototype_loss(\n",
    "        self,\n",
    "        predicted_embeddings: torch.Tensor,\n",
    "        target_labels: torch.Tensor,\n",
    "        support_percent=0.6,\n",
    "    ):\n",
    "        \"\"\"\n",
    "        predicted_embeddings - vectors of features have obtained as a \n",
    "                                result of work of the model\n",
    "                                shape = (N, emb_size)\n",
    "        target_labels - list of target classes \n",
    "                        shape = (N)\n",
    "        \"\"\"\n",
    "        \n",
    "        assert 0 < support_percent < 1\n",
    "        \n",
    "        classes = torch.unique(target_labels)\n",
    "        n_classes = len(classes) # number of classes for episode\n",
    "        \n",
    "        n_support = int(self.n_shot * support_percent) # size of support set\n",
    "        n_query = self.n_shot - n_support\n",
    "        \n",
    "        prototypes = []\n",
    "        class_queries = []\n",
    "        \n",
    "        for c in classes:\n",
    "            supports = predicted_embeddings[target_labels == c][:n_support]\n",
    "            queries = predicted_embeddings[target_labels == c][n_support:]\n",
    "            \n",
    "            prototypes.append(supports.mean(0))\n",
    "            class_queries.append(queries)\n",
    "            \n",
    "        loss = torch.tensor(0.0)\n",
    "        prediction_labels = []\n",
    "        \n",
    "        for ci in range(len(classes)): # ci - nimber of class\n",
    "            for queries in class_queries: # queries - list of object of a fixed class\n",
    "                for query in queries:\n",
    "                    # adding distance of object to prototype of its class\n",
    "                    loss += self.__distance(prototypes[ci], query)\n",
    "                    \n",
    "                    # calculation of distance to prototypes of the other classes\n",
    "                    distances = torch.stack(\n",
    "                        [\n",
    "                            self.__distance(query, p)\n",
    "                            for i, p in enumerate(prototypes)\n",
    "                            if i != ci\n",
    "                        ]\n",
    "                    )\n",
    "                    \n",
    "                    # add the second member of loss function\n",
    "                    loss += torch.log(torch.sum(torch.exp(-distances)))\n",
    "        \n",
    "        # let's save prototypes for further predictions\n",
    "        self.prototypes = torch.stack(prototypes)\n",
    "        \n",
    "        return loss / (n_support * n_query)\n",
    "    \n",
    "    def forward (self, predicted_embeddings, targets) -> torch.Tensor:\n",
    "        return self.__prototype_loss(predicted_embeddings, targets)\n",
    "    \n",
    "    def get_class_prototypes(self) -> list:\n",
    "        return self.__prototypes"
   ]
  },
  {
   "cell_type": "code",
   "execution_count": 7,
   "id": "0c7b64e2",
   "metadata": {},
   "outputs": [],
   "source": [
    "class FewShotMetricLearner(pl.LightningModule):\n",
    "    def __init__(self, n_shot: int) -> None:\n",
    "        super().__init__()\n",
    "        \n",
    "        self.model = PrototypeNet()\n",
    "        self.loss = PrototypeLoss(n_shot)\n",
    "        self.optimizer = torch.optim.Adam(self.model.parameters(), lr=1e-2)\n",
    "        self.prototypes = None\n",
    "        \n",
    "    def forward(self, x) -> torch.Tensor:\n",
    "        return self.model(x)\n",
    "    \n",
    "    def configure_optimizers(self):\n",
    "        return self.optimizer\n",
    "    \n",
    "    def predict_labels(self, batch_embeddings):\n",
    "        if self.prototypes == None:\n",
    "            raise ValueError(\"self.prototypes wasn't set\")\n",
    "            \n",
    "        ans = []\n",
    "        for e in batch_embeddings:\n",
    "            dists = torch.linalg.norm(self.prototypes - e, dim=1)\n",
    "            ans.append(torch.argmin(dists))\n",
    "            \n",
    "        return torch.stack(ans)\n",
    "    \n",
    "    def training_step(self, train_batch, batch_idx) -> torch.Tensor:\n",
    "        images, target = train_batch\n",
    "        embeddings = self.forward(images)\n",
    "        \n",
    "        loss = self.loss(embeddings, target)\n",
    "        label_predictions = self.predict_labels(embeddings)\n",
    "        \n",
    "        self.log(\"train_loss:\", loss, prog_bar=True)\n",
    "        return loss\n",
    "    \n",
    "    def validation_step(self, val_batch, batch_idx) -> None:\n",
    "        images, target = val_batch\n",
    "        embeddings = self.forward(images)\n",
    "        \n",
    "        loss = self.loss(embeddings, target)\n",
    "        self.prototypes = self.loss.prototypes\n",
    "        \n",
    "        label_predictions = self.predict_labels(embeddings)\n",
    "        acc = accuracy(label_predictions, target, task=\"multiclass\", num_classes=10)\n",
    "        \n",
    "        self.log(\"val_loss:\", loss, prog_bar=True)\n",
    "        self.log(\"val_acc:\", acc, prog_bar=True)"
   ]
  },
  {
   "cell_type": "code",
   "execution_count": 8,
   "id": "9f502f73",
   "metadata": {},
   "outputs": [
    {
     "name": "stderr",
     "output_type": "stream",
     "text": [
      "GPU available: False, used: False\n",
      "TPU available: False, using: 0 TPU cores\n",
      "IPU available: False, using: 0 IPUs\n",
      "HPU available: False, using: 0 HPUs\n",
      "\n",
      "  | Name  | Type          | Params\n",
      "----------------------------------------\n",
      "0 | model | PrototypeNet  | 113 K \n",
      "1 | loss  | PrototypeLoss | 0     \n",
      "----------------------------------------\n",
      "113 K     Trainable params\n",
      "0         Non-trainable params\n",
      "113 K     Total params\n",
      "0.452     Total estimated model params size (MB)\n"
     ]
    },
    {
     "data": {
      "application/vnd.jupyter.widget-view+json": {
       "model_id": "",
       "version_major": 2,
       "version_minor": 0
      },
      "text/plain": [
       "Sanity Checking: |                                                                               | 0/? [00:00<…"
      ]
     },
     "metadata": {},
     "output_type": "display_data"
    },
    {
     "data": {
      "application/vnd.jupyter.widget-view+json": {
       "model_id": "54e90579e00a416eac25ac87886a46a8",
       "version_major": 2,
       "version_minor": 0
      },
      "text/plain": [
       "Training: |                                                                                      | 0/? [00:00<…"
      ]
     },
     "metadata": {},
     "output_type": "display_data"
    },
    {
     "data": {
      "application/vnd.jupyter.widget-view+json": {
       "model_id": "",
       "version_major": 2,
       "version_minor": 0
      },
      "text/plain": [
       "Validation: |                                                                                    | 0/? [00:00<…"
      ]
     },
     "metadata": {},
     "output_type": "display_data"
    },
    {
     "data": {
      "application/vnd.jupyter.widget-view+json": {
       "model_id": "",
       "version_major": 2,
       "version_minor": 0
      },
      "text/plain": [
       "Validation: |                                                                                    | 0/? [00:00<…"
      ]
     },
     "metadata": {},
     "output_type": "display_data"
    },
    {
     "data": {
      "application/vnd.jupyter.widget-view+json": {
       "model_id": "",
       "version_major": 2,
       "version_minor": 0
      },
      "text/plain": [
       "Validation: |                                                                                    | 0/? [00:00<…"
      ]
     },
     "metadata": {},
     "output_type": "display_data"
    },
    {
     "data": {
      "application/vnd.jupyter.widget-view+json": {
       "model_id": "",
       "version_major": 2,
       "version_minor": 0
      },
      "text/plain": [
       "Validation: |                                                                                    | 0/? [00:00<…"
      ]
     },
     "metadata": {},
     "output_type": "display_data"
    },
    {
     "data": {
      "application/vnd.jupyter.widget-view+json": {
       "model_id": "",
       "version_major": 2,
       "version_minor": 0
      },
      "text/plain": [
       "Validation: |                                                                                    | 0/? [00:00<…"
      ]
     },
     "metadata": {},
     "output_type": "display_data"
    },
    {
     "data": {
      "application/vnd.jupyter.widget-view+json": {
       "model_id": "",
       "version_major": 2,
       "version_minor": 0
      },
      "text/plain": [
       "Validation: |                                                                                    | 0/? [00:00<…"
      ]
     },
     "metadata": {},
     "output_type": "display_data"
    },
    {
     "data": {
      "application/vnd.jupyter.widget-view+json": {
       "model_id": "",
       "version_major": 2,
       "version_minor": 0
      },
      "text/plain": [
       "Validation: |                                                                                    | 0/? [00:00<…"
      ]
     },
     "metadata": {},
     "output_type": "display_data"
    },
    {
     "data": {
      "application/vnd.jupyter.widget-view+json": {
       "model_id": "",
       "version_major": 2,
       "version_minor": 0
      },
      "text/plain": [
       "Validation: |                                                                                    | 0/? [00:00<…"
      ]
     },
     "metadata": {},
     "output_type": "display_data"
    },
    {
     "data": {
      "application/vnd.jupyter.widget-view+json": {
       "model_id": "",
       "version_major": 2,
       "version_minor": 0
      },
      "text/plain": [
       "Validation: |                                                                                    | 0/? [00:00<…"
      ]
     },
     "metadata": {},
     "output_type": "display_data"
    },
    {
     "data": {
      "application/vnd.jupyter.widget-view+json": {
       "model_id": "",
       "version_major": 2,
       "version_minor": 0
      },
      "text/plain": [
       "Validation: |                                                                                    | 0/? [00:00<…"
      ]
     },
     "metadata": {},
     "output_type": "display_data"
    },
    {
     "data": {
      "application/vnd.jupyter.widget-view+json": {
       "model_id": "",
       "version_major": 2,
       "version_minor": 0
      },
      "text/plain": [
       "Validation: |                                                                                    | 0/? [00:00<…"
      ]
     },
     "metadata": {},
     "output_type": "display_data"
    },
    {
     "data": {
      "application/vnd.jupyter.widget-view+json": {
       "model_id": "",
       "version_major": 2,
       "version_minor": 0
      },
      "text/plain": [
       "Validation: |                                                                                    | 0/? [00:00<…"
      ]
     },
     "metadata": {},
     "output_type": "display_data"
    },
    {
     "data": {
      "application/vnd.jupyter.widget-view+json": {
       "model_id": "",
       "version_major": 2,
       "version_minor": 0
      },
      "text/plain": [
       "Validation: |                                                                                    | 0/? [00:00<…"
      ]
     },
     "metadata": {},
     "output_type": "display_data"
    },
    {
     "data": {
      "application/vnd.jupyter.widget-view+json": {
       "model_id": "",
       "version_major": 2,
       "version_minor": 0
      },
      "text/plain": [
       "Validation: |                                                                                    | 0/? [00:00<…"
      ]
     },
     "metadata": {},
     "output_type": "display_data"
    },
    {
     "data": {
      "application/vnd.jupyter.widget-view+json": {
       "model_id": "",
       "version_major": 2,
       "version_minor": 0
      },
      "text/plain": [
       "Validation: |                                                                                    | 0/? [00:00<…"
      ]
     },
     "metadata": {},
     "output_type": "display_data"
    },
    {
     "data": {
      "application/vnd.jupyter.widget-view+json": {
       "model_id": "",
       "version_major": 2,
       "version_minor": 0
      },
      "text/plain": [
       "Validation: |                                                                                    | 0/? [00:00<…"
      ]
     },
     "metadata": {},
     "output_type": "display_data"
    },
    {
     "data": {
      "application/vnd.jupyter.widget-view+json": {
       "model_id": "",
       "version_major": 2,
       "version_minor": 0
      },
      "text/plain": [
       "Validation: |                                                                                    | 0/? [00:00<…"
      ]
     },
     "metadata": {},
     "output_type": "display_data"
    },
    {
     "data": {
      "application/vnd.jupyter.widget-view+json": {
       "model_id": "",
       "version_major": 2,
       "version_minor": 0
      },
      "text/plain": [
       "Validation: |                                                                                    | 0/? [00:00<…"
      ]
     },
     "metadata": {},
     "output_type": "display_data"
    },
    {
     "data": {
      "application/vnd.jupyter.widget-view+json": {
       "model_id": "",
       "version_major": 2,
       "version_minor": 0
      },
      "text/plain": [
       "Validation: |                                                                                    | 0/? [00:00<…"
      ]
     },
     "metadata": {},
     "output_type": "display_data"
    },
    {
     "data": {
      "application/vnd.jupyter.widget-view+json": {
       "model_id": "",
       "version_major": 2,
       "version_minor": 0
      },
      "text/plain": [
       "Validation: |                                                                                    | 0/? [00:00<…"
      ]
     },
     "metadata": {},
     "output_type": "display_data"
    },
    {
     "data": {
      "application/vnd.jupyter.widget-view+json": {
       "model_id": "",
       "version_major": 2,
       "version_minor": 0
      },
      "text/plain": [
       "Validation: |                                                                                    | 0/? [00:00<…"
      ]
     },
     "metadata": {},
     "output_type": "display_data"
    },
    {
     "data": {
      "application/vnd.jupyter.widget-view+json": {
       "model_id": "",
       "version_major": 2,
       "version_minor": 0
      },
      "text/plain": [
       "Validation: |                                                                                    | 0/? [00:00<…"
      ]
     },
     "metadata": {},
     "output_type": "display_data"
    },
    {
     "data": {
      "application/vnd.jupyter.widget-view+json": {
       "model_id": "",
       "version_major": 2,
       "version_minor": 0
      },
      "text/plain": [
       "Validation: |                                                                                    | 0/? [00:00<…"
      ]
     },
     "metadata": {},
     "output_type": "display_data"
    },
    {
     "data": {
      "application/vnd.jupyter.widget-view+json": {
       "model_id": "",
       "version_major": 2,
       "version_minor": 0
      },
      "text/plain": [
       "Validation: |                                                                                    | 0/? [00:00<…"
      ]
     },
     "metadata": {},
     "output_type": "display_data"
    },
    {
     "data": {
      "application/vnd.jupyter.widget-view+json": {
       "model_id": "",
       "version_major": 2,
       "version_minor": 0
      },
      "text/plain": [
       "Validation: |                                                                                    | 0/? [00:00<…"
      ]
     },
     "metadata": {},
     "output_type": "display_data"
    },
    {
     "data": {
      "application/vnd.jupyter.widget-view+json": {
       "model_id": "",
       "version_major": 2,
       "version_minor": 0
      },
      "text/plain": [
       "Validation: |                                                                                    | 0/? [00:00<…"
      ]
     },
     "metadata": {},
     "output_type": "display_data"
    },
    {
     "data": {
      "application/vnd.jupyter.widget-view+json": {
       "model_id": "",
       "version_major": 2,
       "version_minor": 0
      },
      "text/plain": [
       "Validation: |                                                                                    | 0/? [00:00<…"
      ]
     },
     "metadata": {},
     "output_type": "display_data"
    },
    {
     "data": {
      "application/vnd.jupyter.widget-view+json": {
       "model_id": "",
       "version_major": 2,
       "version_minor": 0
      },
      "text/plain": [
       "Validation: |                                                                                    | 0/? [00:00<…"
      ]
     },
     "metadata": {},
     "output_type": "display_data"
    },
    {
     "data": {
      "application/vnd.jupyter.widget-view+json": {
       "model_id": "",
       "version_major": 2,
       "version_minor": 0
      },
      "text/plain": [
       "Validation: |                                                                                    | 0/? [00:00<…"
      ]
     },
     "metadata": {},
     "output_type": "display_data"
    },
    {
     "data": {
      "application/vnd.jupyter.widget-view+json": {
       "model_id": "",
       "version_major": 2,
       "version_minor": 0
      },
      "text/plain": [
       "Validation: |                                                                                    | 0/? [00:00<…"
      ]
     },
     "metadata": {},
     "output_type": "display_data"
    },
    {
     "data": {
      "application/vnd.jupyter.widget-view+json": {
       "model_id": "",
       "version_major": 2,
       "version_minor": 0
      },
      "text/plain": [
       "Validation: |                                                                                    | 0/? [00:00<…"
      ]
     },
     "metadata": {},
     "output_type": "display_data"
    },
    {
     "data": {
      "application/vnd.jupyter.widget-view+json": {
       "model_id": "",
       "version_major": 2,
       "version_minor": 0
      },
      "text/plain": [
       "Validation: |                                                                                    | 0/? [00:00<…"
      ]
     },
     "metadata": {},
     "output_type": "display_data"
    },
    {
     "data": {
      "application/vnd.jupyter.widget-view+json": {
       "model_id": "",
       "version_major": 2,
       "version_minor": 0
      },
      "text/plain": [
       "Validation: |                                                                                    | 0/? [00:00<…"
      ]
     },
     "metadata": {},
     "output_type": "display_data"
    },
    {
     "data": {
      "application/vnd.jupyter.widget-view+json": {
       "model_id": "",
       "version_major": 2,
       "version_minor": 0
      },
      "text/plain": [
       "Validation: |                                                                                    | 0/? [00:00<…"
      ]
     },
     "metadata": {},
     "output_type": "display_data"
    },
    {
     "data": {
      "application/vnd.jupyter.widget-view+json": {
       "model_id": "",
       "version_major": 2,
       "version_minor": 0
      },
      "text/plain": [
       "Validation: |                                                                                    | 0/? [00:00<…"
      ]
     },
     "metadata": {},
     "output_type": "display_data"
    },
    {
     "data": {
      "application/vnd.jupyter.widget-view+json": {
       "model_id": "",
       "version_major": 2,
       "version_minor": 0
      },
      "text/plain": [
       "Validation: |                                                                                    | 0/? [00:00<…"
      ]
     },
     "metadata": {},
     "output_type": "display_data"
    },
    {
     "data": {
      "application/vnd.jupyter.widget-view+json": {
       "model_id": "",
       "version_major": 2,
       "version_minor": 0
      },
      "text/plain": [
       "Validation: |                                                                                    | 0/? [00:00<…"
      ]
     },
     "metadata": {},
     "output_type": "display_data"
    },
    {
     "data": {
      "application/vnd.jupyter.widget-view+json": {
       "model_id": "",
       "version_major": 2,
       "version_minor": 0
      },
      "text/plain": [
       "Validation: |                                                                                    | 0/? [00:00<…"
      ]
     },
     "metadata": {},
     "output_type": "display_data"
    },
    {
     "data": {
      "application/vnd.jupyter.widget-view+json": {
       "model_id": "",
       "version_major": 2,
       "version_minor": 0
      },
      "text/plain": [
       "Validation: |                                                                                    | 0/? [00:00<…"
      ]
     },
     "metadata": {},
     "output_type": "display_data"
    },
    {
     "data": {
      "application/vnd.jupyter.widget-view+json": {
       "model_id": "",
       "version_major": 2,
       "version_minor": 0
      },
      "text/plain": [
       "Validation: |                                                                                    | 0/? [00:00<…"
      ]
     },
     "metadata": {},
     "output_type": "display_data"
    },
    {
     "data": {
      "application/vnd.jupyter.widget-view+json": {
       "model_id": "",
       "version_major": 2,
       "version_minor": 0
      },
      "text/plain": [
       "Validation: |                                                                                    | 0/? [00:00<…"
      ]
     },
     "metadata": {},
     "output_type": "display_data"
    },
    {
     "data": {
      "application/vnd.jupyter.widget-view+json": {
       "model_id": "",
       "version_major": 2,
       "version_minor": 0
      },
      "text/plain": [
       "Validation: |                                                                                    | 0/? [00:00<…"
      ]
     },
     "metadata": {},
     "output_type": "display_data"
    },
    {
     "data": {
      "application/vnd.jupyter.widget-view+json": {
       "model_id": "",
       "version_major": 2,
       "version_minor": 0
      },
      "text/plain": [
       "Validation: |                                                                                    | 0/? [00:00<…"
      ]
     },
     "metadata": {},
     "output_type": "display_data"
    },
    {
     "data": {
      "application/vnd.jupyter.widget-view+json": {
       "model_id": "",
       "version_major": 2,
       "version_minor": 0
      },
      "text/plain": [
       "Validation: |                                                                                    | 0/? [00:00<…"
      ]
     },
     "metadata": {},
     "output_type": "display_data"
    },
    {
     "data": {
      "application/vnd.jupyter.widget-view+json": {
       "model_id": "",
       "version_major": 2,
       "version_minor": 0
      },
      "text/plain": [
       "Validation: |                                                                                    | 0/? [00:00<…"
      ]
     },
     "metadata": {},
     "output_type": "display_data"
    },
    {
     "data": {
      "application/vnd.jupyter.widget-view+json": {
       "model_id": "",
       "version_major": 2,
       "version_minor": 0
      },
      "text/plain": [
       "Validation: |                                                                                    | 0/? [00:00<…"
      ]
     },
     "metadata": {},
     "output_type": "display_data"
    },
    {
     "data": {
      "application/vnd.jupyter.widget-view+json": {
       "model_id": "",
       "version_major": 2,
       "version_minor": 0
      },
      "text/plain": [
       "Validation: |                                                                                    | 0/? [00:00<…"
      ]
     },
     "metadata": {},
     "output_type": "display_data"
    },
    {
     "data": {
      "application/vnd.jupyter.widget-view+json": {
       "model_id": "",
       "version_major": 2,
       "version_minor": 0
      },
      "text/plain": [
       "Validation: |                                                                                    | 0/? [00:00<…"
      ]
     },
     "metadata": {},
     "output_type": "display_data"
    },
    {
     "data": {
      "application/vnd.jupyter.widget-view+json": {
       "model_id": "",
       "version_major": 2,
       "version_minor": 0
      },
      "text/plain": [
       "Validation: |                                                                                    | 0/? [00:00<…"
      ]
     },
     "metadata": {},
     "output_type": "display_data"
    },
    {
     "data": {
      "application/vnd.jupyter.widget-view+json": {
       "model_id": "",
       "version_major": 2,
       "version_minor": 0
      },
      "text/plain": [
       "Validation: |                                                                                    | 0/? [00:00<…"
      ]
     },
     "metadata": {},
     "output_type": "display_data"
    },
    {
     "name": "stderr",
     "output_type": "stream",
     "text": [
      "`Trainer.fit` stopped: `max_epochs=50` reached.\n"
     ]
    }
   ],
   "source": [
    "few_shot_metric_learner = FewShotMetricLearner(n_shot=N_SHOT)\n",
    "\n",
    "trainer = pl.Trainer(accelerator='cpu', max_epochs=50, num_sanity_val_steps=2)\n",
    "trainer.fit(\n",
    "    few_shot_metric_learner,\n",
    "    train_dataloader, \n",
    "    val_dataloader,\n",
    ")"
   ]
  },
  {
   "cell_type": "markdown",
   "id": "fb4daa7a",
   "metadata": {},
   "source": [
    "As you can see, we can classify the objects with accuracy ~0.7 with training the simplest convolutional neural network (it works approximately a minute on cpu) on only 5 (!!!) objects of each class."
   ]
  },
  {
   "cell_type": "markdown",
   "id": "09b3696d",
   "metadata": {},
   "source": [
    "# Few Shot Meta Learning"
   ]
  },
  {
   "cell_type": "markdown",
   "id": "0137cf15",
   "metadata": {},
   "source": [
    "# Zero Shot Learning"
   ]
  },
  {
   "cell_type": "code",
   "execution_count": null,
   "id": "a61fcfa3",
   "metadata": {},
   "outputs": [],
   "source": []
  }
 ],
 "metadata": {
  "kernelspec": {
   "display_name": "Python 3 (ipykernel)",
   "language": "python",
   "name": "python3"
  },
  "language_info": {
   "codemirror_mode": {
    "name": "ipython",
    "version": 3
   },
   "file_extension": ".py",
   "mimetype": "text/x-python",
   "name": "python",
   "nbconvert_exporter": "python",
   "pygments_lexer": "ipython3",
   "version": "3.10.6"
  },
  "toc": {
   "base_numbering": 1,
   "nav_menu": {},
   "number_sections": true,
   "sideBar": true,
   "skip_h1_title": false,
   "title_cell": "Table of Contents",
   "title_sidebar": "Contents",
   "toc_cell": false,
   "toc_position": {},
   "toc_section_display": true,
   "toc_window_display": false
  }
 },
 "nbformat": 4,
 "nbformat_minor": 5
}
