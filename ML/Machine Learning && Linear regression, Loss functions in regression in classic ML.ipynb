{
 "cells": [
  {
   "cell_type": "markdown",
   "id": "9a10a7ce-5f3e-40ae-9b7f-cc4df980b1d7",
   "metadata": {},
   "source": [
    "# **Linear regression** in sklearn:"
   ]
  },
  {
   "cell_type": "markdown",
   "id": "6f4e8c6f-5b6a-4c5a-ae97-5452c7b1ab49",
   "metadata": {},
   "source": [
    "Here we'll use `sklearn` library and as usual begin with data preprocessing."
   ]
  },
  {
   "cell_type": "markdown",
   "id": "701cbcf5-92bf-4d6a-bddf-c987c0c20299",
   "metadata": {},
   "source": [
    "## Data Preprocessing"
   ]
  },
  {
   "cell_type": "code",
   "execution_count": 1,
   "id": "be97313a-7e91-4871-96c2-141731746ea0",
   "metadata": {},
   "outputs": [],
   "source": [
    "import pandas as pd\n",
    "import numpy as np"
   ]
  },
  {
   "cell_type": "markdown",
   "id": "409ef071-2676-47e4-a4fa-9e944e7425ad",
   "metadata": {},
   "source": [
    "For demonstration we will download Automobile Data Set in which are presented categorical features.\n",
    "\n",
    "ML problem here is to predict the price of automobile."
   ]
  },
  {
   "cell_type": "code",
   "execution_count": 2,
   "id": "a955bbe7-92ae-41f1-90a6-be9d77211184",
   "metadata": {},
   "outputs": [
    {
     "data": {
      "text/html": [
       "<div>\n",
       "<style scoped>\n",
       "    .dataframe tbody tr th:only-of-type {\n",
       "        vertical-align: middle;\n",
       "    }\n",
       "\n",
       "    .dataframe tbody tr th {\n",
       "        vertical-align: top;\n",
       "    }\n",
       "\n",
       "    .dataframe thead th {\n",
       "        text-align: right;\n",
       "    }\n",
       "</style>\n",
       "<table border=\"1\" class=\"dataframe\">\n",
       "  <thead>\n",
       "    <tr style=\"text-align: right;\">\n",
       "      <th></th>\n",
       "      <th>0</th>\n",
       "      <th>1</th>\n",
       "      <th>2</th>\n",
       "      <th>3</th>\n",
       "      <th>4</th>\n",
       "      <th>5</th>\n",
       "      <th>6</th>\n",
       "      <th>7</th>\n",
       "      <th>8</th>\n",
       "      <th>9</th>\n",
       "      <th>...</th>\n",
       "      <th>16</th>\n",
       "      <th>17</th>\n",
       "      <th>18</th>\n",
       "      <th>19</th>\n",
       "      <th>20</th>\n",
       "      <th>21</th>\n",
       "      <th>22</th>\n",
       "      <th>23</th>\n",
       "      <th>24</th>\n",
       "      <th>25</th>\n",
       "    </tr>\n",
       "  </thead>\n",
       "  <tbody>\n",
       "    <tr>\n",
       "      <th>0</th>\n",
       "      <td>3</td>\n",
       "      <td>NaN</td>\n",
       "      <td>alfa-romero</td>\n",
       "      <td>gas</td>\n",
       "      <td>std</td>\n",
       "      <td>two</td>\n",
       "      <td>convertible</td>\n",
       "      <td>rwd</td>\n",
       "      <td>front</td>\n",
       "      <td>88.6</td>\n",
       "      <td>...</td>\n",
       "      <td>130</td>\n",
       "      <td>mpfi</td>\n",
       "      <td>3.47</td>\n",
       "      <td>2.68</td>\n",
       "      <td>9.0</td>\n",
       "      <td>111.0</td>\n",
       "      <td>5000.0</td>\n",
       "      <td>21</td>\n",
       "      <td>27</td>\n",
       "      <td>13495.0</td>\n",
       "    </tr>\n",
       "    <tr>\n",
       "      <th>1</th>\n",
       "      <td>3</td>\n",
       "      <td>NaN</td>\n",
       "      <td>alfa-romero</td>\n",
       "      <td>gas</td>\n",
       "      <td>std</td>\n",
       "      <td>two</td>\n",
       "      <td>convertible</td>\n",
       "      <td>rwd</td>\n",
       "      <td>front</td>\n",
       "      <td>88.6</td>\n",
       "      <td>...</td>\n",
       "      <td>130</td>\n",
       "      <td>mpfi</td>\n",
       "      <td>3.47</td>\n",
       "      <td>2.68</td>\n",
       "      <td>9.0</td>\n",
       "      <td>111.0</td>\n",
       "      <td>5000.0</td>\n",
       "      <td>21</td>\n",
       "      <td>27</td>\n",
       "      <td>16500.0</td>\n",
       "    </tr>\n",
       "    <tr>\n",
       "      <th>2</th>\n",
       "      <td>1</td>\n",
       "      <td>NaN</td>\n",
       "      <td>alfa-romero</td>\n",
       "      <td>gas</td>\n",
       "      <td>std</td>\n",
       "      <td>two</td>\n",
       "      <td>hatchback</td>\n",
       "      <td>rwd</td>\n",
       "      <td>front</td>\n",
       "      <td>94.5</td>\n",
       "      <td>...</td>\n",
       "      <td>152</td>\n",
       "      <td>mpfi</td>\n",
       "      <td>2.68</td>\n",
       "      <td>3.47</td>\n",
       "      <td>9.0</td>\n",
       "      <td>154.0</td>\n",
       "      <td>5000.0</td>\n",
       "      <td>19</td>\n",
       "      <td>26</td>\n",
       "      <td>16500.0</td>\n",
       "    </tr>\n",
       "    <tr>\n",
       "      <th>3</th>\n",
       "      <td>2</td>\n",
       "      <td>164.0</td>\n",
       "      <td>audi</td>\n",
       "      <td>gas</td>\n",
       "      <td>std</td>\n",
       "      <td>four</td>\n",
       "      <td>sedan</td>\n",
       "      <td>fwd</td>\n",
       "      <td>front</td>\n",
       "      <td>99.8</td>\n",
       "      <td>...</td>\n",
       "      <td>109</td>\n",
       "      <td>mpfi</td>\n",
       "      <td>3.19</td>\n",
       "      <td>3.40</td>\n",
       "      <td>10.0</td>\n",
       "      <td>102.0</td>\n",
       "      <td>5500.0</td>\n",
       "      <td>24</td>\n",
       "      <td>30</td>\n",
       "      <td>13950.0</td>\n",
       "    </tr>\n",
       "    <tr>\n",
       "      <th>4</th>\n",
       "      <td>2</td>\n",
       "      <td>164.0</td>\n",
       "      <td>audi</td>\n",
       "      <td>gas</td>\n",
       "      <td>std</td>\n",
       "      <td>four</td>\n",
       "      <td>sedan</td>\n",
       "      <td>4wd</td>\n",
       "      <td>front</td>\n",
       "      <td>99.4</td>\n",
       "      <td>...</td>\n",
       "      <td>136</td>\n",
       "      <td>mpfi</td>\n",
       "      <td>3.19</td>\n",
       "      <td>3.40</td>\n",
       "      <td>8.0</td>\n",
       "      <td>115.0</td>\n",
       "      <td>5500.0</td>\n",
       "      <td>18</td>\n",
       "      <td>22</td>\n",
       "      <td>17450.0</td>\n",
       "    </tr>\n",
       "  </tbody>\n",
       "</table>\n",
       "<p>5 rows × 26 columns</p>\n",
       "</div>"
      ],
      "text/plain": [
       "   0      1            2    3    4     5            6    7      8     9   ...  \\\n",
       "0   3    NaN  alfa-romero  gas  std   two  convertible  rwd  front  88.6  ...   \n",
       "1   3    NaN  alfa-romero  gas  std   two  convertible  rwd  front  88.6  ...   \n",
       "2   1    NaN  alfa-romero  gas  std   two    hatchback  rwd  front  94.5  ...   \n",
       "3   2  164.0         audi  gas  std  four        sedan  fwd  front  99.8  ...   \n",
       "4   2  164.0         audi  gas  std  four        sedan  4wd  front  99.4  ...   \n",
       "\n",
       "    16    17    18    19    20     21      22  23  24       25  \n",
       "0  130  mpfi  3.47  2.68   9.0  111.0  5000.0  21  27  13495.0  \n",
       "1  130  mpfi  3.47  2.68   9.0  111.0  5000.0  21  27  16500.0  \n",
       "2  152  mpfi  2.68  3.47   9.0  154.0  5000.0  19  26  16500.0  \n",
       "3  109  mpfi  3.19  3.40  10.0  102.0  5500.0  24  30  13950.0  \n",
       "4  136  mpfi  3.19  3.40   8.0  115.0  5500.0  18  22  17450.0  \n",
       "\n",
       "[5 rows x 26 columns]"
      ]
     },
     "execution_count": 2,
     "metadata": {},
     "output_type": "execute_result"
    }
   ],
   "source": [
    "X_raw = pd.read_csv(\n",
    "    \"Automobile_data.csv\",\n",
    "    header=None,\n",
    "    na_values=['?']\n",
    ")\n",
    "X_raw.head()"
   ]
  },
  {
   "cell_type": "markdown",
   "id": "c2919dfc-d6c3-4f19-a6b1-5939c16fc2dd",
   "metadata": {},
   "source": [
    "Divide features and target variable:"
   ]
  },
  {
   "cell_type": "code",
   "execution_count": 3,
   "id": "37ea7d47-f3c4-45c8-8adb-89dd80d2b122",
   "metadata": {},
   "outputs": [],
   "source": [
    "y = X_raw[25]\n",
    "X_raw = X_raw.drop(25, axis=1)"
   ]
  },
  {
   "cell_type": "markdown",
   "id": "3e9d70c2-942f-49c1-926e-080ea81b03f9",
   "metadata": {},
   "source": [
    "### Filling the gaps in features\n",
    "\n",
    "In an objects-features matrix may be gaps, and it may be a cause of falling of the ML algorithm of even data preprocessing process.\n",
    "\n",
    "If number of gaps is small, you can just remove the columns or raws, but if number is significant, you must fill the gaps.\n",
    "You can do it by the following ways:\n",
    "* Fill by the means (mean, median)\n",
    "* Predict gaps by other values in the raw\n",
    "\n",
    "The last option is difficult and quite rarely used. For filling by constants you can use `fillna` method and fill them by means - class `impute.SimpleImputer`."
   ]
  },
  {
   "cell_type": "markdown",
   "id": "d90066e4-61b4-4a45-bb9d-bda6c0f3102f",
   "metadata": {},
   "source": [
    "Check whether there are gaps in our data:"
   ]
  },
  {
   "cell_type": "code",
   "execution_count": 4,
   "id": "0f99bc44-03b3-4a69-b630-473f8be7abe6",
   "metadata": {},
   "outputs": [
    {
     "data": {
      "text/plain": [
       "True"
      ]
     },
     "execution_count": 4,
     "metadata": {},
     "output_type": "execute_result"
    }
   ],
   "source": [
    "# Check for gaps at all\n",
    "\n",
    "X_raw.isnull().any().any()"
   ]
  },
  {
   "cell_type": "code",
   "execution_count": 5,
   "id": "57634fab-59f3-46d4-8546-5610eebfd6c4",
   "metadata": {},
   "outputs": [
    {
     "data": {
      "text/plain": [
       "0      0\n",
       "1     41\n",
       "2      0\n",
       "3      0\n",
       "4      0\n",
       "5      2\n",
       "6      0\n",
       "7      0\n",
       "8      0\n",
       "9      0\n",
       "10     0\n",
       "11     0\n",
       "12     0\n",
       "13     0\n",
       "14     0\n",
       "15     0\n",
       "16     0\n",
       "17     0\n",
       "18     4\n",
       "19     4\n",
       "20     0\n",
       "21     2\n",
       "22     2\n",
       "23     0\n",
       "24     0\n",
       "dtype: int64"
      ]
     },
     "execution_count": 5,
     "metadata": {},
     "output_type": "execute_result"
    }
   ],
   "source": [
    "# Check summ of gaps in features by particular columns\n",
    "\n",
    "X_raw.isnull().sum()"
   ]
  },
  {
   "cell_type": "code",
   "execution_count": 6,
   "id": "2bf4320d-6eaa-4ba8-a488-2e96263a177e",
   "metadata": {},
   "outputs": [],
   "source": [
    "from sklearn.impute import SimpleImputer"
   ]
  },
  {
   "cell_type": "code",
   "execution_count": 7,
   "id": "abc76490-f957-4660-81f5-ad7a159a619d",
   "metadata": {},
   "outputs": [
    {
     "data": {
      "text/html": [
       "<div>\n",
       "<style scoped>\n",
       "    .dataframe tbody tr th:only-of-type {\n",
       "        vertical-align: middle;\n",
       "    }\n",
       "\n",
       "    .dataframe tbody tr th {\n",
       "        vertical-align: top;\n",
       "    }\n",
       "\n",
       "    .dataframe thead th {\n",
       "        text-align: right;\n",
       "    }\n",
       "</style>\n",
       "<table border=\"1\" class=\"dataframe\">\n",
       "  <thead>\n",
       "    <tr style=\"text-align: right;\">\n",
       "      <th></th>\n",
       "      <th>0</th>\n",
       "      <th>1</th>\n",
       "      <th>9</th>\n",
       "      <th>10</th>\n",
       "      <th>11</th>\n",
       "      <th>12</th>\n",
       "      <th>13</th>\n",
       "      <th>16</th>\n",
       "      <th>18</th>\n",
       "      <th>19</th>\n",
       "      <th>...</th>\n",
       "      <th>2</th>\n",
       "      <th>3</th>\n",
       "      <th>4</th>\n",
       "      <th>5</th>\n",
       "      <th>6</th>\n",
       "      <th>7</th>\n",
       "      <th>8</th>\n",
       "      <th>14</th>\n",
       "      <th>15</th>\n",
       "      <th>17</th>\n",
       "    </tr>\n",
       "  </thead>\n",
       "  <tbody>\n",
       "    <tr>\n",
       "      <th>0</th>\n",
       "      <td>3.0</td>\n",
       "      <td>122.0</td>\n",
       "      <td>88.6</td>\n",
       "      <td>168.8</td>\n",
       "      <td>64.1</td>\n",
       "      <td>48.8</td>\n",
       "      <td>2548.0</td>\n",
       "      <td>130.0</td>\n",
       "      <td>3.47</td>\n",
       "      <td>2.68</td>\n",
       "      <td>...</td>\n",
       "      <td>alfa-romero</td>\n",
       "      <td>gas</td>\n",
       "      <td>std</td>\n",
       "      <td>two</td>\n",
       "      <td>convertible</td>\n",
       "      <td>rwd</td>\n",
       "      <td>front</td>\n",
       "      <td>dohc</td>\n",
       "      <td>four</td>\n",
       "      <td>mpfi</td>\n",
       "    </tr>\n",
       "    <tr>\n",
       "      <th>1</th>\n",
       "      <td>3.0</td>\n",
       "      <td>122.0</td>\n",
       "      <td>88.6</td>\n",
       "      <td>168.8</td>\n",
       "      <td>64.1</td>\n",
       "      <td>48.8</td>\n",
       "      <td>2548.0</td>\n",
       "      <td>130.0</td>\n",
       "      <td>3.47</td>\n",
       "      <td>2.68</td>\n",
       "      <td>...</td>\n",
       "      <td>alfa-romero</td>\n",
       "      <td>gas</td>\n",
       "      <td>std</td>\n",
       "      <td>two</td>\n",
       "      <td>convertible</td>\n",
       "      <td>rwd</td>\n",
       "      <td>front</td>\n",
       "      <td>dohc</td>\n",
       "      <td>four</td>\n",
       "      <td>mpfi</td>\n",
       "    </tr>\n",
       "    <tr>\n",
       "      <th>2</th>\n",
       "      <td>1.0</td>\n",
       "      <td>122.0</td>\n",
       "      <td>94.5</td>\n",
       "      <td>171.2</td>\n",
       "      <td>65.5</td>\n",
       "      <td>52.4</td>\n",
       "      <td>2823.0</td>\n",
       "      <td>152.0</td>\n",
       "      <td>2.68</td>\n",
       "      <td>3.47</td>\n",
       "      <td>...</td>\n",
       "      <td>alfa-romero</td>\n",
       "      <td>gas</td>\n",
       "      <td>std</td>\n",
       "      <td>two</td>\n",
       "      <td>hatchback</td>\n",
       "      <td>rwd</td>\n",
       "      <td>front</td>\n",
       "      <td>ohcv</td>\n",
       "      <td>six</td>\n",
       "      <td>mpfi</td>\n",
       "    </tr>\n",
       "    <tr>\n",
       "      <th>3</th>\n",
       "      <td>2.0</td>\n",
       "      <td>164.0</td>\n",
       "      <td>99.8</td>\n",
       "      <td>176.6</td>\n",
       "      <td>66.2</td>\n",
       "      <td>54.3</td>\n",
       "      <td>2337.0</td>\n",
       "      <td>109.0</td>\n",
       "      <td>3.19</td>\n",
       "      <td>3.40</td>\n",
       "      <td>...</td>\n",
       "      <td>audi</td>\n",
       "      <td>gas</td>\n",
       "      <td>std</td>\n",
       "      <td>four</td>\n",
       "      <td>sedan</td>\n",
       "      <td>fwd</td>\n",
       "      <td>front</td>\n",
       "      <td>ohc</td>\n",
       "      <td>four</td>\n",
       "      <td>mpfi</td>\n",
       "    </tr>\n",
       "    <tr>\n",
       "      <th>4</th>\n",
       "      <td>2.0</td>\n",
       "      <td>164.0</td>\n",
       "      <td>99.4</td>\n",
       "      <td>176.6</td>\n",
       "      <td>66.4</td>\n",
       "      <td>54.3</td>\n",
       "      <td>2824.0</td>\n",
       "      <td>136.0</td>\n",
       "      <td>3.19</td>\n",
       "      <td>3.40</td>\n",
       "      <td>...</td>\n",
       "      <td>audi</td>\n",
       "      <td>gas</td>\n",
       "      <td>std</td>\n",
       "      <td>four</td>\n",
       "      <td>sedan</td>\n",
       "      <td>4wd</td>\n",
       "      <td>front</td>\n",
       "      <td>ohc</td>\n",
       "      <td>five</td>\n",
       "      <td>mpfi</td>\n",
       "    </tr>\n",
       "  </tbody>\n",
       "</table>\n",
       "<p>5 rows × 25 columns</p>\n",
       "</div>"
      ],
      "text/plain": [
       "    0      1     9      10    11    12      13     16    18    19  ...  \\\n",
       "0  3.0  122.0  88.6  168.8  64.1  48.8  2548.0  130.0  3.47  2.68  ...   \n",
       "1  3.0  122.0  88.6  168.8  64.1  48.8  2548.0  130.0  3.47  2.68  ...   \n",
       "2  1.0  122.0  94.5  171.2  65.5  52.4  2823.0  152.0  2.68  3.47  ...   \n",
       "3  2.0  164.0  99.8  176.6  66.2  54.3  2337.0  109.0  3.19  3.40  ...   \n",
       "4  2.0  164.0  99.4  176.6  66.4  54.3  2824.0  136.0  3.19  3.40  ...   \n",
       "\n",
       "            2    3    4     5            6    7      8     14    15    17  \n",
       "0  alfa-romero  gas  std   two  convertible  rwd  front  dohc  four  mpfi  \n",
       "1  alfa-romero  gas  std   two  convertible  rwd  front  dohc  four  mpfi  \n",
       "2  alfa-romero  gas  std   two    hatchback  rwd  front  ohcv   six  mpfi  \n",
       "3         audi  gas  std  four        sedan  fwd  front   ohc  four  mpfi  \n",
       "4         audi  gas  std  four        sedan  4wd  front   ohc  five  mpfi  \n",
       "\n",
       "[5 rows x 25 columns]"
      ]
     },
     "execution_count": 7,
     "metadata": {},
     "output_type": "execute_result"
    }
   ],
   "source": [
    "# making a mask on data\n",
    "cat_features_mask = (X_raw.dtypes == 'object').values # True if it is categorical feature\n",
    "\n",
    "# for real-number features fill the gaps by means\n",
    "X_real = X_raw[X_raw.columns[~cat_features_mask]] # ~ means negation (non-categorical features)\n",
    "mis_replaser = SimpleImputer(strategy=\"mean\")\n",
    "X_no_mis_real = pd.DataFrame(data=mis_replaser.fit_transform(X_real), columns=X_real.columns)\n",
    "\n",
    "# for categorical features by empty raws\n",
    "X_cat = X_raw[X_raw.columns[cat_features_mask]].fillna(\"\")\n",
    "X_no_mis = pd.concat([X_no_mis_real, X_cat], axis=1)\n",
    "\n",
    "X_no_mis.head()"
   ]
  },
  {
   "cell_type": "markdown",
   "id": "5cc0dd11-5aca-4474-ab16-799a6abed6e1",
   "metadata": {},
   "source": [
    "### Transforms of non-numerical features\n",
    "\n",
    "Because letters can be represented by numers in ASCII codification, you must check whether you can use your data as numbers, even if in your table you see numbers (especially integer numbers) - it may be a letter or a word. Another example - ID of some user or object. It usually represented by long integer number but you can't, for instance, sum two ID.\n",
    "\n",
    "THe examples above are examples of categorical features. To such features usually apply one-hot encoding (instead of one feature you make **K** binary features - one for each possible value of original featuure). In `sklearn` it may be made with classes `LabelEncoder` plus `OneHotEncoding`, but is much easier to use function `get_dummies` from `pandas`.\n",
    "\n",
    "<u>Note</u>: In the object-feature matrix will be many zero values. To avoid of store all these zero values you can use parameter `OneHotEncoder(sparse=True)` or `pandas.get_dummies(sparse=True)`. In this case the method will return to you a sparse matrix with only non-zero values.\n",
    "Operations with such a matrix may be not effective, but most of methods of `sklearn` can deal with such matrices.\n",
    "\n",
    "You can see an example below:"
   ]
  },
  {
   "cell_type": "code",
   "execution_count": 8,
   "id": "c5681bb3-d9aa-4021-87a2-89e3d72b122e",
   "metadata": {},
   "outputs": [
    {
     "name": "stdout",
     "output_type": "stream",
     "text": [
      "Shape before encoding: (205, 25)\n",
      "Shape after encoding: (205, 66)\n"
     ]
    }
   ],
   "source": [
    "print(f\"Shape before encoding: {X_no_mis.shape}\")\n",
    "X_dum = pd.get_dummies(X_no_mis, drop_first=True)\n",
    "print(f\"Shape after encoding: {X_dum.shape}\")"
   ]
  },
  {
   "cell_type": "code",
   "execution_count": 9,
   "id": "2262dd6f-cc38-4bd0-95a4-4e26ac25343b",
   "metadata": {},
   "outputs": [
    {
     "data": {
      "text/html": [
       "<div>\n",
       "<style scoped>\n",
       "    .dataframe tbody tr th:only-of-type {\n",
       "        vertical-align: middle;\n",
       "    }\n",
       "\n",
       "    .dataframe tbody tr th {\n",
       "        vertical-align: top;\n",
       "    }\n",
       "\n",
       "    .dataframe thead th {\n",
       "        text-align: right;\n",
       "    }\n",
       "</style>\n",
       "<table border=\"1\" class=\"dataframe\">\n",
       "  <thead>\n",
       "    <tr style=\"text-align: right;\">\n",
       "      <th></th>\n",
       "      <th>0</th>\n",
       "      <th>1</th>\n",
       "      <th>9</th>\n",
       "      <th>10</th>\n",
       "      <th>11</th>\n",
       "      <th>12</th>\n",
       "      <th>13</th>\n",
       "      <th>16</th>\n",
       "      <th>18</th>\n",
       "      <th>19</th>\n",
       "      <th>...</th>\n",
       "      <th>15_three</th>\n",
       "      <th>15_twelve</th>\n",
       "      <th>15_two</th>\n",
       "      <th>17_2bbl</th>\n",
       "      <th>17_4bbl</th>\n",
       "      <th>17_idi</th>\n",
       "      <th>17_mfi</th>\n",
       "      <th>17_mpfi</th>\n",
       "      <th>17_spdi</th>\n",
       "      <th>17_spfi</th>\n",
       "    </tr>\n",
       "  </thead>\n",
       "  <tbody>\n",
       "    <tr>\n",
       "      <th>0</th>\n",
       "      <td>3.0</td>\n",
       "      <td>122.0</td>\n",
       "      <td>88.6</td>\n",
       "      <td>168.8</td>\n",
       "      <td>64.1</td>\n",
       "      <td>48.8</td>\n",
       "      <td>2548.0</td>\n",
       "      <td>130.0</td>\n",
       "      <td>3.47</td>\n",
       "      <td>2.68</td>\n",
       "      <td>...</td>\n",
       "      <td>False</td>\n",
       "      <td>False</td>\n",
       "      <td>False</td>\n",
       "      <td>False</td>\n",
       "      <td>False</td>\n",
       "      <td>False</td>\n",
       "      <td>False</td>\n",
       "      <td>True</td>\n",
       "      <td>False</td>\n",
       "      <td>False</td>\n",
       "    </tr>\n",
       "    <tr>\n",
       "      <th>1</th>\n",
       "      <td>3.0</td>\n",
       "      <td>122.0</td>\n",
       "      <td>88.6</td>\n",
       "      <td>168.8</td>\n",
       "      <td>64.1</td>\n",
       "      <td>48.8</td>\n",
       "      <td>2548.0</td>\n",
       "      <td>130.0</td>\n",
       "      <td>3.47</td>\n",
       "      <td>2.68</td>\n",
       "      <td>...</td>\n",
       "      <td>False</td>\n",
       "      <td>False</td>\n",
       "      <td>False</td>\n",
       "      <td>False</td>\n",
       "      <td>False</td>\n",
       "      <td>False</td>\n",
       "      <td>False</td>\n",
       "      <td>True</td>\n",
       "      <td>False</td>\n",
       "      <td>False</td>\n",
       "    </tr>\n",
       "    <tr>\n",
       "      <th>2</th>\n",
       "      <td>1.0</td>\n",
       "      <td>122.0</td>\n",
       "      <td>94.5</td>\n",
       "      <td>171.2</td>\n",
       "      <td>65.5</td>\n",
       "      <td>52.4</td>\n",
       "      <td>2823.0</td>\n",
       "      <td>152.0</td>\n",
       "      <td>2.68</td>\n",
       "      <td>3.47</td>\n",
       "      <td>...</td>\n",
       "      <td>False</td>\n",
       "      <td>False</td>\n",
       "      <td>False</td>\n",
       "      <td>False</td>\n",
       "      <td>False</td>\n",
       "      <td>False</td>\n",
       "      <td>False</td>\n",
       "      <td>True</td>\n",
       "      <td>False</td>\n",
       "      <td>False</td>\n",
       "    </tr>\n",
       "    <tr>\n",
       "      <th>3</th>\n",
       "      <td>2.0</td>\n",
       "      <td>164.0</td>\n",
       "      <td>99.8</td>\n",
       "      <td>176.6</td>\n",
       "      <td>66.2</td>\n",
       "      <td>54.3</td>\n",
       "      <td>2337.0</td>\n",
       "      <td>109.0</td>\n",
       "      <td>3.19</td>\n",
       "      <td>3.40</td>\n",
       "      <td>...</td>\n",
       "      <td>False</td>\n",
       "      <td>False</td>\n",
       "      <td>False</td>\n",
       "      <td>False</td>\n",
       "      <td>False</td>\n",
       "      <td>False</td>\n",
       "      <td>False</td>\n",
       "      <td>True</td>\n",
       "      <td>False</td>\n",
       "      <td>False</td>\n",
       "    </tr>\n",
       "    <tr>\n",
       "      <th>4</th>\n",
       "      <td>2.0</td>\n",
       "      <td>164.0</td>\n",
       "      <td>99.4</td>\n",
       "      <td>176.6</td>\n",
       "      <td>66.4</td>\n",
       "      <td>54.3</td>\n",
       "      <td>2824.0</td>\n",
       "      <td>136.0</td>\n",
       "      <td>3.19</td>\n",
       "      <td>3.40</td>\n",
       "      <td>...</td>\n",
       "      <td>False</td>\n",
       "      <td>False</td>\n",
       "      <td>False</td>\n",
       "      <td>False</td>\n",
       "      <td>False</td>\n",
       "      <td>False</td>\n",
       "      <td>False</td>\n",
       "      <td>True</td>\n",
       "      <td>False</td>\n",
       "      <td>False</td>\n",
       "    </tr>\n",
       "    <tr>\n",
       "      <th>...</th>\n",
       "      <td>...</td>\n",
       "      <td>...</td>\n",
       "      <td>...</td>\n",
       "      <td>...</td>\n",
       "      <td>...</td>\n",
       "      <td>...</td>\n",
       "      <td>...</td>\n",
       "      <td>...</td>\n",
       "      <td>...</td>\n",
       "      <td>...</td>\n",
       "      <td>...</td>\n",
       "      <td>...</td>\n",
       "      <td>...</td>\n",
       "      <td>...</td>\n",
       "      <td>...</td>\n",
       "      <td>...</td>\n",
       "      <td>...</td>\n",
       "      <td>...</td>\n",
       "      <td>...</td>\n",
       "      <td>...</td>\n",
       "      <td>...</td>\n",
       "    </tr>\n",
       "    <tr>\n",
       "      <th>200</th>\n",
       "      <td>-1.0</td>\n",
       "      <td>95.0</td>\n",
       "      <td>109.1</td>\n",
       "      <td>188.8</td>\n",
       "      <td>68.9</td>\n",
       "      <td>55.5</td>\n",
       "      <td>2952.0</td>\n",
       "      <td>141.0</td>\n",
       "      <td>3.78</td>\n",
       "      <td>3.15</td>\n",
       "      <td>...</td>\n",
       "      <td>False</td>\n",
       "      <td>False</td>\n",
       "      <td>False</td>\n",
       "      <td>False</td>\n",
       "      <td>False</td>\n",
       "      <td>False</td>\n",
       "      <td>False</td>\n",
       "      <td>True</td>\n",
       "      <td>False</td>\n",
       "      <td>False</td>\n",
       "    </tr>\n",
       "    <tr>\n",
       "      <th>201</th>\n",
       "      <td>-1.0</td>\n",
       "      <td>95.0</td>\n",
       "      <td>109.1</td>\n",
       "      <td>188.8</td>\n",
       "      <td>68.8</td>\n",
       "      <td>55.5</td>\n",
       "      <td>3049.0</td>\n",
       "      <td>141.0</td>\n",
       "      <td>3.78</td>\n",
       "      <td>3.15</td>\n",
       "      <td>...</td>\n",
       "      <td>False</td>\n",
       "      <td>False</td>\n",
       "      <td>False</td>\n",
       "      <td>False</td>\n",
       "      <td>False</td>\n",
       "      <td>False</td>\n",
       "      <td>False</td>\n",
       "      <td>True</td>\n",
       "      <td>False</td>\n",
       "      <td>False</td>\n",
       "    </tr>\n",
       "    <tr>\n",
       "      <th>202</th>\n",
       "      <td>-1.0</td>\n",
       "      <td>95.0</td>\n",
       "      <td>109.1</td>\n",
       "      <td>188.8</td>\n",
       "      <td>68.9</td>\n",
       "      <td>55.5</td>\n",
       "      <td>3012.0</td>\n",
       "      <td>173.0</td>\n",
       "      <td>3.58</td>\n",
       "      <td>2.87</td>\n",
       "      <td>...</td>\n",
       "      <td>False</td>\n",
       "      <td>False</td>\n",
       "      <td>False</td>\n",
       "      <td>False</td>\n",
       "      <td>False</td>\n",
       "      <td>False</td>\n",
       "      <td>False</td>\n",
       "      <td>True</td>\n",
       "      <td>False</td>\n",
       "      <td>False</td>\n",
       "    </tr>\n",
       "    <tr>\n",
       "      <th>203</th>\n",
       "      <td>-1.0</td>\n",
       "      <td>95.0</td>\n",
       "      <td>109.1</td>\n",
       "      <td>188.8</td>\n",
       "      <td>68.9</td>\n",
       "      <td>55.5</td>\n",
       "      <td>3217.0</td>\n",
       "      <td>145.0</td>\n",
       "      <td>3.01</td>\n",
       "      <td>3.40</td>\n",
       "      <td>...</td>\n",
       "      <td>False</td>\n",
       "      <td>False</td>\n",
       "      <td>False</td>\n",
       "      <td>False</td>\n",
       "      <td>False</td>\n",
       "      <td>True</td>\n",
       "      <td>False</td>\n",
       "      <td>False</td>\n",
       "      <td>False</td>\n",
       "      <td>False</td>\n",
       "    </tr>\n",
       "    <tr>\n",
       "      <th>204</th>\n",
       "      <td>-1.0</td>\n",
       "      <td>95.0</td>\n",
       "      <td>109.1</td>\n",
       "      <td>188.8</td>\n",
       "      <td>68.9</td>\n",
       "      <td>55.5</td>\n",
       "      <td>3062.0</td>\n",
       "      <td>141.0</td>\n",
       "      <td>3.78</td>\n",
       "      <td>3.15</td>\n",
       "      <td>...</td>\n",
       "      <td>False</td>\n",
       "      <td>False</td>\n",
       "      <td>False</td>\n",
       "      <td>False</td>\n",
       "      <td>False</td>\n",
       "      <td>False</td>\n",
       "      <td>False</td>\n",
       "      <td>True</td>\n",
       "      <td>False</td>\n",
       "      <td>False</td>\n",
       "    </tr>\n",
       "  </tbody>\n",
       "</table>\n",
       "<p>205 rows × 66 columns</p>\n",
       "</div>"
      ],
      "text/plain": [
       "       0      1      9     10    11    12      13     16    18    19  ...  \\\n",
       "0    3.0  122.0   88.6  168.8  64.1  48.8  2548.0  130.0  3.47  2.68  ...   \n",
       "1    3.0  122.0   88.6  168.8  64.1  48.8  2548.0  130.0  3.47  2.68  ...   \n",
       "2    1.0  122.0   94.5  171.2  65.5  52.4  2823.0  152.0  2.68  3.47  ...   \n",
       "3    2.0  164.0   99.8  176.6  66.2  54.3  2337.0  109.0  3.19  3.40  ...   \n",
       "4    2.0  164.0   99.4  176.6  66.4  54.3  2824.0  136.0  3.19  3.40  ...   \n",
       "..   ...    ...    ...    ...   ...   ...     ...    ...   ...   ...  ...   \n",
       "200 -1.0   95.0  109.1  188.8  68.9  55.5  2952.0  141.0  3.78  3.15  ...   \n",
       "201 -1.0   95.0  109.1  188.8  68.8  55.5  3049.0  141.0  3.78  3.15  ...   \n",
       "202 -1.0   95.0  109.1  188.8  68.9  55.5  3012.0  173.0  3.58  2.87  ...   \n",
       "203 -1.0   95.0  109.1  188.8  68.9  55.5  3217.0  145.0  3.01  3.40  ...   \n",
       "204 -1.0   95.0  109.1  188.8  68.9  55.5  3062.0  141.0  3.78  3.15  ...   \n",
       "\n",
       "     15_three  15_twelve  15_two  17_2bbl  17_4bbl  17_idi  17_mfi  17_mpfi  \\\n",
       "0       False      False   False    False    False   False   False     True   \n",
       "1       False      False   False    False    False   False   False     True   \n",
       "2       False      False   False    False    False   False   False     True   \n",
       "3       False      False   False    False    False   False   False     True   \n",
       "4       False      False   False    False    False   False   False     True   \n",
       "..        ...        ...     ...      ...      ...     ...     ...      ...   \n",
       "200     False      False   False    False    False   False   False     True   \n",
       "201     False      False   False    False    False   False   False     True   \n",
       "202     False      False   False    False    False   False   False     True   \n",
       "203     False      False   False    False    False    True   False    False   \n",
       "204     False      False   False    False    False   False   False     True   \n",
       "\n",
       "     17_spdi  17_spfi  \n",
       "0      False    False  \n",
       "1      False    False  \n",
       "2      False    False  \n",
       "3      False    False  \n",
       "4      False    False  \n",
       "..       ...      ...  \n",
       "200    False    False  \n",
       "201    False    False  \n",
       "202    False    False  \n",
       "203    False    False  \n",
       "204    False    False  \n",
       "\n",
       "[205 rows x 66 columns]"
      ]
     },
     "execution_count": 9,
     "metadata": {},
     "output_type": "execute_result"
    }
   ],
   "source": [
    "X_dum"
   ]
  },
  {
   "cell_type": "markdown",
   "id": "77df5959-6de8-49ff-a7aa-36419dbee2cd",
   "metadata": {},
   "source": [
    "### Scaling of features\n",
    "\n",
    "While starting the work with you data it's recommended to bring all the features to the same scale. It's important to keep numerical robust while working with objects-features matrix: \n",
    "* Numerical error will be collected during calculation near zero on each iteration because of loss data in positions far from floating dot - addition or substraction can return the same result as it was before because significant numbers are located further than resolution of your operational system let your algorithm see.\n",
    "* Dividing by numbers near zero makes very huge numbers and it also provides loss of data during further additions or subtractions, especially during arithmetical operations with small numbers.\n",
    "\n",
    "Moreover, if you speak about ML, scaling of features provides increasing of interpretivism of you model's results.\n",
    "\n",
    "A popular method of scaling is normalization - subtraction of mean from each value and dividing of the difference by standard deviation (`StandardScaler` in `sklearn`).\n",
    "Second popular method is subtraction of the minimum from each feature and then dividing by difference of maximal and minimal value (`MinMaxScaler` in `sklearn`)."
   ]
  },
  {
   "cell_type": "code",
   "execution_count": 10,
   "id": "010c03cc-24a3-4a31-b4c2-ace975f96342",
   "metadata": {},
   "outputs": [],
   "source": [
    "from sklearn import preprocessing"
   ]
  },
  {
   "cell_type": "code",
   "execution_count": 11,
   "id": "a97abc93-a088-4f8d-988c-5074faf7b488",
   "metadata": {},
   "outputs": [
    {
     "data": {
      "text/html": [
       "<div>\n",
       "<style scoped>\n",
       "    .dataframe tbody tr th:only-of-type {\n",
       "        vertical-align: middle;\n",
       "    }\n",
       "\n",
       "    .dataframe tbody tr th {\n",
       "        vertical-align: top;\n",
       "    }\n",
       "\n",
       "    .dataframe thead th {\n",
       "        text-align: right;\n",
       "    }\n",
       "</style>\n",
       "<table border=\"1\" class=\"dataframe\">\n",
       "  <thead>\n",
       "    <tr style=\"text-align: right;\">\n",
       "      <th></th>\n",
       "      <th>0</th>\n",
       "      <th>1</th>\n",
       "      <th>2</th>\n",
       "      <th>3</th>\n",
       "      <th>4</th>\n",
       "      <th>5</th>\n",
       "      <th>6</th>\n",
       "      <th>7</th>\n",
       "      <th>8</th>\n",
       "      <th>9</th>\n",
       "      <th>...</th>\n",
       "      <th>56</th>\n",
       "      <th>57</th>\n",
       "      <th>58</th>\n",
       "      <th>59</th>\n",
       "      <th>60</th>\n",
       "      <th>61</th>\n",
       "      <th>62</th>\n",
       "      <th>63</th>\n",
       "      <th>64</th>\n",
       "      <th>65</th>\n",
       "    </tr>\n",
       "  </thead>\n",
       "  <tbody>\n",
       "    <tr>\n",
       "      <th>0</th>\n",
       "      <td>1.0</td>\n",
       "      <td>0.298429</td>\n",
       "      <td>0.058309</td>\n",
       "      <td>0.413433</td>\n",
       "      <td>0.316667</td>\n",
       "      <td>0.083333</td>\n",
       "      <td>0.411171</td>\n",
       "      <td>0.260377</td>\n",
       "      <td>0.664286</td>\n",
       "      <td>0.290476</td>\n",
       "      <td>...</td>\n",
       "      <td>0.0</td>\n",
       "      <td>0.0</td>\n",
       "      <td>0.0</td>\n",
       "      <td>0.0</td>\n",
       "      <td>0.0</td>\n",
       "      <td>0.0</td>\n",
       "      <td>0.0</td>\n",
       "      <td>1.0</td>\n",
       "      <td>0.0</td>\n",
       "      <td>0.0</td>\n",
       "    </tr>\n",
       "    <tr>\n",
       "      <th>1</th>\n",
       "      <td>1.0</td>\n",
       "      <td>0.298429</td>\n",
       "      <td>0.058309</td>\n",
       "      <td>0.413433</td>\n",
       "      <td>0.316667</td>\n",
       "      <td>0.083333</td>\n",
       "      <td>0.411171</td>\n",
       "      <td>0.260377</td>\n",
       "      <td>0.664286</td>\n",
       "      <td>0.290476</td>\n",
       "      <td>...</td>\n",
       "      <td>0.0</td>\n",
       "      <td>0.0</td>\n",
       "      <td>0.0</td>\n",
       "      <td>0.0</td>\n",
       "      <td>0.0</td>\n",
       "      <td>0.0</td>\n",
       "      <td>0.0</td>\n",
       "      <td>1.0</td>\n",
       "      <td>0.0</td>\n",
       "      <td>0.0</td>\n",
       "    </tr>\n",
       "    <tr>\n",
       "      <th>2</th>\n",
       "      <td>0.6</td>\n",
       "      <td>0.298429</td>\n",
       "      <td>0.230321</td>\n",
       "      <td>0.449254</td>\n",
       "      <td>0.433333</td>\n",
       "      <td>0.383333</td>\n",
       "      <td>0.517843</td>\n",
       "      <td>0.343396</td>\n",
       "      <td>0.100000</td>\n",
       "      <td>0.666667</td>\n",
       "      <td>...</td>\n",
       "      <td>0.0</td>\n",
       "      <td>0.0</td>\n",
       "      <td>0.0</td>\n",
       "      <td>0.0</td>\n",
       "      <td>0.0</td>\n",
       "      <td>0.0</td>\n",
       "      <td>0.0</td>\n",
       "      <td>1.0</td>\n",
       "      <td>0.0</td>\n",
       "      <td>0.0</td>\n",
       "    </tr>\n",
       "    <tr>\n",
       "      <th>3</th>\n",
       "      <td>0.8</td>\n",
       "      <td>0.518325</td>\n",
       "      <td>0.384840</td>\n",
       "      <td>0.529851</td>\n",
       "      <td>0.491667</td>\n",
       "      <td>0.541667</td>\n",
       "      <td>0.329325</td>\n",
       "      <td>0.181132</td>\n",
       "      <td>0.464286</td>\n",
       "      <td>0.633333</td>\n",
       "      <td>...</td>\n",
       "      <td>0.0</td>\n",
       "      <td>0.0</td>\n",
       "      <td>0.0</td>\n",
       "      <td>0.0</td>\n",
       "      <td>0.0</td>\n",
       "      <td>0.0</td>\n",
       "      <td>0.0</td>\n",
       "      <td>1.0</td>\n",
       "      <td>0.0</td>\n",
       "      <td>0.0</td>\n",
       "    </tr>\n",
       "    <tr>\n",
       "      <th>4</th>\n",
       "      <td>0.8</td>\n",
       "      <td>0.518325</td>\n",
       "      <td>0.373178</td>\n",
       "      <td>0.529851</td>\n",
       "      <td>0.508333</td>\n",
       "      <td>0.541667</td>\n",
       "      <td>0.518231</td>\n",
       "      <td>0.283019</td>\n",
       "      <td>0.464286</td>\n",
       "      <td>0.633333</td>\n",
       "      <td>...</td>\n",
       "      <td>0.0</td>\n",
       "      <td>0.0</td>\n",
       "      <td>0.0</td>\n",
       "      <td>0.0</td>\n",
       "      <td>0.0</td>\n",
       "      <td>0.0</td>\n",
       "      <td>0.0</td>\n",
       "      <td>1.0</td>\n",
       "      <td>0.0</td>\n",
       "      <td>0.0</td>\n",
       "    </tr>\n",
       "  </tbody>\n",
       "</table>\n",
       "<p>5 rows × 66 columns</p>\n",
       "</div>"
      ],
      "text/plain": [
       "    0         1         2         3         4         5         6         7   \\\n",
       "0  1.0  0.298429  0.058309  0.413433  0.316667  0.083333  0.411171  0.260377   \n",
       "1  1.0  0.298429  0.058309  0.413433  0.316667  0.083333  0.411171  0.260377   \n",
       "2  0.6  0.298429  0.230321  0.449254  0.433333  0.383333  0.517843  0.343396   \n",
       "3  0.8  0.518325  0.384840  0.529851  0.491667  0.541667  0.329325  0.181132   \n",
       "4  0.8  0.518325  0.373178  0.529851  0.508333  0.541667  0.518231  0.283019   \n",
       "\n",
       "         8         9   ...   56   57   58   59   60   61   62   63   64   65  \n",
       "0  0.664286  0.290476  ...  0.0  0.0  0.0  0.0  0.0  0.0  0.0  1.0  0.0  0.0  \n",
       "1  0.664286  0.290476  ...  0.0  0.0  0.0  0.0  0.0  0.0  0.0  1.0  0.0  0.0  \n",
       "2  0.100000  0.666667  ...  0.0  0.0  0.0  0.0  0.0  0.0  0.0  1.0  0.0  0.0  \n",
       "3  0.464286  0.633333  ...  0.0  0.0  0.0  0.0  0.0  0.0  0.0  1.0  0.0  0.0  \n",
       "4  0.464286  0.633333  ...  0.0  0.0  0.0  0.0  0.0  0.0  0.0  1.0  0.0  0.0  \n",
       "\n",
       "[5 rows x 66 columns]"
      ]
     },
     "execution_count": 11,
     "metadata": {},
     "output_type": "execute_result"
    }
   ],
   "source": [
    "normalizer = preprocessing.MinMaxScaler()\n",
    "\n",
    "X_dum.columns = X_dum.columns.astype(str) # It's needed because fit_transform works only with str columns\n",
    "\n",
    "X_real_norm_np = normalizer.fit_transform(X_dum)\n",
    "X = pd.DataFrame(data=X_real_norm_np)\n",
    "X.head()"
   ]
  },
  {
   "cell_type": "markdown",
   "id": "66a8d1f9-0a79-4448-9a33-1ef6bd2276cb",
   "metadata": {},
   "source": [
    "### Adding of new features\n",
    "\n",
    "A very important point for linear regression are non-linear features transforms. It provides use linear regression with non-linear features (<u>**linear regression can't match non-linear features**</u>).\n",
    "\n",
    "The most popular transforms are:\n",
    "* Polinomial features (PolynomialFeatures in `sklearn`)\n",
    "* Using of logarithm\n",
    "* Using of sqare root function\n",
    "* Using of trigonometric functions"
   ]
  },
  {
   "cell_type": "code",
   "execution_count": 12,
   "id": "420bbda0-8058-4e76-96d6-fc7a8cb903ee",
   "metadata": {},
   "outputs": [],
   "source": [
    "import numpy as np\n",
    "from matplotlib import pyplot as plt\n",
    "\n",
    "%matplotlib inline"
   ]
  },
  {
   "cell_type": "markdown",
   "id": "8b5f93b8-ea10-4f6d-b0a3-a09dde031097",
   "metadata": {},
   "source": [
    "For example, we can note the dependence of target variable from sixth feature from X above more square than linear:"
   ]
  },
  {
   "cell_type": "code",
   "execution_count": 13,
   "id": "fbb4f1d4-64ae-4893-a7f9-37d5eaa6cca6",
   "metadata": {},
   "outputs": [
    {
     "data": {
      "image/png": "[encoded data removed]",
      "text/plain": [
       "<Figure size 640x480 with 1 Axes>"
      ]
     },
     "metadata": {},
     "output_type": "display_data"
    }
   ],
   "source": [
    "plt.scatter(X[6], y)\n",
    "plt.show();"
   ]
  },
  {
   "cell_type": "markdown",
   "id": "7a89e47b-5bd3-4007-b439-d5397f823b69",
   "metadata": {},
   "source": [
    "Indeed, when we had squared the feature, we could see the feature became more linear."
   ]
  },
  {
   "cell_type": "code",
   "execution_count": 14,
   "id": "19b8b54c-a8ce-4b04-a067-c9613fc5bec7",
   "metadata": {},
   "outputs": [
    {
     "data": {
      "image/png": "[encoded data removed]",
      "text/plain": [
       "<Figure size 640x480 with 1 Axes>"
      ]
     },
     "metadata": {},
     "output_type": "display_data"
    }
   ],
   "source": [
    "plt.scatter(X[6] ** 2, y)\n",
    "plt.show();"
   ]
  },
  {
   "cell_type": "markdown",
   "id": "fd4aad42-8bf9-4b3f-930a-d797387a897e",
   "metadata": {},
   "source": [
    "Another example. For the feature number 13 we can linearize it by using function $\\dfrac{1}{\\sqrt{x}}$\n",
    "\n",
    "This is because the dependence of target variable from the feature seems in accordance to such a function. So we must to bring the feature and the target variable to one to linearize the dependence."
   ]
  },
  {
   "cell_type": "code",
   "execution_count": 15,
   "id": "be5e98c0-a7cd-4075-884b-11def2c86dbd",
   "metadata": {},
   "outputs": [
    {
     "data": {
      "image/png": "[encoded data removed]",
      "text/plain": [
       "<Figure size 640x480 with 1 Axes>"
      ]
     },
     "metadata": {},
     "output_type": "display_data"
    }
   ],
   "source": [
    "plt.scatter(X[13], y)\n",
    "plt.show();"
   ]
  },
  {
   "cell_type": "code",
   "execution_count": 16,
   "id": "d5573509-8e2e-4f3a-b423-f1923a24f118",
   "metadata": {},
   "outputs": [
    {
     "data": {
      "image/png": "[encoded data removed]",
      "text/plain": [
       "<Figure size 640x480 with 1 Axes>"
      ]
     },
     "metadata": {},
     "output_type": "display_data"
    }
   ],
   "source": [
    "plt.scatter(np.sqrt(X[13]), y)\n",
    "plt.show();"
   ]
  },
  {
   "cell_type": "markdown",
   "id": "0ebd00f1-53c1-496a-a026-5f54637531f9",
   "metadata": {},
   "source": [
    "<u><b>Note</b></u>: while generation the polynomial features the object-features matrix may takes a lot of memory."
   ]
  },
  {
   "cell_type": "markdown",
   "id": "48764aeb-27f3-41ab-a1fe-c7e8fc09f0ff",
   "metadata": {},
   "source": [
    "## Loss functions in regression\n",
    "\n",
    "Quality functional in supervised learning problems is usually given in the form of sum by objets of the sample:\n",
    "$$Q(a) = \\dfrac{1}{\\ell} \\sum_{i=1}^\\ell L(y_{i}, a(x_{i})) , $$\n",
    "where $L(.,.)$ - loss function, given fine for difference between prediction and Ground Truth value. Properties of the loss function:\n",
    "* $L(y_{i}, a(x_{i})) \\ge 0$\n",
    "* $L(y_{i}, y_{i}) = 0$\n",
    "\n",
    "In practice the quality functional firstly must match your customer's requirements. It sometimes leads to functionals inconvenient to optimization.\n",
    "\n",
    "<u><b>Example</u></b>: If we do not distinguish small errors (between 0.01 and 0.1 may not have any significant difference in scale of our possible problem), but we also don't want to have significant errors we can use the following loss function:\n",
    "$$L(y_{i}, a(x_{i})) = |y_{i} - a(x_{i})| < \\varepsilon ,$$\n",
    "where $\\varepsilon$ - admissible difference between prediction and Ground Truth."
   ]
  },
  {
   "cell_type": "markdown",
   "id": "b1b10274-273f-430e-9c53-90ac5bffe623",
   "metadata": {},
   "source": [
    "Below we'll consider main optimization loss functions using in classic ML models. We'll consider only main loss functions because there are huge number loss functions at all. You can find all of them in `sklearn` library (or in `pytorch` if we speak about Deep Learning)."
   ]
  },
  {
   "cell_type": "markdown",
   "id": "155f9d89-55aa-4341-aee4-3addbd342393",
   "metadata": {},
   "source": [
    "### Mean Square Error (MSE)\n",
    "\n",
    "In this approach $L(y_{i}, a(x_{i})) = (a(x_{i}) - y_{i})^2$, so we obtain\n",
    "$$MSE(a, X, Y) = \\dfrac{1}{L} \\sum_{i=1}^L (a(x_{i}) - y_{i})^2$$"
   ]
  },
  {
   "cell_type": "markdown",
   "id": "aa6fa648-0e21-421c-9209-184a8d4494da",
   "metadata": {},
   "source": [
    "Besides of customer's requirements you must account mathematical peculiarities of your model, for instance, sustainability to noise objects.\n",
    "\n",
    "In linear regression MSE doesn't have such a property because gives huge fines for big deviations from Ground Truth.\n",
    "\n",
    "Let's consider an example. Take the feature with linear dependence from target variable (feature 15 in X matrix, for example), and add to the sample two outlier objects. We want to understand how MSE line will change."
   ]
  },
  {
   "cell_type": "code",
   "execution_count": 22,
   "id": "f1e144a6-9508-4f27-9dc1-d380bcfe86f2",
   "metadata": {},
   "outputs": [],
   "source": [
    "from sklearn.linear_model import LinearRegression"
   ]
  },
  {
   "cell_type": "code",
   "execution_count": 23,
   "id": "00216db7-730e-472c-9f71-49b56be7cd16",
   "metadata": {},
   "outputs": [],
   "source": [
    "X_subset = X[[7, 15]].values\n",
    "# Add two noise objects\n",
    "X_subset_mod = np.vstack(\n",
    "    (X_subset, [[1, 90], [2, 50]])\n",
    ")"
   ]
  },
  {
   "cell_type": "code",
   "execution_count": 24,
   "id": "5353dbf0-709e-4379-82b8-5d6a3a4cac51",
   "metadata": {},
   "outputs": [],
   "source": [
    "def scatter_points_and_plot_line_MSE(X_subset):\n",
    "    plt.scatter(X_subset[:, 0], X_subset[:, 1],) # Points visualization\n",
    "    lr = LinearRegression()\n",
    "    lr.fit(\n",
    "        X_subset[:, 0][:, np.newaxis], X_subset[:, 1]\n",
    "    ) # calculation of weights of the linear model\n",
    "\n",
    "    grid = np.linspace(0, 2, 100)\n",
    "    line = lr.predict(grid[:, np.newaxis])\n",
    "    plt.plot(grid, line)"
   ]
  },
  {
   "cell_type": "code",
   "execution_count": 25,
   "id": "9e3b933f-5149-45e0-971c-90b969b18887",
   "metadata": {},
   "outputs": [
    {
     "data": {
      "image/png": "[encoded data removed]",
      "text/plain": [
       "<Figure size 2000x500 with 2 Axes>"
      ]
     },
     "metadata": {},
     "output_type": "display_data"
    }
   ],
   "source": [
    "plt.figure(figsize=(20,5))\n",
    "plt.subplot(1, 2, 1)\n",
    "scatter_points_and_plot_line_MSE(X_subset)\n",
    "plt.ylim(-20, 100)\n",
    "plt.xlabel(\"x\")\n",
    "plt.ylabel(\"y\")\n",
    "plt.subplot(1, 2, 2)\n",
    "scatter_points_and_plot_line_MSE(X_subset_mod)\n",
    "plt.ylim(-20, 100)\n",
    "plt.xlabel(\"x\")\n",
    "plt.show();"
   ]
  },
  {
   "cell_type": "markdown",
   "id": "016ce118-d1a1-4978-98b6-dec6d631f9a9",
   "metadata": {},
   "source": [
    "As you can see, outlier objects have very significant influence on this loss function."
   ]
  },
  {
   "cell_type": "markdown",
   "id": "4b262a87-b77d-488c-97a3-62929b0d8319",
   "metadata": {},
   "source": [
    "Let's implement MSE as a function"
   ]
  },
  {
   "cell_type": "code",
   "execution_count": 27,
   "id": "75b8cb16-8156-4f0e-aa4c-b681d27be179",
   "metadata": {},
   "outputs": [
    {
     "name": "stdout",
     "output_type": "stream",
     "text": [
      "Mean Square Error is 1.45\n"
     ]
    }
   ],
   "source": [
    "def MSE(y : np.array, y_pred : np.array) -> np.float64:\n",
    "    return sum((y - y_pred) ** 2) / y.shape[0]\n",
    "\n",
    "a = np.array([11, 20, 19, 17, 10])\n",
    "pred = np.array([12, 18, 19.5, 18, 9])\n",
    "mse = MSE(y=a, y_pred=pred)\n",
    "print(\"Mean Square Error is\", mse)"
   ]
  },
  {
   "cell_type": "markdown",
   "id": "d6876819-4fc6-47c3-b7bf-30f20f531cc5",
   "metadata": {},
   "source": [
    "### Root Mean Square Error (RMSE)\n",
    "\n",
    "Because of MSE stores square of initial data the results of loss calculation may be difficult to interpretation. To return the initial quantities you can apply root square to MSE. Such an approach calls RMSE\n",
    "\n",
    "$$RMSE(a, X, Y) = \\sqrt{MSE(a, X, Y)} = \\sqrt{\\dfrac{1}{L} \\sum_{i=1}^L (a(x_{i}) - y_{i})^2}$$"
   ]
  },
  {
   "cell_type": "markdown",
   "id": "b05c8185-e13b-43e6-aea0-72deb0022768",
   "metadata": {},
   "source": [
    "Let's implement RMSE as a function"
   ]
  },
  {
   "cell_type": "code",
   "execution_count": 28,
   "id": "11e2bba4-8392-44bf-ae1a-0fbb8ba1dc95",
   "metadata": {},
   "outputs": [
    {
     "name": "stdout",
     "output_type": "stream",
     "text": [
      "Root Mean Square Error is 1.2041594578792296\n"
     ]
    }
   ],
   "source": [
    "def RMSE(y : np.array, y_pred : np.array) -> np.float64:\n",
    "    return np.sqrt(MSE(y, y_pred))\n",
    "\n",
    "a = np.array([11, 20, 19, 17, 10])\n",
    "pred = np.array([12, 18, 19.5, 18, 9])\n",
    "rmse = RMSE(y=a, y_pred=pred)\n",
    "print(\"Root Mean Square Error is\", rmse)"
   ]
  },
  {
   "cell_type": "markdown",
   "id": "0c01107e-b4a9-4600-9359-8ca80adf9dcc",
   "metadata": {},
   "source": [
    "Determination coefficient <b>$R^2$</b> shows part of dispersion in target variable which can be explained by dependent variables. <b>$R^2$</b> can be interpreted as some kind of normalized MSE.\n",
    "$$R^2(a, X, Y) = 1 - \\dfrac{\\sum_{i=1}^L (a(x_{i}) - y_{i})^2}{\\sum_{i=1}^L (y_{i} - \\overline{y})^2}$$"
   ]
  },
  {
   "cell_type": "markdown",
   "id": "aaeb93b3-4e6d-455d-841a-c49a33611a61",
   "metadata": {},
   "source": [
    "Let's implement <b>$R^2$</b> as a function"
   ]
  },
  {
   "cell_type": "code",
   "execution_count": 29,
   "id": "c1602416-b567-4820-828b-b84f5d2b45ad",
   "metadata": {},
   "outputs": [
    {
     "name": "stdout",
     "output_type": "stream",
     "text": [
      "R_square is 0.914906103286385\n"
     ]
    }
   ],
   "source": [
    "def R_sq(y : np.array, y_pred : np.array) -> np.float64:\n",
    "    return 1 - ( sum((y - y_pred) ** 2) / sum((y - y.mean()) ** 2))\n",
    "\n",
    "a = np.array([11, 20, 19, 17, 10])\n",
    "pred = np.array([12, 18, 19.5, 18, 9])\n",
    "r_sq = R_sq(y=a, y_pred=pred)\n",
    "print(\"R_square is\", r_sq)"
   ]
  },
  {
   "cell_type": "markdown",
   "id": "245ea6c5-9557-4d2b-9ff8-8168e8844ee6",
   "metadata": {},
   "source": [
    "### Mean Absolute Error (MAE)\n",
    "\n",
    "If we want to avoid of huge influence of noise objects on incline of the regression line, we can use MAE instead of MSE (this is one option from set of many).\n",
    "$$MAE(a, X, Y) = \\dfrac{1}{L} \\sum_{i=1}^L |a(x_{i}) - y_{i}|$$"
   ]
  },
  {
   "cell_type": "markdown",
   "id": "740529d6-b3c4-47f0-ad6c-c7e6fe378b06",
   "metadata": {},
   "source": [
    "Now let's start to train a regression model by optimizing MAE. In `sklearn` such a regression doesn't implemented, but we can use the module `statsmodels` and obtain required model by training quantile regression with parameter `q=0.5`."
   ]
  },
  {
   "cell_type": "markdown",
   "id": "24c470fd-b563-4e65-848c-8febba81848f",
   "metadata": {},
   "source": [
    "As the first step, implement MAE as a function"
   ]
  },
  {
   "cell_type": "code",
   "execution_count": 32,
   "id": "3ca35d3c-7c27-4f2e-b3a9-f6991def81ae",
   "metadata": {},
   "outputs": [
    {
     "name": "stdout",
     "output_type": "stream",
     "text": [
      "MAE is 1.1\n"
     ]
    }
   ],
   "source": [
    "def MAE(y : np.array, y_pred : np.array) -> np.float64:\n",
    "    return np.sum(np.abs(y - y_pred))/y.shape[0]\n",
    "\n",
    "a = np.array([11, 20, 19, 17, 10])\n",
    "pred = np.array([12, 18, 19.5, 18, 9])\n",
    "mae = MAE(y=a, y_pred=pred)\n",
    "print(\"MAE is\", mae)"
   ]
  },
  {
   "cell_type": "markdown",
   "id": "13605745-9515-4cae-a12b-bb77b31d078d",
   "metadata": {},
   "source": [
    "Now we implement the model via `statsmodels`.\n",
    "We'll add two outlier objects as in example for MSE to show difference."
   ]
  },
  {
   "cell_type": "code",
   "execution_count": 33,
   "id": "453c5788-e81e-4e97-b8d3-ccc8a7b1378a",
   "metadata": {},
   "outputs": [],
   "source": [
    "import statsmodels.formula.api as smf"
   ]
  },
  {
   "cell_type": "code",
   "execution_count": 38,
   "id": "5c1de740-7ecd-47f0-af95-4b5ba4299e00",
   "metadata": {},
   "outputs": [],
   "source": [
    "def scatter_points_and_plot_line_MAE(X_subset):\n",
    "\n",
    "    mod = smf.quantreg(\"f15 ~ f7\", pd.DataFrame(data=X_subset, columns=[\"f7\", \"f15\"]))\n",
    "    res = mod.fit(q=0.5)\n",
    "    \n",
    "    plt.scatter(X_subset[:, 0], X_subset[:, 1],) # Points visualization\n",
    "    grid = np.linspace(0, 2, 100)\n",
    "    \n",
    "    plt.plot(grid, grid * res.params[\"f7\"] + res.params[\"Intercept\"])\n",
    "    return mod, res"
   ]
  },
  {
   "cell_type": "code",
   "execution_count": 39,
   "id": "045fdd27-a85d-4cf1-94c4-1beb62c427aa",
   "metadata": {},
   "outputs": [
    {
     "name": "stderr",
     "output_type": "stream",
     "text": [
      "C:\\Users\\akalyuzhin\\Workenv\\lib\\site-packages\\statsmodels\\regression\\quantile_regression.py:206: RuntimeWarning: divide by zero encountered in scalar divide\n",
      "  d = np.where(e > 0, (q/fhat0)**2, ((1-q)/fhat0)**2)\n",
      "C:\\Users\\akalyuzhin\\Workenv\\lib\\site-packages\\statsmodels\\regression\\quantile_regression.py:208: RuntimeWarning: invalid value encountered in multiply\n",
      "  xtdx = np.dot(exog.T * d[np.newaxis, :], exog)\n",
      "C:\\Users\\akalyuzhin\\Workenv\\lib\\site-packages\\statsmodels\\regression\\quantile_regression.py:219: RuntimeWarning: divide by zero encountered in scalar divide\n",
      "  lfit.sparsity = 1. / fhat0\n"
     ]
    },
    {
     "data": {
      "image/png": "[encoded data removed]",
      "text/plain": [
       "<Figure size 2000x500 with 2 Axes>"
      ]
     },
     "metadata": {},
     "output_type": "display_data"
    }
   ],
   "source": [
    "plt.figure(figsize=(20,5))\n",
    "plt.subplot(1, 2, 1)\n",
    "model, result = scatter_points_and_plot_line_MAE(X_subset)\n",
    "plt.ylim(-20, 100)\n",
    "plt.xlabel(\"x\")\n",
    "plt.ylabel(\"y\")\n",
    "plt.subplot(1, 2, 2)\n",
    "model, result = scatter_points_and_plot_line_MAE(X_subset_mod)\n",
    "plt.ylim(-20, 100)\n",
    "plt.xlabel(\"x\")\n",
    "plt.show();"
   ]
  },
  {
   "cell_type": "markdown",
   "id": "ec816823-d862-4800-9331-19728b63251f",
   "metadata": {},
   "source": [
    "As you can see, model doesn't react on outliers.\n",
    "\n",
    "Let's try more outliers."
   ]
  },
  {
   "cell_type": "code",
   "execution_count": 40,
   "id": "51172adc-dc19-4198-9af1-c945592dd7f5",
   "metadata": {},
   "outputs": [],
   "source": [
    "np.random.seed(13)\n",
    "\n",
    "X_subset_mod_twice = np.vstack(\n",
    "    (X_subset_mod, np.random.randint(5, size=60).reshape(-1, 2) * [1, 30])\n",
    ")"
   ]
  },
  {
   "cell_type": "code",
   "execution_count": 41,
   "id": "0bd6be92-9374-43af-8fde-ecb3c96d3ae0",
   "metadata": {},
   "outputs": [
    {
     "name": "stderr",
     "output_type": "stream",
     "text": [
      "C:\\Users\\akalyuzhin\\Workenv\\lib\\site-packages\\statsmodels\\regression\\quantile_regression.py:206: RuntimeWarning: divide by zero encountered in scalar divide\n",
      "  d = np.where(e > 0, (q/fhat0)**2, ((1-q)/fhat0)**2)\n",
      "C:\\Users\\akalyuzhin\\Workenv\\lib\\site-packages\\statsmodels\\regression\\quantile_regression.py:208: RuntimeWarning: invalid value encountered in multiply\n",
      "  xtdx = np.dot(exog.T * d[np.newaxis, :], exog)\n",
      "C:\\Users\\akalyuzhin\\Workenv\\lib\\site-packages\\statsmodels\\regression\\quantile_regression.py:219: RuntimeWarning: divide by zero encountered in scalar divide\n",
      "  lfit.sparsity = 1. / fhat0\n"
     ]
    },
    {
     "data": {
      "image/png": "[encoded data removed]",
      "text/plain": [
       "<Figure size 2000x500 with 2 Axes>"
      ]
     },
     "metadata": {},
     "output_type": "display_data"
    }
   ],
   "source": [
    "plt.figure(figsize=(20,5))\n",
    "plt.subplot(1, 2, 1)\n",
    "model, result = scatter_points_and_plot_line_MAE(X_subset)\n",
    "plt.ylim(-20, 100)\n",
    "plt.xlabel(\"x\")\n",
    "plt.ylabel(\"y\")\n",
    "plt.subplot(1, 2, 2)\n",
    "model, result = scatter_points_and_plot_line_MAE(X_subset_mod_twice)\n",
    "plt.ylim(-20, 100)\n",
    "plt.xlabel(\"x\")\n",
    "plt.show();"
   ]
  },
  {
   "cell_type": "markdown",
   "id": "37c44943-ea35-4543-86a6-5d0b0cf6acd0",
   "metadata": {},
   "source": [
    "As you can see, MAE didn't cope with increased number of outliers."
   ]
  },
  {
   "cell_type": "markdown",
   "id": "c972ae76-d5f6-475a-9b05-e1608f2a4def",
   "metadata": {},
   "source": [
    "### Huber Loss\n",
    "\n",
    "Sometimes, because MAE sustainable to noise objects and as MSE have small fine for small deviations, some \"hybrid\" of MAE and MSE is used. This hybrid calls Huber Loss\n",
    "\n",
    "$$L_{i}(y_i, a(x_i)) = \\phi_{\\varepsilon} (a(x_i) - y_i)$$\n",
    "$$ \\phi_{\\epsilon}(z) = \\begin{cases} \\dfrac{1}{2}z^2, if -\\varepsilon < z < \\varepsilon \\\\ \\varepsilon(|z| - \\dfrac{1}{2}\\varepsilon), otherwise \\end{cases}$$"
   ]
  },
  {
   "cell_type": "markdown",
   "id": "a81cb84e-2249-4b97-90c6-21bf475f2c65",
   "metadata": {},
   "source": [
    "Optimization of Huber Loss is implemented in `sklearn`.\n",
    "\n",
    "Let's try implemented it by ourselves as a function as an exercise."
   ]
  },
  {
   "cell_type": "code",
   "execution_count": 44,
   "id": "02b04d5a-08f5-4832-bab0-faab0cb1a823",
   "metadata": {},
   "outputs": [
    {
     "name": "stdout",
     "output_type": "stream",
     "text": [
      "Huber Loss is 3.25\n"
     ]
    }
   ],
   "source": [
    "def Huber(y, y_pred):\n",
    "    res = 0\n",
    "    for i in range(len(y)):\n",
    "        z = y_pred[i] - y[i]\n",
    "\n",
    "        if np.abs(z) < 1:\n",
    "            res += 0.5*z\n",
    "        else:\n",
    "            res += np.abs(z) - 0.5\n",
    "    return res\n",
    "\n",
    "a = np.array([11, 20, 19, 17, 10])\n",
    "pred = np.array([12, 18, 19.5, 18, 9])\n",
    "huber = Huber(y=a, y_pred=pred)\n",
    "print(\"Huber Loss is\", huber)"
   ]
  },
  {
   "cell_type": "markdown",
   "id": "1aa3a3b7-f601-458f-8720-31282d04168c",
   "metadata": {},
   "source": [
    "### Mean Square Logarithmic Error (MSLE)\n",
    "\n",
    "This loss function is used in cases when we want to receive underestimated prediction than overpriced.\n",
    "\n",
    "$$ L_i(a, X_i, Y_i) = (ln(a(x_i) + 1) - ln(y_i + 1))^2 $$\n",
    "\n",
    "<u><b>Note</b></u>: Because of logarithm in formula <b>for using MSLE the target variable must be positive</b>. "
   ]
  },
  {
   "cell_type": "markdown",
   "id": "bbd96cf0-39fa-4d79-8872-966012f05047",
   "metadata": {},
   "source": [
    "Let's implement MSLE as an exercise."
   ]
  },
  {
   "cell_type": "code",
   "execution_count": 45,
   "id": "822e9b1c-821b-430c-a8cc-72cb6bc96b05",
   "metadata": {},
   "outputs": [
    {
     "name": "stdout",
     "output_type": "stream",
     "text": [
      "MSLE is 0.03659109682712369\n"
     ]
    }
   ],
   "source": [
    "def MSLE(y, y_pred):\n",
    "    res = 0\n",
    "    for i in range(len(y)):\n",
    "        res += np.log(y[i] + 1) - np.log(y_pred[i] + 1)\n",
    "    return res\n",
    "\n",
    "a = np.array([11, 20, 19, 17, 10])\n",
    "pred = np.array([12, 18, 19.5, 18, 9])\n",
    "msle = MSLE(y=a, y_pred=pred)\n",
    "print(\"MSLE is\", msle)"
   ]
  },
  {
   "cell_type": "markdown",
   "id": "85984f9d-c3e8-4fdb-9553-0bd9840df7d4",
   "metadata": {},
   "source": [
    "### Quantile Loss\n",
    "\n",
    "In some problems fine for an error depends on both value of absolute deviation from GT and on sign of the deviation. For example, you'd better predict demand more than it will be in fact because otherwise you will lose profit. In such problems the following loss finction is used:\n",
    "$$ L_i(y_i, a(x_i)) = \\rho_{\\tau}(y_i - x^{T}_{i}\\omega)$$\n",
    "$$ \\rho_{\\tau} = \\begin{cases} \\tau z, z > 0 \\\\ (\\tau - 1)z, z \\le 0  \\end{cases} $$\n",
    "\n",
    "The $\\tau \\in (0, 1)$ parameter influence on difference between fines for positive and negative deviation. "
   ]
  },
  {
   "cell_type": "markdown",
   "id": "7d73e4e1-aa1e-4468-9a9d-a15a5563602b",
   "metadata": {},
   "source": [
    "Let's see how linear regression will look like with different values of quantile."
   ]
  },
  {
   "cell_type": "code",
   "execution_count": 56,
   "id": "07ba6156-3933-4c18-b6dd-85f36a1652ad",
   "metadata": {},
   "outputs": [
    {
     "data": {
      "image/png": "[encoded data removed]",
      "text/plain": [
       "<Figure size 1200x1200 with 1 Axes>"
      ]
     },
     "metadata": {},
     "output_type": "display_data"
    }
   ],
   "source": [
    "plt.figure(figsize=(12, 12))\n",
    "plt.scatter(X[7], y)\n",
    "\n",
    "grid = np.linspace(0, 2, 100)\n",
    "dat = pd.DataFrame({\"x\" : X[7], \"y\": y})\n",
    "mod = smf.quantreg(\"y ~ x\", dat)\n",
    "\n",
    "for q in np.arange(0.1, 1, 0.1):\n",
    "    res = mod.fit(q=q)\n",
    "    plt.plot(\n",
    "        grid,\n",
    "        grid * res.params[\"x\"] + res.params[\"Intercept\"],\n",
    "        linewidth=0.5,\n",
    "        label=\"q = \" + str(q),\n",
    "    )\n",
    "\n",
    "plt.legend(loc=(1.1, 0.1))\n",
    "plt.xlabel(\"x\")\n",
    "plt.ylabel(\"y\")\n",
    "plt.show();"
   ]
  },
  {
   "cell_type": "markdown",
   "id": "f50a4762-5fcf-4cda-88b6-8c71cb362bd4",
   "metadata": {},
   "source": [
    "## Linear regression practice\n",
    "\n",
    "Dataset consists of information about communities in the USA. We'll try to predict number of violent crimes relatively to each group of population."
   ]
  },
  {
   "cell_type": "code",
   "execution_count": 1,
   "id": "05dee4e4-4bb8-400a-85cd-5f4e4e4e5786",
   "metadata": {},
   "outputs": [],
   "source": [
    "import warnings\n",
    "\n",
    "import pandas as pd\n",
    "import numpy as np\n",
    "\n",
    "from sklearn.linear_model import Lasso, LinearRegression, Ridge\n",
    "from sklearn.metrics import mean_squared_error\n",
    "from sklearn.model_selection import GridSearchCV, train_test_split\n",
    "from sklearn.preprocessing import MinMaxScaler\n",
    "\n",
    "warnings.filterwarnings(\"ignore\")"
   ]
  },
  {
   "cell_type": "code",
   "execution_count": 2,
   "id": "c861257a-017a-4f16-866c-06ab519ef1a1",
   "metadata": {},
   "outputs": [],
   "source": [
    "data = pd.read_csv(\"crimedata.csv\", na_values=[\"?\"])\n",
    "\n",
    "# Take only required columns\n",
    "requiredColumns = [5, 6] + list(range(11, 26)) + list(range(32, 103)) + [145]\n",
    "data = data[data.columns[requiredColumns]]\n",
    "\n",
    "# Some values of targer variable are missed\n",
    "X = data.loc[data[\"ViolentCrimesPerPop\"].notnull(), :].drop(\n",
    "    \"ViolentCrimesPerPop\", axis=1\n",
    ")\n",
    "\n",
    "y = data[\"ViolentCrimesPerPop\"][X.index]\n",
    "\n",
    "X_train, X_test, y_train, y_test = train_test_split(X, y, random_state=0)"
   ]
  },
  {
   "cell_type": "code",
   "execution_count": 3,
   "id": "8ca36869-cb09-4fb2-8165-944d4574790a",
   "metadata": {},
   "outputs": [
    {
     "data": {
      "text/html": [
       "<div>\n",
       "<style scoped>\n",
       "    .dataframe tbody tr th:only-of-type {\n",
       "        vertical-align: middle;\n",
       "    }\n",
       "\n",
       "    .dataframe tbody tr th {\n",
       "        vertical-align: top;\n",
       "    }\n",
       "\n",
       "    .dataframe thead th {\n",
       "        text-align: right;\n",
       "    }\n",
       "</style>\n",
       "<table border=\"1\" class=\"dataframe\">\n",
       "  <thead>\n",
       "    <tr style=\"text-align: right;\">\n",
       "      <th></th>\n",
       "      <th>population</th>\n",
       "      <th>householdsize</th>\n",
       "      <th>agePct12t21</th>\n",
       "      <th>agePct12t29</th>\n",
       "      <th>agePct16t24</th>\n",
       "      <th>agePct65up</th>\n",
       "      <th>numbUrban</th>\n",
       "      <th>pctUrban</th>\n",
       "      <th>medIncome</th>\n",
       "      <th>pctWWage</th>\n",
       "      <th>...</th>\n",
       "      <th>MedRentPctHousInc</th>\n",
       "      <th>MedOwnCostPctInc</th>\n",
       "      <th>MedOwnCostPctIncNoMtg</th>\n",
       "      <th>NumInShelters</th>\n",
       "      <th>NumStreet</th>\n",
       "      <th>PctForeignBorn</th>\n",
       "      <th>PctBornSameState</th>\n",
       "      <th>PctSameHouse85</th>\n",
       "      <th>PctSameCity85</th>\n",
       "      <th>PctSameState85</th>\n",
       "    </tr>\n",
       "  </thead>\n",
       "  <tbody>\n",
       "    <tr>\n",
       "      <th>603</th>\n",
       "      <td>21128</td>\n",
       "      <td>2.50</td>\n",
       "      <td>13.09</td>\n",
       "      <td>25.19</td>\n",
       "      <td>12.81</td>\n",
       "      <td>14.55</td>\n",
       "      <td>21128</td>\n",
       "      <td>100.0</td>\n",
       "      <td>25547</td>\n",
       "      <td>71.79</td>\n",
       "      <td>...</td>\n",
       "      <td>24.5</td>\n",
       "      <td>15.2</td>\n",
       "      <td>11.7</td>\n",
       "      <td>0</td>\n",
       "      <td>0</td>\n",
       "      <td>2.25</td>\n",
       "      <td>74.47</td>\n",
       "      <td>63.00</td>\n",
       "      <td>91.98</td>\n",
       "      <td>96.22</td>\n",
       "    </tr>\n",
       "    <tr>\n",
       "      <th>590</th>\n",
       "      <td>15791</td>\n",
       "      <td>3.42</td>\n",
       "      <td>17.55</td>\n",
       "      <td>32.30</td>\n",
       "      <td>17.00</td>\n",
       "      <td>10.11</td>\n",
       "      <td>0</td>\n",
       "      <td>0.0</td>\n",
       "      <td>24128</td>\n",
       "      <td>77.29</td>\n",
       "      <td>...</td>\n",
       "      <td>29.1</td>\n",
       "      <td>22.1</td>\n",
       "      <td>11.0</td>\n",
       "      <td>0</td>\n",
       "      <td>0</td>\n",
       "      <td>28.40</td>\n",
       "      <td>50.62</td>\n",
       "      <td>45.21</td>\n",
       "      <td>79.38</td>\n",
       "      <td>90.01</td>\n",
       "    </tr>\n",
       "    <tr>\n",
       "      <th>1649</th>\n",
       "      <td>64989</td>\n",
       "      <td>2.59</td>\n",
       "      <td>12.89</td>\n",
       "      <td>29.89</td>\n",
       "      <td>14.92</td>\n",
       "      <td>10.57</td>\n",
       "      <td>64972</td>\n",
       "      <td>100.0</td>\n",
       "      <td>42948</td>\n",
       "      <td>84.20</td>\n",
       "      <td>...</td>\n",
       "      <td>25.7</td>\n",
       "      <td>21.4</td>\n",
       "      <td>13.6</td>\n",
       "      <td>92</td>\n",
       "      <td>0</td>\n",
       "      <td>11.70</td>\n",
       "      <td>62.45</td>\n",
       "      <td>55.47</td>\n",
       "      <td>78.51</td>\n",
       "      <td>87.73</td>\n",
       "    </tr>\n",
       "    <tr>\n",
       "      <th>1325</th>\n",
       "      <td>35800</td>\n",
       "      <td>2.53</td>\n",
       "      <td>12.89</td>\n",
       "      <td>28.06</td>\n",
       "      <td>12.42</td>\n",
       "      <td>6.05</td>\n",
       "      <td>35800</td>\n",
       "      <td>100.0</td>\n",
       "      <td>42299</td>\n",
       "      <td>89.74</td>\n",
       "      <td>...</td>\n",
       "      <td>24.7</td>\n",
       "      <td>20.5</td>\n",
       "      <td>11.9</td>\n",
       "      <td>0</td>\n",
       "      <td>0</td>\n",
       "      <td>9.57</td>\n",
       "      <td>39.82</td>\n",
       "      <td>36.90</td>\n",
       "      <td>68.33</td>\n",
       "      <td>76.63</td>\n",
       "    </tr>\n",
       "    <tr>\n",
       "      <th>1250</th>\n",
       "      <td>16032</td>\n",
       "      <td>2.53</td>\n",
       "      <td>11.91</td>\n",
       "      <td>23.09</td>\n",
       "      <td>10.78</td>\n",
       "      <td>15.49</td>\n",
       "      <td>15995</td>\n",
       "      <td>100.0</td>\n",
       "      <td>36977</td>\n",
       "      <td>75.03</td>\n",
       "      <td>...</td>\n",
       "      <td>23.9</td>\n",
       "      <td>17.0</td>\n",
       "      <td>11.6</td>\n",
       "      <td>0</td>\n",
       "      <td>0</td>\n",
       "      <td>0.76</td>\n",
       "      <td>63.54</td>\n",
       "      <td>61.90</td>\n",
       "      <td>84.59</td>\n",
       "      <td>90.28</td>\n",
       "    </tr>\n",
       "    <tr>\n",
       "      <th>...</th>\n",
       "      <td>...</td>\n",
       "      <td>...</td>\n",
       "      <td>...</td>\n",
       "      <td>...</td>\n",
       "      <td>...</td>\n",
       "      <td>...</td>\n",
       "      <td>...</td>\n",
       "      <td>...</td>\n",
       "      <td>...</td>\n",
       "      <td>...</td>\n",
       "      <td>...</td>\n",
       "      <td>...</td>\n",
       "      <td>...</td>\n",
       "      <td>...</td>\n",
       "      <td>...</td>\n",
       "      <td>...</td>\n",
       "      <td>...</td>\n",
       "      <td>...</td>\n",
       "      <td>...</td>\n",
       "      <td>...</td>\n",
       "      <td>...</td>\n",
       "    </tr>\n",
       "    <tr>\n",
       "      <th>932</th>\n",
       "      <td>17301</td>\n",
       "      <td>2.74</td>\n",
       "      <td>13.96</td>\n",
       "      <td>23.08</td>\n",
       "      <td>10.97</td>\n",
       "      <td>10.20</td>\n",
       "      <td>17301</td>\n",
       "      <td>100.0</td>\n",
       "      <td>46353</td>\n",
       "      <td>81.62</td>\n",
       "      <td>...</td>\n",
       "      <td>24.1</td>\n",
       "      <td>19.4</td>\n",
       "      <td>12.2</td>\n",
       "      <td>0</td>\n",
       "      <td>0</td>\n",
       "      <td>2.94</td>\n",
       "      <td>68.08</td>\n",
       "      <td>49.71</td>\n",
       "      <td>82.44</td>\n",
       "      <td>87.58</td>\n",
       "    </tr>\n",
       "    <tr>\n",
       "      <th>1358</th>\n",
       "      <td>33687</td>\n",
       "      <td>2.43</td>\n",
       "      <td>10.50</td>\n",
       "      <td>24.43</td>\n",
       "      <td>11.32</td>\n",
       "      <td>16.51</td>\n",
       "      <td>0</td>\n",
       "      <td>0.0</td>\n",
       "      <td>35230</td>\n",
       "      <td>76.35</td>\n",
       "      <td>...</td>\n",
       "      <td>24.6</td>\n",
       "      <td>24.2</td>\n",
       "      <td>14.0</td>\n",
       "      <td>5</td>\n",
       "      <td>0</td>\n",
       "      <td>6.77</td>\n",
       "      <td>73.23</td>\n",
       "      <td>57.80</td>\n",
       "      <td>87.32</td>\n",
       "      <td>92.62</td>\n",
       "    </tr>\n",
       "    <tr>\n",
       "      <th>1845</th>\n",
       "      <td>19513</td>\n",
       "      <td>2.76</td>\n",
       "      <td>13.71</td>\n",
       "      <td>27.38</td>\n",
       "      <td>12.38</td>\n",
       "      <td>7.57</td>\n",
       "      <td>19513</td>\n",
       "      <td>100.0</td>\n",
       "      <td>39995</td>\n",
       "      <td>86.21</td>\n",
       "      <td>...</td>\n",
       "      <td>22.8</td>\n",
       "      <td>19.5</td>\n",
       "      <td>13.0</td>\n",
       "      <td>0</td>\n",
       "      <td>0</td>\n",
       "      <td>2.74</td>\n",
       "      <td>81.22</td>\n",
       "      <td>59.29</td>\n",
       "      <td>87.82</td>\n",
       "      <td>94.57</td>\n",
       "    </tr>\n",
       "    <tr>\n",
       "      <th>624</th>\n",
       "      <td>14967</td>\n",
       "      <td>2.60</td>\n",
       "      <td>13.56</td>\n",
       "      <td>26.03</td>\n",
       "      <td>11.61</td>\n",
       "      <td>7.51</td>\n",
       "      <td>14967</td>\n",
       "      <td>100.0</td>\n",
       "      <td>36999</td>\n",
       "      <td>86.99</td>\n",
       "      <td>...</td>\n",
       "      <td>24.5</td>\n",
       "      <td>21.7</td>\n",
       "      <td>11.7</td>\n",
       "      <td>0</td>\n",
       "      <td>0</td>\n",
       "      <td>1.51</td>\n",
       "      <td>70.08</td>\n",
       "      <td>49.25</td>\n",
       "      <td>77.25</td>\n",
       "      <td>88.56</td>\n",
       "    </tr>\n",
       "    <tr>\n",
       "      <th>757</th>\n",
       "      <td>18604</td>\n",
       "      <td>2.65</td>\n",
       "      <td>17.44</td>\n",
       "      <td>29.62</td>\n",
       "      <td>16.84</td>\n",
       "      <td>13.69</td>\n",
       "      <td>0</td>\n",
       "      <td>0.0</td>\n",
       "      <td>24215</td>\n",
       "      <td>71.35</td>\n",
       "      <td>...</td>\n",
       "      <td>22.1</td>\n",
       "      <td>15.7</td>\n",
       "      <td>12.1</td>\n",
       "      <td>0</td>\n",
       "      <td>0</td>\n",
       "      <td>1.60</td>\n",
       "      <td>84.43</td>\n",
       "      <td>57.23</td>\n",
       "      <td>84.54</td>\n",
       "      <td>94.66</td>\n",
       "    </tr>\n",
       "  </tbody>\n",
       "</table>\n",
       "<p>1495 rows × 88 columns</p>\n",
       "</div>"
      ],
      "text/plain": [
       "      population  householdsize  agePct12t21  agePct12t29  agePct16t24  \\\n",
       "603        21128           2.50        13.09        25.19        12.81   \n",
       "590        15791           3.42        17.55        32.30        17.00   \n",
       "1649       64989           2.59        12.89        29.89        14.92   \n",
       "1325       35800           2.53        12.89        28.06        12.42   \n",
       "1250       16032           2.53        11.91        23.09        10.78   \n",
       "...          ...            ...          ...          ...          ...   \n",
       "932        17301           2.74        13.96        23.08        10.97   \n",
       "1358       33687           2.43        10.50        24.43        11.32   \n",
       "1845       19513           2.76        13.71        27.38        12.38   \n",
       "624        14967           2.60        13.56        26.03        11.61   \n",
       "757        18604           2.65        17.44        29.62        16.84   \n",
       "\n",
       "      agePct65up  numbUrban  pctUrban  medIncome  pctWWage  ...  \\\n",
       "603        14.55      21128     100.0      25547     71.79  ...   \n",
       "590        10.11          0       0.0      24128     77.29  ...   \n",
       "1649       10.57      64972     100.0      42948     84.20  ...   \n",
       "1325        6.05      35800     100.0      42299     89.74  ...   \n",
       "1250       15.49      15995     100.0      36977     75.03  ...   \n",
       "...          ...        ...       ...        ...       ...  ...   \n",
       "932        10.20      17301     100.0      46353     81.62  ...   \n",
       "1358       16.51          0       0.0      35230     76.35  ...   \n",
       "1845        7.57      19513     100.0      39995     86.21  ...   \n",
       "624         7.51      14967     100.0      36999     86.99  ...   \n",
       "757        13.69          0       0.0      24215     71.35  ...   \n",
       "\n",
       "      MedRentPctHousInc  MedOwnCostPctInc  MedOwnCostPctIncNoMtg  \\\n",
       "603                24.5              15.2                   11.7   \n",
       "590                29.1              22.1                   11.0   \n",
       "1649               25.7              21.4                   13.6   \n",
       "1325               24.7              20.5                   11.9   \n",
       "1250               23.9              17.0                   11.6   \n",
       "...                 ...               ...                    ...   \n",
       "932                24.1              19.4                   12.2   \n",
       "1358               24.6              24.2                   14.0   \n",
       "1845               22.8              19.5                   13.0   \n",
       "624                24.5              21.7                   11.7   \n",
       "757                22.1              15.7                   12.1   \n",
       "\n",
       "      NumInShelters  NumStreet  PctForeignBorn  PctBornSameState  \\\n",
       "603               0          0            2.25             74.47   \n",
       "590               0          0           28.40             50.62   \n",
       "1649             92          0           11.70             62.45   \n",
       "1325              0          0            9.57             39.82   \n",
       "1250              0          0            0.76             63.54   \n",
       "...             ...        ...             ...               ...   \n",
       "932               0          0            2.94             68.08   \n",
       "1358              5          0            6.77             73.23   \n",
       "1845              0          0            2.74             81.22   \n",
       "624               0          0            1.51             70.08   \n",
       "757               0          0            1.60             84.43   \n",
       "\n",
       "      PctSameHouse85  PctSameCity85  PctSameState85  \n",
       "603            63.00          91.98           96.22  \n",
       "590            45.21          79.38           90.01  \n",
       "1649           55.47          78.51           87.73  \n",
       "1325           36.90          68.33           76.63  \n",
       "1250           61.90          84.59           90.28  \n",
       "...              ...            ...             ...  \n",
       "932            49.71          82.44           87.58  \n",
       "1358           57.80          87.32           92.62  \n",
       "1845           59.29          87.82           94.57  \n",
       "624            49.25          77.25           88.56  \n",
       "757            57.23          84.54           94.66  \n",
       "\n",
       "[1495 rows x 88 columns]"
      ]
     },
     "execution_count": 3,
     "metadata": {},
     "output_type": "execute_result"
    }
   ],
   "source": [
    "X_train"
   ]
  },
  {
   "cell_type": "markdown",
   "id": "01b18772-0269-4472-aac9-be7d13ef82de",
   "metadata": {},
   "source": [
    "### Baseline\n",
    "\n",
    "Training of linear regression and print quality by metric MSE on train and test dataset."
   ]
  },
  {
   "cell_type": "code",
   "execution_count": 4,
   "id": "d7a73eca-bc0c-42ae-ba9b-890b36c6a0de",
   "metadata": {},
   "outputs": [
    {
     "name": "stdout",
     "output_type": "stream",
     "text": [
      "Train: 119935.90613769476\n",
      "Test: 206978.88437924988\n"
     ]
    }
   ],
   "source": [
    "lr = LinearRegression().fit(X_train, y_train)\n",
    "print(\"Train: {}\".format(mean_squared_error(y_train, lr.predict(X_train))))\n",
    "print(\"Test: {}\".format(mean_squared_error(y_test, lr.predict(X_test))))"
   ]
  },
  {
   "cell_type": "markdown",
   "id": "f6255fed-1e16-4eea-9d05-cb55c5da88ee",
   "metadata": {},
   "source": [
    "We can see that loss on train is lower than on test. So, we probably overfitted."
   ]
  },
  {
   "cell_type": "markdown",
   "id": "d4d80ee9-1555-420f-9044-8df5748b3906",
   "metadata": {},
   "source": [
    "<b>Regularization</b> is a popular method for regression models.\n",
    "\n",
    "While optimization of linear regression weights of the variables may be large in absolute value. It isn't good because the model will be very sensitive to very small changes in features of an ogject, and as a consequence will be overfitted.\n",
    "\n",
    "To avoid such a situation you can add to the loss function a regularizer fining the model for too much norm of the weights vector:\n",
    "$$ Q\\alpha(\\omega) = Q(\\omega) + \\alpha R(\\omega) $$\n",
    "where $R(\\omega)$ is regularizer.\n",
    "\n",
    "The most used regularizers are $L_1$ and $L_2$ regularizers.\n",
    "$$(Lasso) L_1: R(\\omega) = ||\\omega||_1 = \\sum^{d}_{i}\\omega^{2}_{i}$$\n",
    "$$(Ridge) L_2: R(\\omega) = ||\\omega||_2 = \\sum^{d}_{i}|\\omega_{i}|$$"
   ]
  },
  {
   "cell_type": "markdown",
   "id": "067d1df4-135f-4c1d-ae88-f642554ccdd6",
   "metadata": {},
   "source": [
    "Let's use $L_2$ regularization for avoiding of overfitting."
   ]
  },
  {
   "cell_type": "code",
   "execution_count": 5,
   "id": "5de307d8-a5ca-4347-8b58-b220a132bf4d",
   "metadata": {},
   "outputs": [
    {
     "name": "stdout",
     "output_type": "stream",
     "text": [
      "Train: 120349.55028715731\n",
      "Test: 206958.22395453462\n"
     ]
    }
   ],
   "source": [
    "ridge = Ridge(5.0).fit(X_train, y_train)\n",
    "print(\"Train: {}\".format(mean_squared_error(y_train, ridge.predict(X_train))))\n",
    "print(\"Test: {}\".format(mean_squared_error(y_test, ridge.predict(X_test))))"
   ]
  },
  {
   "cell_type": "markdown",
   "id": "e936ee3b-89ed-48b1-984f-8ae6c213372e",
   "metadata": {},
   "source": [
    "It seems like nothing is change. But our data is non-scaled data. Let's scale it."
   ]
  },
  {
   "cell_type": "markdown",
   "id": "abb6ba3e-bc7f-4f63-904b-a58c9abc4dee",
   "metadata": {},
   "source": [
    "### Scaling "
   ]
  },
  {
   "cell_type": "code",
   "execution_count": 6,
   "id": "fb72ab1d-28fb-4ded-a572-92f54697d8aa",
   "metadata": {},
   "outputs": [],
   "source": [
    "sc = MinMaxScaler()\n",
    "X_train_scaled = pd.DataFrame(data=sc.fit_transform(X_train), columns=X_train.columns)\n",
    "X_test_scaled = pd.DataFrame(data=sc.fit_transform(X_test), columns=X_test.columns)"
   ]
  },
  {
   "cell_type": "code",
   "execution_count": 7,
   "id": "766ab030-e7ab-47da-99ff-fee8b60ec5c3",
   "metadata": {},
   "outputs": [
    {
     "name": "stdout",
     "output_type": "stream",
     "text": [
      "Train: 119970.07563421821\n",
      "Test: 3.023135096274634e+29\n"
     ]
    }
   ],
   "source": [
    "# Scaled data without regularization\n",
    "\n",
    "lr = LinearRegression().fit(X_train_scaled, y_train)\n",
    "print(\"Train: {}\".format(mean_squared_error(y_train, lr.predict(X_train_scaled))))\n",
    "print(\"Test: {}\".format(mean_squared_error(y_test, lr.predict(X_test_scaled))))"
   ]
  },
  {
   "cell_type": "code",
   "execution_count": 8,
   "id": "d84d8826-1e34-47fe-a743-f02e988cbe26",
   "metadata": {},
   "outputs": [
    {
     "name": "stdout",
     "output_type": "stream",
     "text": [
      "Train: 131185.03859170148\n",
      "Test: 150608.31943341988\n"
     ]
    }
   ],
   "source": [
    "# Scaled data with regularization\n",
    "\n",
    "ridge = Ridge(5.0).fit(X_train_scaled, y_train)\n",
    "print(\"Train: {}\".format(mean_squared_error(y_train, ridge.predict(X_train_scaled))))\n",
    "print(\"Test: {}\".format(mean_squared_error(y_test, ridge.predict(X_test_scaled))))"
   ]
  },
  {
   "cell_type": "markdown",
   "id": "ef8d6e79-b73a-40a4-bff0-e47e9c54e9c3",
   "metadata": {},
   "source": [
    "As you can see, scaling of data and regularization are powerful tools for avoiding overfitting."
   ]
  },
  {
   "cell_type": "markdown",
   "id": "fe1946eb-ae6d-4cbf-9655-9f8073e842be",
   "metadata": {},
   "source": [
    "### High/low variance\n",
    "\n",
    "Whether positive features with high dispersion for quality of the model? And with low dispersion?\n",
    "Let's consider importance of features with different statistical properties for fitting of the model."
   ]
  },
  {
   "cell_type": "code",
   "execution_count": 9,
   "id": "ad008ec3-8ace-4f2c-a95e-854789714e3d",
   "metadata": {},
   "outputs": [
    {
     "data": {
      "text/plain": [
       "pctUrban          0.197731\n",
       "RentHighQ         0.063005\n",
       "MedYrHousBuilt    0.054831\n",
       "OwnOccHiQuart     0.048807\n",
       "MedRent           0.046863\n",
       "dtype: float64"
      ]
     },
     "execution_count": 9,
     "metadata": {},
     "output_type": "execute_result"
    }
   ],
   "source": [
    "features_variance = X_train_scaled.var().sort_values(ascending=False)\n",
    "features_variance.head()"
   ]
  },
  {
   "cell_type": "markdown",
   "id": "4e069a7f-8c73-43b5-be80-5c3d589a2c22",
   "metadata": {},
   "source": [
    "Try to remove the features with high dispersion and see how quality will change. In `sklearn` there is a tool for such operation."
   ]
  },
  {
   "cell_type": "code",
   "execution_count": 10,
   "id": "0334fa7e-8fc5-462f-989e-4953b067b244",
   "metadata": {},
   "outputs": [],
   "source": [
    "from sklearn.feature_selection import VarianceThreshold"
   ]
  },
  {
   "cell_type": "code",
   "execution_count": 11,
   "id": "132458ce-00db-4741-bc71-c61631c81d12",
   "metadata": {},
   "outputs": [
    {
     "data": {
      "text/plain": [
       "(1495, 76)"
      ]
     },
     "execution_count": 11,
     "metadata": {},
     "output_type": "execute_result"
    }
   ],
   "source": [
    "# You can remove all the features with dispersion higher than a threshold\n",
    "\n",
    "vs_transformer = VarianceThreshold(0.01)\n",
    "\n",
    "X_train_var = pd.DataFrame(\n",
    "    data=vs_transformer.fit_transform(X_train_scaled),\n",
    "    columns=X_train_scaled.columns[vs_transformer.get_support()],\n",
    ")\n",
    "\n",
    "X_test_var = pd.DataFrame(\n",
    "    data=vs_transformer.transform(X_test_scaled),\n",
    "    columns=X_test_scaled.columns[vs_transformer.get_support()],\n",
    ")\n",
    "\n",
    "X_train_var.shape"
   ]
  },
  {
   "cell_type": "code",
   "execution_count": 12,
   "id": "1c1d695e-2cc7-47b8-a685-5ca19b87f9f9",
   "metadata": {},
   "outputs": [
    {
     "name": "stdout",
     "output_type": "stream",
     "text": [
      "Train: 125706.38916046257\n",
      "Test: 177829.70312470733\n"
     ]
    }
   ],
   "source": [
    "# Scaled and filterd from dispersion data without regularization\n",
    "\n",
    "lr = LinearRegression().fit(X_train_var, y_train)\n",
    "print(\"Train: {}\".format(mean_squared_error(y_train, lr.predict(X_train_var))))\n",
    "print(\"Test: {}\".format(mean_squared_error(y_test, lr.predict(X_test_var))))"
   ]
  },
  {
   "cell_type": "code",
   "execution_count": 13,
   "id": "fafba86c-6de1-4d82-8390-cd982b8525d0",
   "metadata": {},
   "outputs": [
    {
     "name": "stdout",
     "output_type": "stream",
     "text": [
      "Train: 136186.7830145162\n",
      "Test: 151353.67582157094\n"
     ]
    }
   ],
   "source": [
    "# Scaled data with regularization\n",
    "\n",
    "ridge = Ridge(5.0).fit(X_train_var, y_train)\n",
    "print(\"Train: {}\".format(mean_squared_error(y_train, ridge.predict(X_train_var))))\n",
    "print(\"Test: {}\".format(mean_squared_error(y_test, ridge.predict(X_test_var))))"
   ]
  },
  {
   "cell_type": "markdown",
   "id": "7114feca-d318-4944-90bf-63c8fdf4b151",
   "metadata": {},
   "source": [
    "<u><b>Conclusion</b></u>: Data with low dispersion are useful for the model but it's reasonable to use not so hard threshold because of risk of underfitting because of lack of data."
   ]
  },
  {
   "cell_type": "markdown",
   "id": "7df44531-203a-4c7b-8f48-6b45cdcb1b6b",
   "metadata": {},
   "source": [
    "### Correlation\n",
    "\n",
    "We can choose k features which gives us the highest values of correlation to target variable."
   ]
  },
  {
   "cell_type": "code",
   "execution_count": 14,
   "id": "dc848535-f0a3-416a-a03b-83e88d78b26c",
   "metadata": {},
   "outputs": [],
   "source": [
    "from sklearn.feature_selection import SelectKBest, f_regression"
   ]
  },
  {
   "cell_type": "code",
   "execution_count": 15,
   "id": "1e2861cf-520e-4de9-a7ed-b1a3fab2590c",
   "metadata": {},
   "outputs": [],
   "source": [
    "sb = SelectKBest(f_regression, k=15)\n",
    "\n",
    "X_train_kbest = pd.DataFrame(\n",
    "    data=sb.fit_transform(X_train_var, y_train),\n",
    "    columns=X_train_var.columns[sb.get_support()],\n",
    ")\n",
    "\n",
    "X_test_kbest = pd.DataFrame(\n",
    "    data=sb.transform(X_test_var),\n",
    "    columns=X_test_var.columns[sb.get_support()],\n",
    ")"
   ]
  },
  {
   "cell_type": "code",
   "execution_count": 16,
   "id": "c5ba30ac-30d7-4b53-b5c9-b2f4af1dabea",
   "metadata": {},
   "outputs": [
    {
     "name": "stdout",
     "output_type": "stream",
     "text": [
      "Train: 147378.18578795987\n",
      "Test: 192053.80426842152\n"
     ]
    }
   ],
   "source": [
    "# Scaled and filterd from dispersion data without regularization but with k best correlating features\n",
    "\n",
    "lr = LinearRegression().fit(X_train_kbest, y_train)\n",
    "print(\"Train: {}\".format(mean_squared_error(y_train, lr.predict(X_train_kbest))))\n",
    "print(\"Test: {}\".format(mean_squared_error(y_test, lr.predict(X_test_kbest))))"
   ]
  },
  {
   "cell_type": "code",
   "execution_count": 17,
   "id": "d4a5d9e1-1b7c-47e1-9626-e1b7959eb872",
   "metadata": {},
   "outputs": [
    {
     "name": "stdout",
     "output_type": "stream",
     "text": [
      "Train: 158023.1329983349\n",
      "Test: 164524.47840110675\n"
     ]
    }
   ],
   "source": [
    "# Scaled data with regularization and with k best correlating features\n",
    "\n",
    "ridge = Ridge(5.0).fit(X_train_kbest, y_train)\n",
    "print(\"Train: {}\".format(mean_squared_error(y_train, ridge.predict(X_train_kbest))))\n",
    "print(\"Test: {}\".format(mean_squared_error(y_test, ridge.predict(X_test_kbest))))"
   ]
  },
  {
   "cell_type": "markdown",
   "id": "18f201ec-6e9f-4b80-b60f-87627337c5e5",
   "metadata": {},
   "source": [
    "We can also select the most important features from point of regression but with $L_1$ regularization. "
   ]
  },
  {
   "cell_type": "code",
   "execution_count": 18,
   "id": "f6df0f69-47b3-4535-9838-70488013e2c0",
   "metadata": {},
   "outputs": [],
   "source": [
    "from sklearn.feature_selection import SelectFromModel"
   ]
  },
  {
   "cell_type": "code",
   "execution_count": 19,
   "id": "9c88f3b9-af68-4653-9ff4-ab51f6525531",
   "metadata": {},
   "outputs": [
    {
     "data": {
      "text/plain": [
       "(1495, 12)"
      ]
     },
     "execution_count": 19,
     "metadata": {},
     "output_type": "execute_result"
    }
   ],
   "source": [
    "lasso = Lasso(5.0)\n",
    "l1_select = SelectFromModel(lasso)\n",
    "\n",
    "X_train_l1 = pd.DataFrame(\n",
    "    data=l1_select.fit_transform(X_train_var, y_train),\n",
    "    columns=X_train_var.columns[l1_select.get_support()],\n",
    ")\n",
    "\n",
    "X_test_l1 = pd.DataFrame(\n",
    "    data=l1_select.transform(X_test_var),\n",
    "    columns=X_test_var.columns[l1_select.get_support()],\n",
    ")\n",
    "\n",
    "X_train_l1.shape"
   ]
  },
  {
   "cell_type": "code",
   "execution_count": 20,
   "id": "13fb1f88-f5fc-46e5-a0b0-8ac05da6a90d",
   "metadata": {},
   "outputs": [
    {
     "name": "stdout",
     "output_type": "stream",
     "text": [
      "Train: 140757.45879349473\n",
      "Test: 152619.09357166698\n"
     ]
    }
   ],
   "source": [
    "lr = LinearRegression().fit(X_train_l1, y_train)\n",
    "print(\"Train: {}\".format(mean_squared_error(y_train, lr.predict(X_train_l1))))\n",
    "print(\"Test: {}\".format(mean_squared_error(y_test, lr.predict(X_test_l1))))"
   ]
  },
  {
   "cell_type": "code",
   "execution_count": 21,
   "id": "4e2da42a-87f8-4330-9959-2beb7f11f863",
   "metadata": {},
   "outputs": [
    {
     "name": "stdout",
     "output_type": "stream",
     "text": [
      "Train: 143263.16845636506\n",
      "Test: 154121.19971173196\n"
     ]
    }
   ],
   "source": [
    "ridge = Ridge(5.0).fit(X_train_l1, y_train)\n",
    "print(\"Train: {}\".format(mean_squared_error(y_train, ridge.predict(X_train_l1))))\n",
    "print(\"Test: {}\".format(mean_squared_error(y_test, ridge.predict(X_test_l1))))"
   ]
  },
  {
   "cell_type": "markdown",
   "id": "10d90e0b-07ac-43ee-83e4-502efb665200",
   "metadata": {},
   "source": [
    "We didn't obtain the value of the error better than we obtain in the steps before. "
   ]
  },
  {
   "cell_type": "markdown",
   "id": "e879236e-6354-43e1-89c2-e94a3a2a11f4",
   "metadata": {},
   "source": [
    "### Pipeline\n",
    "\n",
    "Let's do all the steps above in one pipeline."
   ]
  },
  {
   "cell_type": "code",
   "execution_count": 22,
   "id": "ae57299a-e198-4226-9d9d-52c56409bc31",
   "metadata": {},
   "outputs": [],
   "source": [
    "from sklearn.pipeline import Pipeline"
   ]
  },
  {
   "cell_type": "code",
   "execution_count": 23,
   "id": "264e8638-9bf4-455d-a5e5-74875f45cd6b",
   "metadata": {},
   "outputs": [
    {
     "data": {
      "text/plain": [
       "{'scaler': MinMaxScaler(),\n",
       " 'variance': VarianceThreshold(threshold=0.01),\n",
       " 'selection': SelectFromModel(estimator=Lasso(alpha=5.0)),\n",
       " 'regressor': Ridge(alpha=5.0)}"
      ]
     },
     "execution_count": 23,
     "metadata": {},
     "output_type": "execute_result"
    }
   ],
   "source": [
    "pipe = Pipeline(\n",
    "    steps=[\n",
    "     (\"scaler\", MinMaxScaler()),\n",
    "     (\"variance\", VarianceThreshold(0.01)),\n",
    "     (\"selection\", SelectFromModel(Lasso(5.0))),\n",
    "     (\"regressor\", Ridge(5.0)),\n",
    "    ]\n",
    ")\n",
    "\n",
    "pipe.fit(X_train, y_train)\n",
    "pipe.named_steps"
   ]
  },
  {
   "cell_type": "code",
   "execution_count": 24,
   "id": "5473d9dd-f1b3-473d-ad52-ea4e1aa66425",
   "metadata": {},
   "outputs": [
    {
     "name": "stdout",
     "output_type": "stream",
     "text": [
      "Train: 143263.16845636506\n",
      "Test: 157553.3653317403\n"
     ]
    }
   ],
   "source": [
    "print(\"Train: {}\".format(mean_squared_error(y_train, pipe.predict(X_train))))\n",
    "print(\"Test: {}\".format(mean_squared_error(y_test, pipe.predict(X_test))))"
   ]
  },
  {
   "cell_type": "markdown",
   "id": "52cf383e-fda7-475a-b65a-1bd361140ee2",
   "metadata": {},
   "source": [
    "We can iterate over hyperparameters of the model to choose the best with `GridSearch`."
   ]
  },
  {
   "cell_type": "code",
   "execution_count": 25,
   "id": "1ec3871f-f942-40fe-9470-0b5122cdb5e1",
   "metadata": {},
   "outputs": [
    {
     "data": {
      "text/plain": [
       "{'memory': None,\n",
       " 'steps': [('scaler', MinMaxScaler()),\n",
       "  ('variance', VarianceThreshold(threshold=0.01)),\n",
       "  ('selection', SelectFromModel(estimator=Lasso(alpha=5.0))),\n",
       "  ('regressor', Ridge(alpha=5.0))],\n",
       " 'verbose': False,\n",
       " 'scaler': MinMaxScaler(),\n",
       " 'variance': VarianceThreshold(threshold=0.01),\n",
       " 'selection': SelectFromModel(estimator=Lasso(alpha=5.0)),\n",
       " 'regressor': Ridge(alpha=5.0),\n",
       " 'scaler__clip': False,\n",
       " 'scaler__copy': True,\n",
       " 'scaler__feature_range': (0, 1),\n",
       " 'variance__threshold': 0.01,\n",
       " 'selection__estimator__alpha': 5.0,\n",
       " 'selection__estimator__copy_X': True,\n",
       " 'selection__estimator__fit_intercept': True,\n",
       " 'selection__estimator__max_iter': 1000,\n",
       " 'selection__estimator__positive': False,\n",
       " 'selection__estimator__precompute': False,\n",
       " 'selection__estimator__random_state': None,\n",
       " 'selection__estimator__selection': 'cyclic',\n",
       " 'selection__estimator__tol': 0.0001,\n",
       " 'selection__estimator__warm_start': False,\n",
       " 'selection__estimator': Lasso(alpha=5.0),\n",
       " 'selection__importance_getter': 'auto',\n",
       " 'selection__max_features': None,\n",
       " 'selection__norm_order': 1,\n",
       " 'selection__prefit': False,\n",
       " 'selection__threshold': None,\n",
       " 'regressor__alpha': 5.0,\n",
       " 'regressor__copy_X': True,\n",
       " 'regressor__fit_intercept': True,\n",
       " 'regressor__max_iter': None,\n",
       " 'regressor__positive': False,\n",
       " 'regressor__random_state': None,\n",
       " 'regressor__solver': 'auto',\n",
       " 'regressor__tol': 0.0001}"
      ]
     },
     "execution_count": 25,
     "metadata": {},
     "output_type": "execute_result"
    }
   ],
   "source": [
    "pipe.get_params()"
   ]
  },
  {
   "cell_type": "code",
   "execution_count": 26,
   "id": "394e980b-6e81-4518-800e-9b2bed40d304",
   "metadata": {},
   "outputs": [
    {
     "data": {
      "text/html": [
       "<style>#sk-container-id-1 {color: black;}#sk-container-id-1 pre{padding: 0;}#sk-container-id-1 div.sk-toggleable {background-color: white;}#sk-container-id-1 label.sk-toggleable__label {cursor: pointer;display: block;width: 100%;margin-bottom: 0;padding: 0.3em;box-sizing: border-box;text-align: center;}#sk-container-id-1 label.sk-toggleable__label-arrow:before {content: \"▸\";float: left;margin-right: 0.25em;color: #696969;}#sk-container-id-1 label.sk-toggleable__label-arrow:hover:before {color: black;}#sk-container-id-1 div.sk-estimator:hover label.sk-toggleable__label-arrow:before {color: black;}#sk-container-id-1 div.sk-toggleable__content {max-height: 0;max-width: 0;overflow: hidden;text-align: left;background-color: #f0f8ff;}#sk-container-id-1 div.sk-toggleable__content pre {margin: 0.2em;color: black;border-radius: 0.25em;background-color: #f0f8ff;}#sk-container-id-1 input.sk-toggleable__control:checked~div.sk-toggleable__content {max-height: 200px;max-width: 100%;overflow: auto;}#sk-container-id-1 input.sk-toggleable__control:checked~label.sk-toggleable__label-arrow:before {content: \"▾\";}#sk-container-id-1 div.sk-estimator input.sk-toggleable__control:checked~label.sk-toggleable__label {background-color: #d4ebff;}#sk-container-id-1 div.sk-label input.sk-toggleable__control:checked~label.sk-toggleable__label {background-color: #d4ebff;}#sk-container-id-1 input.sk-hidden--visually {border: 0;clip: rect(1px 1px 1px 1px);clip: rect(1px, 1px, 1px, 1px);height: 1px;margin: -1px;overflow: hidden;padding: 0;position: absolute;width: 1px;}#sk-container-id-1 div.sk-estimator {font-family: monospace;background-color: #f0f8ff;border: 1px dotted black;border-radius: 0.25em;box-sizing: border-box;margin-bottom: 0.5em;}#sk-container-id-1 div.sk-estimator:hover {background-color: #d4ebff;}#sk-container-id-1 div.sk-parallel-item::after {content: \"\";width: 100%;border-bottom: 1px solid gray;flex-grow: 1;}#sk-container-id-1 div.sk-label:hover label.sk-toggleable__label {background-color: #d4ebff;}#sk-container-id-1 div.sk-serial::before {content: \"\";position: absolute;border-left: 1px solid gray;box-sizing: border-box;top: 0;bottom: 0;left: 50%;z-index: 0;}#sk-container-id-1 div.sk-serial {display: flex;flex-direction: column;align-items: center;background-color: white;padding-right: 0.2em;padding-left: 0.2em;position: relative;}#sk-container-id-1 div.sk-item {position: relative;z-index: 1;}#sk-container-id-1 div.sk-parallel {display: flex;align-items: stretch;justify-content: center;background-color: white;position: relative;}#sk-container-id-1 div.sk-item::before, #sk-container-id-1 div.sk-parallel-item::before {content: \"\";position: absolute;border-left: 1px solid gray;box-sizing: border-box;top: 0;bottom: 0;left: 50%;z-index: -1;}#sk-container-id-1 div.sk-parallel-item {display: flex;flex-direction: column;z-index: 1;position: relative;background-color: white;}#sk-container-id-1 div.sk-parallel-item:first-child::after {align-self: flex-end;width: 50%;}#sk-container-id-1 div.sk-parallel-item:last-child::after {align-self: flex-start;width: 50%;}#sk-container-id-1 div.sk-parallel-item:only-child::after {width: 0;}#sk-container-id-1 div.sk-dashed-wrapped {border: 1px dashed gray;margin: 0 0.4em 0.5em 0.4em;box-sizing: border-box;padding-bottom: 0.4em;background-color: white;}#sk-container-id-1 div.sk-label label {font-family: monospace;font-weight: bold;display: inline-block;line-height: 1.2em;}#sk-container-id-1 div.sk-label-container {text-align: center;}#sk-container-id-1 div.sk-container {/* jupyter's `normalize.less` sets `[hidden] { display: none; }` but bootstrap.min.css set `[hidden] { display: none !important; }` so we also need the `!important` here to be able to override the default hidden behavior on the sphinx rendered scikit-learn.org. See: https://github.com/scikit-learn/scikit-learn/issues/21755 */display: inline-block !important;position: relative;}#sk-container-id-1 div.sk-text-repr-fallback {display: none;}</style><div id=\"sk-container-id-1\" class=\"sk-top-container\"><div class=\"sk-text-repr-fallback\"><pre>GridSearchCV(cv=5,\n",
       "             estimator=Pipeline(steps=[(&#x27;scaler&#x27;, MinMaxScaler()),\n",
       "                                       (&#x27;variance&#x27;,\n",
       "                                        VarianceThreshold(threshold=0.01)),\n",
       "                                       (&#x27;selection&#x27;,\n",
       "                                        SelectFromModel(estimator=Lasso(alpha=5.0))),\n",
       "                                       (&#x27;regressor&#x27;, Ridge(alpha=5.0))]),\n",
       "             param_grid={&#x27;regressor__alpha&#x27;: [0.1, 0.5, 1.0, 1.5, 2.0, 5.0,\n",
       "                                              10.0],\n",
       "                         &#x27;selection__estimator__alpha&#x27;: [0.1, 0.5, 1.0, 1.5,\n",
       "                                                         2.0, 5.0, 10.0],\n",
       "                         &#x27;variance__threshold&#x27;: [0.005, 0.0075, 0.009, 0.01,\n",
       "                                                 0.011, 0.012]})</pre><b>In a Jupyter environment, please rerun this cell to show the HTML representation or trust the notebook. <br />On GitHub, the HTML representation is unable to render, please try loading this page with nbviewer.org.</b></div><div class=\"sk-container\" hidden><div class=\"sk-item sk-dashed-wrapped\"><div class=\"sk-label-container\"><div class=\"sk-label sk-toggleable\"><input class=\"sk-toggleable__control sk-hidden--visually\" id=\"sk-estimator-id-1\" type=\"checkbox\" ><label for=\"sk-estimator-id-1\" class=\"sk-toggleable__label sk-toggleable__label-arrow\">GridSearchCV</label><div class=\"sk-toggleable__content\"><pre>GridSearchCV(cv=5,\n",
       "             estimator=Pipeline(steps=[(&#x27;scaler&#x27;, MinMaxScaler()),\n",
       "                                       (&#x27;variance&#x27;,\n",
       "                                        VarianceThreshold(threshold=0.01)),\n",
       "                                       (&#x27;selection&#x27;,\n",
       "                                        SelectFromModel(estimator=Lasso(alpha=5.0))),\n",
       "                                       (&#x27;regressor&#x27;, Ridge(alpha=5.0))]),\n",
       "             param_grid={&#x27;regressor__alpha&#x27;: [0.1, 0.5, 1.0, 1.5, 2.0, 5.0,\n",
       "                                              10.0],\n",
       "                         &#x27;selection__estimator__alpha&#x27;: [0.1, 0.5, 1.0, 1.5,\n",
       "                                                         2.0, 5.0, 10.0],\n",
       "                         &#x27;variance__threshold&#x27;: [0.005, 0.0075, 0.009, 0.01,\n",
       "                                                 0.011, 0.012]})</pre></div></div></div><div class=\"sk-parallel\"><div class=\"sk-parallel-item\"><div class=\"sk-item\"><div class=\"sk-label-container\"><div class=\"sk-label sk-toggleable\"><input class=\"sk-toggleable__control sk-hidden--visually\" id=\"sk-estimator-id-2\" type=\"checkbox\" ><label for=\"sk-estimator-id-2\" class=\"sk-toggleable__label sk-toggleable__label-arrow\">estimator: Pipeline</label><div class=\"sk-toggleable__content\"><pre>Pipeline(steps=[(&#x27;scaler&#x27;, MinMaxScaler()),\n",
       "                (&#x27;variance&#x27;, VarianceThreshold(threshold=0.01)),\n",
       "                (&#x27;selection&#x27;, SelectFromModel(estimator=Lasso(alpha=5.0))),\n",
       "                (&#x27;regressor&#x27;, Ridge(alpha=5.0))])</pre></div></div></div><div class=\"sk-serial\"><div class=\"sk-item\"><div class=\"sk-serial\"><div class=\"sk-item\"><div class=\"sk-estimator sk-toggleable\"><input class=\"sk-toggleable__control sk-hidden--visually\" id=\"sk-estimator-id-3\" type=\"checkbox\" ><label for=\"sk-estimator-id-3\" class=\"sk-toggleable__label sk-toggleable__label-arrow\">MinMaxScaler</label><div class=\"sk-toggleable__content\"><pre>MinMaxScaler()</pre></div></div></div><div class=\"sk-item\"><div class=\"sk-estimator sk-toggleable\"><input class=\"sk-toggleable__control sk-hidden--visually\" id=\"sk-estimator-id-4\" type=\"checkbox\" ><label for=\"sk-estimator-id-4\" class=\"sk-toggleable__label sk-toggleable__label-arrow\">VarianceThreshold</label><div class=\"sk-toggleable__content\"><pre>VarianceThreshold(threshold=0.01)</pre></div></div></div><div class=\"sk-item sk-dashed-wrapped\"><div class=\"sk-label-container\"><div class=\"sk-label sk-toggleable\"><input class=\"sk-toggleable__control sk-hidden--visually\" id=\"sk-estimator-id-5\" type=\"checkbox\" ><label for=\"sk-estimator-id-5\" class=\"sk-toggleable__label sk-toggleable__label-arrow\">selection: SelectFromModel</label><div class=\"sk-toggleable__content\"><pre>SelectFromModel(estimator=Lasso(alpha=5.0))</pre></div></div></div><div class=\"sk-parallel\"><div class=\"sk-parallel-item\"><div class=\"sk-item\"><div class=\"sk-label-container\"><div class=\"sk-label sk-toggleable\"><input class=\"sk-toggleable__control sk-hidden--visually\" id=\"sk-estimator-id-6\" type=\"checkbox\" ><label for=\"sk-estimator-id-6\" class=\"sk-toggleable__label sk-toggleable__label-arrow\">estimator: Lasso</label><div class=\"sk-toggleable__content\"><pre>Lasso(alpha=5.0)</pre></div></div></div><div class=\"sk-serial\"><div class=\"sk-item\"><div class=\"sk-estimator sk-toggleable\"><input class=\"sk-toggleable__control sk-hidden--visually\" id=\"sk-estimator-id-7\" type=\"checkbox\" ><label for=\"sk-estimator-id-7\" class=\"sk-toggleable__label sk-toggleable__label-arrow\">Lasso</label><div class=\"sk-toggleable__content\"><pre>Lasso(alpha=5.0)</pre></div></div></div></div></div></div></div></div><div class=\"sk-item\"><div class=\"sk-estimator sk-toggleable\"><input class=\"sk-toggleable__control sk-hidden--visually\" id=\"sk-estimator-id-8\" type=\"checkbox\" ><label for=\"sk-estimator-id-8\" class=\"sk-toggleable__label sk-toggleable__label-arrow\">Ridge</label><div class=\"sk-toggleable__content\"><pre>Ridge(alpha=5.0)</pre></div></div></div></div></div></div></div></div></div></div></div></div>"
      ],
      "text/plain": [
       "GridSearchCV(cv=5,\n",
       "             estimator=Pipeline(steps=[('scaler', MinMaxScaler()),\n",
       "                                       ('variance',\n",
       "                                        VarianceThreshold(threshold=0.01)),\n",
       "                                       ('selection',\n",
       "                                        SelectFromModel(estimator=Lasso(alpha=5.0))),\n",
       "                                       ('regressor', Ridge(alpha=5.0))]),\n",
       "             param_grid={'regressor__alpha': [0.1, 0.5, 1.0, 1.5, 2.0, 5.0,\n",
       "                                              10.0],\n",
       "                         'selection__estimator__alpha': [0.1, 0.5, 1.0, 1.5,\n",
       "                                                         2.0, 5.0, 10.0],\n",
       "                         'variance__threshold': [0.005, 0.0075, 0.009, 0.01,\n",
       "                                                 0.011, 0.012]})"
      ]
     },
     "execution_count": 26,
     "metadata": {},
     "output_type": "execute_result"
    }
   ],
   "source": [
    "param_grid = {\n",
    "    'variance__threshold': [0.005, 0.0075, 0.009, 0.01, 0.011, 0.012], \n",
    "    'selection__estimator__alpha': [0.1, 0.5, 1.0, 1.5, 2.0, 5.0, 10.0],\n",
    "    'regressor__alpha': [0.1, 0.5, 1.0, 1.5, 2.0, 5.0, 10.0], # regularizer parameters\n",
    "}\n",
    "\n",
    "grid_search = GridSearchCV(pipe, param_grid, cv=5)\n",
    "\n",
    "grid_search.fit(X_train, y_train)"
   ]
  },
  {
   "cell_type": "code",
   "execution_count": 27,
   "id": "dec775f6-9247-45e1-a41b-d3fbb4405802",
   "metadata": {},
   "outputs": [
    {
     "data": {
      "text/plain": [
       "{'scaler': MinMaxScaler(),\n",
       " 'variance': VarianceThreshold(threshold=0.01),\n",
       " 'selection': SelectFromModel(estimator=Lasso(alpha=0.1)),\n",
       " 'regressor': Ridge(alpha=0.5)}"
      ]
     },
     "execution_count": 27,
     "metadata": {},
     "output_type": "execute_result"
    }
   ],
   "source": [
    "pipe_best = grid_search.best_estimator_\n",
    "pipe_best.named_steps"
   ]
  },
  {
   "cell_type": "code",
   "execution_count": 28,
   "id": "0fe89914-f66d-4ba3-aa37-4d86605abf63",
   "metadata": {},
   "outputs": [
    {
     "name": "stdout",
     "output_type": "stream",
     "text": [
      "Train: 128441.16453337159\n",
      "Test: 147186.92249142204\n"
     ]
    }
   ],
   "source": [
    "pipe_best.fit(X_train, y_train)\n",
    "print(\"Train: {}\".format(mean_squared_error(y_train, pipe_best.predict(X_train))))\n",
    "print(\"Test: {}\".format(mean_squared_error(y_test, pipe_best.predict(X_test))))"
   ]
  },
  {
   "cell_type": "code",
   "execution_count": null,
   "id": "542deec7-e269-4638-8be2-5a383306beb2",
   "metadata": {},
   "outputs": [],
   "source": []
  }
 ],
 "metadata": {
  "kernelspec": {
   "display_name": "Python 3 (ipykernel)",
   "language": "python",
   "name": "python3"
  },
  "language_info": {
   "codemirror_mode": {
    "name": "ipython",
    "version": 3
   },
   "file_extension": ".py",
   "mimetype": "text/x-python",
   "name": "python",
   "nbconvert_exporter": "python",
   "pygments_lexer": "ipython3",
   "version": "3.10.6"
  }
 },
 "nbformat": 4,
 "nbformat_minor": 5
}
